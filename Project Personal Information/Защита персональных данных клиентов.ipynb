{
 "cells": [
  {
   "cell_type": "markdown",
   "metadata": {},
   "source": [
    "# Защита персональных данных клиентов"
   ]
  },
  {
   "cell_type": "markdown",
   "metadata": {},
   "source": [
    "Вам нужно защитить данные клиентов страховой компании «Хоть потоп». Разработайте такой метод преобразования данных, чтобы по ним было сложно восстановить персональную информацию. Обоснуйте корректность его работы.\n",
    "\n",
    "Нужно защитить данные, чтобы при преобразовании качество моделей машинного обучения не ухудшилось. Подбирать наилучшую модель не требуется."
   ]
  },
  {
   "cell_type": "markdown",
   "metadata": {},
   "source": [
    "## Загрузка данных"
   ]
  },
  {
   "cell_type": "code",
   "execution_count": 1,
   "metadata": {},
   "outputs": [],
   "source": [
    "# Подргужаем библиотеки\n",
    "import pandas as pd\n",
    "import numpy as np\n",
    "from sklearn.metrics import r2_score"
   ]
  },
  {
   "cell_type": "code",
   "execution_count": 2,
   "metadata": {},
   "outputs": [
    {
     "name": "stdout",
     "output_type": "stream",
     "text": [
      "<class 'pandas.core.frame.DataFrame'>\n",
      "RangeIndex: 5000 entries, 0 to 4999\n",
      "Data columns (total 5 columns):\n",
      " #   Column             Non-Null Count  Dtype  \n",
      "---  ------             --------------  -----  \n",
      " 0   Пол                5000 non-null   int64  \n",
      " 1   Возраст            5000 non-null   float64\n",
      " 2   Зарплата           5000 non-null   float64\n",
      " 3   Члены семьи        5000 non-null   int64  \n",
      " 4   Страховые выплаты  5000 non-null   int64  \n",
      "dtypes: float64(2), int64(3)\n",
      "memory usage: 195.4 KB\n"
     ]
    },
    {
     "data": {
      "text/html": [
       "<div>\n",
       "<style scoped>\n",
       "    .dataframe tbody tr th:only-of-type {\n",
       "        vertical-align: middle;\n",
       "    }\n",
       "\n",
       "    .dataframe tbody tr th {\n",
       "        vertical-align: top;\n",
       "    }\n",
       "\n",
       "    .dataframe thead th {\n",
       "        text-align: right;\n",
       "    }\n",
       "</style>\n",
       "<table border=\"1\" class=\"dataframe\">\n",
       "  <thead>\n",
       "    <tr style=\"text-align: right;\">\n",
       "      <th></th>\n",
       "      <th>Пол</th>\n",
       "      <th>Возраст</th>\n",
       "      <th>Зарплата</th>\n",
       "      <th>Члены семьи</th>\n",
       "      <th>Страховые выплаты</th>\n",
       "    </tr>\n",
       "  </thead>\n",
       "  <tbody>\n",
       "    <tr>\n",
       "      <th>0</th>\n",
       "      <td>1</td>\n",
       "      <td>41.0</td>\n",
       "      <td>49600.0</td>\n",
       "      <td>1</td>\n",
       "      <td>0</td>\n",
       "    </tr>\n",
       "    <tr>\n",
       "      <th>1</th>\n",
       "      <td>0</td>\n",
       "      <td>46.0</td>\n",
       "      <td>38000.0</td>\n",
       "      <td>1</td>\n",
       "      <td>1</td>\n",
       "    </tr>\n",
       "    <tr>\n",
       "      <th>2</th>\n",
       "      <td>0</td>\n",
       "      <td>29.0</td>\n",
       "      <td>21000.0</td>\n",
       "      <td>0</td>\n",
       "      <td>0</td>\n",
       "    </tr>\n",
       "    <tr>\n",
       "      <th>3</th>\n",
       "      <td>0</td>\n",
       "      <td>21.0</td>\n",
       "      <td>41700.0</td>\n",
       "      <td>2</td>\n",
       "      <td>0</td>\n",
       "    </tr>\n",
       "    <tr>\n",
       "      <th>4</th>\n",
       "      <td>1</td>\n",
       "      <td>28.0</td>\n",
       "      <td>26100.0</td>\n",
       "      <td>0</td>\n",
       "      <td>0</td>\n",
       "    </tr>\n",
       "  </tbody>\n",
       "</table>\n",
       "</div>"
      ],
      "text/plain": [
       "   Пол  Возраст  Зарплата  Члены семьи  Страховые выплаты\n",
       "0    1     41.0   49600.0            1                  0\n",
       "1    0     46.0   38000.0            1                  1\n",
       "2    0     29.0   21000.0            0                  0\n",
       "3    0     21.0   41700.0            2                  0\n",
       "4    1     28.0   26100.0            0                  0"
      ]
     },
     "execution_count": 2,
     "metadata": {},
     "output_type": "execute_result"
    }
   ],
   "source": [
    "# Загружаем датасет и ознакомимся с ним\n",
    "df = pd.read_csv('/datasets/insurance.csv')\n",
    "df.info()\n",
    "df.head(5)"
   ]
  },
  {
   "cell_type": "code",
   "execution_count": 3,
   "metadata": {
    "scrolled": true
   },
   "outputs": [
    {
     "name": "stdout",
     "output_type": "stream",
     "text": [
      "Дубликатов до удаления: 153\n",
      "Дубликатов после удаления: 0\n"
     ]
    }
   ],
   "source": [
    "print('Дубликатов до удаления:', df.duplicated().sum())\n",
    "df = df.drop_duplicates()\n",
    "print('Дубликатов после удаления:', df.duplicated().sum())"
   ]
  },
  {
   "cell_type": "markdown",
   "metadata": {},
   "source": [
    "## Алгоритм преобразования"
   ]
  },
  {
   "cell_type": "markdown",
   "metadata": {},
   "source": [
    "**Алгоритм**\n",
    "\n",
    "1. Сгенерировать квадратную обратную матрицу 4х4\n",
    "2. Умноженить исходные признаки на обратную матрицу, с целью зашифровать данные.\n",
    "3. Посчитать качество модели на полученных данных.\n",
    "4. Сравнить значения метрики с исходными данными."
   ]
  },
  {
   "cell_type": "markdown",
   "metadata": {},
   "source": [
    "**Обоснование**\n",
    "\n",
    "$$ a1 = XPP^{-1}w $$\n",
    "$$ a1 = X1w1 $$\n",
    "$$ a1 = Xw $$"
   ]
  },
  {
   "cell_type": "markdown",
   "metadata": {},
   "source": [
    "## Проверка алгоритма"
   ]
  },
  {
   "cell_type": "code",
   "execution_count": 4,
   "metadata": {},
   "outputs": [],
   "source": [
    "# Создадим наши исходные признаки\n",
    "features = df.drop('Страховые выплаты', axis=1)\n",
    "target = df['Страховые выплаты']"
   ]
  },
  {
   "cell_type": "code",
   "execution_count": 5,
   "metadata": {
    "scrolled": true
   },
   "outputs": [
    {
     "data": {
      "text/plain": [
       "array([[ 0.27259277,  0.14519579,  1.26071006, -0.42022226],\n",
       "       [-0.11853097,  0.44923043,  0.78157154,  1.38672744],\n",
       "       [ 1.41126441, -1.58360202, -1.89176668,  0.17338857],\n",
       "       [-0.10217673,  0.11533071, -1.15999319, -0.26272187]])"
      ]
     },
     "execution_count": 5,
     "metadata": {},
     "output_type": "execute_result"
    }
   ],
   "source": [
    "# Сгенерируем квадратную матрицу 4х4\n",
    "matrix_generated = np.random.normal(size=(4, 4))\n",
    "matrix_generated"
   ]
  },
  {
   "cell_type": "code",
   "execution_count": 6,
   "metadata": {},
   "outputs": [
    {
     "data": {
      "text/plain": [
       "array([[ 1.89713125,  0.83858689,  0.53910876,  1.74766553],\n",
       "       [ 1.55878759,  0.93364563, -0.04871788,  2.40264592],\n",
       "       [ 0.07510218, -0.10557221, -0.07604914, -0.72755852],\n",
       "       [-0.38513967,  0.54984758,  0.1047246 , -0.21889675]])"
      ]
     },
     "execution_count": 6,
     "metadata": {},
     "output_type": "execute_result"
    }
   ],
   "source": [
    "# Обратим матрицу\n",
    "matrix_invert = np.linalg.inv(matrix_generated)\n",
    "matrix_invert"
   ]
  },
  {
   "cell_type": "code",
   "execution_count": 7,
   "metadata": {},
   "outputs": [
    {
     "data": {
      "text/html": [
       "<div>\n",
       "<style scoped>\n",
       "    .dataframe tbody tr th:only-of-type {\n",
       "        vertical-align: middle;\n",
       "    }\n",
       "\n",
       "    .dataframe tbody tr th {\n",
       "        vertical-align: top;\n",
       "    }\n",
       "\n",
       "    .dataframe thead th {\n",
       "        text-align: right;\n",
       "    }\n",
       "</style>\n",
       "<table border=\"1\" class=\"dataframe\">\n",
       "  <thead>\n",
       "    <tr style=\"text-align: right;\">\n",
       "      <th></th>\n",
       "      <th>Пол</th>\n",
       "      <th>Возраст</th>\n",
       "      <th>Зарплата</th>\n",
       "      <th>Члены семьи</th>\n",
       "    </tr>\n",
       "  </thead>\n",
       "  <tbody>\n",
       "    <tr>\n",
       "      <th>0</th>\n",
       "      <td>3790.490656</td>\n",
       "      <td>-5196.713515</td>\n",
       "      <td>-3773.390728</td>\n",
       "      <td>-35986.865357</td>\n",
       "    </tr>\n",
       "    <tr>\n",
       "      <th>1</th>\n",
       "      <td>2925.202117</td>\n",
       "      <td>-3968.246283</td>\n",
       "      <td>-2892.003452</td>\n",
       "      <td>-27536.920957</td>\n",
       "    </tr>\n",
       "    <tr>\n",
       "      <th>2</th>\n",
       "      <td>1622.350724</td>\n",
       "      <td>-2189.940604</td>\n",
       "      <td>-1598.444667</td>\n",
       "      <td>-15209.052195</td>\n",
       "    </tr>\n",
       "    <tr>\n",
       "      <th>3</th>\n",
       "      <td>3163.725372</td>\n",
       "      <td>-4381.654739</td>\n",
       "      <td>-3172.062583</td>\n",
       "      <td>-30289.172527</td>\n",
       "    </tr>\n",
       "    <tr>\n",
       "      <th>4</th>\n",
       "      <td>2005.710211</td>\n",
       "      <td>-2728.453913</td>\n",
       "      <td>-1985.707432</td>\n",
       "      <td>-18920.255629</td>\n",
       "    </tr>\n",
       "  </tbody>\n",
       "</table>\n",
       "</div>"
      ],
      "text/plain": [
       "           Пол      Возраст     Зарплата   Члены семьи\n",
       "0  3790.490656 -5196.713515 -3773.390728 -35986.865357\n",
       "1  2925.202117 -3968.246283 -2892.003452 -27536.920957\n",
       "2  1622.350724 -2189.940604 -1598.444667 -15209.052195\n",
       "3  3163.725372 -4381.654739 -3172.062583 -30289.172527\n",
       "4  2005.710211 -2728.453913 -1985.707432 -18920.255629"
      ]
     },
     "execution_count": 7,
     "metadata": {},
     "output_type": "execute_result"
    }
   ],
   "source": [
    "# Преобразуем признаки в матирцу\n",
    "matrix = features.values\n",
    "# Умножим полученную матрицу на нашу обратную\n",
    "matrix_new = matrix@matrix_invert\n",
    "features_incode = pd.DataFrame (matrix_new, columns = features.columns)\n",
    "features_incode.head(5)"
   ]
  },
  {
   "cell_type": "code",
   "execution_count": 8,
   "metadata": {},
   "outputs": [],
   "source": [
    "# Создаем класс линейной регрессии\n",
    "class LinearRegression:\n",
    "    def fit(self, train_features, train_target):\n",
    "        X = np.concatenate((np.ones((train_features.shape[0], 1)), train_features), axis=1)\n",
    "        y = train_target\n",
    "        w = np.linalg.inv(X.T@X)@X.T@y\n",
    "        self.w = w[1:]\n",
    "        self.w0 = w[0]\n",
    "\n",
    "    def predict(self, test_features):\n",
    "        return test_features.dot(self.w) + self.w0"
   ]
  },
  {
   "cell_type": "code",
   "execution_count": 9,
   "metadata": {},
   "outputs": [
    {
     "data": {
      "text/plain": [
       "0.4302010044852068"
      ]
     },
     "execution_count": 9,
     "metadata": {},
     "output_type": "execute_result"
    }
   ],
   "source": [
    "# Обучаем модель на исходных данных\n",
    "model = LinearRegression()\n",
    "model.fit(features, target)\n",
    "predictions = model.predict(features)\n",
    "original = r2_score(target, predictions)\n",
    "original"
   ]
  },
  {
   "cell_type": "code",
   "execution_count": 10,
   "metadata": {},
   "outputs": [
    {
     "data": {
      "text/plain": [
       "0.4302010044852056"
      ]
     },
     "execution_count": 10,
     "metadata": {},
     "output_type": "execute_result"
    }
   ],
   "source": [
    "# Также на преобразованных данных\n",
    "model = LinearRegression()\n",
    "model.fit(features_incode, target)\n",
    "predictions = model.predict(features_incode)\n",
    "incode = r2_score(target, predictions)\n",
    "incode"
   ]
  },
  {
   "cell_type": "markdown",
   "metadata": {},
   "source": [
    "Разница в результах метрик R2 бесконечно стремиться к нулю. Могу предположить это связанно с тем, что юпитер округлил значения во время преобразования данных.\n",
    "\n",
    "**Вывод:** После ознакомления с датасетом были удалены дубликаты. После работы формулой было выявленно, что качество линейной регрессии не меняется, но меняются веса для новых признаков (w1). Я сгенерировал квадратную обратную матрицу 4х4. Умноженил исходные признаки на обратную матрицу, с целью зашифровать данные. Расчитал качество модели на полученных данных и сравнил значения метрики с исходными данными. Разницы в значениях не обнаружил. Таким образом можно сделать вывод, что качество модели не изменилось, оно такое же как и на исходных данных. Значит данный метод можно использовать с целью зашифровать данные."
   ]
  }
 ],
 "metadata": {
  "ExecuteTimeLog": [
   {
    "duration": 364,
    "start_time": "2023-03-27T08:03:17.114Z"
   },
   {
    "duration": 67,
    "start_time": "2023-03-27T08:03:19.241Z"
   },
   {
    "duration": 154,
    "start_time": "2023-03-27T08:04:05.018Z"
   },
   {
    "duration": 608,
    "start_time": "2023-03-27T08:06:29.101Z"
   },
   {
    "duration": 8,
    "start_time": "2023-03-27T08:07:56.701Z"
   },
   {
    "duration": 8,
    "start_time": "2023-03-27T08:08:39.720Z"
   },
   {
    "duration": 51,
    "start_time": "2023-03-27T09:16:44.394Z"
   },
   {
    "duration": 1023,
    "start_time": "2023-03-27T09:17:00.001Z"
   },
   {
    "duration": 44,
    "start_time": "2023-03-27T09:17:01.025Z"
   },
   {
    "duration": 84,
    "start_time": "2023-03-27T09:17:01.071Z"
   },
   {
    "duration": 0,
    "start_time": "2023-03-27T09:17:01.157Z"
   },
   {
    "duration": 11,
    "start_time": "2023-03-27T09:17:11.567Z"
   },
   {
    "duration": 10,
    "start_time": "2023-03-27T09:17:17.907Z"
   },
   {
    "duration": 4,
    "start_time": "2023-03-27T09:18:04.744Z"
   },
   {
    "duration": 4,
    "start_time": "2023-03-27T09:19:08.107Z"
   },
   {
    "duration": 6,
    "start_time": "2023-03-27T09:19:37.867Z"
   },
   {
    "duration": 4,
    "start_time": "2023-03-27T09:19:43.899Z"
   },
   {
    "duration": 5,
    "start_time": "2023-03-27T09:20:00.097Z"
   },
   {
    "duration": 5,
    "start_time": "2023-03-27T09:20:22.499Z"
   },
   {
    "duration": 5,
    "start_time": "2023-03-27T09:20:23.106Z"
   },
   {
    "duration": 4,
    "start_time": "2023-03-27T09:21:47.107Z"
   },
   {
    "duration": 1036,
    "start_time": "2023-03-27T09:22:00.571Z"
   },
   {
    "duration": 44,
    "start_time": "2023-03-27T09:22:01.610Z"
   },
   {
    "duration": 8,
    "start_time": "2023-03-27T09:22:01.656Z"
   },
   {
    "duration": 39,
    "start_time": "2023-03-27T09:22:01.666Z"
   },
   {
    "duration": 42,
    "start_time": "2023-03-27T09:22:01.707Z"
   },
   {
    "duration": 38,
    "start_time": "2023-03-27T09:22:01.751Z"
   },
   {
    "duration": 86,
    "start_time": "2023-03-27T09:22:01.790Z"
   },
   {
    "duration": 5,
    "start_time": "2023-03-27T09:26:21.947Z"
   },
   {
    "duration": 54,
    "start_time": "2023-03-27T09:32:06.615Z"
   },
   {
    "duration": 8,
    "start_time": "2023-03-27T09:32:38.329Z"
   },
   {
    "duration": 8,
    "start_time": "2023-03-27T09:33:16.124Z"
   },
   {
    "duration": 7,
    "start_time": "2023-03-27T09:33:29.803Z"
   },
   {
    "duration": 10,
    "start_time": "2023-03-27T09:33:54.636Z"
   },
   {
    "duration": 10,
    "start_time": "2023-03-27T09:34:20.038Z"
   },
   {
    "duration": 203,
    "start_time": "2023-03-27T09:34:40.726Z"
   },
   {
    "duration": 12,
    "start_time": "2023-03-27T09:34:50.108Z"
   },
   {
    "duration": 7,
    "start_time": "2023-03-27T09:34:58.600Z"
   },
   {
    "duration": 8,
    "start_time": "2023-03-27T09:35:02.927Z"
   },
   {
    "duration": 8,
    "start_time": "2023-03-27T09:35:12.425Z"
   },
   {
    "duration": 9,
    "start_time": "2023-03-27T09:35:14.438Z"
   },
   {
    "duration": 8,
    "start_time": "2023-03-27T09:35:14.920Z"
   },
   {
    "duration": 8,
    "start_time": "2023-03-27T09:36:42.840Z"
   },
   {
    "duration": 927,
    "start_time": "2023-03-27T09:36:47.615Z"
   },
   {
    "duration": 46,
    "start_time": "2023-03-27T09:36:48.543Z"
   },
   {
    "duration": 8,
    "start_time": "2023-03-27T09:36:48.591Z"
   },
   {
    "duration": 3,
    "start_time": "2023-03-27T09:36:48.601Z"
   },
   {
    "duration": 5,
    "start_time": "2023-03-27T09:36:48.606Z"
   },
   {
    "duration": 5,
    "start_time": "2023-03-27T09:36:48.613Z"
   },
   {
    "duration": 59,
    "start_time": "2023-03-27T09:36:48.619Z"
   },
   {
    "duration": 4,
    "start_time": "2023-03-27T09:36:48.679Z"
   },
   {
    "duration": 94,
    "start_time": "2023-03-27T09:36:48.685Z"
   },
   {
    "duration": 91,
    "start_time": "2023-03-27T09:36:48.781Z"
   },
   {
    "duration": 11,
    "start_time": "2023-03-27T09:37:12.204Z"
   },
   {
    "duration": 8,
    "start_time": "2023-03-27T09:37:28.215Z"
   },
   {
    "duration": 3,
    "start_time": "2023-03-27T09:42:47.608Z"
   },
   {
    "duration": 1019,
    "start_time": "2023-03-27T09:45:29.509Z"
   },
   {
    "duration": 48,
    "start_time": "2023-03-27T09:45:30.530Z"
   },
   {
    "duration": 10,
    "start_time": "2023-03-27T09:45:30.581Z"
   },
   {
    "duration": 10,
    "start_time": "2023-03-27T09:45:30.593Z"
   },
   {
    "duration": 34,
    "start_time": "2023-03-27T09:45:30.605Z"
   },
   {
    "duration": 26,
    "start_time": "2023-03-27T09:45:30.640Z"
   },
   {
    "duration": 109,
    "start_time": "2023-03-27T09:45:30.668Z"
   },
   {
    "duration": 17,
    "start_time": "2023-03-27T09:45:30.782Z"
   },
   {
    "duration": 83,
    "start_time": "2023-03-27T09:45:30.800Z"
   },
   {
    "duration": 98,
    "start_time": "2023-03-27T09:45:30.885Z"
   },
   {
    "duration": 7,
    "start_time": "2023-03-27T09:45:46.302Z"
   },
   {
    "duration": 13,
    "start_time": "2023-03-27T09:45:47.717Z"
   },
   {
    "duration": 9,
    "start_time": "2023-03-27T09:46:00.433Z"
   },
   {
    "duration": 2450,
    "start_time": "2023-03-28T04:29:14.733Z"
   },
   {
    "duration": 59,
    "start_time": "2023-03-28T04:29:17.185Z"
   },
   {
    "duration": 13,
    "start_time": "2023-03-28T04:29:17.246Z"
   },
   {
    "duration": 32,
    "start_time": "2023-03-28T04:29:17.262Z"
   },
   {
    "duration": 16,
    "start_time": "2023-03-28T04:29:17.296Z"
   },
   {
    "duration": 35,
    "start_time": "2023-03-28T04:29:17.314Z"
   },
   {
    "duration": 87,
    "start_time": "2023-03-28T04:29:17.352Z"
   },
   {
    "duration": 5,
    "start_time": "2023-03-28T04:29:17.444Z"
   },
   {
    "duration": 187,
    "start_time": "2023-03-28T04:29:17.451Z"
   },
   {
    "duration": 117,
    "start_time": "2023-03-28T04:29:17.642Z"
   }
  ],
  "kernelspec": {
   "display_name": "Python 3 (ipykernel)",
   "language": "python",
   "name": "python3"
  },
  "language_info": {
   "codemirror_mode": {
    "name": "ipython",
    "version": 3
   },
   "file_extension": ".py",
   "mimetype": "text/x-python",
   "name": "python",
   "nbconvert_exporter": "python",
   "pygments_lexer": "ipython3",
   "version": "3.9.5"
  },
  "toc": {
   "base_numbering": 1,
   "nav_menu": {},
   "number_sections": true,
   "sideBar": true,
   "skip_h1_title": true,
   "title_cell": "Содержание",
   "title_sidebar": "Contents",
   "toc_cell": true,
   "toc_position": {},
   "toc_section_display": true,
   "toc_window_display": false
  }
 },
 "nbformat": 4,
 "nbformat_minor": 2
}
