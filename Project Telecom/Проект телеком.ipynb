{
 "cells": [
  {
   "cell_type": "markdown",
   "metadata": {},
   "source": [
    "# Проект телеком\n",
    "\n",
    "Из компании сотовой связи Телеком стали уходить клиенты. Маркетологи посчитали: сохранять текущих клиентов дешевле, чем привлекать новых. Нужно спрогнозировать, откажется ли клиент от услуг в ближайшее время или нет."
   ]
  },
  {
   "cell_type": "markdown",
   "metadata": {},
   "source": [
    "**Целью проекта является подобрать такую модель машинного обучения с нужными гиперпараметрами, чтобы значение метрики AUC-ROC было больше или равно 0.85**\n",
    "\n",
    "**План по выполнению проекта**\n",
    "\n",
    "1. Подготовить данные для анализа: Загрузить данные, объеденить датасеты в один, проверить на наличие пропусков и дубликатов, изменить формат данных если потрубуется.\n",
    "2. Провести разведовательский анализ данных: Посмотреть на распределение признаков, исследуем корреляцию. \n",
    "3. Обучитить разные модели: Разделим датасет на выборки тестовую и обучающую, обучим модель, подбераем модель, подбераем гиперпараметры, оценить на кросс-валидации.\n",
    "4. Протестировать финальную модель, аналезировать матрицу ошибок, оценить важность признаков и сформировать отчет."
   ]
  },
  {
   "cell_type": "markdown",
   "metadata": {},
   "source": [
    "**Описание данных:**\n",
    "1. BeginDate – дата начала пользования услугами,\n",
    "2. EndDate – дата окончания пользования услугами,\n",
    "3. Type – тип оплаты: ежемесячный, годовой и тд,\n",
    "4. PaperlessBilling – электронный платёжный документ,\n",
    "5. PaymentMethod – способ оплаты,\n",
    "6. MonthlyCharges – ежемесячные траты на услуги по договору,\n",
    "7. TotalCharges – всего потрачено денег на услуги,\n",
    "8. Dependents – наличие иждивенцев,\n",
    "9. Senior Citizen – наличие пенсионного статуса по возрасту,\n",
    "10. Partner – наличие супруга(и),\n",
    "11. MultipleLines – наличие возможности ведения параллельных линий во время звонка \n",
    "\n",
    "\n",
    "1. Основная метрика - AUC-ROC.\n",
    "2. Пороговое значение основной метрики - >= 0.85.\n",
    "3. Дополнительно (для отчёта) считаем и интерпретируем метрику Accuracy.\n"
   ]
  },
  {
   "cell_type": "markdown",
   "metadata": {},
   "source": [
    "## Подготовка данных"
   ]
  },
  {
   "cell_type": "code",
   "execution_count": 1,
   "metadata": {},
   "outputs": [],
   "source": [
    "#pip install phik"
   ]
  },
  {
   "cell_type": "code",
   "execution_count": 2,
   "metadata": {},
   "outputs": [],
   "source": [
    "#Загружаем библиотеки\n",
    "import pandas as pd\n",
    "from statsmodels.tsa.seasonal import seasonal_decompose\n",
    "import matplotlib.pyplot as plt\n",
    "import seaborn as sns\n",
    "from sklearn.model_selection import train_test_split\n",
    "import phik\n",
    "from catboost import CatBoostClassifier, Pool\n",
    "from lightgbm import LGBMClassifier\n",
    "from sklearn.model_selection import GridSearchCV\n",
    "from sklearn.metrics import roc_auc_score\n",
    "from catboost import cv\n",
    "from sklearn.metrics import accuracy_score\n",
    "from sklearn.ensemble import RandomForestClassifier\n",
    "from sklearn.preprocessing import OrdinalEncoder\n",
    "import numpy as np\n",
    "from sklearn.metrics import confusion_matrix"
   ]
  },
  {
   "cell_type": "code",
   "execution_count": 3,
   "metadata": {},
   "outputs": [],
   "source": [
    "# Загружаем данные\n",
    "data1 = pd.read_csv('/datasets/contract_new.csv')\n",
    "data2 = pd.read_csv('/datasets/personal_new.csv')\n",
    "data3 = pd.read_csv('/datasets/internet_new.csv')\n",
    "data4 = pd.read_csv('/datasets/phone_new.csv')"
   ]
  },
  {
   "cell_type": "code",
   "execution_count": 4,
   "metadata": {},
   "outputs": [],
   "source": [
    "RANDOM_STATE = 190623"
   ]
  },
  {
   "cell_type": "code",
   "execution_count": 5,
   "metadata": {},
   "outputs": [],
   "source": [
    "#  Создадим функцию для вывода данных о датасете\n",
    "def info_check(df1):\n",
    "    print('-----------Информация о датасете-----------')\n",
    "    df1.info()\n",
    "    print('--------------Описание данных--------------')\n",
    "    print(df1.describe())\n",
    "    print('-----------Проверка на дубликаты-----------')\n",
    "    print(df1.duplicated().sum())\n",
    "    print('-----------Проверка на пропуски------------')\n",
    "    print(df1.isna().sum())\n",
    "    print('----------Первые 10 строк датасета---------')\n",
    "    print(df1.head(10))"
   ]
  },
  {
   "cell_type": "code",
   "execution_count": 6,
   "metadata": {},
   "outputs": [
    {
     "name": "stdout",
     "output_type": "stream",
     "text": [
      "-----------Информация о датасете-----------\n",
      "<class 'pandas.core.frame.DataFrame'>\n",
      "RangeIndex: 7043 entries, 0 to 7042\n",
      "Data columns (total 8 columns):\n",
      " #   Column            Non-Null Count  Dtype  \n",
      "---  ------            --------------  -----  \n",
      " 0   customerID        7043 non-null   object \n",
      " 1   BeginDate         7043 non-null   object \n",
      " 2   EndDate           7043 non-null   object \n",
      " 3   Type              7043 non-null   object \n",
      " 4   PaperlessBilling  7043 non-null   object \n",
      " 5   PaymentMethod     7043 non-null   object \n",
      " 6   MonthlyCharges    7043 non-null   float64\n",
      " 7   TotalCharges      7043 non-null   object \n",
      "dtypes: float64(1), object(7)\n",
      "memory usage: 440.3+ KB\n",
      "--------------Описание данных--------------\n",
      "       MonthlyCharges\n",
      "count     7043.000000\n",
      "mean        64.761692\n",
      "std         30.090047\n",
      "min         18.250000\n",
      "25%         35.500000\n",
      "50%         70.350000\n",
      "75%         89.850000\n",
      "max        118.750000\n",
      "-----------Проверка на дубликаты-----------\n",
      "0\n",
      "-----------Проверка на пропуски------------\n",
      "customerID          0\n",
      "BeginDate           0\n",
      "EndDate             0\n",
      "Type                0\n",
      "PaperlessBilling    0\n",
      "PaymentMethod       0\n",
      "MonthlyCharges      0\n",
      "TotalCharges        0\n",
      "dtype: int64\n",
      "----------Первые 10 строк датасета---------\n",
      "   customerID   BeginDate     EndDate            Type PaperlessBilling  \\\n",
      "0  7590-VHVEG  2020-01-01          No  Month-to-month              Yes   \n",
      "1  5575-GNVDE  2017-04-01          No        One year               No   \n",
      "2  3668-QPYBK  2019-10-01          No  Month-to-month              Yes   \n",
      "3  7795-CFOCW  2016-05-01          No        One year               No   \n",
      "4  9237-HQITU  2019-09-01          No  Month-to-month              Yes   \n",
      "5  9305-CDSKC  2019-03-01          No  Month-to-month              Yes   \n",
      "6  1452-KIOVK  2018-04-01          No  Month-to-month              Yes   \n",
      "7  6713-OKOMC  2019-04-01          No  Month-to-month               No   \n",
      "8  7892-POOKP  2017-07-01          No  Month-to-month              Yes   \n",
      "9  6388-TABGU  2014-12-01  2017-05-01        One year               No   \n",
      "\n",
      "               PaymentMethod  MonthlyCharges TotalCharges  \n",
      "0           Electronic check           29.85        31.04  \n",
      "1               Mailed check           56.95      2071.84  \n",
      "2               Mailed check           53.85       226.17  \n",
      "3  Bank transfer (automatic)           42.30       1960.6  \n",
      "4           Electronic check           70.70        353.5  \n",
      "5           Electronic check           99.65      1150.96  \n",
      "6    Credit card (automatic)           89.10      2058.21  \n",
      "7               Mailed check           29.75       300.48  \n",
      "8           Electronic check          104.80      3573.68  \n",
      "9  Bank transfer (automatic)           56.15      1628.35  \n"
     ]
    }
   ],
   "source": [
    "info_check(data1)"
   ]
  },
  {
   "cell_type": "code",
   "execution_count": 7,
   "metadata": {},
   "outputs": [
    {
     "name": "stdout",
     "output_type": "stream",
     "text": [
      "-----------Информация о датасете-----------\n",
      "<class 'pandas.core.frame.DataFrame'>\n",
      "RangeIndex: 7043 entries, 0 to 7042\n",
      "Data columns (total 5 columns):\n",
      " #   Column         Non-Null Count  Dtype \n",
      "---  ------         --------------  ----- \n",
      " 0   customerID     7043 non-null   object\n",
      " 1   gender         7043 non-null   object\n",
      " 2   SeniorCitizen  7043 non-null   int64 \n",
      " 3   Partner        7043 non-null   object\n",
      " 4   Dependents     7043 non-null   object\n",
      "dtypes: int64(1), object(4)\n",
      "memory usage: 275.2+ KB\n",
      "--------------Описание данных--------------\n",
      "       SeniorCitizen\n",
      "count    7043.000000\n",
      "mean        0.162147\n",
      "std         0.368612\n",
      "min         0.000000\n",
      "25%         0.000000\n",
      "50%         0.000000\n",
      "75%         0.000000\n",
      "max         1.000000\n",
      "-----------Проверка на дубликаты-----------\n",
      "0\n",
      "-----------Проверка на пропуски------------\n",
      "customerID       0\n",
      "gender           0\n",
      "SeniorCitizen    0\n",
      "Partner          0\n",
      "Dependents       0\n",
      "dtype: int64\n",
      "----------Первые 10 строк датасета---------\n",
      "   customerID  gender  SeniorCitizen Partner Dependents\n",
      "0  7590-VHVEG  Female              0     Yes         No\n",
      "1  5575-GNVDE    Male              0      No         No\n",
      "2  3668-QPYBK    Male              0      No         No\n",
      "3  7795-CFOCW    Male              0      No         No\n",
      "4  9237-HQITU  Female              0      No         No\n",
      "5  9305-CDSKC  Female              0      No         No\n",
      "6  1452-KIOVK    Male              0      No        Yes\n",
      "7  6713-OKOMC  Female              0      No         No\n",
      "8  7892-POOKP  Female              0     Yes         No\n",
      "9  6388-TABGU    Male              0      No        Yes\n"
     ]
    }
   ],
   "source": [
    "info_check(data2)"
   ]
  },
  {
   "cell_type": "code",
   "execution_count": 8,
   "metadata": {},
   "outputs": [
    {
     "name": "stdout",
     "output_type": "stream",
     "text": [
      "-----------Информация о датасете-----------\n",
      "<class 'pandas.core.frame.DataFrame'>\n",
      "RangeIndex: 5517 entries, 0 to 5516\n",
      "Data columns (total 8 columns):\n",
      " #   Column            Non-Null Count  Dtype \n",
      "---  ------            --------------  ----- \n",
      " 0   customerID        5517 non-null   object\n",
      " 1   InternetService   5517 non-null   object\n",
      " 2   OnlineSecurity    5517 non-null   object\n",
      " 3   OnlineBackup      5517 non-null   object\n",
      " 4   DeviceProtection  5517 non-null   object\n",
      " 5   TechSupport       5517 non-null   object\n",
      " 6   StreamingTV       5517 non-null   object\n",
      " 7   StreamingMovies   5517 non-null   object\n",
      "dtypes: object(8)\n",
      "memory usage: 344.9+ KB\n",
      "--------------Описание данных--------------\n",
      "        customerID InternetService OnlineSecurity OnlineBackup  \\\n",
      "count         5517            5517           5517         5517   \n",
      "unique        5517               2              2            2   \n",
      "top     2482-CZGBB     Fiber optic             No           No   \n",
      "freq             1            3096           3498         3088   \n",
      "\n",
      "       DeviceProtection TechSupport StreamingTV StreamingMovies  \n",
      "count              5517        5517        5517            5517  \n",
      "unique                2           2           2               2  \n",
      "top                  No          No          No              No  \n",
      "freq               3095        3473        2810            2785  \n",
      "-----------Проверка на дубликаты-----------\n",
      "0\n",
      "-----------Проверка на пропуски------------\n",
      "customerID          0\n",
      "InternetService     0\n",
      "OnlineSecurity      0\n",
      "OnlineBackup        0\n",
      "DeviceProtection    0\n",
      "TechSupport         0\n",
      "StreamingTV         0\n",
      "StreamingMovies     0\n",
      "dtype: int64\n",
      "----------Первые 10 строк датасета---------\n",
      "   customerID InternetService OnlineSecurity OnlineBackup DeviceProtection  \\\n",
      "0  7590-VHVEG             DSL             No          Yes               No   \n",
      "1  5575-GNVDE             DSL            Yes           No              Yes   \n",
      "2  3668-QPYBK             DSL            Yes          Yes               No   \n",
      "3  7795-CFOCW             DSL            Yes           No              Yes   \n",
      "4  9237-HQITU     Fiber optic             No           No               No   \n",
      "5  9305-CDSKC     Fiber optic             No           No              Yes   \n",
      "6  1452-KIOVK     Fiber optic             No          Yes               No   \n",
      "7  6713-OKOMC             DSL            Yes           No               No   \n",
      "8  7892-POOKP     Fiber optic             No           No              Yes   \n",
      "9  6388-TABGU             DSL            Yes          Yes               No   \n",
      "\n",
      "  TechSupport StreamingTV StreamingMovies  \n",
      "0          No          No              No  \n",
      "1          No          No              No  \n",
      "2          No          No              No  \n",
      "3         Yes          No              No  \n",
      "4          No          No              No  \n",
      "5          No         Yes             Yes  \n",
      "6          No         Yes              No  \n",
      "7          No          No              No  \n",
      "8         Yes         Yes             Yes  \n",
      "9          No          No              No  \n"
     ]
    }
   ],
   "source": [
    "info_check(data3)"
   ]
  },
  {
   "cell_type": "code",
   "execution_count": 9,
   "metadata": {},
   "outputs": [
    {
     "name": "stdout",
     "output_type": "stream",
     "text": [
      "-----------Информация о датасете-----------\n",
      "<class 'pandas.core.frame.DataFrame'>\n",
      "RangeIndex: 6361 entries, 0 to 6360\n",
      "Data columns (total 2 columns):\n",
      " #   Column         Non-Null Count  Dtype \n",
      "---  ------         --------------  ----- \n",
      " 0   customerID     6361 non-null   object\n",
      " 1   MultipleLines  6361 non-null   object\n",
      "dtypes: object(2)\n",
      "memory usage: 99.5+ KB\n",
      "--------------Описание данных--------------\n",
      "        customerID MultipleLines\n",
      "count         6361          6361\n",
      "unique        6361             2\n",
      "top     2482-CZGBB            No\n",
      "freq             1          3390\n",
      "-----------Проверка на дубликаты-----------\n",
      "0\n",
      "-----------Проверка на пропуски------------\n",
      "customerID       0\n",
      "MultipleLines    0\n",
      "dtype: int64\n",
      "----------Первые 10 строк датасета---------\n",
      "   customerID MultipleLines\n",
      "0  5575-GNVDE            No\n",
      "1  3668-QPYBK            No\n",
      "2  9237-HQITU            No\n",
      "3  9305-CDSKC           Yes\n",
      "4  1452-KIOVK           Yes\n",
      "5  7892-POOKP           Yes\n",
      "6  6388-TABGU            No\n",
      "7  9763-GRSKD            No\n",
      "8  7469-LKBCI            No\n",
      "9  8091-TTVAX           Yes\n"
     ]
    }
   ],
   "source": [
    "info_check(data4)"
   ]
  },
  {
   "cell_type": "markdown",
   "metadata": {},
   "source": [
    "После загрузки и ознакомления с датасетами, обнаружил отсутсвие дубликатов и пропусков(вторые появятся скорее всего после объеденения таблиц с данными). Первый датасет хранит информацию о договорах с клиентами. Можно заметить что столбец EndDate(Дата окончания усулуг) имеет значения либо No, что означает что клиент еще пользуется услугами, либо дату, что означает когда клиент перестал пользоваться услугами. Этот столбец и будет нашим целевым признаком. Также можно заметить, что все табилцы имеют первичный ключ по которому мы будем объеденять их - customerID(уникальный присваемый код для каждого клиента). Второй датасет хранит информацию о самих клиентах: пол, пенсионный статус, супруги, наличие иждевенцев. Описание данных к третьему проекту отсутствует, но используя переводчик я понял, что он хранит информацию о дополнительных услугах таких как телевиденье или антивирус. Последний датасет отвечает за наличие возможности ведения параллельных линий во время звонка."
   ]
  },
  {
   "cell_type": "markdown",
   "metadata": {},
   "source": [
    "## Иследовательский анализ данных"
   ]
  },
  {
   "cell_type": "markdown",
   "metadata": {},
   "source": [
    "Для построения графиков создадим новый столбец в котором присвоим булевое значение для тех кто еще пользуется услугами - 0, для тех кто закончил пользоваться услугами - 1."
   ]
  },
  {
   "cell_type": "code",
   "execution_count": 10,
   "metadata": {},
   "outputs": [],
   "source": [
    "data1.loc[data1['EndDate'] == 'No', 'EndDateBull'] = 0\n",
    "data1.loc[data1['EndDate'] != 'No', 'EndDateBull'] = 1"
   ]
  },
  {
   "cell_type": "code",
   "execution_count": 11,
   "metadata": {},
   "outputs": [
    {
     "data": {
      "text/html": [
       "<div>\n",
       "<style scoped>\n",
       "    .dataframe tbody tr th:only-of-type {\n",
       "        vertical-align: middle;\n",
       "    }\n",
       "\n",
       "    .dataframe tbody tr th {\n",
       "        vertical-align: top;\n",
       "    }\n",
       "\n",
       "    .dataframe thead th {\n",
       "        text-align: right;\n",
       "    }\n",
       "</style>\n",
       "<table border=\"1\" class=\"dataframe\">\n",
       "  <thead>\n",
       "    <tr style=\"text-align: right;\">\n",
       "      <th></th>\n",
       "      <th>customerID</th>\n",
       "      <th>BeginDate</th>\n",
       "      <th>EndDate</th>\n",
       "      <th>Type</th>\n",
       "      <th>PaperlessBilling</th>\n",
       "      <th>PaymentMethod</th>\n",
       "      <th>MonthlyCharges</th>\n",
       "      <th>TotalCharges</th>\n",
       "      <th>EndDateBull</th>\n",
       "    </tr>\n",
       "  </thead>\n",
       "  <tbody>\n",
       "    <tr>\n",
       "      <th>0</th>\n",
       "      <td>7590-VHVEG</td>\n",
       "      <td>2020-01-01</td>\n",
       "      <td>No</td>\n",
       "      <td>Month-to-month</td>\n",
       "      <td>Yes</td>\n",
       "      <td>Electronic check</td>\n",
       "      <td>29.85</td>\n",
       "      <td>31.04</td>\n",
       "      <td>0.0</td>\n",
       "    </tr>\n",
       "    <tr>\n",
       "      <th>1</th>\n",
       "      <td>5575-GNVDE</td>\n",
       "      <td>2017-04-01</td>\n",
       "      <td>No</td>\n",
       "      <td>One year</td>\n",
       "      <td>No</td>\n",
       "      <td>Mailed check</td>\n",
       "      <td>56.95</td>\n",
       "      <td>2071.84</td>\n",
       "      <td>0.0</td>\n",
       "    </tr>\n",
       "    <tr>\n",
       "      <th>2</th>\n",
       "      <td>3668-QPYBK</td>\n",
       "      <td>2019-10-01</td>\n",
       "      <td>No</td>\n",
       "      <td>Month-to-month</td>\n",
       "      <td>Yes</td>\n",
       "      <td>Mailed check</td>\n",
       "      <td>53.85</td>\n",
       "      <td>226.17</td>\n",
       "      <td>0.0</td>\n",
       "    </tr>\n",
       "    <tr>\n",
       "      <th>3</th>\n",
       "      <td>7795-CFOCW</td>\n",
       "      <td>2016-05-01</td>\n",
       "      <td>No</td>\n",
       "      <td>One year</td>\n",
       "      <td>No</td>\n",
       "      <td>Bank transfer (automatic)</td>\n",
       "      <td>42.30</td>\n",
       "      <td>1960.6</td>\n",
       "      <td>0.0</td>\n",
       "    </tr>\n",
       "    <tr>\n",
       "      <th>4</th>\n",
       "      <td>9237-HQITU</td>\n",
       "      <td>2019-09-01</td>\n",
       "      <td>No</td>\n",
       "      <td>Month-to-month</td>\n",
       "      <td>Yes</td>\n",
       "      <td>Electronic check</td>\n",
       "      <td>70.70</td>\n",
       "      <td>353.5</td>\n",
       "      <td>0.0</td>\n",
       "    </tr>\n",
       "    <tr>\n",
       "      <th>5</th>\n",
       "      <td>9305-CDSKC</td>\n",
       "      <td>2019-03-01</td>\n",
       "      <td>No</td>\n",
       "      <td>Month-to-month</td>\n",
       "      <td>Yes</td>\n",
       "      <td>Electronic check</td>\n",
       "      <td>99.65</td>\n",
       "      <td>1150.96</td>\n",
       "      <td>0.0</td>\n",
       "    </tr>\n",
       "    <tr>\n",
       "      <th>6</th>\n",
       "      <td>1452-KIOVK</td>\n",
       "      <td>2018-04-01</td>\n",
       "      <td>No</td>\n",
       "      <td>Month-to-month</td>\n",
       "      <td>Yes</td>\n",
       "      <td>Credit card (automatic)</td>\n",
       "      <td>89.10</td>\n",
       "      <td>2058.21</td>\n",
       "      <td>0.0</td>\n",
       "    </tr>\n",
       "    <tr>\n",
       "      <th>7</th>\n",
       "      <td>6713-OKOMC</td>\n",
       "      <td>2019-04-01</td>\n",
       "      <td>No</td>\n",
       "      <td>Month-to-month</td>\n",
       "      <td>No</td>\n",
       "      <td>Mailed check</td>\n",
       "      <td>29.75</td>\n",
       "      <td>300.48</td>\n",
       "      <td>0.0</td>\n",
       "    </tr>\n",
       "    <tr>\n",
       "      <th>8</th>\n",
       "      <td>7892-POOKP</td>\n",
       "      <td>2017-07-01</td>\n",
       "      <td>No</td>\n",
       "      <td>Month-to-month</td>\n",
       "      <td>Yes</td>\n",
       "      <td>Electronic check</td>\n",
       "      <td>104.80</td>\n",
       "      <td>3573.68</td>\n",
       "      <td>0.0</td>\n",
       "    </tr>\n",
       "    <tr>\n",
       "      <th>9</th>\n",
       "      <td>6388-TABGU</td>\n",
       "      <td>2014-12-01</td>\n",
       "      <td>2017-05-01</td>\n",
       "      <td>One year</td>\n",
       "      <td>No</td>\n",
       "      <td>Bank transfer (automatic)</td>\n",
       "      <td>56.15</td>\n",
       "      <td>1628.35</td>\n",
       "      <td>1.0</td>\n",
       "    </tr>\n",
       "  </tbody>\n",
       "</table>\n",
       "</div>"
      ],
      "text/plain": [
       "   customerID   BeginDate     EndDate            Type PaperlessBilling  \\\n",
       "0  7590-VHVEG  2020-01-01          No  Month-to-month              Yes   \n",
       "1  5575-GNVDE  2017-04-01          No        One year               No   \n",
       "2  3668-QPYBK  2019-10-01          No  Month-to-month              Yes   \n",
       "3  7795-CFOCW  2016-05-01          No        One year               No   \n",
       "4  9237-HQITU  2019-09-01          No  Month-to-month              Yes   \n",
       "5  9305-CDSKC  2019-03-01          No  Month-to-month              Yes   \n",
       "6  1452-KIOVK  2018-04-01          No  Month-to-month              Yes   \n",
       "7  6713-OKOMC  2019-04-01          No  Month-to-month               No   \n",
       "8  7892-POOKP  2017-07-01          No  Month-to-month              Yes   \n",
       "9  6388-TABGU  2014-12-01  2017-05-01        One year               No   \n",
       "\n",
       "               PaymentMethod  MonthlyCharges TotalCharges  EndDateBull  \n",
       "0           Electronic check           29.85        31.04          0.0  \n",
       "1               Mailed check           56.95      2071.84          0.0  \n",
       "2               Mailed check           53.85       226.17          0.0  \n",
       "3  Bank transfer (automatic)           42.30       1960.6          0.0  \n",
       "4           Electronic check           70.70        353.5          0.0  \n",
       "5           Electronic check           99.65      1150.96          0.0  \n",
       "6    Credit card (automatic)           89.10      2058.21          0.0  \n",
       "7               Mailed check           29.75       300.48          0.0  \n",
       "8           Electronic check          104.80      3573.68          0.0  \n",
       "9  Bank transfer (automatic)           56.15      1628.35          1.0  "
      ]
     },
     "execution_count": 11,
     "metadata": {},
     "output_type": "execute_result"
    }
   ],
   "source": [
    "data1.head(10)"
   ]
  },
  {
   "cell_type": "code",
   "execution_count": 12,
   "metadata": {},
   "outputs": [
    {
     "data": {
      "text/plain": [
       "[Text(0.5, 0, 'Кто ушли                 Кто остались'),\n",
       " Text(0, 0.5, 'Количество людей')]"
      ]
     },
     "execution_count": 12,
     "metadata": {},
     "output_type": "execute_result"
    },
    {
     "data": {
      "image/png": "[encoded data removed]",
      "text/plain": [
       "<Figure size 432x288 with 1 Axes>"
      ]
     },
     "metadata": {
      "needs_background": "light"
     },
     "output_type": "display_data"
    }
   ],
   "source": [
    "f = data1['EndDateBull'].value_counts()\n",
    "sns.barplot(data= f, x = f[0:], y = f[:1]).set(xlabel='Кто ушли                 Кто остались', ylabel='Количество людей')"
   ]
  },
  {
   "cell_type": "markdown",
   "metadata": {},
   "source": [
    "Классы жутко не сбалансированны соотношение 6к1"
   ]
  },
  {
   "cell_type": "markdown",
   "metadata": {},
   "source": [
    "На графике видно, что почти 6тысяч клиентов еще пользуются услугами и чуть больше тысячи клиентов прекратили пользоваться услугами. Построим график оттока клиентов по дате, чтобы определить в какой период клиенты чаще перестают пользоваться услугами Телекома."
   ]
  },
  {
   "cell_type": "code",
   "execution_count": 13,
   "metadata": {},
   "outputs": [
    {
     "data": {
      "text/html": [
       "<style  type=\"text/css\" >\n",
       "#T_dc081_row0_col0,#T_dc081_row2_col0,#T_dc081_row3_col0{\n",
       "            width:  10em;\n",
       "             height:  80%;\n",
       "        }#T_dc081_row1_col0,#T_dc081_row4_col0,#T_dc081_row8_col0{\n",
       "            width:  10em;\n",
       "             height:  80%;\n",
       "            background:  linear-gradient(90deg,#d65f5f 2.6%, transparent 2.6%);\n",
       "        }#T_dc081_row5_col0,#T_dc081_row11_col0{\n",
       "            width:  10em;\n",
       "             height:  80%;\n",
       "            background:  linear-gradient(90deg,#d65f5f 10.5%, transparent 10.5%);\n",
       "        }#T_dc081_row6_col0{\n",
       "            width:  10em;\n",
       "             height:  80%;\n",
       "            background:  linear-gradient(90deg,#d65f5f 7.9%, transparent 7.9%);\n",
       "        }#T_dc081_row7_col0,#T_dc081_row9_col0,#T_dc081_row10_col0{\n",
       "            width:  10em;\n",
       "             height:  80%;\n",
       "            background:  linear-gradient(90deg,#d65f5f 5.3%, transparent 5.3%);\n",
       "        }#T_dc081_row12_col0,#T_dc081_row16_col0,#T_dc081_row18_col0{\n",
       "            width:  10em;\n",
       "             height:  80%;\n",
       "            background:  linear-gradient(90deg,#d65f5f 15.8%, transparent 15.8%);\n",
       "        }#T_dc081_row13_col0,#T_dc081_row17_col0{\n",
       "            width:  10em;\n",
       "             height:  80%;\n",
       "            background:  linear-gradient(90deg,#d65f5f 13.2%, transparent 13.2%);\n",
       "        }#T_dc081_row14_col0,#T_dc081_row21_col0{\n",
       "            width:  10em;\n",
       "             height:  80%;\n",
       "            background:  linear-gradient(90deg,#d65f5f 21.1%, transparent 21.1%);\n",
       "        }#T_dc081_row15_col0,#T_dc081_row20_col0{\n",
       "            width:  10em;\n",
       "             height:  80%;\n",
       "            background:  linear-gradient(90deg,#d65f5f 18.4%, transparent 18.4%);\n",
       "        }#T_dc081_row19_col0,#T_dc081_row24_col0{\n",
       "            width:  10em;\n",
       "             height:  80%;\n",
       "            background:  linear-gradient(90deg,#d65f5f 26.3%, transparent 26.3%);\n",
       "        }#T_dc081_row22_col0,#T_dc081_row27_col0,#T_dc081_row41_col0{\n",
       "            width:  10em;\n",
       "             height:  80%;\n",
       "            background:  linear-gradient(90deg,#d65f5f 31.6%, transparent 31.6%);\n",
       "        }#T_dc081_row23_col0,#T_dc081_row31_col0,#T_dc081_row35_col0{\n",
       "            width:  10em;\n",
       "             height:  80%;\n",
       "            background:  linear-gradient(90deg,#d65f5f 50.0%, transparent 50.0%);\n",
       "        }#T_dc081_row25_col0{\n",
       "            width:  10em;\n",
       "             height:  80%;\n",
       "            background:  linear-gradient(90deg,#d65f5f 34.2%, transparent 34.2%);\n",
       "        }#T_dc081_row26_col0,#T_dc081_row34_col0{\n",
       "            width:  10em;\n",
       "             height:  80%;\n",
       "            background:  linear-gradient(90deg,#d65f5f 39.5%, transparent 39.5%);\n",
       "        }#T_dc081_row28_col0,#T_dc081_row29_col0{\n",
       "            width:  10em;\n",
       "             height:  80%;\n",
       "            background:  linear-gradient(90deg,#d65f5f 28.9%, transparent 28.9%);\n",
       "        }#T_dc081_row30_col0{\n",
       "            width:  10em;\n",
       "             height:  80%;\n",
       "            background:  linear-gradient(90deg,#d65f5f 36.8%, transparent 36.8%);\n",
       "        }#T_dc081_row32_col0{\n",
       "            width:  10em;\n",
       "             height:  80%;\n",
       "            background:  linear-gradient(90deg,#d65f5f 47.4%, transparent 47.4%);\n",
       "        }#T_dc081_row33_col0{\n",
       "            width:  10em;\n",
       "             height:  80%;\n",
       "            background:  linear-gradient(90deg,#d65f5f 55.3%, transparent 55.3%);\n",
       "        }#T_dc081_row36_col0,#T_dc081_row44_col0{\n",
       "            width:  10em;\n",
       "             height:  80%;\n",
       "            background:  linear-gradient(90deg,#d65f5f 44.7%, transparent 44.7%);\n",
       "        }#T_dc081_row37_col0,#T_dc081_row40_col0,#T_dc081_row48_col0,#T_dc081_row54_col0,#T_dc081_row57_col0,#T_dc081_row60_col0{\n",
       "            width:  10em;\n",
       "             height:  80%;\n",
       "            background:  linear-gradient(90deg,#d65f5f 57.9%, transparent 57.9%);\n",
       "        }#T_dc081_row38_col0,#T_dc081_row42_col0,#T_dc081_row50_col0{\n",
       "            width:  10em;\n",
       "             height:  80%;\n",
       "            background:  linear-gradient(90deg,#d65f5f 52.6%, transparent 52.6%);\n",
       "        }#T_dc081_row39_col0,#T_dc081_row46_col0{\n",
       "            width:  10em;\n",
       "             height:  80%;\n",
       "            background:  linear-gradient(90deg,#d65f5f 65.8%, transparent 65.8%);\n",
       "        }#T_dc081_row43_col0,#T_dc081_row45_col0,#T_dc081_row56_col0{\n",
       "            width:  10em;\n",
       "             height:  80%;\n",
       "            background:  linear-gradient(90deg,#d65f5f 60.5%, transparent 60.5%);\n",
       "        }#T_dc081_row47_col0{\n",
       "            width:  10em;\n",
       "             height:  80%;\n",
       "            background:  linear-gradient(90deg,#d65f5f 68.4%, transparent 68.4%);\n",
       "        }#T_dc081_row49_col0,#T_dc081_row53_col0,#T_dc081_row55_col0,#T_dc081_row58_col0{\n",
       "            width:  10em;\n",
       "             height:  80%;\n",
       "            background:  linear-gradient(90deg,#d65f5f 71.1%, transparent 71.1%);\n",
       "        }#T_dc081_row51_col0{\n",
       "            width:  10em;\n",
       "             height:  80%;\n",
       "            background:  linear-gradient(90deg,#d65f5f 89.5%, transparent 89.5%);\n",
       "        }#T_dc081_row52_col0,#T_dc081_row59_col0{\n",
       "            width:  10em;\n",
       "             height:  80%;\n",
       "            background:  linear-gradient(90deg,#d65f5f 63.2%, transparent 63.2%);\n",
       "        }#T_dc081_row61_col0{\n",
       "            width:  10em;\n",
       "             height:  80%;\n",
       "            background:  linear-gradient(90deg,#d65f5f 81.6%, transparent 81.6%);\n",
       "        }#T_dc081_row62_col0{\n",
       "            width:  10em;\n",
       "             height:  80%;\n",
       "            background:  linear-gradient(90deg,#d65f5f 78.9%, transparent 78.9%);\n",
       "        }#T_dc081_row63_col0{\n",
       "            width:  10em;\n",
       "             height:  80%;\n",
       "            background:  linear-gradient(90deg,#d65f5f 76.3%, transparent 76.3%);\n",
       "        }#T_dc081_row64_col0{\n",
       "            width:  10em;\n",
       "             height:  80%;\n",
       "            background:  linear-gradient(90deg,#d65f5f 97.4%, transparent 97.4%);\n",
       "        }#T_dc081_row65_col0{\n",
       "            width:  10em;\n",
       "             height:  80%;\n",
       "            background:  linear-gradient(90deg,#d65f5f 100.0%, transparent 100.0%);\n",
       "        }</style><table id=\"T_dc081_\" ><thead>    <tr>        <th class=\"blank level0\" ></th>        <th class=\"col_heading level0 col0\" >customerID</th>    </tr>    <tr>        <th class=\"index_name level0\" >EndDate</th>        <th class=\"blank\" ></th>    </tr></thead><tbody>\n",
       "                <tr>\n",
       "                        <th id=\"T_dc081_level0_row0\" class=\"row_heading level0 row0\" >2014-06-01</th>\n",
       "                        <td id=\"T_dc081_row0_col0\" class=\"data row0 col0\" >1</td>\n",
       "            </tr>\n",
       "            <tr>\n",
       "                        <th id=\"T_dc081_level0_row1\" class=\"row_heading level0 row1\" >2014-09-01</th>\n",
       "                        <td id=\"T_dc081_row1_col0\" class=\"data row1 col0\" >2</td>\n",
       "            </tr>\n",
       "            <tr>\n",
       "                        <th id=\"T_dc081_level0_row2\" class=\"row_heading level0 row2\" >2014-10-01</th>\n",
       "                        <td id=\"T_dc081_row2_col0\" class=\"data row2 col0\" >1</td>\n",
       "            </tr>\n",
       "            <tr>\n",
       "                        <th id=\"T_dc081_level0_row3\" class=\"row_heading level0 row3\" >2014-11-01</th>\n",
       "                        <td id=\"T_dc081_row3_col0\" class=\"data row3 col0\" >1</td>\n",
       "            </tr>\n",
       "            <tr>\n",
       "                        <th id=\"T_dc081_level0_row4\" class=\"row_heading level0 row4\" >2014-12-01</th>\n",
       "                        <td id=\"T_dc081_row4_col0\" class=\"data row4 col0\" >2</td>\n",
       "            </tr>\n",
       "            <tr>\n",
       "                        <th id=\"T_dc081_level0_row5\" class=\"row_heading level0 row5\" >2015-01-01</th>\n",
       "                        <td id=\"T_dc081_row5_col0\" class=\"data row5 col0\" >5</td>\n",
       "            </tr>\n",
       "            <tr>\n",
       "                        <th id=\"T_dc081_level0_row6\" class=\"row_heading level0 row6\" >2015-02-01</th>\n",
       "                        <td id=\"T_dc081_row6_col0\" class=\"data row6 col0\" >4</td>\n",
       "            </tr>\n",
       "            <tr>\n",
       "                        <th id=\"T_dc081_level0_row7\" class=\"row_heading level0 row7\" >2015-03-01</th>\n",
       "                        <td id=\"T_dc081_row7_col0\" class=\"data row7 col0\" >3</td>\n",
       "            </tr>\n",
       "            <tr>\n",
       "                        <th id=\"T_dc081_level0_row8\" class=\"row_heading level0 row8\" >2015-04-01</th>\n",
       "                        <td id=\"T_dc081_row8_col0\" class=\"data row8 col0\" >2</td>\n",
       "            </tr>\n",
       "            <tr>\n",
       "                        <th id=\"T_dc081_level0_row9\" class=\"row_heading level0 row9\" >2015-05-01</th>\n",
       "                        <td id=\"T_dc081_row9_col0\" class=\"data row9 col0\" >3</td>\n",
       "            </tr>\n",
       "            <tr>\n",
       "                        <th id=\"T_dc081_level0_row10\" class=\"row_heading level0 row10\" >2015-06-01</th>\n",
       "                        <td id=\"T_dc081_row10_col0\" class=\"data row10 col0\" >3</td>\n",
       "            </tr>\n",
       "            <tr>\n",
       "                        <th id=\"T_dc081_level0_row11\" class=\"row_heading level0 row11\" >2015-07-01</th>\n",
       "                        <td id=\"T_dc081_row11_col0\" class=\"data row11 col0\" >5</td>\n",
       "            </tr>\n",
       "            <tr>\n",
       "                        <th id=\"T_dc081_level0_row12\" class=\"row_heading level0 row12\" >2015-08-01</th>\n",
       "                        <td id=\"T_dc081_row12_col0\" class=\"data row12 col0\" >7</td>\n",
       "            </tr>\n",
       "            <tr>\n",
       "                        <th id=\"T_dc081_level0_row13\" class=\"row_heading level0 row13\" >2015-09-01</th>\n",
       "                        <td id=\"T_dc081_row13_col0\" class=\"data row13 col0\" >6</td>\n",
       "            </tr>\n",
       "            <tr>\n",
       "                        <th id=\"T_dc081_level0_row14\" class=\"row_heading level0 row14\" >2015-10-01</th>\n",
       "                        <td id=\"T_dc081_row14_col0\" class=\"data row14 col0\" >9</td>\n",
       "            </tr>\n",
       "            <tr>\n",
       "                        <th id=\"T_dc081_level0_row15\" class=\"row_heading level0 row15\" >2015-11-01</th>\n",
       "                        <td id=\"T_dc081_row15_col0\" class=\"data row15 col0\" >8</td>\n",
       "            </tr>\n",
       "            <tr>\n",
       "                        <th id=\"T_dc081_level0_row16\" class=\"row_heading level0 row16\" >2015-12-01</th>\n",
       "                        <td id=\"T_dc081_row16_col0\" class=\"data row16 col0\" >7</td>\n",
       "            </tr>\n",
       "            <tr>\n",
       "                        <th id=\"T_dc081_level0_row17\" class=\"row_heading level0 row17\" >2016-01-01</th>\n",
       "                        <td id=\"T_dc081_row17_col0\" class=\"data row17 col0\" >6</td>\n",
       "            </tr>\n",
       "            <tr>\n",
       "                        <th id=\"T_dc081_level0_row18\" class=\"row_heading level0 row18\" >2016-02-01</th>\n",
       "                        <td id=\"T_dc081_row18_col0\" class=\"data row18 col0\" >7</td>\n",
       "            </tr>\n",
       "            <tr>\n",
       "                        <th id=\"T_dc081_level0_row19\" class=\"row_heading level0 row19\" >2016-03-01</th>\n",
       "                        <td id=\"T_dc081_row19_col0\" class=\"data row19 col0\" >11</td>\n",
       "            </tr>\n",
       "            <tr>\n",
       "                        <th id=\"T_dc081_level0_row20\" class=\"row_heading level0 row20\" >2016-04-01</th>\n",
       "                        <td id=\"T_dc081_row20_col0\" class=\"data row20 col0\" >8</td>\n",
       "            </tr>\n",
       "            <tr>\n",
       "                        <th id=\"T_dc081_level0_row21\" class=\"row_heading level0 row21\" >2016-05-01</th>\n",
       "                        <td id=\"T_dc081_row21_col0\" class=\"data row21 col0\" >9</td>\n",
       "            </tr>\n",
       "            <tr>\n",
       "                        <th id=\"T_dc081_level0_row22\" class=\"row_heading level0 row22\" >2016-06-01</th>\n",
       "                        <td id=\"T_dc081_row22_col0\" class=\"data row22 col0\" >13</td>\n",
       "            </tr>\n",
       "            <tr>\n",
       "                        <th id=\"T_dc081_level0_row23\" class=\"row_heading level0 row23\" >2016-07-01</th>\n",
       "                        <td id=\"T_dc081_row23_col0\" class=\"data row23 col0\" >20</td>\n",
       "            </tr>\n",
       "            <tr>\n",
       "                        <th id=\"T_dc081_level0_row24\" class=\"row_heading level0 row24\" >2016-08-01</th>\n",
       "                        <td id=\"T_dc081_row24_col0\" class=\"data row24 col0\" >11</td>\n",
       "            </tr>\n",
       "            <tr>\n",
       "                        <th id=\"T_dc081_level0_row25\" class=\"row_heading level0 row25\" >2016-09-01</th>\n",
       "                        <td id=\"T_dc081_row25_col0\" class=\"data row25 col0\" >14</td>\n",
       "            </tr>\n",
       "            <tr>\n",
       "                        <th id=\"T_dc081_level0_row26\" class=\"row_heading level0 row26\" >2016-10-01</th>\n",
       "                        <td id=\"T_dc081_row26_col0\" class=\"data row26 col0\" >16</td>\n",
       "            </tr>\n",
       "            <tr>\n",
       "                        <th id=\"T_dc081_level0_row27\" class=\"row_heading level0 row27\" >2016-11-01</th>\n",
       "                        <td id=\"T_dc081_row27_col0\" class=\"data row27 col0\" >13</td>\n",
       "            </tr>\n",
       "            <tr>\n",
       "                        <th id=\"T_dc081_level0_row28\" class=\"row_heading level0 row28\" >2016-12-01</th>\n",
       "                        <td id=\"T_dc081_row28_col0\" class=\"data row28 col0\" >12</td>\n",
       "            </tr>\n",
       "            <tr>\n",
       "                        <th id=\"T_dc081_level0_row29\" class=\"row_heading level0 row29\" >2017-01-01</th>\n",
       "                        <td id=\"T_dc081_row29_col0\" class=\"data row29 col0\" >12</td>\n",
       "            </tr>\n",
       "            <tr>\n",
       "                        <th id=\"T_dc081_level0_row30\" class=\"row_heading level0 row30\" >2017-02-01</th>\n",
       "                        <td id=\"T_dc081_row30_col0\" class=\"data row30 col0\" >15</td>\n",
       "            </tr>\n",
       "            <tr>\n",
       "                        <th id=\"T_dc081_level0_row31\" class=\"row_heading level0 row31\" >2017-03-01</th>\n",
       "                        <td id=\"T_dc081_row31_col0\" class=\"data row31 col0\" >20</td>\n",
       "            </tr>\n",
       "            <tr>\n",
       "                        <th id=\"T_dc081_level0_row32\" class=\"row_heading level0 row32\" >2017-04-01</th>\n",
       "                        <td id=\"T_dc081_row32_col0\" class=\"data row32 col0\" >19</td>\n",
       "            </tr>\n",
       "            <tr>\n",
       "                        <th id=\"T_dc081_level0_row33\" class=\"row_heading level0 row33\" >2017-05-01</th>\n",
       "                        <td id=\"T_dc081_row33_col0\" class=\"data row33 col0\" >22</td>\n",
       "            </tr>\n",
       "            <tr>\n",
       "                        <th id=\"T_dc081_level0_row34\" class=\"row_heading level0 row34\" >2017-06-01</th>\n",
       "                        <td id=\"T_dc081_row34_col0\" class=\"data row34 col0\" >16</td>\n",
       "            </tr>\n",
       "            <tr>\n",
       "                        <th id=\"T_dc081_level0_row35\" class=\"row_heading level0 row35\" >2017-07-01</th>\n",
       "                        <td id=\"T_dc081_row35_col0\" class=\"data row35 col0\" >20</td>\n",
       "            </tr>\n",
       "            <tr>\n",
       "                        <th id=\"T_dc081_level0_row36\" class=\"row_heading level0 row36\" >2017-08-01</th>\n",
       "                        <td id=\"T_dc081_row36_col0\" class=\"data row36 col0\" >18</td>\n",
       "            </tr>\n",
       "            <tr>\n",
       "                        <th id=\"T_dc081_level0_row37\" class=\"row_heading level0 row37\" >2017-09-01</th>\n",
       "                        <td id=\"T_dc081_row37_col0\" class=\"data row37 col0\" >23</td>\n",
       "            </tr>\n",
       "            <tr>\n",
       "                        <th id=\"T_dc081_level0_row38\" class=\"row_heading level0 row38\" >2017-10-01</th>\n",
       "                        <td id=\"T_dc081_row38_col0\" class=\"data row38 col0\" >21</td>\n",
       "            </tr>\n",
       "            <tr>\n",
       "                        <th id=\"T_dc081_level0_row39\" class=\"row_heading level0 row39\" >2017-11-01</th>\n",
       "                        <td id=\"T_dc081_row39_col0\" class=\"data row39 col0\" >26</td>\n",
       "            </tr>\n",
       "            <tr>\n",
       "                        <th id=\"T_dc081_level0_row40\" class=\"row_heading level0 row40\" >2017-12-01</th>\n",
       "                        <td id=\"T_dc081_row40_col0\" class=\"data row40 col0\" >23</td>\n",
       "            </tr>\n",
       "            <tr>\n",
       "                        <th id=\"T_dc081_level0_row41\" class=\"row_heading level0 row41\" >2018-01-01</th>\n",
       "                        <td id=\"T_dc081_row41_col0\" class=\"data row41 col0\" >13</td>\n",
       "            </tr>\n",
       "            <tr>\n",
       "                        <th id=\"T_dc081_level0_row42\" class=\"row_heading level0 row42\" >2018-02-01</th>\n",
       "                        <td id=\"T_dc081_row42_col0\" class=\"data row42 col0\" >21</td>\n",
       "            </tr>\n",
       "            <tr>\n",
       "                        <th id=\"T_dc081_level0_row43\" class=\"row_heading level0 row43\" >2018-03-01</th>\n",
       "                        <td id=\"T_dc081_row43_col0\" class=\"data row43 col0\" >24</td>\n",
       "            </tr>\n",
       "            <tr>\n",
       "                        <th id=\"T_dc081_level0_row44\" class=\"row_heading level0 row44\" >2018-04-01</th>\n",
       "                        <td id=\"T_dc081_row44_col0\" class=\"data row44 col0\" >18</td>\n",
       "            </tr>\n",
       "            <tr>\n",
       "                        <th id=\"T_dc081_level0_row45\" class=\"row_heading level0 row45\" >2018-05-01</th>\n",
       "                        <td id=\"T_dc081_row45_col0\" class=\"data row45 col0\" >24</td>\n",
       "            </tr>\n",
       "            <tr>\n",
       "                        <th id=\"T_dc081_level0_row46\" class=\"row_heading level0 row46\" >2018-06-01</th>\n",
       "                        <td id=\"T_dc081_row46_col0\" class=\"data row46 col0\" >26</td>\n",
       "            </tr>\n",
       "            <tr>\n",
       "                        <th id=\"T_dc081_level0_row47\" class=\"row_heading level0 row47\" >2018-07-01</th>\n",
       "                        <td id=\"T_dc081_row47_col0\" class=\"data row47 col0\" >27</td>\n",
       "            </tr>\n",
       "            <tr>\n",
       "                        <th id=\"T_dc081_level0_row48\" class=\"row_heading level0 row48\" >2018-08-01</th>\n",
       "                        <td id=\"T_dc081_row48_col0\" class=\"data row48 col0\" >23</td>\n",
       "            </tr>\n",
       "            <tr>\n",
       "                        <th id=\"T_dc081_level0_row49\" class=\"row_heading level0 row49\" >2018-09-01</th>\n",
       "                        <td id=\"T_dc081_row49_col0\" class=\"data row49 col0\" >28</td>\n",
       "            </tr>\n",
       "            <tr>\n",
       "                        <th id=\"T_dc081_level0_row50\" class=\"row_heading level0 row50\" >2018-10-01</th>\n",
       "                        <td id=\"T_dc081_row50_col0\" class=\"data row50 col0\" >21</td>\n",
       "            </tr>\n",
       "            <tr>\n",
       "                        <th id=\"T_dc081_level0_row51\" class=\"row_heading level0 row51\" >2018-11-01</th>\n",
       "                        <td id=\"T_dc081_row51_col0\" class=\"data row51 col0\" >35</td>\n",
       "            </tr>\n",
       "            <tr>\n",
       "                        <th id=\"T_dc081_level0_row52\" class=\"row_heading level0 row52\" >2018-12-01</th>\n",
       "                        <td id=\"T_dc081_row52_col0\" class=\"data row52 col0\" >25</td>\n",
       "            </tr>\n",
       "            <tr>\n",
       "                        <th id=\"T_dc081_level0_row53\" class=\"row_heading level0 row53\" >2019-01-01</th>\n",
       "                        <td id=\"T_dc081_row53_col0\" class=\"data row53 col0\" >28</td>\n",
       "            </tr>\n",
       "            <tr>\n",
       "                        <th id=\"T_dc081_level0_row54\" class=\"row_heading level0 row54\" >2019-02-01</th>\n",
       "                        <td id=\"T_dc081_row54_col0\" class=\"data row54 col0\" >23</td>\n",
       "            </tr>\n",
       "            <tr>\n",
       "                        <th id=\"T_dc081_level0_row55\" class=\"row_heading level0 row55\" >2019-03-01</th>\n",
       "                        <td id=\"T_dc081_row55_col0\" class=\"data row55 col0\" >28</td>\n",
       "            </tr>\n",
       "            <tr>\n",
       "                        <th id=\"T_dc081_level0_row56\" class=\"row_heading level0 row56\" >2019-04-01</th>\n",
       "                        <td id=\"T_dc081_row56_col0\" class=\"data row56 col0\" >24</td>\n",
       "            </tr>\n",
       "            <tr>\n",
       "                        <th id=\"T_dc081_level0_row57\" class=\"row_heading level0 row57\" >2019-05-01</th>\n",
       "                        <td id=\"T_dc081_row57_col0\" class=\"data row57 col0\" >23</td>\n",
       "            </tr>\n",
       "            <tr>\n",
       "                        <th id=\"T_dc081_level0_row58\" class=\"row_heading level0 row58\" >2019-06-01</th>\n",
       "                        <td id=\"T_dc081_row58_col0\" class=\"data row58 col0\" >28</td>\n",
       "            </tr>\n",
       "            <tr>\n",
       "                        <th id=\"T_dc081_level0_row59\" class=\"row_heading level0 row59\" >2019-07-01</th>\n",
       "                        <td id=\"T_dc081_row59_col0\" class=\"data row59 col0\" >25</td>\n",
       "            </tr>\n",
       "            <tr>\n",
       "                        <th id=\"T_dc081_level0_row60\" class=\"row_heading level0 row60\" >2019-08-01</th>\n",
       "                        <td id=\"T_dc081_row60_col0\" class=\"data row60 col0\" >23</td>\n",
       "            </tr>\n",
       "            <tr>\n",
       "                        <th id=\"T_dc081_level0_row61\" class=\"row_heading level0 row61\" >2019-09-01</th>\n",
       "                        <td id=\"T_dc081_row61_col0\" class=\"data row61 col0\" >32</td>\n",
       "            </tr>\n",
       "            <tr>\n",
       "                        <th id=\"T_dc081_level0_row62\" class=\"row_heading level0 row62\" >2019-10-01</th>\n",
       "                        <td id=\"T_dc081_row62_col0\" class=\"data row62 col0\" >31</td>\n",
       "            </tr>\n",
       "            <tr>\n",
       "                        <th id=\"T_dc081_level0_row63\" class=\"row_heading level0 row63\" >2019-11-01</th>\n",
       "                        <td id=\"T_dc081_row63_col0\" class=\"data row63 col0\" >30</td>\n",
       "            </tr>\n",
       "            <tr>\n",
       "                        <th id=\"T_dc081_level0_row64\" class=\"row_heading level0 row64\" >2019-12-01</th>\n",
       "                        <td id=\"T_dc081_row64_col0\" class=\"data row64 col0\" >38</td>\n",
       "            </tr>\n",
       "            <tr>\n",
       "                        <th id=\"T_dc081_level0_row65\" class=\"row_heading level0 row65\" >2020-01-01</th>\n",
       "                        <td id=\"T_dc081_row65_col0\" class=\"data row65 col0\" >39</td>\n",
       "            </tr>\n",
       "    </tbody></table>"
      ],
      "text/plain": [
       "<pandas.io.formats.style.Styler at 0x7f7ec291ca30>"
      ]
     },
     "execution_count": 13,
     "metadata": {},
     "output_type": "execute_result"
    }
   ],
   "source": [
    "data1.loc[data1['EndDateBull'] == 1].groupby('EndDate').agg({'customerID':'count'}).style.bar()"
   ]
  },
  {
   "cell_type": "markdown",
   "metadata": {},
   "source": [
    "На графике видно что массовый отток клиентов был зарегестрирован в 2018 год в ноябре - 35 человек, после чего отток клиентов уменьшился до 25 и снова увеличился в 2019 году в декабре - 39 человек и далее 40. Да на графике видно, что в последнее время клиентов уходит все больше, поэтому компания телеком и обратилась за помощью.\n",
    "\n",
    "Теперь нужно объеденить таблицы."
   ]
  },
  {
   "cell_type": "code",
   "execution_count": 14,
   "metadata": {},
   "outputs": [],
   "source": [
    "df = (data1\n",
    "    .merge(data2, on =['customerID'], how='left')\n",
    "    .merge(data3, on =['customerID'], how='left')\n",
    "    .merge(data4, on =['customerID'], how='left')\n",
    ")"
   ]
  },
  {
   "cell_type": "code",
   "execution_count": 15,
   "metadata": {},
   "outputs": [
    {
     "name": "stdout",
     "output_type": "stream",
     "text": [
      "-----------Информация о датасете-----------\n",
      "<class 'pandas.core.frame.DataFrame'>\n",
      "Int64Index: 7043 entries, 0 to 7042\n",
      "Data columns (total 21 columns):\n",
      " #   Column            Non-Null Count  Dtype  \n",
      "---  ------            --------------  -----  \n",
      " 0   customerID        7043 non-null   object \n",
      " 1   BeginDate         7043 non-null   object \n",
      " 2   EndDate           7043 non-null   object \n",
      " 3   Type              7043 non-null   object \n",
      " 4   PaperlessBilling  7043 non-null   object \n",
      " 5   PaymentMethod     7043 non-null   object \n",
      " 6   MonthlyCharges    7043 non-null   float64\n",
      " 7   TotalCharges      7043 non-null   object \n",
      " 8   EndDateBull       7043 non-null   float64\n",
      " 9   gender            7043 non-null   object \n",
      " 10  SeniorCitizen     7043 non-null   int64  \n",
      " 11  Partner           7043 non-null   object \n",
      " 12  Dependents        7043 non-null   object \n",
      " 13  InternetService   5517 non-null   object \n",
      " 14  OnlineSecurity    5517 non-null   object \n",
      " 15  OnlineBackup      5517 non-null   object \n",
      " 16  DeviceProtection  5517 non-null   object \n",
      " 17  TechSupport       5517 non-null   object \n",
      " 18  StreamingTV       5517 non-null   object \n",
      " 19  StreamingMovies   5517 non-null   object \n",
      " 20  MultipleLines     6361 non-null   object \n",
      "dtypes: float64(2), int64(1), object(18)\n",
      "memory usage: 1.2+ MB\n",
      "--------------Описание данных--------------\n",
      "       MonthlyCharges  EndDateBull  SeniorCitizen\n",
      "count     7043.000000  7043.000000    7043.000000\n",
      "mean        64.761692     0.156325       0.162147\n",
      "std         30.090047     0.363189       0.368612\n",
      "min         18.250000     0.000000       0.000000\n",
      "25%         35.500000     0.000000       0.000000\n",
      "50%         70.350000     0.000000       0.000000\n",
      "75%         89.850000     0.000000       0.000000\n",
      "max        118.750000     1.000000       1.000000\n",
      "-----------Проверка на дубликаты-----------\n",
      "0\n",
      "-----------Проверка на пропуски------------\n",
      "customerID             0\n",
      "BeginDate              0\n",
      "EndDate                0\n",
      "Type                   0\n",
      "PaperlessBilling       0\n",
      "PaymentMethod          0\n",
      "MonthlyCharges         0\n",
      "TotalCharges           0\n",
      "EndDateBull            0\n",
      "gender                 0\n",
      "SeniorCitizen          0\n",
      "Partner                0\n",
      "Dependents             0\n",
      "InternetService     1526\n",
      "OnlineSecurity      1526\n",
      "OnlineBackup        1526\n",
      "DeviceProtection    1526\n",
      "TechSupport         1526\n",
      "StreamingTV         1526\n",
      "StreamingMovies     1526\n",
      "MultipleLines        682\n",
      "dtype: int64\n",
      "----------Первые 10 строк датасета---------\n",
      "   customerID   BeginDate     EndDate            Type PaperlessBilling  \\\n",
      "0  7590-VHVEG  2020-01-01          No  Month-to-month              Yes   \n",
      "1  5575-GNVDE  2017-04-01          No        One year               No   \n",
      "2  3668-QPYBK  2019-10-01          No  Month-to-month              Yes   \n",
      "3  7795-CFOCW  2016-05-01          No        One year               No   \n",
      "4  9237-HQITU  2019-09-01          No  Month-to-month              Yes   \n",
      "5  9305-CDSKC  2019-03-01          No  Month-to-month              Yes   \n",
      "6  1452-KIOVK  2018-04-01          No  Month-to-month              Yes   \n",
      "7  6713-OKOMC  2019-04-01          No  Month-to-month               No   \n",
      "8  7892-POOKP  2017-07-01          No  Month-to-month              Yes   \n",
      "9  6388-TABGU  2014-12-01  2017-05-01        One year               No   \n",
      "\n",
      "               PaymentMethod  MonthlyCharges TotalCharges  EndDateBull  \\\n",
      "0           Electronic check           29.85        31.04          0.0   \n",
      "1               Mailed check           56.95      2071.84          0.0   \n",
      "2               Mailed check           53.85       226.17          0.0   \n",
      "3  Bank transfer (automatic)           42.30       1960.6          0.0   \n",
      "4           Electronic check           70.70        353.5          0.0   \n",
      "5           Electronic check           99.65      1150.96          0.0   \n",
      "6    Credit card (automatic)           89.10      2058.21          0.0   \n",
      "7               Mailed check           29.75       300.48          0.0   \n",
      "8           Electronic check          104.80      3573.68          0.0   \n",
      "9  Bank transfer (automatic)           56.15      1628.35          1.0   \n",
      "\n",
      "   gender  ...  Partner Dependents InternetService OnlineSecurity  \\\n",
      "0  Female  ...      Yes         No             DSL             No   \n",
      "1    Male  ...       No         No             DSL            Yes   \n",
      "2    Male  ...       No         No             DSL            Yes   \n",
      "3    Male  ...       No         No             DSL            Yes   \n",
      "4  Female  ...       No         No     Fiber optic             No   \n",
      "5  Female  ...       No         No     Fiber optic             No   \n",
      "6    Male  ...       No        Yes     Fiber optic             No   \n",
      "7  Female  ...       No         No             DSL            Yes   \n",
      "8  Female  ...      Yes         No     Fiber optic             No   \n",
      "9    Male  ...       No        Yes             DSL            Yes   \n",
      "\n",
      "  OnlineBackup DeviceProtection TechSupport StreamingTV StreamingMovies  \\\n",
      "0          Yes               No          No          No              No   \n",
      "1           No              Yes          No          No              No   \n",
      "2          Yes               No          No          No              No   \n",
      "3           No              Yes         Yes          No              No   \n",
      "4           No               No          No          No              No   \n",
      "5           No              Yes          No         Yes             Yes   \n",
      "6          Yes               No          No         Yes              No   \n",
      "7           No               No          No          No              No   \n",
      "8           No              Yes         Yes         Yes             Yes   \n",
      "9          Yes               No          No          No              No   \n",
      "\n",
      "  MultipleLines  \n",
      "0           NaN  \n",
      "1            No  \n",
      "2            No  \n",
      "3           NaN  \n",
      "4            No  \n",
      "5           Yes  \n",
      "6           Yes  \n",
      "7           NaN  \n",
      "8           Yes  \n",
      "9            No  \n",
      "\n",
      "[10 rows x 21 columns]\n"
     ]
    }
   ],
   "source": [
    "info_check(df)"
   ]
  },
  {
   "cell_type": "markdown",
   "metadata": {},
   "source": [
    "После объеденения таблиц можно заметить, что появились пропуски. Это связанно с тем, что в третьем и четвертом датасете хранилась информация не для всех пользователей. Означает что не все пользователи пользовались дополнительными услугами. Мы можем заменить пропуски NaN на значение No. Смысл не поменяется клиент не пользуется этими услугами."
   ]
  },
  {
   "cell_type": "code",
   "execution_count": 16,
   "metadata": {},
   "outputs": [],
   "source": [
    "df.fillna('No', inplace=True)"
   ]
  },
  {
   "cell_type": "code",
   "execution_count": 17,
   "metadata": {},
   "outputs": [
    {
     "data": {
      "text/plain": [
       "customerID          0\n",
       "BeginDate           0\n",
       "EndDate             0\n",
       "Type                0\n",
       "PaperlessBilling    0\n",
       "PaymentMethod       0\n",
       "MonthlyCharges      0\n",
       "TotalCharges        0\n",
       "EndDateBull         0\n",
       "gender              0\n",
       "SeniorCitizen       0\n",
       "Partner             0\n",
       "Dependents          0\n",
       "InternetService     0\n",
       "OnlineSecurity      0\n",
       "OnlineBackup        0\n",
       "DeviceProtection    0\n",
       "TechSupport         0\n",
       "StreamingTV         0\n",
       "StreamingMovies     0\n",
       "MultipleLines       0\n",
       "dtype: int64"
      ]
     },
     "execution_count": 17,
     "metadata": {},
     "output_type": "execute_result"
    }
   ],
   "source": [
    "df.isna().sum()"
   ]
  },
  {
   "cell_type": "markdown",
   "metadata": {},
   "source": [
    "После исследовательского анализа данных мы обнаружили , что более тысяч человек перестали пользоваться услугами. Большой отток клиентов был зарегестрирован в ноябре 2018 и в декабре 2019 года. Так же во время иследовательского анализа данных я объеденил все таблицы и избавился от пропусков заменив все значение доп услуг на значение No. Теперь можно приступить к обучению модели."
   ]
  },
  {
   "cell_type": "markdown",
   "metadata": {},
   "source": [
    "## Обучение Модели"
   ]
  },
  {
   "cell_type": "markdown",
   "metadata": {},
   "source": [
    "Для обучения я выбрал две модели КатБуст и СлучайныйЛес. \n",
    "1. Разделим выборки.\n",
    "2. Закодируем признаки в числовые.\n",
    "4. Обучим модели.\n",
    "5. Протестируем финальную модель на тестовой выборке"
   ]
  },
  {
   "cell_type": "markdown",
   "metadata": {},
   "source": [
    "Добавим новый признак, который считает сколько дней человек является клиентом. Для этого изменим тип данных в столбцах BeginDate и EndDate. В столбце EndDate поставим заглушку с датой выгрузки данных, чтобы посчитать дни"
   ]
  },
  {
   "cell_type": "code",
   "execution_count": 18,
   "metadata": {},
   "outputs": [
    {
     "name": "stdout",
     "output_type": "stream",
     "text": [
      "2020-02-01\n"
     ]
    }
   ],
   "source": [
    "print(max(df.BeginDate))"
   ]
  },
  {
   "cell_type": "markdown",
   "metadata": {},
   "source": [
    "Выгрузка данных закончилась 2020-02-01, заменим все значения No на дату выгрузки данных"
   ]
  },
  {
   "cell_type": "code",
   "execution_count": 19,
   "metadata": {},
   "outputs": [
    {
     "name": "stdout",
     "output_type": "stream",
     "text": [
      "<class 'pandas.core.frame.DataFrame'>\n",
      "Int64Index: 7043 entries, 0 to 7042\n",
      "Data columns (total 21 columns):\n",
      " #   Column            Non-Null Count  Dtype         \n",
      "---  ------            --------------  -----         \n",
      " 0   customerID        7043 non-null   object        \n",
      " 1   BeginDate         7043 non-null   datetime64[ns]\n",
      " 2   EndDate           7043 non-null   datetime64[ns]\n",
      " 3   Type              7043 non-null   object        \n",
      " 4   PaperlessBilling  7043 non-null   object        \n",
      " 5   PaymentMethod     7043 non-null   object        \n",
      " 6   MonthlyCharges    7043 non-null   float64       \n",
      " 7   TotalCharges      7043 non-null   object        \n",
      " 8   EndDateBull       7043 non-null   float64       \n",
      " 9   gender            7043 non-null   object        \n",
      " 10  SeniorCitizen     7043 non-null   int64         \n",
      " 11  Partner           7043 non-null   object        \n",
      " 12  Dependents        7043 non-null   object        \n",
      " 13  InternetService   7043 non-null   object        \n",
      " 14  OnlineSecurity    7043 non-null   object        \n",
      " 15  OnlineBackup      7043 non-null   object        \n",
      " 16  DeviceProtection  7043 non-null   object        \n",
      " 17  TechSupport       7043 non-null   object        \n",
      " 18  StreamingTV       7043 non-null   object        \n",
      " 19  StreamingMovies   7043 non-null   object        \n",
      " 20  MultipleLines     7043 non-null   object        \n",
      "dtypes: datetime64[ns](2), float64(2), int64(1), object(16)\n",
      "memory usage: 1.2+ MB\n"
     ]
    }
   ],
   "source": [
    "df['BeginDate'] =  df['BeginDate'].apply(pd.to_datetime)\n",
    "df.EndDate = df.EndDate.replace('No','2020-02-01')\n",
    "df['EndDate'] =  df['EndDate'].apply(pd.to_datetime)\n",
    "df.info()"
   ]
  },
  {
   "cell_type": "code",
   "execution_count": 20,
   "metadata": {},
   "outputs": [
    {
     "data": {
      "text/html": [
       "<div>\n",
       "<style scoped>\n",
       "    .dataframe tbody tr th:only-of-type {\n",
       "        vertical-align: middle;\n",
       "    }\n",
       "\n",
       "    .dataframe tbody tr th {\n",
       "        vertical-align: top;\n",
       "    }\n",
       "\n",
       "    .dataframe thead th {\n",
       "        text-align: right;\n",
       "    }\n",
       "</style>\n",
       "<table border=\"1\" class=\"dataframe\">\n",
       "  <thead>\n",
       "    <tr style=\"text-align: right;\">\n",
       "      <th></th>\n",
       "      <th>customerID</th>\n",
       "      <th>BeginDate</th>\n",
       "      <th>EndDate</th>\n",
       "      <th>Type</th>\n",
       "      <th>PaperlessBilling</th>\n",
       "      <th>PaymentMethod</th>\n",
       "      <th>MonthlyCharges</th>\n",
       "      <th>TotalCharges</th>\n",
       "      <th>EndDateBull</th>\n",
       "      <th>gender</th>\n",
       "      <th>...</th>\n",
       "      <th>Dependents</th>\n",
       "      <th>InternetService</th>\n",
       "      <th>OnlineSecurity</th>\n",
       "      <th>OnlineBackup</th>\n",
       "      <th>DeviceProtection</th>\n",
       "      <th>TechSupport</th>\n",
       "      <th>StreamingTV</th>\n",
       "      <th>StreamingMovies</th>\n",
       "      <th>MultipleLines</th>\n",
       "      <th>daycount</th>\n",
       "    </tr>\n",
       "  </thead>\n",
       "  <tbody>\n",
       "    <tr>\n",
       "      <th>0</th>\n",
       "      <td>7590-VHVEG</td>\n",
       "      <td>2020-01-01</td>\n",
       "      <td>2020-02-01</td>\n",
       "      <td>Month-to-month</td>\n",
       "      <td>Yes</td>\n",
       "      <td>Electronic check</td>\n",
       "      <td>29.85</td>\n",
       "      <td>31.04</td>\n",
       "      <td>0.0</td>\n",
       "      <td>Female</td>\n",
       "      <td>...</td>\n",
       "      <td>No</td>\n",
       "      <td>DSL</td>\n",
       "      <td>No</td>\n",
       "      <td>Yes</td>\n",
       "      <td>No</td>\n",
       "      <td>No</td>\n",
       "      <td>No</td>\n",
       "      <td>No</td>\n",
       "      <td>No</td>\n",
       "      <td>31</td>\n",
       "    </tr>\n",
       "    <tr>\n",
       "      <th>1</th>\n",
       "      <td>5575-GNVDE</td>\n",
       "      <td>2017-04-01</td>\n",
       "      <td>2020-02-01</td>\n",
       "      <td>One year</td>\n",
       "      <td>No</td>\n",
       "      <td>Mailed check</td>\n",
       "      <td>56.95</td>\n",
       "      <td>2071.84</td>\n",
       "      <td>0.0</td>\n",
       "      <td>Male</td>\n",
       "      <td>...</td>\n",
       "      <td>No</td>\n",
       "      <td>DSL</td>\n",
       "      <td>Yes</td>\n",
       "      <td>No</td>\n",
       "      <td>Yes</td>\n",
       "      <td>No</td>\n",
       "      <td>No</td>\n",
       "      <td>No</td>\n",
       "      <td>No</td>\n",
       "      <td>1036</td>\n",
       "    </tr>\n",
       "    <tr>\n",
       "      <th>2</th>\n",
       "      <td>3668-QPYBK</td>\n",
       "      <td>2019-10-01</td>\n",
       "      <td>2020-02-01</td>\n",
       "      <td>Month-to-month</td>\n",
       "      <td>Yes</td>\n",
       "      <td>Mailed check</td>\n",
       "      <td>53.85</td>\n",
       "      <td>226.17</td>\n",
       "      <td>0.0</td>\n",
       "      <td>Male</td>\n",
       "      <td>...</td>\n",
       "      <td>No</td>\n",
       "      <td>DSL</td>\n",
       "      <td>Yes</td>\n",
       "      <td>Yes</td>\n",
       "      <td>No</td>\n",
       "      <td>No</td>\n",
       "      <td>No</td>\n",
       "      <td>No</td>\n",
       "      <td>No</td>\n",
       "      <td>123</td>\n",
       "    </tr>\n",
       "    <tr>\n",
       "      <th>3</th>\n",
       "      <td>7795-CFOCW</td>\n",
       "      <td>2016-05-01</td>\n",
       "      <td>2020-02-01</td>\n",
       "      <td>One year</td>\n",
       "      <td>No</td>\n",
       "      <td>Bank transfer (automatic)</td>\n",
       "      <td>42.30</td>\n",
       "      <td>1960.6</td>\n",
       "      <td>0.0</td>\n",
       "      <td>Male</td>\n",
       "      <td>...</td>\n",
       "      <td>No</td>\n",
       "      <td>DSL</td>\n",
       "      <td>Yes</td>\n",
       "      <td>No</td>\n",
       "      <td>Yes</td>\n",
       "      <td>Yes</td>\n",
       "      <td>No</td>\n",
       "      <td>No</td>\n",
       "      <td>No</td>\n",
       "      <td>1371</td>\n",
       "    </tr>\n",
       "    <tr>\n",
       "      <th>4</th>\n",
       "      <td>9237-HQITU</td>\n",
       "      <td>2019-09-01</td>\n",
       "      <td>2020-02-01</td>\n",
       "      <td>Month-to-month</td>\n",
       "      <td>Yes</td>\n",
       "      <td>Electronic check</td>\n",
       "      <td>70.70</td>\n",
       "      <td>353.5</td>\n",
       "      <td>0.0</td>\n",
       "      <td>Female</td>\n",
       "      <td>...</td>\n",
       "      <td>No</td>\n",
       "      <td>Fiber optic</td>\n",
       "      <td>No</td>\n",
       "      <td>No</td>\n",
       "      <td>No</td>\n",
       "      <td>No</td>\n",
       "      <td>No</td>\n",
       "      <td>No</td>\n",
       "      <td>No</td>\n",
       "      <td>153</td>\n",
       "    </tr>\n",
       "    <tr>\n",
       "      <th>5</th>\n",
       "      <td>9305-CDSKC</td>\n",
       "      <td>2019-03-01</td>\n",
       "      <td>2020-02-01</td>\n",
       "      <td>Month-to-month</td>\n",
       "      <td>Yes</td>\n",
       "      <td>Electronic check</td>\n",
       "      <td>99.65</td>\n",
       "      <td>1150.96</td>\n",
       "      <td>0.0</td>\n",
       "      <td>Female</td>\n",
       "      <td>...</td>\n",
       "      <td>No</td>\n",
       "      <td>Fiber optic</td>\n",
       "      <td>No</td>\n",
       "      <td>No</td>\n",
       "      <td>Yes</td>\n",
       "      <td>No</td>\n",
       "      <td>Yes</td>\n",
       "      <td>Yes</td>\n",
       "      <td>Yes</td>\n",
       "      <td>337</td>\n",
       "    </tr>\n",
       "    <tr>\n",
       "      <th>6</th>\n",
       "      <td>1452-KIOVK</td>\n",
       "      <td>2018-04-01</td>\n",
       "      <td>2020-02-01</td>\n",
       "      <td>Month-to-month</td>\n",
       "      <td>Yes</td>\n",
       "      <td>Credit card (automatic)</td>\n",
       "      <td>89.10</td>\n",
       "      <td>2058.21</td>\n",
       "      <td>0.0</td>\n",
       "      <td>Male</td>\n",
       "      <td>...</td>\n",
       "      <td>Yes</td>\n",
       "      <td>Fiber optic</td>\n",
       "      <td>No</td>\n",
       "      <td>Yes</td>\n",
       "      <td>No</td>\n",
       "      <td>No</td>\n",
       "      <td>Yes</td>\n",
       "      <td>No</td>\n",
       "      <td>Yes</td>\n",
       "      <td>671</td>\n",
       "    </tr>\n",
       "    <tr>\n",
       "      <th>7</th>\n",
       "      <td>6713-OKOMC</td>\n",
       "      <td>2019-04-01</td>\n",
       "      <td>2020-02-01</td>\n",
       "      <td>Month-to-month</td>\n",
       "      <td>No</td>\n",
       "      <td>Mailed check</td>\n",
       "      <td>29.75</td>\n",
       "      <td>300.48</td>\n",
       "      <td>0.0</td>\n",
       "      <td>Female</td>\n",
       "      <td>...</td>\n",
       "      <td>No</td>\n",
       "      <td>DSL</td>\n",
       "      <td>Yes</td>\n",
       "      <td>No</td>\n",
       "      <td>No</td>\n",
       "      <td>No</td>\n",
       "      <td>No</td>\n",
       "      <td>No</td>\n",
       "      <td>No</td>\n",
       "      <td>306</td>\n",
       "    </tr>\n",
       "    <tr>\n",
       "      <th>8</th>\n",
       "      <td>7892-POOKP</td>\n",
       "      <td>2017-07-01</td>\n",
       "      <td>2020-02-01</td>\n",
       "      <td>Month-to-month</td>\n",
       "      <td>Yes</td>\n",
       "      <td>Electronic check</td>\n",
       "      <td>104.80</td>\n",
       "      <td>3573.68</td>\n",
       "      <td>0.0</td>\n",
       "      <td>Female</td>\n",
       "      <td>...</td>\n",
       "      <td>No</td>\n",
       "      <td>Fiber optic</td>\n",
       "      <td>No</td>\n",
       "      <td>No</td>\n",
       "      <td>Yes</td>\n",
       "      <td>Yes</td>\n",
       "      <td>Yes</td>\n",
       "      <td>Yes</td>\n",
       "      <td>Yes</td>\n",
       "      <td>945</td>\n",
       "    </tr>\n",
       "    <tr>\n",
       "      <th>9</th>\n",
       "      <td>6388-TABGU</td>\n",
       "      <td>2014-12-01</td>\n",
       "      <td>2017-05-01</td>\n",
       "      <td>One year</td>\n",
       "      <td>No</td>\n",
       "      <td>Bank transfer (automatic)</td>\n",
       "      <td>56.15</td>\n",
       "      <td>1628.35</td>\n",
       "      <td>1.0</td>\n",
       "      <td>Male</td>\n",
       "      <td>...</td>\n",
       "      <td>Yes</td>\n",
       "      <td>DSL</td>\n",
       "      <td>Yes</td>\n",
       "      <td>Yes</td>\n",
       "      <td>No</td>\n",
       "      <td>No</td>\n",
       "      <td>No</td>\n",
       "      <td>No</td>\n",
       "      <td>No</td>\n",
       "      <td>882</td>\n",
       "    </tr>\n",
       "  </tbody>\n",
       "</table>\n",
       "<p>10 rows × 22 columns</p>\n",
       "</div>"
      ],
      "text/plain": [
       "   customerID  BeginDate    EndDate            Type PaperlessBilling  \\\n",
       "0  7590-VHVEG 2020-01-01 2020-02-01  Month-to-month              Yes   \n",
       "1  5575-GNVDE 2017-04-01 2020-02-01        One year               No   \n",
       "2  3668-QPYBK 2019-10-01 2020-02-01  Month-to-month              Yes   \n",
       "3  7795-CFOCW 2016-05-01 2020-02-01        One year               No   \n",
       "4  9237-HQITU 2019-09-01 2020-02-01  Month-to-month              Yes   \n",
       "5  9305-CDSKC 2019-03-01 2020-02-01  Month-to-month              Yes   \n",
       "6  1452-KIOVK 2018-04-01 2020-02-01  Month-to-month              Yes   \n",
       "7  6713-OKOMC 2019-04-01 2020-02-01  Month-to-month               No   \n",
       "8  7892-POOKP 2017-07-01 2020-02-01  Month-to-month              Yes   \n",
       "9  6388-TABGU 2014-12-01 2017-05-01        One year               No   \n",
       "\n",
       "               PaymentMethod  MonthlyCharges TotalCharges  EndDateBull  \\\n",
       "0           Electronic check           29.85        31.04          0.0   \n",
       "1               Mailed check           56.95      2071.84          0.0   \n",
       "2               Mailed check           53.85       226.17          0.0   \n",
       "3  Bank transfer (automatic)           42.30       1960.6          0.0   \n",
       "4           Electronic check           70.70        353.5          0.0   \n",
       "5           Electronic check           99.65      1150.96          0.0   \n",
       "6    Credit card (automatic)           89.10      2058.21          0.0   \n",
       "7               Mailed check           29.75       300.48          0.0   \n",
       "8           Electronic check          104.80      3573.68          0.0   \n",
       "9  Bank transfer (automatic)           56.15      1628.35          1.0   \n",
       "\n",
       "   gender  ...  Dependents InternetService OnlineSecurity OnlineBackup  \\\n",
       "0  Female  ...          No             DSL             No          Yes   \n",
       "1    Male  ...          No             DSL            Yes           No   \n",
       "2    Male  ...          No             DSL            Yes          Yes   \n",
       "3    Male  ...          No             DSL            Yes           No   \n",
       "4  Female  ...          No     Fiber optic             No           No   \n",
       "5  Female  ...          No     Fiber optic             No           No   \n",
       "6    Male  ...         Yes     Fiber optic             No          Yes   \n",
       "7  Female  ...          No             DSL            Yes           No   \n",
       "8  Female  ...          No     Fiber optic             No           No   \n",
       "9    Male  ...         Yes             DSL            Yes          Yes   \n",
       "\n",
       "  DeviceProtection TechSupport StreamingTV StreamingMovies MultipleLines  \\\n",
       "0               No          No          No              No            No   \n",
       "1              Yes          No          No              No            No   \n",
       "2               No          No          No              No            No   \n",
       "3              Yes         Yes          No              No            No   \n",
       "4               No          No          No              No            No   \n",
       "5              Yes          No         Yes             Yes           Yes   \n",
       "6               No          No         Yes              No           Yes   \n",
       "7               No          No          No              No            No   \n",
       "8              Yes         Yes         Yes             Yes           Yes   \n",
       "9               No          No          No              No            No   \n",
       "\n",
       "  daycount  \n",
       "0       31  \n",
       "1     1036  \n",
       "2      123  \n",
       "3     1371  \n",
       "4      153  \n",
       "5      337  \n",
       "6      671  \n",
       "7      306  \n",
       "8      945  \n",
       "9      882  \n",
       "\n",
       "[10 rows x 22 columns]"
      ]
     },
     "execution_count": 20,
     "metadata": {},
     "output_type": "execute_result"
    }
   ],
   "source": [
    "df['daycount'] = (df['EndDate'] - df['BeginDate']).dt.days\n",
    "df.head(10)\n"
   ]
  },
  {
   "cell_type": "code",
   "execution_count": 21,
   "metadata": {},
   "outputs": [
    {
     "name": "stdout",
     "output_type": "stream",
     "text": [
      "<class 'pandas.core.frame.DataFrame'>\n",
      "Int64Index: 7043 entries, 0 to 7042\n",
      "Data columns (total 19 columns):\n",
      " #   Column            Non-Null Count  Dtype  \n",
      "---  ------            --------------  -----  \n",
      " 0   Type              7043 non-null   object \n",
      " 1   PaperlessBilling  7043 non-null   object \n",
      " 2   PaymentMethod     7043 non-null   object \n",
      " 3   MonthlyCharges    7043 non-null   float64\n",
      " 4   TotalCharges      7043 non-null   object \n",
      " 5   EndDateBull       7043 non-null   float64\n",
      " 6   gender            7043 non-null   object \n",
      " 7   SeniorCitizen     7043 non-null   int64  \n",
      " 8   Partner           7043 non-null   object \n",
      " 9   Dependents        7043 non-null   object \n",
      " 10  InternetService   7043 non-null   object \n",
      " 11  OnlineSecurity    7043 non-null   object \n",
      " 12  OnlineBackup      7043 non-null   object \n",
      " 13  DeviceProtection  7043 non-null   object \n",
      " 14  TechSupport       7043 non-null   object \n",
      " 15  StreamingTV       7043 non-null   object \n",
      " 16  StreamingMovies   7043 non-null   object \n",
      " 17  MultipleLines     7043 non-null   object \n",
      " 18  daycount          7043 non-null   int64  \n",
      "dtypes: float64(2), int64(2), object(15)\n",
      "memory usage: 1.1+ MB\n"
     ]
    }
   ],
   "source": [
    "# Избавимся от ненужных признаков, которые будут мешать в машинном обучении.\n",
    "final_df = df.drop(columns=['customerID', 'BeginDate', 'EndDate'], axis=1)\n",
    "final_df.info()"
   ]
  },
  {
   "cell_type": "code",
   "execution_count": 22,
   "metadata": {},
   "outputs": [
    {
     "data": {
      "text/html": [
       "<div>\n",
       "<style scoped>\n",
       "    .dataframe tbody tr th:only-of-type {\n",
       "        vertical-align: middle;\n",
       "    }\n",
       "\n",
       "    .dataframe tbody tr th {\n",
       "        vertical-align: top;\n",
       "    }\n",
       "\n",
       "    .dataframe thead th {\n",
       "        text-align: right;\n",
       "    }\n",
       "</style>\n",
       "<table border=\"1\" class=\"dataframe\">\n",
       "  <thead>\n",
       "    <tr style=\"text-align: right;\">\n",
       "      <th></th>\n",
       "      <th>Type</th>\n",
       "      <th>PaperlessBilling</th>\n",
       "      <th>PaymentMethod</th>\n",
       "      <th>MonthlyCharges</th>\n",
       "      <th>TotalCharges</th>\n",
       "      <th>EndDateBull</th>\n",
       "      <th>gender</th>\n",
       "      <th>SeniorCitizen</th>\n",
       "      <th>Partner</th>\n",
       "      <th>Dependents</th>\n",
       "      <th>InternetService</th>\n",
       "      <th>OnlineSecurity</th>\n",
       "      <th>OnlineBackup</th>\n",
       "      <th>DeviceProtection</th>\n",
       "      <th>TechSupport</th>\n",
       "      <th>StreamingTV</th>\n",
       "      <th>StreamingMovies</th>\n",
       "      <th>MultipleLines</th>\n",
       "      <th>daycount</th>\n",
       "    </tr>\n",
       "  </thead>\n",
       "  <tbody>\n",
       "    <tr>\n",
       "      <th>488</th>\n",
       "      <td>Two year</td>\n",
       "      <td>Yes</td>\n",
       "      <td>Bank transfer (automatic)</td>\n",
       "      <td>52.55</td>\n",
       "      <td></td>\n",
       "      <td>0.0</td>\n",
       "      <td>Female</td>\n",
       "      <td>0</td>\n",
       "      <td>Yes</td>\n",
       "      <td>Yes</td>\n",
       "      <td>DSL</td>\n",
       "      <td>Yes</td>\n",
       "      <td>No</td>\n",
       "      <td>Yes</td>\n",
       "      <td>Yes</td>\n",
       "      <td>Yes</td>\n",
       "      <td>No</td>\n",
       "      <td>No</td>\n",
       "      <td>0</td>\n",
       "    </tr>\n",
       "    <tr>\n",
       "      <th>753</th>\n",
       "      <td>Two year</td>\n",
       "      <td>No</td>\n",
       "      <td>Mailed check</td>\n",
       "      <td>20.25</td>\n",
       "      <td></td>\n",
       "      <td>0.0</td>\n",
       "      <td>Male</td>\n",
       "      <td>0</td>\n",
       "      <td>No</td>\n",
       "      <td>Yes</td>\n",
       "      <td>No</td>\n",
       "      <td>No</td>\n",
       "      <td>No</td>\n",
       "      <td>No</td>\n",
       "      <td>No</td>\n",
       "      <td>No</td>\n",
       "      <td>No</td>\n",
       "      <td>No</td>\n",
       "      <td>0</td>\n",
       "    </tr>\n",
       "    <tr>\n",
       "      <th>936</th>\n",
       "      <td>Two year</td>\n",
       "      <td>No</td>\n",
       "      <td>Mailed check</td>\n",
       "      <td>80.85</td>\n",
       "      <td></td>\n",
       "      <td>0.0</td>\n",
       "      <td>Female</td>\n",
       "      <td>0</td>\n",
       "      <td>Yes</td>\n",
       "      <td>Yes</td>\n",
       "      <td>DSL</td>\n",
       "      <td>Yes</td>\n",
       "      <td>Yes</td>\n",
       "      <td>Yes</td>\n",
       "      <td>No</td>\n",
       "      <td>Yes</td>\n",
       "      <td>Yes</td>\n",
       "      <td>No</td>\n",
       "      <td>0</td>\n",
       "    </tr>\n",
       "    <tr>\n",
       "      <th>1082</th>\n",
       "      <td>Two year</td>\n",
       "      <td>No</td>\n",
       "      <td>Mailed check</td>\n",
       "      <td>25.75</td>\n",
       "      <td></td>\n",
       "      <td>0.0</td>\n",
       "      <td>Male</td>\n",
       "      <td>0</td>\n",
       "      <td>Yes</td>\n",
       "      <td>Yes</td>\n",
       "      <td>No</td>\n",
       "      <td>No</td>\n",
       "      <td>No</td>\n",
       "      <td>No</td>\n",
       "      <td>No</td>\n",
       "      <td>No</td>\n",
       "      <td>No</td>\n",
       "      <td>Yes</td>\n",
       "      <td>0</td>\n",
       "    </tr>\n",
       "    <tr>\n",
       "      <th>1340</th>\n",
       "      <td>Two year</td>\n",
       "      <td>No</td>\n",
       "      <td>Credit card (automatic)</td>\n",
       "      <td>56.05</td>\n",
       "      <td></td>\n",
       "      <td>0.0</td>\n",
       "      <td>Female</td>\n",
       "      <td>0</td>\n",
       "      <td>Yes</td>\n",
       "      <td>Yes</td>\n",
       "      <td>DSL</td>\n",
       "      <td>Yes</td>\n",
       "      <td>Yes</td>\n",
       "      <td>Yes</td>\n",
       "      <td>Yes</td>\n",
       "      <td>Yes</td>\n",
       "      <td>No</td>\n",
       "      <td>No</td>\n",
       "      <td>0</td>\n",
       "    </tr>\n",
       "    <tr>\n",
       "      <th>3331</th>\n",
       "      <td>Two year</td>\n",
       "      <td>No</td>\n",
       "      <td>Mailed check</td>\n",
       "      <td>19.85</td>\n",
       "      <td></td>\n",
       "      <td>0.0</td>\n",
       "      <td>Male</td>\n",
       "      <td>0</td>\n",
       "      <td>Yes</td>\n",
       "      <td>Yes</td>\n",
       "      <td>No</td>\n",
       "      <td>No</td>\n",
       "      <td>No</td>\n",
       "      <td>No</td>\n",
       "      <td>No</td>\n",
       "      <td>No</td>\n",
       "      <td>No</td>\n",
       "      <td>No</td>\n",
       "      <td>0</td>\n",
       "    </tr>\n",
       "    <tr>\n",
       "      <th>3826</th>\n",
       "      <td>Two year</td>\n",
       "      <td>No</td>\n",
       "      <td>Mailed check</td>\n",
       "      <td>25.35</td>\n",
       "      <td></td>\n",
       "      <td>0.0</td>\n",
       "      <td>Male</td>\n",
       "      <td>0</td>\n",
       "      <td>Yes</td>\n",
       "      <td>Yes</td>\n",
       "      <td>No</td>\n",
       "      <td>No</td>\n",
       "      <td>No</td>\n",
       "      <td>No</td>\n",
       "      <td>No</td>\n",
       "      <td>No</td>\n",
       "      <td>No</td>\n",
       "      <td>Yes</td>\n",
       "      <td>0</td>\n",
       "    </tr>\n",
       "    <tr>\n",
       "      <th>4380</th>\n",
       "      <td>Two year</td>\n",
       "      <td>No</td>\n",
       "      <td>Mailed check</td>\n",
       "      <td>20.00</td>\n",
       "      <td></td>\n",
       "      <td>0.0</td>\n",
       "      <td>Female</td>\n",
       "      <td>0</td>\n",
       "      <td>Yes</td>\n",
       "      <td>Yes</td>\n",
       "      <td>No</td>\n",
       "      <td>No</td>\n",
       "      <td>No</td>\n",
       "      <td>No</td>\n",
       "      <td>No</td>\n",
       "      <td>No</td>\n",
       "      <td>No</td>\n",
       "      <td>No</td>\n",
       "      <td>0</td>\n",
       "    </tr>\n",
       "    <tr>\n",
       "      <th>5218</th>\n",
       "      <td>One year</td>\n",
       "      <td>Yes</td>\n",
       "      <td>Mailed check</td>\n",
       "      <td>19.70</td>\n",
       "      <td></td>\n",
       "      <td>0.0</td>\n",
       "      <td>Male</td>\n",
       "      <td>0</td>\n",
       "      <td>Yes</td>\n",
       "      <td>Yes</td>\n",
       "      <td>No</td>\n",
       "      <td>No</td>\n",
       "      <td>No</td>\n",
       "      <td>No</td>\n",
       "      <td>No</td>\n",
       "      <td>No</td>\n",
       "      <td>No</td>\n",
       "      <td>No</td>\n",
       "      <td>0</td>\n",
       "    </tr>\n",
       "    <tr>\n",
       "      <th>6670</th>\n",
       "      <td>Two year</td>\n",
       "      <td>No</td>\n",
       "      <td>Mailed check</td>\n",
       "      <td>73.35</td>\n",
       "      <td></td>\n",
       "      <td>0.0</td>\n",
       "      <td>Female</td>\n",
       "      <td>0</td>\n",
       "      <td>Yes</td>\n",
       "      <td>Yes</td>\n",
       "      <td>DSL</td>\n",
       "      <td>No</td>\n",
       "      <td>Yes</td>\n",
       "      <td>Yes</td>\n",
       "      <td>Yes</td>\n",
       "      <td>Yes</td>\n",
       "      <td>No</td>\n",
       "      <td>Yes</td>\n",
       "      <td>0</td>\n",
       "    </tr>\n",
       "    <tr>\n",
       "      <th>6754</th>\n",
       "      <td>Two year</td>\n",
       "      <td>Yes</td>\n",
       "      <td>Bank transfer (automatic)</td>\n",
       "      <td>61.90</td>\n",
       "      <td></td>\n",
       "      <td>0.0</td>\n",
       "      <td>Male</td>\n",
       "      <td>0</td>\n",
       "      <td>No</td>\n",
       "      <td>Yes</td>\n",
       "      <td>DSL</td>\n",
       "      <td>Yes</td>\n",
       "      <td>Yes</td>\n",
       "      <td>No</td>\n",
       "      <td>Yes</td>\n",
       "      <td>No</td>\n",
       "      <td>No</td>\n",
       "      <td>Yes</td>\n",
       "      <td>0</td>\n",
       "    </tr>\n",
       "  </tbody>\n",
       "</table>\n",
       "</div>"
      ],
      "text/plain": [
       "          Type PaperlessBilling              PaymentMethod  MonthlyCharges  \\\n",
       "488   Two year              Yes  Bank transfer (automatic)           52.55   \n",
       "753   Two year               No               Mailed check           20.25   \n",
       "936   Two year               No               Mailed check           80.85   \n",
       "1082  Two year               No               Mailed check           25.75   \n",
       "1340  Two year               No    Credit card (automatic)           56.05   \n",
       "3331  Two year               No               Mailed check           19.85   \n",
       "3826  Two year               No               Mailed check           25.35   \n",
       "4380  Two year               No               Mailed check           20.00   \n",
       "5218  One year              Yes               Mailed check           19.70   \n",
       "6670  Two year               No               Mailed check           73.35   \n",
       "6754  Two year              Yes  Bank transfer (automatic)           61.90   \n",
       "\n",
       "     TotalCharges  EndDateBull  gender  SeniorCitizen Partner Dependents  \\\n",
       "488                        0.0  Female              0     Yes        Yes   \n",
       "753                        0.0    Male              0      No        Yes   \n",
       "936                        0.0  Female              0     Yes        Yes   \n",
       "1082                       0.0    Male              0     Yes        Yes   \n",
       "1340                       0.0  Female              0     Yes        Yes   \n",
       "3331                       0.0    Male              0     Yes        Yes   \n",
       "3826                       0.0    Male              0     Yes        Yes   \n",
       "4380                       0.0  Female              0     Yes        Yes   \n",
       "5218                       0.0    Male              0     Yes        Yes   \n",
       "6670                       0.0  Female              0     Yes        Yes   \n",
       "6754                       0.0    Male              0      No        Yes   \n",
       "\n",
       "     InternetService OnlineSecurity OnlineBackup DeviceProtection TechSupport  \\\n",
       "488              DSL            Yes           No              Yes         Yes   \n",
       "753               No             No           No               No          No   \n",
       "936              DSL            Yes          Yes              Yes          No   \n",
       "1082              No             No           No               No          No   \n",
       "1340             DSL            Yes          Yes              Yes         Yes   \n",
       "3331              No             No           No               No          No   \n",
       "3826              No             No           No               No          No   \n",
       "4380              No             No           No               No          No   \n",
       "5218              No             No           No               No          No   \n",
       "6670             DSL             No          Yes              Yes         Yes   \n",
       "6754             DSL            Yes          Yes               No         Yes   \n",
       "\n",
       "     StreamingTV StreamingMovies MultipleLines  daycount  \n",
       "488          Yes              No            No         0  \n",
       "753           No              No            No         0  \n",
       "936          Yes             Yes            No         0  \n",
       "1082          No              No           Yes         0  \n",
       "1340         Yes              No            No         0  \n",
       "3331          No              No            No         0  \n",
       "3826          No              No           Yes         0  \n",
       "4380          No              No            No         0  \n",
       "5218          No              No            No         0  \n",
       "6670         Yes              No           Yes         0  \n",
       "6754          No              No           Yes         0  "
      ]
     },
     "execution_count": 22,
     "metadata": {},
     "output_type": "execute_result"
    }
   ],
   "source": [
    "final_df[final_df['TotalCharges'] == ' ']"
   ]
  },
  {
   "cell_type": "markdown",
   "metadata": {},
   "source": [
    "В стоблце TotalCharges мы видим пропуски, и у всех одна и таже дата - это дата выгрузки данных. Заменим значения на 0."
   ]
  },
  {
   "cell_type": "code",
   "execution_count": 23,
   "metadata": {},
   "outputs": [],
   "source": [
    "final_df.loc[final_df['TotalCharges'] == ' ', 'TotalCharges'] = 0"
   ]
  },
  {
   "cell_type": "code",
   "execution_count": 24,
   "metadata": {},
   "outputs": [
    {
     "data": {
      "text/html": [
       "<div>\n",
       "<style scoped>\n",
       "    .dataframe tbody tr th:only-of-type {\n",
       "        vertical-align: middle;\n",
       "    }\n",
       "\n",
       "    .dataframe tbody tr th {\n",
       "        vertical-align: top;\n",
       "    }\n",
       "\n",
       "    .dataframe thead th {\n",
       "        text-align: right;\n",
       "    }\n",
       "</style>\n",
       "<table border=\"1\" class=\"dataframe\">\n",
       "  <thead>\n",
       "    <tr style=\"text-align: right;\">\n",
       "      <th></th>\n",
       "      <th>Type</th>\n",
       "      <th>PaperlessBilling</th>\n",
       "      <th>PaymentMethod</th>\n",
       "      <th>MonthlyCharges</th>\n",
       "      <th>TotalCharges</th>\n",
       "      <th>EndDateBull</th>\n",
       "      <th>gender</th>\n",
       "      <th>SeniorCitizen</th>\n",
       "      <th>Partner</th>\n",
       "      <th>Dependents</th>\n",
       "      <th>InternetService</th>\n",
       "      <th>OnlineSecurity</th>\n",
       "      <th>OnlineBackup</th>\n",
       "      <th>DeviceProtection</th>\n",
       "      <th>TechSupport</th>\n",
       "      <th>StreamingTV</th>\n",
       "      <th>StreamingMovies</th>\n",
       "      <th>MultipleLines</th>\n",
       "      <th>daycount</th>\n",
       "    </tr>\n",
       "  </thead>\n",
       "  <tbody>\n",
       "    <tr>\n",
       "      <th>488</th>\n",
       "      <td>Two year</td>\n",
       "      <td>Yes</td>\n",
       "      <td>Bank transfer (automatic)</td>\n",
       "      <td>52.55</td>\n",
       "      <td>0</td>\n",
       "      <td>0.0</td>\n",
       "      <td>Female</td>\n",
       "      <td>0</td>\n",
       "      <td>Yes</td>\n",
       "      <td>Yes</td>\n",
       "      <td>DSL</td>\n",
       "      <td>Yes</td>\n",
       "      <td>No</td>\n",
       "      <td>Yes</td>\n",
       "      <td>Yes</td>\n",
       "      <td>Yes</td>\n",
       "      <td>No</td>\n",
       "      <td>No</td>\n",
       "      <td>0</td>\n",
       "    </tr>\n",
       "    <tr>\n",
       "      <th>753</th>\n",
       "      <td>Two year</td>\n",
       "      <td>No</td>\n",
       "      <td>Mailed check</td>\n",
       "      <td>20.25</td>\n",
       "      <td>0</td>\n",
       "      <td>0.0</td>\n",
       "      <td>Male</td>\n",
       "      <td>0</td>\n",
       "      <td>No</td>\n",
       "      <td>Yes</td>\n",
       "      <td>No</td>\n",
       "      <td>No</td>\n",
       "      <td>No</td>\n",
       "      <td>No</td>\n",
       "      <td>No</td>\n",
       "      <td>No</td>\n",
       "      <td>No</td>\n",
       "      <td>No</td>\n",
       "      <td>0</td>\n",
       "    </tr>\n",
       "    <tr>\n",
       "      <th>936</th>\n",
       "      <td>Two year</td>\n",
       "      <td>No</td>\n",
       "      <td>Mailed check</td>\n",
       "      <td>80.85</td>\n",
       "      <td>0</td>\n",
       "      <td>0.0</td>\n",
       "      <td>Female</td>\n",
       "      <td>0</td>\n",
       "      <td>Yes</td>\n",
       "      <td>Yes</td>\n",
       "      <td>DSL</td>\n",
       "      <td>Yes</td>\n",
       "      <td>Yes</td>\n",
       "      <td>Yes</td>\n",
       "      <td>No</td>\n",
       "      <td>Yes</td>\n",
       "      <td>Yes</td>\n",
       "      <td>No</td>\n",
       "      <td>0</td>\n",
       "    </tr>\n",
       "    <tr>\n",
       "      <th>1082</th>\n",
       "      <td>Two year</td>\n",
       "      <td>No</td>\n",
       "      <td>Mailed check</td>\n",
       "      <td>25.75</td>\n",
       "      <td>0</td>\n",
       "      <td>0.0</td>\n",
       "      <td>Male</td>\n",
       "      <td>0</td>\n",
       "      <td>Yes</td>\n",
       "      <td>Yes</td>\n",
       "      <td>No</td>\n",
       "      <td>No</td>\n",
       "      <td>No</td>\n",
       "      <td>No</td>\n",
       "      <td>No</td>\n",
       "      <td>No</td>\n",
       "      <td>No</td>\n",
       "      <td>Yes</td>\n",
       "      <td>0</td>\n",
       "    </tr>\n",
       "    <tr>\n",
       "      <th>1340</th>\n",
       "      <td>Two year</td>\n",
       "      <td>No</td>\n",
       "      <td>Credit card (automatic)</td>\n",
       "      <td>56.05</td>\n",
       "      <td>0</td>\n",
       "      <td>0.0</td>\n",
       "      <td>Female</td>\n",
       "      <td>0</td>\n",
       "      <td>Yes</td>\n",
       "      <td>Yes</td>\n",
       "      <td>DSL</td>\n",
       "      <td>Yes</td>\n",
       "      <td>Yes</td>\n",
       "      <td>Yes</td>\n",
       "      <td>Yes</td>\n",
       "      <td>Yes</td>\n",
       "      <td>No</td>\n",
       "      <td>No</td>\n",
       "      <td>0</td>\n",
       "    </tr>\n",
       "    <tr>\n",
       "      <th>3331</th>\n",
       "      <td>Two year</td>\n",
       "      <td>No</td>\n",
       "      <td>Mailed check</td>\n",
       "      <td>19.85</td>\n",
       "      <td>0</td>\n",
       "      <td>0.0</td>\n",
       "      <td>Male</td>\n",
       "      <td>0</td>\n",
       "      <td>Yes</td>\n",
       "      <td>Yes</td>\n",
       "      <td>No</td>\n",
       "      <td>No</td>\n",
       "      <td>No</td>\n",
       "      <td>No</td>\n",
       "      <td>No</td>\n",
       "      <td>No</td>\n",
       "      <td>No</td>\n",
       "      <td>No</td>\n",
       "      <td>0</td>\n",
       "    </tr>\n",
       "    <tr>\n",
       "      <th>3826</th>\n",
       "      <td>Two year</td>\n",
       "      <td>No</td>\n",
       "      <td>Mailed check</td>\n",
       "      <td>25.35</td>\n",
       "      <td>0</td>\n",
       "      <td>0.0</td>\n",
       "      <td>Male</td>\n",
       "      <td>0</td>\n",
       "      <td>Yes</td>\n",
       "      <td>Yes</td>\n",
       "      <td>No</td>\n",
       "      <td>No</td>\n",
       "      <td>No</td>\n",
       "      <td>No</td>\n",
       "      <td>No</td>\n",
       "      <td>No</td>\n",
       "      <td>No</td>\n",
       "      <td>Yes</td>\n",
       "      <td>0</td>\n",
       "    </tr>\n",
       "    <tr>\n",
       "      <th>4380</th>\n",
       "      <td>Two year</td>\n",
       "      <td>No</td>\n",
       "      <td>Mailed check</td>\n",
       "      <td>20.00</td>\n",
       "      <td>0</td>\n",
       "      <td>0.0</td>\n",
       "      <td>Female</td>\n",
       "      <td>0</td>\n",
       "      <td>Yes</td>\n",
       "      <td>Yes</td>\n",
       "      <td>No</td>\n",
       "      <td>No</td>\n",
       "      <td>No</td>\n",
       "      <td>No</td>\n",
       "      <td>No</td>\n",
       "      <td>No</td>\n",
       "      <td>No</td>\n",
       "      <td>No</td>\n",
       "      <td>0</td>\n",
       "    </tr>\n",
       "    <tr>\n",
       "      <th>5218</th>\n",
       "      <td>One year</td>\n",
       "      <td>Yes</td>\n",
       "      <td>Mailed check</td>\n",
       "      <td>19.70</td>\n",
       "      <td>0</td>\n",
       "      <td>0.0</td>\n",
       "      <td>Male</td>\n",
       "      <td>0</td>\n",
       "      <td>Yes</td>\n",
       "      <td>Yes</td>\n",
       "      <td>No</td>\n",
       "      <td>No</td>\n",
       "      <td>No</td>\n",
       "      <td>No</td>\n",
       "      <td>No</td>\n",
       "      <td>No</td>\n",
       "      <td>No</td>\n",
       "      <td>No</td>\n",
       "      <td>0</td>\n",
       "    </tr>\n",
       "    <tr>\n",
       "      <th>6670</th>\n",
       "      <td>Two year</td>\n",
       "      <td>No</td>\n",
       "      <td>Mailed check</td>\n",
       "      <td>73.35</td>\n",
       "      <td>0</td>\n",
       "      <td>0.0</td>\n",
       "      <td>Female</td>\n",
       "      <td>0</td>\n",
       "      <td>Yes</td>\n",
       "      <td>Yes</td>\n",
       "      <td>DSL</td>\n",
       "      <td>No</td>\n",
       "      <td>Yes</td>\n",
       "      <td>Yes</td>\n",
       "      <td>Yes</td>\n",
       "      <td>Yes</td>\n",
       "      <td>No</td>\n",
       "      <td>Yes</td>\n",
       "      <td>0</td>\n",
       "    </tr>\n",
       "    <tr>\n",
       "      <th>6754</th>\n",
       "      <td>Two year</td>\n",
       "      <td>Yes</td>\n",
       "      <td>Bank transfer (automatic)</td>\n",
       "      <td>61.90</td>\n",
       "      <td>0</td>\n",
       "      <td>0.0</td>\n",
       "      <td>Male</td>\n",
       "      <td>0</td>\n",
       "      <td>No</td>\n",
       "      <td>Yes</td>\n",
       "      <td>DSL</td>\n",
       "      <td>Yes</td>\n",
       "      <td>Yes</td>\n",
       "      <td>No</td>\n",
       "      <td>Yes</td>\n",
       "      <td>No</td>\n",
       "      <td>No</td>\n",
       "      <td>Yes</td>\n",
       "      <td>0</td>\n",
       "    </tr>\n",
       "  </tbody>\n",
       "</table>\n",
       "</div>"
      ],
      "text/plain": [
       "          Type PaperlessBilling              PaymentMethod  MonthlyCharges  \\\n",
       "488   Two year              Yes  Bank transfer (automatic)           52.55   \n",
       "753   Two year               No               Mailed check           20.25   \n",
       "936   Two year               No               Mailed check           80.85   \n",
       "1082  Two year               No               Mailed check           25.75   \n",
       "1340  Two year               No    Credit card (automatic)           56.05   \n",
       "3331  Two year               No               Mailed check           19.85   \n",
       "3826  Two year               No               Mailed check           25.35   \n",
       "4380  Two year               No               Mailed check           20.00   \n",
       "5218  One year              Yes               Mailed check           19.70   \n",
       "6670  Two year               No               Mailed check           73.35   \n",
       "6754  Two year              Yes  Bank transfer (automatic)           61.90   \n",
       "\n",
       "     TotalCharges  EndDateBull  gender  SeniorCitizen Partner Dependents  \\\n",
       "488             0          0.0  Female              0     Yes        Yes   \n",
       "753             0          0.0    Male              0      No        Yes   \n",
       "936             0          0.0  Female              0     Yes        Yes   \n",
       "1082            0          0.0    Male              0     Yes        Yes   \n",
       "1340            0          0.0  Female              0     Yes        Yes   \n",
       "3331            0          0.0    Male              0     Yes        Yes   \n",
       "3826            0          0.0    Male              0     Yes        Yes   \n",
       "4380            0          0.0  Female              0     Yes        Yes   \n",
       "5218            0          0.0    Male              0     Yes        Yes   \n",
       "6670            0          0.0  Female              0     Yes        Yes   \n",
       "6754            0          0.0    Male              0      No        Yes   \n",
       "\n",
       "     InternetService OnlineSecurity OnlineBackup DeviceProtection TechSupport  \\\n",
       "488              DSL            Yes           No              Yes         Yes   \n",
       "753               No             No           No               No          No   \n",
       "936              DSL            Yes          Yes              Yes          No   \n",
       "1082              No             No           No               No          No   \n",
       "1340             DSL            Yes          Yes              Yes         Yes   \n",
       "3331              No             No           No               No          No   \n",
       "3826              No             No           No               No          No   \n",
       "4380              No             No           No               No          No   \n",
       "5218              No             No           No               No          No   \n",
       "6670             DSL             No          Yes              Yes         Yes   \n",
       "6754             DSL            Yes          Yes               No         Yes   \n",
       "\n",
       "     StreamingTV StreamingMovies MultipleLines  daycount  \n",
       "488          Yes              No            No         0  \n",
       "753           No              No            No         0  \n",
       "936          Yes             Yes            No         0  \n",
       "1082          No              No           Yes         0  \n",
       "1340         Yes              No            No         0  \n",
       "3331          No              No            No         0  \n",
       "3826          No              No           Yes         0  \n",
       "4380          No              No            No         0  \n",
       "5218          No              No            No         0  \n",
       "6670         Yes              No           Yes         0  \n",
       "6754          No              No           Yes         0  "
      ]
     },
     "execution_count": 24,
     "metadata": {},
     "output_type": "execute_result"
    }
   ],
   "source": [
    "final_df[final_df['TotalCharges'] == 0]"
   ]
  },
  {
   "cell_type": "code",
   "execution_count": 25,
   "metadata": {},
   "outputs": [],
   "source": [
    "final_df['TotalCharges'] = final_df['TotalCharges'].astype('float')"
   ]
  },
  {
   "cell_type": "code",
   "execution_count": 26,
   "metadata": {},
   "outputs": [
    {
     "name": "stdout",
     "output_type": "stream",
     "text": [
      "<class 'pandas.core.frame.DataFrame'>\n",
      "Int64Index: 7043 entries, 0 to 7042\n",
      "Data columns (total 19 columns):\n",
      " #   Column            Non-Null Count  Dtype  \n",
      "---  ------            --------------  -----  \n",
      " 0   Type              7043 non-null   object \n",
      " 1   PaperlessBilling  7043 non-null   object \n",
      " 2   PaymentMethod     7043 non-null   object \n",
      " 3   MonthlyCharges    7043 non-null   float64\n",
      " 4   TotalCharges      7043 non-null   float64\n",
      " 5   EndDateBull       7043 non-null   float64\n",
      " 6   gender            7043 non-null   object \n",
      " 7   SeniorCitizen     7043 non-null   int64  \n",
      " 8   Partner           7043 non-null   object \n",
      " 9   Dependents        7043 non-null   object \n",
      " 10  InternetService   7043 non-null   object \n",
      " 11  OnlineSecurity    7043 non-null   object \n",
      " 12  OnlineBackup      7043 non-null   object \n",
      " 13  DeviceProtection  7043 non-null   object \n",
      " 14  TechSupport       7043 non-null   object \n",
      " 15  StreamingTV       7043 non-null   object \n",
      " 16  StreamingMovies   7043 non-null   object \n",
      " 17  MultipleLines     7043 non-null   object \n",
      " 18  daycount          7043 non-null   int64  \n",
      "dtypes: float64(3), int64(2), object(14)\n",
      "memory usage: 1.1+ MB\n"
     ]
    }
   ],
   "source": [
    "final_df.info()"
   ]
  },
  {
   "cell_type": "code",
   "execution_count": 27,
   "metadata": {},
   "outputs": [
    {
     "data": {
      "text/html": [
       "<div>\n",
       "<style scoped>\n",
       "    .dataframe tbody tr th:only-of-type {\n",
       "        vertical-align: middle;\n",
       "    }\n",
       "\n",
       "    .dataframe tbody tr th {\n",
       "        vertical-align: top;\n",
       "    }\n",
       "\n",
       "    .dataframe thead th {\n",
       "        text-align: right;\n",
       "    }\n",
       "</style>\n",
       "<table border=\"1\" class=\"dataframe\">\n",
       "  <thead>\n",
       "    <tr style=\"text-align: right;\">\n",
       "      <th></th>\n",
       "      <th>Type</th>\n",
       "      <th>PaperlessBilling</th>\n",
       "      <th>PaymentMethod</th>\n",
       "      <th>MonthlyCharges</th>\n",
       "      <th>TotalCharges</th>\n",
       "      <th>EndDateBull</th>\n",
       "      <th>gender</th>\n",
       "      <th>SeniorCitizen</th>\n",
       "      <th>Partner</th>\n",
       "      <th>Dependents</th>\n",
       "      <th>InternetService</th>\n",
       "      <th>OnlineSecurity</th>\n",
       "      <th>OnlineBackup</th>\n",
       "      <th>DeviceProtection</th>\n",
       "      <th>TechSupport</th>\n",
       "      <th>StreamingTV</th>\n",
       "      <th>StreamingMovies</th>\n",
       "      <th>MultipleLines</th>\n",
       "      <th>daycount</th>\n",
       "    </tr>\n",
       "  </thead>\n",
       "  <tbody>\n",
       "    <tr>\n",
       "      <th>Type</th>\n",
       "      <td>1.000000</td>\n",
       "      <td>0.106860</td>\n",
       "      <td>0.277462</td>\n",
       "      <td>0.388444</td>\n",
       "      <td>0.470860</td>\n",
       "      <td>0.094015</td>\n",
       "      <td>0.000000</td>\n",
       "      <td>0.086231</td>\n",
       "      <td>0.179736</td>\n",
       "      <td>0.147680</td>\n",
       "      <td>0.505187</td>\n",
       "      <td>0.152145</td>\n",
       "      <td>0.098884</td>\n",
       "      <td>0.137610</td>\n",
       "      <td>0.179999</td>\n",
       "      <td>0.066961</td>\n",
       "      <td>0.069608</td>\n",
       "      <td>0.065498</td>\n",
       "      <td>0.634155</td>\n",
       "    </tr>\n",
       "    <tr>\n",
       "      <th>PaperlessBilling</th>\n",
       "      <td>0.106860</td>\n",
       "      <td>1.000000</td>\n",
       "      <td>0.370495</td>\n",
       "      <td>0.467812</td>\n",
       "      <td>0.201703</td>\n",
       "      <td>0.083398</td>\n",
       "      <td>0.000000</td>\n",
       "      <td>0.242133</td>\n",
       "      <td>0.013218</td>\n",
       "      <td>0.172593</td>\n",
       "      <td>0.231438</td>\n",
       "      <td>0.000000</td>\n",
       "      <td>0.196443</td>\n",
       "      <td>0.160796</td>\n",
       "      <td>0.055929</td>\n",
       "      <td>0.343524</td>\n",
       "      <td>0.325551</td>\n",
       "      <td>0.252972</td>\n",
       "      <td>0.026799</td>\n",
       "    </tr>\n",
       "    <tr>\n",
       "      <th>PaymentMethod</th>\n",
       "      <td>0.277462</td>\n",
       "      <td>0.370495</td>\n",
       "      <td>1.000000</td>\n",
       "      <td>0.399526</td>\n",
       "      <td>0.335666</td>\n",
       "      <td>0.214832</td>\n",
       "      <td>0.000000</td>\n",
       "      <td>0.292725</td>\n",
       "      <td>0.243008</td>\n",
       "      <td>0.224903</td>\n",
       "      <td>0.323886</td>\n",
       "      <td>0.262911</td>\n",
       "      <td>0.282475</td>\n",
       "      <td>0.306866</td>\n",
       "      <td>0.272101</td>\n",
       "      <td>0.377209</td>\n",
       "      <td>0.378907</td>\n",
       "      <td>0.339313</td>\n",
       "      <td>0.350964</td>\n",
       "    </tr>\n",
       "    <tr>\n",
       "      <th>MonthlyCharges</th>\n",
       "      <td>0.388444</td>\n",
       "      <td>0.467812</td>\n",
       "      <td>0.399526</td>\n",
       "      <td>1.000000</td>\n",
       "      <td>0.710905</td>\n",
       "      <td>0.226280</td>\n",
       "      <td>0.008175</td>\n",
       "      <td>0.304985</td>\n",
       "      <td>0.203545</td>\n",
       "      <td>0.184366</td>\n",
       "      <td>0.919002</td>\n",
       "      <td>0.551621</td>\n",
       "      <td>0.629541</td>\n",
       "      <td>0.667481</td>\n",
       "      <td>0.576525</td>\n",
       "      <td>0.835340</td>\n",
       "      <td>0.833307</td>\n",
       "      <td>0.675883</td>\n",
       "      <td>0.387727</td>\n",
       "    </tr>\n",
       "    <tr>\n",
       "      <th>TotalCharges</th>\n",
       "      <td>0.470860</td>\n",
       "      <td>0.201703</td>\n",
       "      <td>0.335666</td>\n",
       "      <td>0.710905</td>\n",
       "      <td>1.000000</td>\n",
       "      <td>0.302890</td>\n",
       "      <td>0.000000</td>\n",
       "      <td>0.135650</td>\n",
       "      <td>0.381958</td>\n",
       "      <td>0.084247</td>\n",
       "      <td>0.490081</td>\n",
       "      <td>0.522090</td>\n",
       "      <td>0.622445</td>\n",
       "      <td>0.640977</td>\n",
       "      <td>0.550065</td>\n",
       "      <td>0.641488</td>\n",
       "      <td>0.643210</td>\n",
       "      <td>0.573191</td>\n",
       "      <td>0.848337</td>\n",
       "    </tr>\n",
       "    <tr>\n",
       "      <th>EndDateBull</th>\n",
       "      <td>0.094015</td>\n",
       "      <td>0.083398</td>\n",
       "      <td>0.214832</td>\n",
       "      <td>0.226280</td>\n",
       "      <td>0.302890</td>\n",
       "      <td>1.000000</td>\n",
       "      <td>0.008581</td>\n",
       "      <td>0.086159</td>\n",
       "      <td>0.226688</td>\n",
       "      <td>0.046871</td>\n",
       "      <td>0.056621</td>\n",
       "      <td>0.132594</td>\n",
       "      <td>0.229482</td>\n",
       "      <td>0.218380</td>\n",
       "      <td>0.103652</td>\n",
       "      <td>0.200198</td>\n",
       "      <td>0.222232</td>\n",
       "      <td>0.261237</td>\n",
       "      <td>0.374569</td>\n",
       "    </tr>\n",
       "    <tr>\n",
       "      <th>gender</th>\n",
       "      <td>0.000000</td>\n",
       "      <td>0.000000</td>\n",
       "      <td>0.000000</td>\n",
       "      <td>0.008175</td>\n",
       "      <td>0.000000</td>\n",
       "      <td>0.008581</td>\n",
       "      <td>1.000000</td>\n",
       "      <td>0.000000</td>\n",
       "      <td>0.000000</td>\n",
       "      <td>0.000000</td>\n",
       "      <td>0.000000</td>\n",
       "      <td>0.018397</td>\n",
       "      <td>0.009882</td>\n",
       "      <td>0.000000</td>\n",
       "      <td>0.000000</td>\n",
       "      <td>0.000000</td>\n",
       "      <td>0.000000</td>\n",
       "      <td>0.000000</td>\n",
       "      <td>0.000000</td>\n",
       "    </tr>\n",
       "    <tr>\n",
       "      <th>SeniorCitizen</th>\n",
       "      <td>0.086231</td>\n",
       "      <td>0.242133</td>\n",
       "      <td>0.292725</td>\n",
       "      <td>0.304985</td>\n",
       "      <td>0.135650</td>\n",
       "      <td>0.086159</td>\n",
       "      <td>0.000000</td>\n",
       "      <td>1.000000</td>\n",
       "      <td>0.016992</td>\n",
       "      <td>0.324576</td>\n",
       "      <td>0.160702</td>\n",
       "      <td>0.057028</td>\n",
       "      <td>0.102065</td>\n",
       "      <td>0.090686</td>\n",
       "      <td>0.092565</td>\n",
       "      <td>0.163120</td>\n",
       "      <td>0.186141</td>\n",
       "      <td>0.221313</td>\n",
       "      <td>0.063315</td>\n",
       "    </tr>\n",
       "    <tr>\n",
       "      <th>Partner</th>\n",
       "      <td>0.179736</td>\n",
       "      <td>0.013218</td>\n",
       "      <td>0.243008</td>\n",
       "      <td>0.203545</td>\n",
       "      <td>0.381958</td>\n",
       "      <td>0.226688</td>\n",
       "      <td>0.000000</td>\n",
       "      <td>0.016992</td>\n",
       "      <td>1.000000</td>\n",
       "      <td>0.652122</td>\n",
       "      <td>0.000000</td>\n",
       "      <td>0.221673</td>\n",
       "      <td>0.219223</td>\n",
       "      <td>0.238079</td>\n",
       "      <td>0.185993</td>\n",
       "      <td>0.193258</td>\n",
       "      <td>0.182011</td>\n",
       "      <td>0.220101</td>\n",
       "      <td>0.453688</td>\n",
       "    </tr>\n",
       "    <tr>\n",
       "      <th>Dependents</th>\n",
       "      <td>0.147680</td>\n",
       "      <td>0.172593</td>\n",
       "      <td>0.224903</td>\n",
       "      <td>0.184366</td>\n",
       "      <td>0.084247</td>\n",
       "      <td>0.046871</td>\n",
       "      <td>0.000000</td>\n",
       "      <td>0.324576</td>\n",
       "      <td>0.652122</td>\n",
       "      <td>1.000000</td>\n",
       "      <td>0.108463</td>\n",
       "      <td>0.124945</td>\n",
       "      <td>0.031533</td>\n",
       "      <td>0.010416</td>\n",
       "      <td>0.096912</td>\n",
       "      <td>0.017331</td>\n",
       "      <td>0.058999</td>\n",
       "      <td>0.033103</td>\n",
       "      <td>0.198729</td>\n",
       "    </tr>\n",
       "    <tr>\n",
       "      <th>InternetService</th>\n",
       "      <td>0.505187</td>\n",
       "      <td>0.231438</td>\n",
       "      <td>0.323886</td>\n",
       "      <td>0.919002</td>\n",
       "      <td>0.490081</td>\n",
       "      <td>0.056621</td>\n",
       "      <td>0.000000</td>\n",
       "      <td>0.160702</td>\n",
       "      <td>0.000000</td>\n",
       "      <td>0.108463</td>\n",
       "      <td>1.000000</td>\n",
       "      <td>0.241421</td>\n",
       "      <td>0.233602</td>\n",
       "      <td>0.232916</td>\n",
       "      <td>0.239663</td>\n",
       "      <td>0.272818</td>\n",
       "      <td>0.272782</td>\n",
       "      <td>0.225383</td>\n",
       "      <td>0.060845</td>\n",
       "    </tr>\n",
       "    <tr>\n",
       "      <th>OnlineSecurity</th>\n",
       "      <td>0.152145</td>\n",
       "      <td>0.000000</td>\n",
       "      <td>0.262911</td>\n",
       "      <td>0.551621</td>\n",
       "      <td>0.522090</td>\n",
       "      <td>0.132594</td>\n",
       "      <td>0.018397</td>\n",
       "      <td>0.057028</td>\n",
       "      <td>0.221673</td>\n",
       "      <td>0.124945</td>\n",
       "      <td>0.241421</td>\n",
       "      <td>1.000000</td>\n",
       "      <td>0.430425</td>\n",
       "      <td>0.418474</td>\n",
       "      <td>0.528391</td>\n",
       "      <td>0.272186</td>\n",
       "      <td>0.289097</td>\n",
       "      <td>0.151886</td>\n",
       "      <td>0.395693</td>\n",
       "    </tr>\n",
       "    <tr>\n",
       "      <th>OnlineBackup</th>\n",
       "      <td>0.098884</td>\n",
       "      <td>0.196443</td>\n",
       "      <td>0.282475</td>\n",
       "      <td>0.629541</td>\n",
       "      <td>0.622445</td>\n",
       "      <td>0.229482</td>\n",
       "      <td>0.009882</td>\n",
       "      <td>0.102065</td>\n",
       "      <td>0.219223</td>\n",
       "      <td>0.031533</td>\n",
       "      <td>0.233602</td>\n",
       "      <td>0.430425</td>\n",
       "      <td>1.000000</td>\n",
       "      <td>0.458211</td>\n",
       "      <td>0.445130</td>\n",
       "      <td>0.428007</td>\n",
       "      <td>0.417170</td>\n",
       "      <td>0.311403</td>\n",
       "      <td>0.414982</td>\n",
       "    </tr>\n",
       "    <tr>\n",
       "      <th>DeviceProtection</th>\n",
       "      <td>0.137610</td>\n",
       "      <td>0.160796</td>\n",
       "      <td>0.306866</td>\n",
       "      <td>0.667481</td>\n",
       "      <td>0.640977</td>\n",
       "      <td>0.218380</td>\n",
       "      <td>0.000000</td>\n",
       "      <td>0.090686</td>\n",
       "      <td>0.238079</td>\n",
       "      <td>0.010416</td>\n",
       "      <td>0.232916</td>\n",
       "      <td>0.418474</td>\n",
       "      <td>0.458211</td>\n",
       "      <td>1.000000</td>\n",
       "      <td>0.499267</td>\n",
       "      <td>0.575536</td>\n",
       "      <td>0.589888</td>\n",
       "      <td>0.309757</td>\n",
       "      <td>0.426931</td>\n",
       "    </tr>\n",
       "    <tr>\n",
       "      <th>TechSupport</th>\n",
       "      <td>0.179999</td>\n",
       "      <td>0.055929</td>\n",
       "      <td>0.272101</td>\n",
       "      <td>0.576525</td>\n",
       "      <td>0.550065</td>\n",
       "      <td>0.103652</td>\n",
       "      <td>0.000000</td>\n",
       "      <td>0.092565</td>\n",
       "      <td>0.185993</td>\n",
       "      <td>0.096912</td>\n",
       "      <td>0.239663</td>\n",
       "      <td>0.528391</td>\n",
       "      <td>0.445130</td>\n",
       "      <td>0.499267</td>\n",
       "      <td>1.000000</td>\n",
       "      <td>0.422242</td>\n",
       "      <td>0.424078</td>\n",
       "      <td>0.155739</td>\n",
       "      <td>0.404795</td>\n",
       "    </tr>\n",
       "    <tr>\n",
       "      <th>StreamingTV</th>\n",
       "      <td>0.066961</td>\n",
       "      <td>0.343524</td>\n",
       "      <td>0.377209</td>\n",
       "      <td>0.835340</td>\n",
       "      <td>0.641488</td>\n",
       "      <td>0.200198</td>\n",
       "      <td>0.000000</td>\n",
       "      <td>0.163120</td>\n",
       "      <td>0.193258</td>\n",
       "      <td>0.017331</td>\n",
       "      <td>0.272818</td>\n",
       "      <td>0.272186</td>\n",
       "      <td>0.428007</td>\n",
       "      <td>0.575536</td>\n",
       "      <td>0.422242</td>\n",
       "      <td>1.000000</td>\n",
       "      <td>0.742479</td>\n",
       "      <td>0.392239</td>\n",
       "      <td>0.339313</td>\n",
       "    </tr>\n",
       "    <tr>\n",
       "      <th>StreamingMovies</th>\n",
       "      <td>0.069608</td>\n",
       "      <td>0.325551</td>\n",
       "      <td>0.378907</td>\n",
       "      <td>0.833307</td>\n",
       "      <td>0.643210</td>\n",
       "      <td>0.222232</td>\n",
       "      <td>0.000000</td>\n",
       "      <td>0.186141</td>\n",
       "      <td>0.182011</td>\n",
       "      <td>0.058999</td>\n",
       "      <td>0.272782</td>\n",
       "      <td>0.289097</td>\n",
       "      <td>0.417170</td>\n",
       "      <td>0.589888</td>\n",
       "      <td>0.424078</td>\n",
       "      <td>0.742479</td>\n",
       "      <td>1.000000</td>\n",
       "      <td>0.394553</td>\n",
       "      <td>0.339313</td>\n",
       "    </tr>\n",
       "    <tr>\n",
       "      <th>MultipleLines</th>\n",
       "      <td>0.065498</td>\n",
       "      <td>0.252972</td>\n",
       "      <td>0.339313</td>\n",
       "      <td>0.675883</td>\n",
       "      <td>0.573191</td>\n",
       "      <td>0.261237</td>\n",
       "      <td>0.000000</td>\n",
       "      <td>0.221313</td>\n",
       "      <td>0.220101</td>\n",
       "      <td>0.033103</td>\n",
       "      <td>0.225383</td>\n",
       "      <td>0.151886</td>\n",
       "      <td>0.311403</td>\n",
       "      <td>0.309757</td>\n",
       "      <td>0.155739</td>\n",
       "      <td>0.392239</td>\n",
       "      <td>0.394553</td>\n",
       "      <td>1.000000</td>\n",
       "      <td>0.398222</td>\n",
       "    </tr>\n",
       "    <tr>\n",
       "      <th>daycount</th>\n",
       "      <td>0.634155</td>\n",
       "      <td>0.026799</td>\n",
       "      <td>0.350964</td>\n",
       "      <td>0.387727</td>\n",
       "      <td>0.848337</td>\n",
       "      <td>0.374569</td>\n",
       "      <td>0.000000</td>\n",
       "      <td>0.063315</td>\n",
       "      <td>0.453688</td>\n",
       "      <td>0.198729</td>\n",
       "      <td>0.060845</td>\n",
       "      <td>0.395693</td>\n",
       "      <td>0.414982</td>\n",
       "      <td>0.426931</td>\n",
       "      <td>0.404795</td>\n",
       "      <td>0.339313</td>\n",
       "      <td>0.339313</td>\n",
       "      <td>0.398222</td>\n",
       "      <td>1.000000</td>\n",
       "    </tr>\n",
       "  </tbody>\n",
       "</table>\n",
       "</div>"
      ],
      "text/plain": [
       "                      Type  PaperlessBilling  PaymentMethod  MonthlyCharges  \\\n",
       "Type              1.000000          0.106860       0.277462        0.388444   \n",
       "PaperlessBilling  0.106860          1.000000       0.370495        0.467812   \n",
       "PaymentMethod     0.277462          0.370495       1.000000        0.399526   \n",
       "MonthlyCharges    0.388444          0.467812       0.399526        1.000000   \n",
       "TotalCharges      0.470860          0.201703       0.335666        0.710905   \n",
       "EndDateBull       0.094015          0.083398       0.214832        0.226280   \n",
       "gender            0.000000          0.000000       0.000000        0.008175   \n",
       "SeniorCitizen     0.086231          0.242133       0.292725        0.304985   \n",
       "Partner           0.179736          0.013218       0.243008        0.203545   \n",
       "Dependents        0.147680          0.172593       0.224903        0.184366   \n",
       "InternetService   0.505187          0.231438       0.323886        0.919002   \n",
       "OnlineSecurity    0.152145          0.000000       0.262911        0.551621   \n",
       "OnlineBackup      0.098884          0.196443       0.282475        0.629541   \n",
       "DeviceProtection  0.137610          0.160796       0.306866        0.667481   \n",
       "TechSupport       0.179999          0.055929       0.272101        0.576525   \n",
       "StreamingTV       0.066961          0.343524       0.377209        0.835340   \n",
       "StreamingMovies   0.069608          0.325551       0.378907        0.833307   \n",
       "MultipleLines     0.065498          0.252972       0.339313        0.675883   \n",
       "daycount          0.634155          0.026799       0.350964        0.387727   \n",
       "\n",
       "                  TotalCharges  EndDateBull    gender  SeniorCitizen  \\\n",
       "Type                  0.470860     0.094015  0.000000       0.086231   \n",
       "PaperlessBilling      0.201703     0.083398  0.000000       0.242133   \n",
       "PaymentMethod         0.335666     0.214832  0.000000       0.292725   \n",
       "MonthlyCharges        0.710905     0.226280  0.008175       0.304985   \n",
       "TotalCharges          1.000000     0.302890  0.000000       0.135650   \n",
       "EndDateBull           0.302890     1.000000  0.008581       0.086159   \n",
       "gender                0.000000     0.008581  1.000000       0.000000   \n",
       "SeniorCitizen         0.135650     0.086159  0.000000       1.000000   \n",
       "Partner               0.381958     0.226688  0.000000       0.016992   \n",
       "Dependents            0.084247     0.046871  0.000000       0.324576   \n",
       "InternetService       0.490081     0.056621  0.000000       0.160702   \n",
       "OnlineSecurity        0.522090     0.132594  0.018397       0.057028   \n",
       "OnlineBackup          0.622445     0.229482  0.009882       0.102065   \n",
       "DeviceProtection      0.640977     0.218380  0.000000       0.090686   \n",
       "TechSupport           0.550065     0.103652  0.000000       0.092565   \n",
       "StreamingTV           0.641488     0.200198  0.000000       0.163120   \n",
       "StreamingMovies       0.643210     0.222232  0.000000       0.186141   \n",
       "MultipleLines         0.573191     0.261237  0.000000       0.221313   \n",
       "daycount              0.848337     0.374569  0.000000       0.063315   \n",
       "\n",
       "                   Partner  Dependents  InternetService  OnlineSecurity  \\\n",
       "Type              0.179736    0.147680         0.505187        0.152145   \n",
       "PaperlessBilling  0.013218    0.172593         0.231438        0.000000   \n",
       "PaymentMethod     0.243008    0.224903         0.323886        0.262911   \n",
       "MonthlyCharges    0.203545    0.184366         0.919002        0.551621   \n",
       "TotalCharges      0.381958    0.084247         0.490081        0.522090   \n",
       "EndDateBull       0.226688    0.046871         0.056621        0.132594   \n",
       "gender            0.000000    0.000000         0.000000        0.018397   \n",
       "SeniorCitizen     0.016992    0.324576         0.160702        0.057028   \n",
       "Partner           1.000000    0.652122         0.000000        0.221673   \n",
       "Dependents        0.652122    1.000000         0.108463        0.124945   \n",
       "InternetService   0.000000    0.108463         1.000000        0.241421   \n",
       "OnlineSecurity    0.221673    0.124945         0.241421        1.000000   \n",
       "OnlineBackup      0.219223    0.031533         0.233602        0.430425   \n",
       "DeviceProtection  0.238079    0.010416         0.232916        0.418474   \n",
       "TechSupport       0.185993    0.096912         0.239663        0.528391   \n",
       "StreamingTV       0.193258    0.017331         0.272818        0.272186   \n",
       "StreamingMovies   0.182011    0.058999         0.272782        0.289097   \n",
       "MultipleLines     0.220101    0.033103         0.225383        0.151886   \n",
       "daycount          0.453688    0.198729         0.060845        0.395693   \n",
       "\n",
       "                  OnlineBackup  DeviceProtection  TechSupport  StreamingTV  \\\n",
       "Type                  0.098884          0.137610     0.179999     0.066961   \n",
       "PaperlessBilling      0.196443          0.160796     0.055929     0.343524   \n",
       "PaymentMethod         0.282475          0.306866     0.272101     0.377209   \n",
       "MonthlyCharges        0.629541          0.667481     0.576525     0.835340   \n",
       "TotalCharges          0.622445          0.640977     0.550065     0.641488   \n",
       "EndDateBull           0.229482          0.218380     0.103652     0.200198   \n",
       "gender                0.009882          0.000000     0.000000     0.000000   \n",
       "SeniorCitizen         0.102065          0.090686     0.092565     0.163120   \n",
       "Partner               0.219223          0.238079     0.185993     0.193258   \n",
       "Dependents            0.031533          0.010416     0.096912     0.017331   \n",
       "InternetService       0.233602          0.232916     0.239663     0.272818   \n",
       "OnlineSecurity        0.430425          0.418474     0.528391     0.272186   \n",
       "OnlineBackup          1.000000          0.458211     0.445130     0.428007   \n",
       "DeviceProtection      0.458211          1.000000     0.499267     0.575536   \n",
       "TechSupport           0.445130          0.499267     1.000000     0.422242   \n",
       "StreamingTV           0.428007          0.575536     0.422242     1.000000   \n",
       "StreamingMovies       0.417170          0.589888     0.424078     0.742479   \n",
       "MultipleLines         0.311403          0.309757     0.155739     0.392239   \n",
       "daycount              0.414982          0.426931     0.404795     0.339313   \n",
       "\n",
       "                  StreamingMovies  MultipleLines  daycount  \n",
       "Type                     0.069608       0.065498  0.634155  \n",
       "PaperlessBilling         0.325551       0.252972  0.026799  \n",
       "PaymentMethod            0.378907       0.339313  0.350964  \n",
       "MonthlyCharges           0.833307       0.675883  0.387727  \n",
       "TotalCharges             0.643210       0.573191  0.848337  \n",
       "EndDateBull              0.222232       0.261237  0.374569  \n",
       "gender                   0.000000       0.000000  0.000000  \n",
       "SeniorCitizen            0.186141       0.221313  0.063315  \n",
       "Partner                  0.182011       0.220101  0.453688  \n",
       "Dependents               0.058999       0.033103  0.198729  \n",
       "InternetService          0.272782       0.225383  0.060845  \n",
       "OnlineSecurity           0.289097       0.151886  0.395693  \n",
       "OnlineBackup             0.417170       0.311403  0.414982  \n",
       "DeviceProtection         0.589888       0.309757  0.426931  \n",
       "TechSupport              0.424078       0.155739  0.404795  \n",
       "StreamingTV              0.742479       0.392239  0.339313  \n",
       "StreamingMovies          1.000000       0.394553  0.339313  \n",
       "MultipleLines            0.394553       1.000000  0.398222  \n",
       "daycount                 0.339313       0.398222  1.000000  "
      ]
     },
     "execution_count": 27,
     "metadata": {},
     "output_type": "execute_result"
    }
   ],
   "source": [
    "# Построим матрицу корреляций чтобы оценить зависимость признаков или удалить ненужные признаки.\n",
    "final_df.phik_matrix(interval_cols=['MonthlyCharges', 'TotalCharges', 'daycount'])"
   ]
  },
  {
   "cell_type": "markdown",
   "metadata": {},
   "source": [
    "Из матрицы мы видим что признак gender не имеет зависимостей избавимся от него чтобы он не мешал в машинном обучении."
   ]
  },
  {
   "cell_type": "code",
   "execution_count": 28,
   "metadata": {},
   "outputs": [
    {
     "name": "stdout",
     "output_type": "stream",
     "text": [
      "<class 'pandas.core.frame.DataFrame'>\n",
      "Int64Index: 7043 entries, 0 to 7042\n",
      "Data columns (total 18 columns):\n",
      " #   Column            Non-Null Count  Dtype  \n",
      "---  ------            --------------  -----  \n",
      " 0   Type              7043 non-null   object \n",
      " 1   PaperlessBilling  7043 non-null   object \n",
      " 2   PaymentMethod     7043 non-null   object \n",
      " 3   MonthlyCharges    7043 non-null   float64\n",
      " 4   TotalCharges      7043 non-null   float64\n",
      " 5   EndDateBull       7043 non-null   float64\n",
      " 6   SeniorCitizen     7043 non-null   int64  \n",
      " 7   Partner           7043 non-null   object \n",
      " 8   Dependents        7043 non-null   object \n",
      " 9   InternetService   7043 non-null   object \n",
      " 10  OnlineSecurity    7043 non-null   object \n",
      " 11  OnlineBackup      7043 non-null   object \n",
      " 12  DeviceProtection  7043 non-null   object \n",
      " 13  TechSupport       7043 non-null   object \n",
      " 14  StreamingTV       7043 non-null   object \n",
      " 15  StreamingMovies   7043 non-null   object \n",
      " 16  MultipleLines     7043 non-null   object \n",
      " 17  daycount          7043 non-null   int64  \n",
      "dtypes: float64(3), int64(2), object(13)\n",
      "memory usage: 1.0+ MB\n"
     ]
    }
   ],
   "source": [
    "final_df = final_df.drop(columns=['gender'], axis=1)\n",
    "final_df.info()"
   ]
  },
  {
   "cell_type": "code",
   "execution_count": 29,
   "metadata": {},
   "outputs": [
    {
     "name": "stdout",
     "output_type": "stream",
     "text": [
      "(7043, 17)\n",
      "(7043,)\n",
      "(5282, 17)\n",
      "(5282,)\n",
      "(1761, 17)\n",
      "(1761,)\n"
     ]
    }
   ],
   "source": [
    "# Разделим признаки и закодируем их Енкодером\n",
    "features = final_df.drop('EndDateBull', axis=1)\n",
    "target = final_df['EndDateBull']\n",
    "features_train, features_test, target_train, target_test = train_test_split(\n",
    "                                                            features, target,\n",
    "                                                            test_size=0.25,\n",
    "                                                            random_state=RANDOM_STATE)\n",
    "print(features.shape)\n",
    "print(target.shape)\n",
    "print(features_train.shape)\n",
    "print(target_train.shape)\n",
    "print(features_test.shape)\n",
    "print(target_test.shape)"
   ]
  },
  {
   "cell_type": "code",
   "execution_count": 30,
   "metadata": {},
   "outputs": [
    {
     "data": {
      "text/plain": [
       "OrdinalEncoder()"
      ]
     },
     "execution_count": 30,
     "metadata": {},
     "output_type": "execute_result"
    }
   ],
   "source": [
    "enc = OrdinalEncoder()\n",
    "cat = ['Type','PaperlessBilling','PaymentMethod','SeniorCitizen', 'Partner', 'Dependents', \n",
    "               'InternetService', 'OnlineSecurity', 'OnlineBackup', 'DeviceProtection', 'TechSupport', \n",
    "               'StreamingTV', 'StreamingMovies', 'MultipleLines']\n",
    "enc.fit(features_train[cat])"
   ]
  },
  {
   "cell_type": "code",
   "execution_count": 31,
   "metadata": {},
   "outputs": [
    {
     "name": "stderr",
     "output_type": "stream",
     "text": [
      "/tmp/ipykernel_127/4280243978.py:1: SettingWithCopyWarning: \n",
      "A value is trying to be set on a copy of a slice from a DataFrame.\n",
      "Try using .loc[row_indexer,col_indexer] = value instead\n",
      "\n",
      "See the caveats in the documentation: https://pandas.pydata.org/pandas-docs/stable/user_guide/indexing.html#returning-a-view-versus-a-copy\n",
      "  features_train[cat] = enc.transform(features_train[cat])\n",
      "/opt/conda/lib/python3.9/site-packages/pandas/core/indexing.py:1738: SettingWithCopyWarning: \n",
      "A value is trying to be set on a copy of a slice from a DataFrame.\n",
      "Try using .loc[row_indexer,col_indexer] = value instead\n",
      "\n",
      "See the caveats in the documentation: https://pandas.pydata.org/pandas-docs/stable/user_guide/indexing.html#returning-a-view-versus-a-copy\n",
      "  self._setitem_single_column(loc, value[:, i].tolist(), pi)\n"
     ]
    },
    {
     "data": {
      "text/html": [
       "<div>\n",
       "<style scoped>\n",
       "    .dataframe tbody tr th:only-of-type {\n",
       "        vertical-align: middle;\n",
       "    }\n",
       "\n",
       "    .dataframe tbody tr th {\n",
       "        vertical-align: top;\n",
       "    }\n",
       "\n",
       "    .dataframe thead th {\n",
       "        text-align: right;\n",
       "    }\n",
       "</style>\n",
       "<table border=\"1\" class=\"dataframe\">\n",
       "  <thead>\n",
       "    <tr style=\"text-align: right;\">\n",
       "      <th></th>\n",
       "      <th>Type</th>\n",
       "      <th>PaperlessBilling</th>\n",
       "      <th>PaymentMethod</th>\n",
       "      <th>MonthlyCharges</th>\n",
       "      <th>TotalCharges</th>\n",
       "      <th>SeniorCitizen</th>\n",
       "      <th>Partner</th>\n",
       "      <th>Dependents</th>\n",
       "      <th>InternetService</th>\n",
       "      <th>OnlineSecurity</th>\n",
       "      <th>OnlineBackup</th>\n",
       "      <th>DeviceProtection</th>\n",
       "      <th>TechSupport</th>\n",
       "      <th>StreamingTV</th>\n",
       "      <th>StreamingMovies</th>\n",
       "      <th>MultipleLines</th>\n",
       "      <th>daycount</th>\n",
       "    </tr>\n",
       "  </thead>\n",
       "  <tbody>\n",
       "    <tr>\n",
       "      <th>2298</th>\n",
       "      <td>2.0</td>\n",
       "      <td>1.0</td>\n",
       "      <td>1.0</td>\n",
       "      <td>79.2</td>\n",
       "      <td>5847.34</td>\n",
       "      <td>0.0</td>\n",
       "      <td>1.0</td>\n",
       "      <td>1.0</td>\n",
       "      <td>1.0</td>\n",
       "      <td>0.0</td>\n",
       "      <td>0.0</td>\n",
       "      <td>1.0</td>\n",
       "      <td>0.0</td>\n",
       "      <td>0.0</td>\n",
       "      <td>0.0</td>\n",
       "      <td>1.0</td>\n",
       "      <td>2102</td>\n",
       "    </tr>\n",
       "    <tr>\n",
       "      <th>4028</th>\n",
       "      <td>2.0</td>\n",
       "      <td>0.0</td>\n",
       "      <td>1.0</td>\n",
       "      <td>109.2</td>\n",
       "      <td>7017.19</td>\n",
       "      <td>0.0</td>\n",
       "      <td>0.0</td>\n",
       "      <td>0.0</td>\n",
       "      <td>1.0</td>\n",
       "      <td>1.0</td>\n",
       "      <td>1.0</td>\n",
       "      <td>1.0</td>\n",
       "      <td>1.0</td>\n",
       "      <td>1.0</td>\n",
       "      <td>1.0</td>\n",
       "      <td>0.0</td>\n",
       "      <td>1918</td>\n",
       "    </tr>\n",
       "    <tr>\n",
       "      <th>1587</th>\n",
       "      <td>2.0</td>\n",
       "      <td>0.0</td>\n",
       "      <td>0.0</td>\n",
       "      <td>26.3</td>\n",
       "      <td>956.79</td>\n",
       "      <td>0.0</td>\n",
       "      <td>1.0</td>\n",
       "      <td>1.0</td>\n",
       "      <td>2.0</td>\n",
       "      <td>0.0</td>\n",
       "      <td>0.0</td>\n",
       "      <td>0.0</td>\n",
       "      <td>0.0</td>\n",
       "      <td>0.0</td>\n",
       "      <td>0.0</td>\n",
       "      <td>1.0</td>\n",
       "      <td>1034</td>\n",
       "    </tr>\n",
       "    <tr>\n",
       "      <th>669</th>\n",
       "      <td>2.0</td>\n",
       "      <td>0.0</td>\n",
       "      <td>0.0</td>\n",
       "      <td>57.8</td>\n",
       "      <td>3185.94</td>\n",
       "      <td>0.0</td>\n",
       "      <td>1.0</td>\n",
       "      <td>0.0</td>\n",
       "      <td>0.0</td>\n",
       "      <td>0.0</td>\n",
       "      <td>1.0</td>\n",
       "      <td>1.0</td>\n",
       "      <td>1.0</td>\n",
       "      <td>1.0</td>\n",
       "      <td>1.0</td>\n",
       "      <td>0.0</td>\n",
       "      <td>1614</td>\n",
       "    </tr>\n",
       "    <tr>\n",
       "      <th>1791</th>\n",
       "      <td>1.0</td>\n",
       "      <td>1.0</td>\n",
       "      <td>3.0</td>\n",
       "      <td>61.5</td>\n",
       "      <td>2706.00</td>\n",
       "      <td>0.0</td>\n",
       "      <td>1.0</td>\n",
       "      <td>0.0</td>\n",
       "      <td>0.0</td>\n",
       "      <td>1.0</td>\n",
       "      <td>1.0</td>\n",
       "      <td>1.0</td>\n",
       "      <td>0.0</td>\n",
       "      <td>0.0</td>\n",
       "      <td>0.0</td>\n",
       "      <td>0.0</td>\n",
       "      <td>1340</td>\n",
       "    </tr>\n",
       "  </tbody>\n",
       "</table>\n",
       "</div>"
      ],
      "text/plain": [
       "      Type  PaperlessBilling  PaymentMethod  MonthlyCharges  TotalCharges  \\\n",
       "2298   2.0               1.0            1.0            79.2       5847.34   \n",
       "4028   2.0               0.0            1.0           109.2       7017.19   \n",
       "1587   2.0               0.0            0.0            26.3        956.79   \n",
       "669    2.0               0.0            0.0            57.8       3185.94   \n",
       "1791   1.0               1.0            3.0            61.5       2706.00   \n",
       "\n",
       "      SeniorCitizen  Partner  Dependents  InternetService  OnlineSecurity  \\\n",
       "2298            0.0      1.0         1.0              1.0             0.0   \n",
       "4028            0.0      0.0         0.0              1.0             1.0   \n",
       "1587            0.0      1.0         1.0              2.0             0.0   \n",
       "669             0.0      1.0         0.0              0.0             0.0   \n",
       "1791            0.0      1.0         0.0              0.0             1.0   \n",
       "\n",
       "      OnlineBackup  DeviceProtection  TechSupport  StreamingTV  \\\n",
       "2298           0.0               1.0          0.0          0.0   \n",
       "4028           1.0               1.0          1.0          1.0   \n",
       "1587           0.0               0.0          0.0          0.0   \n",
       "669            1.0               1.0          1.0          1.0   \n",
       "1791           1.0               1.0          0.0          0.0   \n",
       "\n",
       "      StreamingMovies  MultipleLines  daycount  \n",
       "2298              0.0            1.0      2102  \n",
       "4028              1.0            0.0      1918  \n",
       "1587              0.0            1.0      1034  \n",
       "669               1.0            0.0      1614  \n",
       "1791              0.0            0.0      1340  "
      ]
     },
     "execution_count": 31,
     "metadata": {},
     "output_type": "execute_result"
    }
   ],
   "source": [
    "features_train[cat] = enc.transform(features_train[cat])\n",
    "features_train.head(5)"
   ]
  },
  {
   "cell_type": "code",
   "execution_count": 32,
   "metadata": {},
   "outputs": [
    {
     "name": "stderr",
     "output_type": "stream",
     "text": [
      "/tmp/ipykernel_127/1856677410.py:1: SettingWithCopyWarning: \n",
      "A value is trying to be set on a copy of a slice from a DataFrame.\n",
      "Try using .loc[row_indexer,col_indexer] = value instead\n",
      "\n",
      "See the caveats in the documentation: https://pandas.pydata.org/pandas-docs/stable/user_guide/indexing.html#returning-a-view-versus-a-copy\n",
      "  features_test[cat] = enc.transform(features_test[cat])\n",
      "/opt/conda/lib/python3.9/site-packages/pandas/core/indexing.py:1738: SettingWithCopyWarning: \n",
      "A value is trying to be set on a copy of a slice from a DataFrame.\n",
      "Try using .loc[row_indexer,col_indexer] = value instead\n",
      "\n",
      "See the caveats in the documentation: https://pandas.pydata.org/pandas-docs/stable/user_guide/indexing.html#returning-a-view-versus-a-copy\n",
      "  self._setitem_single_column(loc, value[:, i].tolist(), pi)\n"
     ]
    },
    {
     "data": {
      "text/html": [
       "<div>\n",
       "<style scoped>\n",
       "    .dataframe tbody tr th:only-of-type {\n",
       "        vertical-align: middle;\n",
       "    }\n",
       "\n",
       "    .dataframe tbody tr th {\n",
       "        vertical-align: top;\n",
       "    }\n",
       "\n",
       "    .dataframe thead th {\n",
       "        text-align: right;\n",
       "    }\n",
       "</style>\n",
       "<table border=\"1\" class=\"dataframe\">\n",
       "  <thead>\n",
       "    <tr style=\"text-align: right;\">\n",
       "      <th></th>\n",
       "      <th>Type</th>\n",
       "      <th>PaperlessBilling</th>\n",
       "      <th>PaymentMethod</th>\n",
       "      <th>MonthlyCharges</th>\n",
       "      <th>TotalCharges</th>\n",
       "      <th>SeniorCitizen</th>\n",
       "      <th>Partner</th>\n",
       "      <th>Dependents</th>\n",
       "      <th>InternetService</th>\n",
       "      <th>OnlineSecurity</th>\n",
       "      <th>OnlineBackup</th>\n",
       "      <th>DeviceProtection</th>\n",
       "      <th>TechSupport</th>\n",
       "      <th>StreamingTV</th>\n",
       "      <th>StreamingMovies</th>\n",
       "      <th>MultipleLines</th>\n",
       "      <th>daycount</th>\n",
       "    </tr>\n",
       "  </thead>\n",
       "  <tbody>\n",
       "    <tr>\n",
       "      <th>4440</th>\n",
       "      <td>2.0</td>\n",
       "      <td>1.0</td>\n",
       "      <td>2.0</td>\n",
       "      <td>60.00</td>\n",
       "      <td>2580.00</td>\n",
       "      <td>0.0</td>\n",
       "      <td>0.0</td>\n",
       "      <td>0.0</td>\n",
       "      <td>0.0</td>\n",
       "      <td>0.0</td>\n",
       "      <td>1.0</td>\n",
       "      <td>0.0</td>\n",
       "      <td>0.0</td>\n",
       "      <td>0.0</td>\n",
       "      <td>1.0</td>\n",
       "      <td>0.0</td>\n",
       "      <td>1310</td>\n",
       "    </tr>\n",
       "    <tr>\n",
       "      <th>790</th>\n",
       "      <td>2.0</td>\n",
       "      <td>0.0</td>\n",
       "      <td>1.0</td>\n",
       "      <td>59.85</td>\n",
       "      <td>3806.46</td>\n",
       "      <td>0.0</td>\n",
       "      <td>1.0</td>\n",
       "      <td>1.0</td>\n",
       "      <td>0.0</td>\n",
       "      <td>1.0</td>\n",
       "      <td>0.0</td>\n",
       "      <td>1.0</td>\n",
       "      <td>1.0</td>\n",
       "      <td>1.0</td>\n",
       "      <td>1.0</td>\n",
       "      <td>0.0</td>\n",
       "      <td>1826</td>\n",
       "    </tr>\n",
       "    <tr>\n",
       "      <th>2922</th>\n",
       "      <td>0.0</td>\n",
       "      <td>1.0</td>\n",
       "      <td>3.0</td>\n",
       "      <td>92.35</td>\n",
       "      <td>2272.73</td>\n",
       "      <td>0.0</td>\n",
       "      <td>1.0</td>\n",
       "      <td>0.0</td>\n",
       "      <td>1.0</td>\n",
       "      <td>1.0</td>\n",
       "      <td>0.0</td>\n",
       "      <td>0.0</td>\n",
       "      <td>0.0</td>\n",
       "      <td>1.0</td>\n",
       "      <td>1.0</td>\n",
       "      <td>0.0</td>\n",
       "      <td>700</td>\n",
       "    </tr>\n",
       "    <tr>\n",
       "      <th>1472</th>\n",
       "      <td>0.0</td>\n",
       "      <td>1.0</td>\n",
       "      <td>1.0</td>\n",
       "      <td>74.40</td>\n",
       "      <td>1116.00</td>\n",
       "      <td>0.0</td>\n",
       "      <td>1.0</td>\n",
       "      <td>1.0</td>\n",
       "      <td>1.0</td>\n",
       "      <td>0.0</td>\n",
       "      <td>0.0</td>\n",
       "      <td>0.0</td>\n",
       "      <td>0.0</td>\n",
       "      <td>0.0</td>\n",
       "      <td>0.0</td>\n",
       "      <td>1.0</td>\n",
       "      <td>457</td>\n",
       "    </tr>\n",
       "    <tr>\n",
       "      <th>722</th>\n",
       "      <td>0.0</td>\n",
       "      <td>1.0</td>\n",
       "      <td>2.0</td>\n",
       "      <td>85.95</td>\n",
       "      <td>661.82</td>\n",
       "      <td>0.0</td>\n",
       "      <td>1.0</td>\n",
       "      <td>1.0</td>\n",
       "      <td>1.0</td>\n",
       "      <td>0.0</td>\n",
       "      <td>0.0</td>\n",
       "      <td>0.0</td>\n",
       "      <td>0.0</td>\n",
       "      <td>0.0</td>\n",
       "      <td>1.0</td>\n",
       "      <td>1.0</td>\n",
       "      <td>215</td>\n",
       "    </tr>\n",
       "  </tbody>\n",
       "</table>\n",
       "</div>"
      ],
      "text/plain": [
       "      Type  PaperlessBilling  PaymentMethod  MonthlyCharges  TotalCharges  \\\n",
       "4440   2.0               1.0            2.0           60.00       2580.00   \n",
       "790    2.0               0.0            1.0           59.85       3806.46   \n",
       "2922   0.0               1.0            3.0           92.35       2272.73   \n",
       "1472   0.0               1.0            1.0           74.40       1116.00   \n",
       "722    0.0               1.0            2.0           85.95        661.82   \n",
       "\n",
       "      SeniorCitizen  Partner  Dependents  InternetService  OnlineSecurity  \\\n",
       "4440            0.0      0.0         0.0              0.0             0.0   \n",
       "790             0.0      1.0         1.0              0.0             1.0   \n",
       "2922            0.0      1.0         0.0              1.0             1.0   \n",
       "1472            0.0      1.0         1.0              1.0             0.0   \n",
       "722             0.0      1.0         1.0              1.0             0.0   \n",
       "\n",
       "      OnlineBackup  DeviceProtection  TechSupport  StreamingTV  \\\n",
       "4440           1.0               0.0          0.0          0.0   \n",
       "790            0.0               1.0          1.0          1.0   \n",
       "2922           0.0               0.0          0.0          1.0   \n",
       "1472           0.0               0.0          0.0          0.0   \n",
       "722            0.0               0.0          0.0          0.0   \n",
       "\n",
       "      StreamingMovies  MultipleLines  daycount  \n",
       "4440              1.0            0.0      1310  \n",
       "790               1.0            0.0      1826  \n",
       "2922              1.0            0.0       700  \n",
       "1472              0.0            1.0       457  \n",
       "722               1.0            1.0       215  "
      ]
     },
     "execution_count": 32,
     "metadata": {},
     "output_type": "execute_result"
    }
   ],
   "source": [
    "features_test[cat] = enc.transform(features_test[cat])\n",
    "features_test.head(5)"
   ]
  },
  {
   "cell_type": "markdown",
   "metadata": {},
   "source": [
    "Обучим Случайный лес при помощи Грид серч, он поможет нам подобрать лучшие параметры хоть он и время затратный."
   ]
  },
  {
   "cell_type": "code",
   "execution_count": 33,
   "metadata": {},
   "outputs": [],
   "source": [
    "model = RandomForestClassifier(class_weight='balanced', bootstrap=True, random_state=RANDOM_STATE)\n",
    "\n",
    "#params = {\n",
    "#     'n_estimators': range(100, 200, 10),\n",
    "#     'max_depth': range(5,10),\n",
    "#     'criterion': ['entropy'],\n",
    "#     'max_features': ['sqrt']\n",
    "#}\n",
    "\n",
    "params = {\n",
    "     'n_estimators': [140],\n",
    "     'max_depth': [6],\n",
    "     'criterion': ['entropy'],\n",
    "     'max_features': ['sqrt']\n",
    "}\n",
    "\n",
    "\n",
    "grid_cv = GridSearchCV(\n",
    "    model,\n",
    "    params, \n",
    "    verbose=3,\n",
    "    cv=3,\n",
    "    n_jobs=-1,\n",
    "    scoring='roc_auc')"
   ]
  },
  {
   "cell_type": "code",
   "execution_count": 34,
   "metadata": {},
   "outputs": [
    {
     "name": "stdout",
     "output_type": "stream",
     "text": [
      "Fitting 3 folds for each of 1 candidates, totalling 3 fits\n",
      "[CV 1/3] END criterion=entropy, max_depth=6, max_features=sqrt, n_estimators=140; total time=   0.5s\n",
      "[CV 2/3] END criterion=entropy, max_depth=6, max_features=sqrt, n_estimators=140; total time=   0.4s\n",
      "[CV 3/3] END criterion=entropy, max_depth=6, max_features=sqrt, n_estimators=140; total time=   0.5s\n"
     ]
    },
    {
     "data": {
      "text/plain": [
       "{'criterion': 'entropy',\n",
       " 'max_depth': 6,\n",
       " 'max_features': 'sqrt',\n",
       " 'n_estimators': 140}"
      ]
     },
     "execution_count": 34,
     "metadata": {},
     "output_type": "execute_result"
    }
   ],
   "source": [
    "grid_cv.fit(features_train, target_train)\n",
    "grid_cv.best_params_"
   ]
  },
  {
   "cell_type": "markdown",
   "metadata": {},
   "source": [
    "лучшими параметрами для случайного леса стали depth = 6 est= 140"
   ]
  },
  {
   "cell_type": "code",
   "execution_count": 35,
   "metadata": {},
   "outputs": [
    {
     "data": {
      "text/plain": [
       "0.8227004405024697"
      ]
     },
     "execution_count": 35,
     "metadata": {},
     "output_type": "execute_result"
    }
   ],
   "source": [
    "grid_cv.best_score_"
   ]
  },
  {
   "cell_type": "markdown",
   "metadata": {},
   "source": [
    "На случайном лесе мы получили значение метрики AUC-0.82. Обучим катбуст через грид серч"
   ]
  },
  {
   "cell_type": "code",
   "execution_count": 36,
   "metadata": {},
   "outputs": [],
   "source": [
    "model = CatBoostClassifier(loss_function='Logloss', random_seed=RANDOM_STATE,silent=True)\n",
    "\n",
    "#catboost_params = {\n",
    "# 'depth': [2, 3, 4, 5],\n",
    "# 'iterations': [100, 300, 500],\n",
    "# 'learning_rate': [0.1, 0.3, 0.5]\n",
    "#}\n",
    "\n",
    "catboost_params = {\n",
    " 'depth': [2],\n",
    " 'iterations': [500],\n",
    " 'learning_rate': [0.5],\n",
    " 'l2_leaf_reg':[1],\n",
    "}\n",
    "\n",
    "\n",
    "grid_cb = GridSearchCV(model,\n",
    "                                   catboost_params, \n",
    "                                   verbose=3,\n",
    "                                   cv=5,\n",
    "                                   n_jobs=-1,\n",
    "                                   scoring='roc_auc')"
   ]
  },
  {
   "cell_type": "code",
   "execution_count": 37,
   "metadata": {},
   "outputs": [
    {
     "name": "stdout",
     "output_type": "stream",
     "text": [
      "Fitting 5 folds for each of 1 candidates, totalling 5 fits\n",
      "[CV 1/5] END depth=2, iterations=500, l2_leaf_reg=1, learning_rate=0.5; total time=   1.6s\n",
      "[CV 2/5] END depth=2, iterations=500, l2_leaf_reg=1, learning_rate=0.5; total time=   1.2s\n",
      "[CV 3/5] END depth=2, iterations=500, l2_leaf_reg=1, learning_rate=0.5; total time=   1.2s\n",
      "[CV 4/5] END depth=2, iterations=500, l2_leaf_reg=1, learning_rate=0.5; total time=   1.4s\n",
      "[CV 5/5] END depth=2, iterations=500, l2_leaf_reg=1, learning_rate=0.5; total time=   1.4s\n"
     ]
    },
    {
     "data": {
      "text/plain": [
       "{'depth': 2, 'iterations': 500, 'l2_leaf_reg': 1, 'learning_rate': 0.5}"
      ]
     },
     "execution_count": 37,
     "metadata": {},
     "output_type": "execute_result"
    }
   ],
   "source": [
    "grid_cb.fit(features_train, target_train)\n",
    "grid_cb.best_params_"
   ]
  },
  {
   "cell_type": "markdown",
   "metadata": {},
   "source": [
    "лучшими параметрами для катбуста стали depth - 4, iterations - 100, learning_rate - 0.3}"
   ]
  },
  {
   "cell_type": "code",
   "execution_count": 38,
   "metadata": {},
   "outputs": [
    {
     "data": {
      "text/plain": [
       "0.9277621148659767"
      ]
     },
     "execution_count": 38,
     "metadata": {},
     "output_type": "execute_result"
    }
   ],
   "source": [
    "grid_cb.best_score_"
   ]
  },
  {
   "cell_type": "markdown",
   "metadata": {},
   "source": [
    "На катбусте мы получили значение метрики AUC-0.92"
   ]
  },
  {
   "cell_type": "markdown",
   "metadata": {},
   "source": [
    "Лучшей моделью является Катбуст. Модель показала лучший результат метрики AUC - 0.92. Лучшие параметры для этой модели depth - 4, iterations - 100, learning_rate - 0.3. Можно переходить к финальному тесту на тестовой выборке"
   ]
  },
  {
   "cell_type": "markdown",
   "metadata": {},
   "source": [
    "Протестируем КатБуст на тестовой выборке"
   ]
  },
  {
   "cell_type": "code",
   "execution_count": 39,
   "metadata": {},
   "outputs": [
    {
     "name": "stdout",
     "output_type": "stream",
     "text": [
      "0.9371268824062907\n"
     ]
    }
   ],
   "source": [
    "probabilities_test = grid_cb.predict_proba(features_test)\n",
    "probabilities_one_test = probabilities_test[:, 1]\n",
    "auc_roc = roc_auc_score(target_test, probabilities_one_test)\n",
    "print(auc_roc)"
   ]
  },
  {
   "cell_type": "markdown",
   "metadata": {},
   "source": [
    "На тестовой выборке мы получили значение AUC - 0.93. Теперь оценим важность признаков лучшей модели и посмотрим на матрицу ошибок"
   ]
  },
  {
   "cell_type": "code",
   "execution_count": 40,
   "metadata": {},
   "outputs": [
    {
     "data": {
      "image/png": "[encoded data removed]",
      "text/plain": [
       "<Figure size 432x288 with 1 Axes>"
      ]
     },
     "metadata": {
      "needs_background": "light"
     },
     "output_type": "display_data"
    }
   ],
   "source": [
    "importances = grid_cb.best_estimator_.feature_importances_\n",
    "feature_names = features_train.columns\n",
    "cb_importances = pd.Series(importances, index=feature_names)\n",
    "std = np.std([grid_cb.best_estimator_.feature_importances_], axis=0)\n",
    "fig, ax = plt.subplots()\n",
    "cb_importances.plot.bar(yerr=std, ax=ax)\n",
    "ax.set_title('Значимость признаков')\n",
    "plt.grid(True)\n",
    "plt.xlabel(\"Признаки модели\")\n",
    "plt.ylabel(\"Уровень значимости признака\")\n",
    "fig.show()"
   ]
  },
  {
   "cell_type": "markdown",
   "metadata": {},
   "source": [
    "Самым важным признаком оказался искуственно созданный признак количество дней контракта, тип услуги, ежемесечные и общие выплаты. Остальные признаки оказывают небольшое влияние на обучение модели"
   ]
  },
  {
   "cell_type": "code",
   "execution_count": 41,
   "metadata": {},
   "outputs": [],
   "source": [
    "predicted_test = grid_cb.predict(features_test) "
   ]
  },
  {
   "cell_type": "code",
   "execution_count": 42,
   "metadata": {},
   "outputs": [
    {
     "data": {
      "text/plain": [
       "0.9381033503691084"
      ]
     },
     "execution_count": 42,
     "metadata": {},
     "output_type": "execute_result"
    }
   ],
   "source": [
    "accuracy_score(target_test, predicted_test)"
   ]
  },
  {
   "cell_type": "code",
   "execution_count": 43,
   "metadata": {},
   "outputs": [
    {
     "data": {
      "image/png": "[encoded data removed]",
      "text/plain": [
       "<Figure size 432x360 with 2 Axes>"
      ]
     },
     "metadata": {
      "needs_background": "light"
     },
     "output_type": "display_data"
    }
   ],
   "source": [
    "plt.figure(figsize=(6, 5))\n",
    "sns.heatmap(confusion_matrix(target_test, predicted_test),annot=True,fmt='1.0f')\n",
    "plt.title('Матрица ошибок');"
   ]
  },
  {
   "cell_type": "markdown",
   "metadata": {},
   "source": [
    "Из матрицы ошибок можно заметить что модель ошибалась редко, мы добились значение accuracy - 93. Это значит что у нашей модели точность 93% (процент правильных ответов) \n",
    "\n",
    "True Positive (истинно-положительное решение): прогноз совпал с реальностью, результат положительный произошел, как и было предсказано ML-моделью - 1466\n",
    "\n",
    "False Positive (ложноположительное решение): ошибка 1-го рода, ML-модель предсказала положительный результат, а на самом деле он отрицательный - 26\n",
    "\n",
    "False Negative (ложноотрицательное решение): ошибка 2-го рода – ML-модель предсказала отрицательный результат, но на самом деле он положительный - 83 \n",
    "\n",
    "True Negative (истинно-отрицательное решение): результат отрицательный, ML-прогноз совпал с реальностью - 186"
   ]
  },
  {
   "cell_type": "markdown",
   "metadata": {},
   "source": [
    "Для предсказания я выбрал 2 модели CatBoost и RandomForestClassifier. Перед обучением я создал новый признак daycount, который показывает сколько дней длится контракт. Изменил тип данных посчитал новый признак. Далее я избавился от ненужных признаков разделил выборки, закодировал их с помощью енкодера и приступил к обучению моделей. Сначало я обучил случайный лес качество модели - 0.82. После чего я обучил кат буст и протестировал на тестовой выборке. Результат - 0.92 на обучающей и 0.94 на тестовой выборке. Процент точности модели 93%. Также я оценил важность признаков и самым важным оказался искуственно созданный признак daycount. Это логично, чем дольше человек является клиентом, тем меньше шансов, что он покинет компанию. "
   ]
  },
  {
   "cell_type": "markdown",
   "metadata": {},
   "source": [
    "## Отчет"
   ]
  },
  {
   "cell_type": "markdown",
   "metadata": {},
   "source": [
    "**1. Ключевые шаги работы над проектом:**\n",
    "1. Ознакомился с датасетами и сразу выделил целевой признак - EndDate. Этот столбец хранит информацию о том когда закончился договор с клиентом. После чего я ознакомился с классами, они жутко не сбалансированны соотношение 6к1. 1101 клиента расторгнули договор и 5942  кто нет. \n",
    "2. Объеденил датасеты в один изза чего обнаружились пропуски в данных. Это связанно с тем, что в третьем и четвертом датасете хранилась информация не для всех пользователей. Означает что не все пользователи пользовались дополнительными услугами. Я заменил пропуски NaN на значение No. Смысл не поменяется клиент не пользуется этими услугами. Также перед обучением модели я удалил ненужные признаки которые не влияют на обучение модели: customerID, BeginDate, EndDate. Я построил матрицу корреляций в которой не увидел зависимостей столбца gender(который отвечает за пол клиента) и было решено также удалить этот столбец, чтобы он не влиял на машинное обучение. \n",
    "3. Разделил выборки на тестовую и обучающую. В датасетах было очень много категориальных признаков и для обучения модели пришлось перевести в числовые 0, 1, 2 и тд. При работе с Енкодером я обнаружил пропуски в столбце TotalCharges и у всех была одинаковая дата - дата выгрузки данных. Означало, что клиент еще не заплатил, но информация о нем уже была в базе. Было решено заменить на значение 0.\n",
    "4. Приступил к обучению моделей. Для этой задачи я выбрал две модели CatBoostClassifier и RandomForestClassifier. Я подбирал лучшие гиперпараметры для обеих моделей через GridSearchCV. Это инструмент для автоматического подбирания параметров для моделей машинного обучения. GridSearchCV находит наилучшие параметры, путем обычного перебора: он создает модель для каждой возможной комбинации параметров. \n",
    "5. Модель CatBoostClassifier показала лучший результат с гипепараметрами depth - 4, iterations - 100, learning_rate - 0.3. Значение метрики AUC - 0.93. Далее я  матрицу ошибок и посчитал метрику accuracy - 0.93. Это значит что у нашей модели точность 93% (процент правильных ответов). Также я провел оценку значимости признаков, самым важным признаком оказался искуственно созданный признак daycount - количество дней контракта. Остальные признаки оказывают небольшое влияние на обучение модели.\n",
    "\n",
    "\n",
    "**2. Анализ соответствия фактической работы запланированным шагам:**\n",
    "\n",
    "В основном я следовал плану. Но некоторые пункты я делал не в той последовательности, в которой заплонировал. Большую часть предобработки данных я совершал во время обучения модели, более детально знакомясь с данными. Я обнаруживал пропуски только при кодировании данных так как они были зашифрованны под пробелы - ' '.\n",
    "\n",
    "**3. Рефлексия над сложностями и описание путей их решения:** \n",
    "1. Первой же проблемой стала маленький результат метрики. Для улучшения качества модели я создал новый признак daycount, который считает количество дней со дня заключения договора. В итоге этот признак оказался самым значимым для обучения лучшей модели. \n",
    "2. Второй проблемой было достать информацию о важности признаков из GridSearchCV. На помощь пришел добрый преподаватель, подсказал как это правильно сделать). \n",
    "3. Но самой сложной проблемой стало передать список категориальных признаков OrdinalEncoder, тут помогла пачка с библиотекой питона. \n",
    "\n",
    "**4. Итоговый список признаков (с расшифровкой) для обучения модели, способы их обработки (как кодировали/стандартизировали/преобразовывали):**\n",
    "1. Type - Кодировал категориальный признак с помощью  OrdinalEncoder\n",
    "1. PaperlessBilling - Кодировал категориальный признак с помощью  OrdinalEncoder\n",
    "2. PaymentMethod - Кодировал категориальный признак с помощью  OrdinalEncoder\n",
    "3. MonthlyCharges - Не изменял\n",
    "4. TotalCharges - Не изменял\n",
    "5. SeniorCitizen - Кодировал категориальный признак с помощью  OrdinalEncoder  \n",
    "6. Partner - Кодировал категориальный признак с помощью  OrdinalEncoder\n",
    "7. Dependents - Кодировал категориальный признак с помощью  OrdinalEncoder\n",
    "8. InternetService - Кодировал категориальный признак с помощью  OrdinalEncoder\n",
    "9. OnlineSecurity - Кодировал категориальный признак с помощью  OrdinalEncoder\n",
    "10. OnlineBackup - Кодировал категориальный признак с помощью  OrdinalEncoder\n",
    "11. DeviceProtection - Кодировал категориальный признак с помощью  OrdinalEncoder\n",
    "12. TechSupport - Кодировал категориальный признак с помощью  OrdinalEncoder\n",
    "13. StreamingTV - Кодировал категориальный признак с помощью  OrdinalEncoder\n",
    "14. StreamingMovies - Кодировал категориальный признак с помощью  OrdinalEncoder\n",
    "15. MultipleLines  - Кодировал категориальный признак с помощью  OrdinalEncoder\n",
    "16. daycount - Искуственно созданный признак, посчитал количество дней от BeginDate до EndDate.\n",
    "17. Type - Кодировал категориальный признак с помощью  OrdinalEncoder\n",
    "18. EndDateBull - Целевой признак преобразовал в 0 и 1.\n",
    "\n",
    "**5. Краткое описание предобработки данных (проблема - что делали):**\n",
    "1. Пропуски после объеденения таблиц - замена на значение No\n",
    "2. Пропуски в столбце TotalCharges - замена на значение 0\n",
    "\n",
    "**6. Сводная таблица исследованных моделей и их метрика на кросс-валидации:**\n",
    "\n",
    "1. CatBoostClassifier - AUC 0.92\n",
    "2. RandomForestClassifier - AUC 0.82\n",
    "\n",
    "**7. Лучшая модель - название, гиперпараметры, метрика на кросс-валидации:**\n",
    "1. CatBoostClassifier \n",
    "2. depth - 4, iterations - 100, learning_rate - 0.3, \n",
    "3. Метрика на кросс-валидации - 0.92\n",
    "\n",
    "**8. Итоговая метрика на test (AUC-ROC и Accuracy):**\n",
    "1. AUC-ROC - 0.93\n",
    "2. Accuracy - 0.93"
   ]
  },
  {
   "cell_type": "markdown",
   "metadata": {},
   "source": [
    "**9. Матрица ошибок (таблица или график + интерпретация):**"
   ]
  },
  {
   "attachments": {
    "download.png": {
     "image/png": "[encoded data removed]"
    }
   },
   "cell_type": "markdown",
   "metadata": {},
   "source": [
    "![download.png](attachment:download.png)"
   ]
  },
  {
   "cell_type": "markdown",
   "metadata": {},
   "source": [
    "Из матрицы ошибок можно заметить что модель ошибалась редко, мы добились значение accuracy - 93. Это значит что у нашей модели точность 93% (процент правильных ответов)\n",
    "\n",
    "True Positive (истинно-положительное решение): прогноз совпал с реальностью, результат положительный произошел, как и было предсказано ML-моделью - 1466\n",
    "\n",
    "False Positive (ложноположительное решение): ошибка 1-го рода, ML-модель предсказала положительный результат, а на самом деле он отрицательный - 26\n",
    "\n",
    "False Negative (ложноотрицательное решение): ошибка 2-го рода – ML-модель предсказала отрицательный результат, но на самом деле он положительный - 83\n",
    "\n",
    "True Negative (истинно-отрицательное решение): результат отрицательный, ML-прогноз совпал с реальностью - 186"
   ]
  },
  {
   "cell_type": "markdown",
   "metadata": {},
   "source": [
    "**10. Важность признаков (график + комментарии):**"
   ]
  },
  {
   "attachments": {
    "download.png": {
     "image/png": "[encoded data removed]"
    }
   },
   "cell_type": "markdown",
   "metadata": {},
   "source": [
    "![download.png](attachment:download.png)"
   ]
  },
  {
   "cell_type": "markdown",
   "metadata": {},
   "source": [
    "Самым важным признаком оказался искуственно созданный признак количество дней контракта. Также небольшое влияение оказывают такие признаки как ежемесечные выплаты и общие выплаты. Остальные признаки оказывают небольшое влияние на обучение модели."
   ]
  }
 ],
 "metadata": {
  "ExecuteTimeLog": [
   {
    "duration": 455,
    "start_time": "2023-06-20T07:09:42.591Z"
   },
   {
    "duration": 20,
    "start_time": "2023-06-20T07:09:45.902Z"
   },
   {
    "duration": 3,
    "start_time": "2023-06-20T07:30:19.588Z"
   },
   {
    "duration": 40,
    "start_time": "2023-06-20T07:30:19.984Z"
   },
   {
    "duration": 3,
    "start_time": "2023-06-20T07:30:20.960Z"
   },
   {
    "duration": 284,
    "start_time": "2023-06-20T07:32:23.126Z"
   },
   {
    "duration": 12,
    "start_time": "2023-06-20T07:32:27.489Z"
   },
   {
    "duration": 14,
    "start_time": "2023-06-20T07:32:32.323Z"
   },
   {
    "duration": 9,
    "start_time": "2023-06-20T07:32:37.202Z"
   },
   {
    "duration": 95,
    "start_time": "2023-06-20T07:33:29.836Z"
   },
   {
    "duration": 225,
    "start_time": "2023-06-20T08:00:24.120Z"
   },
   {
    "duration": 8,
    "start_time": "2023-06-22T06:18:53.173Z"
   },
   {
    "duration": 379,
    "start_time": "2023-06-22T06:19:02.760Z"
   },
   {
    "duration": 316,
    "start_time": "2023-06-22T06:19:03.145Z"
   },
   {
    "duration": 2,
    "start_time": "2023-06-22T06:19:03.463Z"
   },
   {
    "duration": 12,
    "start_time": "2023-06-22T06:19:03.467Z"
   },
   {
    "duration": 81,
    "start_time": "2023-06-22T06:19:16.787Z"
   },
   {
    "duration": 3,
    "start_time": "2023-06-22T06:19:44.221Z"
   },
   {
    "duration": 15,
    "start_time": "2023-06-22T06:19:44.899Z"
   },
   {
    "duration": 3,
    "start_time": "2023-06-22T06:19:59.124Z"
   },
   {
    "duration": 20,
    "start_time": "2023-06-22T06:19:59.592Z"
   },
   {
    "duration": 3,
    "start_time": "2023-06-22T06:20:37.278Z"
   },
   {
    "duration": 22,
    "start_time": "2023-06-22T06:20:37.750Z"
   },
   {
    "duration": 3,
    "start_time": "2023-06-22T06:20:49.098Z"
   },
   {
    "duration": 21,
    "start_time": "2023-06-22T06:20:54.446Z"
   },
   {
    "duration": 3,
    "start_time": "2023-06-22T06:21:35.295Z"
   },
   {
    "duration": 15,
    "start_time": "2023-06-22T06:21:35.799Z"
   },
   {
    "duration": 14,
    "start_time": "2023-06-22T06:22:21.100Z"
   },
   {
    "duration": 3,
    "start_time": "2023-06-22T06:23:40.261Z"
   },
   {
    "duration": 21,
    "start_time": "2023-06-22T06:23:40.802Z"
   },
   {
    "duration": 3,
    "start_time": "2023-06-22T06:23:49.923Z"
   },
   {
    "duration": 20,
    "start_time": "2023-06-22T06:23:50.356Z"
   },
   {
    "duration": 3,
    "start_time": "2023-06-22T06:31:14.001Z"
   },
   {
    "duration": 21,
    "start_time": "2023-06-22T06:31:14.512Z"
   },
   {
    "duration": 18,
    "start_time": "2023-06-22T06:31:25.734Z"
   },
   {
    "duration": 40,
    "start_time": "2023-06-22T06:31:30.509Z"
   },
   {
    "duration": 24,
    "start_time": "2023-06-22T06:31:35.018Z"
   },
   {
    "duration": 381,
    "start_time": "2023-06-22T06:33:19.499Z"
   },
   {
    "duration": 96,
    "start_time": "2023-06-22T06:33:19.882Z"
   },
   {
    "duration": 3,
    "start_time": "2023-06-22T06:33:19.981Z"
   },
   {
    "duration": 17,
    "start_time": "2023-06-22T06:33:19.986Z"
   },
   {
    "duration": 50,
    "start_time": "2023-06-22T06:33:20.005Z"
   },
   {
    "duration": 28,
    "start_time": "2023-06-22T06:33:20.057Z"
   },
   {
    "duration": 49,
    "start_time": "2023-06-22T06:33:20.087Z"
   },
   {
    "duration": 26,
    "start_time": "2023-06-22T06:33:20.137Z"
   },
   {
    "duration": 102,
    "start_time": "2023-06-22T06:33:20.164Z"
   },
   {
    "duration": 3,
    "start_time": "2023-06-22T06:35:01.994Z"
   },
   {
    "duration": 376,
    "start_time": "2023-06-22T06:35:06.798Z"
   },
   {
    "duration": 89,
    "start_time": "2023-06-22T06:35:07.176Z"
   },
   {
    "duration": 3,
    "start_time": "2023-06-22T06:35:07.267Z"
   },
   {
    "duration": 13,
    "start_time": "2023-06-22T06:35:07.271Z"
   },
   {
    "duration": 86,
    "start_time": "2023-06-22T06:35:07.286Z"
   },
   {
    "duration": 0,
    "start_time": "2023-06-22T06:35:07.373Z"
   },
   {
    "duration": 0,
    "start_time": "2023-06-22T06:35:07.375Z"
   },
   {
    "duration": 0,
    "start_time": "2023-06-22T06:35:07.376Z"
   },
   {
    "duration": 3,
    "start_time": "2023-06-22T06:35:18.395Z"
   },
   {
    "duration": 30,
    "start_time": "2023-06-22T06:35:18.965Z"
   },
   {
    "duration": 34,
    "start_time": "2023-06-22T06:35:20.017Z"
   },
   {
    "duration": 39,
    "start_time": "2023-06-22T06:35:20.405Z"
   },
   {
    "duration": 24,
    "start_time": "2023-06-22T06:35:20.593Z"
   },
   {
    "duration": 412,
    "start_time": "2023-06-22T06:54:57.934Z"
   },
   {
    "duration": 108,
    "start_time": "2023-06-22T06:54:58.349Z"
   },
   {
    "duration": 3,
    "start_time": "2023-06-22T06:54:58.459Z"
   },
   {
    "duration": 39,
    "start_time": "2023-06-22T06:54:58.463Z"
   },
   {
    "duration": 64,
    "start_time": "2023-06-22T06:54:58.503Z"
   },
   {
    "duration": 27,
    "start_time": "2023-06-22T06:54:58.569Z"
   },
   {
    "duration": 92,
    "start_time": "2023-06-22T06:54:58.598Z"
   },
   {
    "duration": 0,
    "start_time": "2023-06-22T06:54:58.692Z"
   },
   {
    "duration": 0,
    "start_time": "2023-06-22T06:54:58.693Z"
   },
   {
    "duration": 22,
    "start_time": "2023-06-22T06:59:07.861Z"
   },
   {
    "duration": 47,
    "start_time": "2023-06-22T06:59:08.841Z"
   },
   {
    "duration": 34,
    "start_time": "2023-06-22T06:59:10.513Z"
   },
   {
    "duration": 3,
    "start_time": "2023-06-22T07:17:54.709Z"
   },
   {
    "duration": 59,
    "start_time": "2023-06-22T07:22:41.434Z"
   },
   {
    "duration": 458,
    "start_time": "2023-06-22T07:23:06.431Z"
   },
   {
    "duration": 39,
    "start_time": "2023-06-22T07:23:10.617Z"
   },
   {
    "duration": 18,
    "start_time": "2023-06-22T07:23:34.608Z"
   },
   {
    "duration": 15,
    "start_time": "2023-06-22T07:28:41.566Z"
   },
   {
    "duration": 10,
    "start_time": "2023-06-22T07:28:53.423Z"
   },
   {
    "duration": 13,
    "start_time": "2023-06-22T07:29:01.047Z"
   },
   {
    "duration": 12,
    "start_time": "2023-06-22T07:30:13.451Z"
   },
   {
    "duration": 17,
    "start_time": "2023-06-22T07:31:34.543Z"
   },
   {
    "duration": 11,
    "start_time": "2023-06-22T07:33:25.045Z"
   },
   {
    "duration": 4,
    "start_time": "2023-06-22T07:33:33.226Z"
   },
   {
    "duration": 20,
    "start_time": "2023-06-22T07:33:37.269Z"
   },
   {
    "duration": 13,
    "start_time": "2023-06-22T07:34:03.639Z"
   },
   {
    "duration": 15,
    "start_time": "2023-06-22T07:34:17.861Z"
   },
   {
    "duration": 5,
    "start_time": "2023-06-22T07:35:01.217Z"
   },
   {
    "duration": 7,
    "start_time": "2023-06-22T07:35:05.526Z"
   },
   {
    "duration": 14,
    "start_time": "2023-06-22T07:35:22.807Z"
   },
   {
    "duration": 13,
    "start_time": "2023-06-22T07:35:35.614Z"
   },
   {
    "duration": 19,
    "start_time": "2023-06-22T07:37:16.258Z"
   },
   {
    "duration": 10,
    "start_time": "2023-06-22T07:40:00.706Z"
   },
   {
    "duration": 1927,
    "start_time": "2023-06-22T07:40:11.312Z"
   },
   {
    "duration": 831,
    "start_time": "2023-06-22T07:40:25.244Z"
   },
   {
    "duration": 5,
    "start_time": "2023-06-22T07:41:15.722Z"
   },
   {
    "duration": 11,
    "start_time": "2023-06-22T07:41:19.732Z"
   },
   {
    "duration": 12,
    "start_time": "2023-06-22T07:41:31.653Z"
   },
   {
    "duration": 11,
    "start_time": "2023-06-22T07:41:49.711Z"
   },
   {
    "duration": 10,
    "start_time": "2023-06-22T07:42:00.245Z"
   },
   {
    "duration": 856,
    "start_time": "2023-06-22T07:42:19.137Z"
   },
   {
    "duration": 89,
    "start_time": "2023-06-22T07:42:19.995Z"
   },
   {
    "duration": 3,
    "start_time": "2023-06-22T07:42:20.086Z"
   },
   {
    "duration": 38,
    "start_time": "2023-06-22T07:42:20.090Z"
   },
   {
    "duration": 41,
    "start_time": "2023-06-22T07:42:20.130Z"
   },
   {
    "duration": 23,
    "start_time": "2023-06-22T07:42:20.173Z"
   },
   {
    "duration": 47,
    "start_time": "2023-06-22T07:42:20.197Z"
   },
   {
    "duration": 24,
    "start_time": "2023-06-22T07:42:20.246Z"
   },
   {
    "duration": 29,
    "start_time": "2023-06-22T07:42:20.271Z"
   },
   {
    "duration": 104,
    "start_time": "2023-06-22T07:42:20.301Z"
   },
   {
    "duration": 0,
    "start_time": "2023-06-22T07:42:20.406Z"
   },
   {
    "duration": 10,
    "start_time": "2023-06-22T07:42:27.028Z"
   },
   {
    "duration": 10,
    "start_time": "2023-06-22T07:43:15.420Z"
   },
   {
    "duration": 237,
    "start_time": "2023-06-22T08:09:49.950Z"
   },
   {
    "duration": 282,
    "start_time": "2023-06-22T08:09:58.398Z"
   },
   {
    "duration": 10,
    "start_time": "2023-06-22T08:10:09.196Z"
   },
   {
    "duration": 2719,
    "start_time": "2023-06-22T08:10:16.298Z"
   },
   {
    "duration": 3,
    "start_time": "2023-06-22T08:10:47.535Z"
   },
   {
    "duration": 2042,
    "start_time": "2023-06-22T08:10:50.510Z"
   },
   {
    "duration": 413,
    "start_time": "2023-06-22T08:13:05.709Z"
   },
   {
    "duration": 144,
    "start_time": "2023-06-22T08:13:46.973Z"
   },
   {
    "duration": 412,
    "start_time": "2023-06-22T08:13:52.928Z"
   },
   {
    "duration": 17,
    "start_time": "2023-06-22T08:14:01.024Z"
   },
   {
    "duration": 13,
    "start_time": "2023-06-22T08:14:09.379Z"
   },
   {
    "duration": 4407,
    "start_time": "2023-06-22T08:15:32.212Z"
   },
   {
    "duration": 314,
    "start_time": "2023-06-22T08:16:10.817Z"
   },
   {
    "duration": 664,
    "start_time": "2023-06-22T08:17:15.698Z"
   },
   {
    "duration": 12,
    "start_time": "2023-06-22T08:17:18.531Z"
   },
   {
    "duration": 11,
    "start_time": "2023-06-22T08:18:47.696Z"
   },
   {
    "duration": 13,
    "start_time": "2023-06-22T08:18:48.115Z"
   },
   {
    "duration": 11,
    "start_time": "2023-06-22T08:19:20.498Z"
   },
   {
    "duration": 9,
    "start_time": "2023-06-22T08:20:49.408Z"
   },
   {
    "duration": 6,
    "start_time": "2023-06-22T08:23:18.501Z"
   },
   {
    "duration": 14,
    "start_time": "2023-06-22T08:23:22.157Z"
   },
   {
    "duration": 7,
    "start_time": "2023-06-22T08:24:05.101Z"
   },
   {
    "duration": 13,
    "start_time": "2023-06-22T08:24:05.598Z"
   },
   {
    "duration": 1010,
    "start_time": "2023-06-22T08:24:20.396Z"
   },
   {
    "duration": 154,
    "start_time": "2023-06-22T08:24:21.408Z"
   },
   {
    "duration": 4,
    "start_time": "2023-06-22T08:24:21.563Z"
   },
   {
    "duration": 49,
    "start_time": "2023-06-22T08:24:21.569Z"
   },
   {
    "duration": 55,
    "start_time": "2023-06-22T08:24:21.621Z"
   },
   {
    "duration": 35,
    "start_time": "2023-06-22T08:24:21.678Z"
   },
   {
    "duration": 55,
    "start_time": "2023-06-22T08:24:21.715Z"
   },
   {
    "duration": 62,
    "start_time": "2023-06-22T08:24:21.772Z"
   },
   {
    "duration": 5,
    "start_time": "2023-06-22T08:24:21.835Z"
   },
   {
    "duration": 20,
    "start_time": "2023-06-22T08:24:21.841Z"
   },
   {
    "duration": 268,
    "start_time": "2023-06-22T08:28:36.498Z"
   },
   {
    "duration": 174,
    "start_time": "2023-06-22T08:28:47.998Z"
   },
   {
    "duration": 176,
    "start_time": "2023-06-22T08:29:44.747Z"
   },
   {
    "duration": 50,
    "start_time": "2023-06-22T08:33:23.034Z"
   },
   {
    "duration": 11,
    "start_time": "2023-06-22T08:33:49.144Z"
   },
   {
    "duration": 7,
    "start_time": "2023-06-22T08:34:30.522Z"
   },
   {
    "duration": 19,
    "start_time": "2023-06-22T08:34:54.656Z"
   },
   {
    "duration": 6,
    "start_time": "2023-06-22T08:34:58.724Z"
   },
   {
    "duration": 10,
    "start_time": "2023-06-22T08:34:59.254Z"
   },
   {
    "duration": 19,
    "start_time": "2023-06-22T08:35:13.601Z"
   },
   {
    "duration": 12,
    "start_time": "2023-06-22T08:38:52.397Z"
   },
   {
    "duration": 16,
    "start_time": "2023-06-22T08:39:23.488Z"
   },
   {
    "duration": 23,
    "start_time": "2023-06-22T08:53:27.355Z"
   },
   {
    "duration": 8,
    "start_time": "2023-06-22T08:53:40.854Z"
   },
   {
    "duration": 60,
    "start_time": "2023-06-22T08:53:52.496Z"
   },
   {
    "duration": 22,
    "start_time": "2023-06-22T08:54:11.808Z"
   },
   {
    "duration": 53,
    "start_time": "2023-06-22T08:54:12.704Z"
   },
   {
    "duration": 420,
    "start_time": "2023-06-22T08:58:26.504Z"
   },
   {
    "duration": 1058,
    "start_time": "2023-06-22T09:02:36.201Z"
   },
   {
    "duration": 122,
    "start_time": "2023-06-22T09:02:37.262Z"
   },
   {
    "duration": 3,
    "start_time": "2023-06-22T09:02:37.385Z"
   },
   {
    "duration": 151,
    "start_time": "2023-06-22T09:02:37.389Z"
   },
   {
    "duration": 50,
    "start_time": "2023-06-22T09:02:37.541Z"
   },
   {
    "duration": 27,
    "start_time": "2023-06-22T09:02:37.593Z"
   },
   {
    "duration": 56,
    "start_time": "2023-06-22T09:02:37.622Z"
   },
   {
    "duration": 90,
    "start_time": "2023-06-22T09:02:37.680Z"
   },
   {
    "duration": 34,
    "start_time": "2023-06-22T09:02:37.772Z"
   },
   {
    "duration": 59,
    "start_time": "2023-06-22T09:02:37.808Z"
   },
   {
    "duration": 203,
    "start_time": "2023-06-22T09:02:37.868Z"
   },
   {
    "duration": 48,
    "start_time": "2023-06-22T09:02:38.072Z"
   },
   {
    "duration": 32,
    "start_time": "2023-06-22T09:02:38.121Z"
   },
   {
    "duration": 154,
    "start_time": "2023-06-22T09:02:38.155Z"
   },
   {
    "duration": 383,
    "start_time": "2023-06-22T09:03:50.520Z"
   },
   {
    "duration": 135,
    "start_time": "2023-06-22T09:04:07.000Z"
   },
   {
    "duration": 201,
    "start_time": "2023-06-22T09:04:21.504Z"
   },
   {
    "duration": 1543,
    "start_time": "2023-06-24T09:38:13.171Z"
   },
   {
    "duration": 369,
    "start_time": "2023-06-24T09:38:14.716Z"
   },
   {
    "duration": 3,
    "start_time": "2023-06-24T09:38:15.087Z"
   },
   {
    "duration": 36,
    "start_time": "2023-06-24T09:38:15.093Z"
   },
   {
    "duration": 66,
    "start_time": "2023-06-24T09:38:15.131Z"
   },
   {
    "duration": 32,
    "start_time": "2023-06-24T09:38:15.199Z"
   },
   {
    "duration": 74,
    "start_time": "2023-06-24T09:38:15.233Z"
   },
   {
    "duration": 61,
    "start_time": "2023-06-24T09:38:15.310Z"
   },
   {
    "duration": 9,
    "start_time": "2023-06-24T09:38:15.373Z"
   },
   {
    "duration": 50,
    "start_time": "2023-06-24T09:38:15.385Z"
   },
   {
    "duration": 280,
    "start_time": "2023-06-24T09:38:15.438Z"
   },
   {
    "duration": 69,
    "start_time": "2023-06-24T09:38:15.720Z"
   },
   {
    "duration": 28,
    "start_time": "2023-06-24T09:38:15.791Z"
   },
   {
    "duration": 90,
    "start_time": "2023-06-24T09:38:15.821Z"
   },
   {
    "duration": 182,
    "start_time": "2023-06-24T09:39:02.739Z"
   },
   {
    "duration": 18,
    "start_time": "2023-06-24T09:39:14.960Z"
   },
   {
    "duration": 4,
    "start_time": "2023-06-24T09:42:37.360Z"
   },
   {
    "duration": 19,
    "start_time": "2023-06-24T09:42:55.384Z"
   },
   {
    "duration": 18,
    "start_time": "2023-06-24T09:44:30.265Z"
   },
   {
    "duration": 187,
    "start_time": "2023-06-24T09:46:10.163Z"
   },
   {
    "duration": 263,
    "start_time": "2023-06-24T09:46:20.007Z"
   },
   {
    "duration": 271,
    "start_time": "2023-06-24T09:46:45.656Z"
   },
   {
    "duration": 240,
    "start_time": "2023-06-24T09:46:57.984Z"
   },
   {
    "duration": 261,
    "start_time": "2023-06-24T09:47:02.493Z"
   },
   {
    "duration": 220,
    "start_time": "2023-06-24T09:48:53.262Z"
   },
   {
    "duration": 6,
    "start_time": "2023-06-24T09:52:21.878Z"
   },
   {
    "duration": 4,
    "start_time": "2023-06-24T09:52:31.986Z"
   },
   {
    "duration": 4,
    "start_time": "2023-06-24T09:52:42.739Z"
   },
   {
    "duration": 9,
    "start_time": "2023-06-24T09:53:31.626Z"
   },
   {
    "duration": 112,
    "start_time": "2023-06-24T09:53:48.134Z"
   },
   {
    "duration": 165,
    "start_time": "2023-06-24T09:55:56.066Z"
   },
   {
    "duration": 216,
    "start_time": "2023-06-24T09:56:05.030Z"
   },
   {
    "duration": 8,
    "start_time": "2023-06-24T09:56:56.895Z"
   },
   {
    "duration": 140,
    "start_time": "2023-06-24T09:57:05.307Z"
   },
   {
    "duration": 18,
    "start_time": "2023-06-24T09:57:18.927Z"
   },
   {
    "duration": 18,
    "start_time": "2023-06-24T09:57:26.630Z"
   },
   {
    "duration": 15,
    "start_time": "2023-06-24T09:57:38.056Z"
   },
   {
    "duration": 15,
    "start_time": "2023-06-24T09:57:47.385Z"
   },
   {
    "duration": 15,
    "start_time": "2023-06-24T09:58:19.862Z"
   },
   {
    "duration": 14,
    "start_time": "2023-06-24T09:58:26.907Z"
   },
   {
    "duration": 15,
    "start_time": "2023-06-24T09:58:34.041Z"
   },
   {
    "duration": 14,
    "start_time": "2023-06-24T09:58:41.353Z"
   },
   {
    "duration": 5,
    "start_time": "2023-06-24T10:02:12.141Z"
   },
   {
    "duration": 8,
    "start_time": "2023-06-24T10:02:16.709Z"
   },
   {
    "duration": 13,
    "start_time": "2023-06-24T10:02:22.851Z"
   },
   {
    "duration": 11,
    "start_time": "2023-06-24T10:02:37.406Z"
   },
   {
    "duration": 1438,
    "start_time": "2023-06-24T10:02:43.626Z"
   },
   {
    "duration": 97,
    "start_time": "2023-06-24T10:02:45.067Z"
   },
   {
    "duration": 3,
    "start_time": "2023-06-24T10:02:45.170Z"
   },
   {
    "duration": 28,
    "start_time": "2023-06-24T10:02:45.175Z"
   },
   {
    "duration": 73,
    "start_time": "2023-06-24T10:02:45.205Z"
   },
   {
    "duration": 38,
    "start_time": "2023-06-24T10:02:45.281Z"
   },
   {
    "duration": 95,
    "start_time": "2023-06-24T10:02:45.321Z"
   },
   {
    "duration": 27,
    "start_time": "2023-06-24T10:02:45.418Z"
   },
   {
    "duration": 8,
    "start_time": "2023-06-24T10:02:45.466Z"
   },
   {
    "duration": 18,
    "start_time": "2023-06-24T10:02:45.475Z"
   },
   {
    "duration": 250,
    "start_time": "2023-06-24T10:02:45.495Z"
   },
   {
    "duration": 10,
    "start_time": "2023-06-24T10:02:45.747Z"
   },
   {
    "duration": 18,
    "start_time": "2023-06-24T10:02:45.768Z"
   },
   {
    "duration": 81,
    "start_time": "2023-06-24T10:02:45.787Z"
   },
   {
    "duration": 30,
    "start_time": "2023-06-24T10:02:45.870Z"
   },
   {
    "duration": 91,
    "start_time": "2023-06-24T10:02:45.902Z"
   },
   {
    "duration": 8,
    "start_time": "2023-06-24T10:03:16.430Z"
   },
   {
    "duration": 144,
    "start_time": "2023-06-24T10:03:28.854Z"
   },
   {
    "duration": 12,
    "start_time": "2023-06-24T10:03:32.306Z"
   },
   {
    "duration": 9,
    "start_time": "2023-06-24T10:03:39.394Z"
   },
   {
    "duration": 8,
    "start_time": "2023-06-24T10:03:39.906Z"
   },
   {
    "duration": 86,
    "start_time": "2023-06-24T10:04:30.899Z"
   },
   {
    "duration": 1241,
    "start_time": "2023-06-24T10:04:35.378Z"
   },
   {
    "duration": 97,
    "start_time": "2023-06-24T10:04:36.621Z"
   },
   {
    "duration": 3,
    "start_time": "2023-06-24T10:04:36.720Z"
   },
   {
    "duration": 24,
    "start_time": "2023-06-24T10:04:36.725Z"
   },
   {
    "duration": 61,
    "start_time": "2023-06-24T10:04:36.750Z"
   },
   {
    "duration": 28,
    "start_time": "2023-06-24T10:04:36.813Z"
   },
   {
    "duration": 67,
    "start_time": "2023-06-24T10:04:36.843Z"
   },
   {
    "duration": 28,
    "start_time": "2023-06-24T10:04:36.911Z"
   },
   {
    "duration": 12,
    "start_time": "2023-06-24T10:04:36.941Z"
   },
   {
    "duration": 17,
    "start_time": "2023-06-24T10:04:36.966Z"
   },
   {
    "duration": 236,
    "start_time": "2023-06-24T10:04:36.984Z"
   },
   {
    "duration": 12,
    "start_time": "2023-06-24T10:04:37.221Z"
   },
   {
    "duration": 135,
    "start_time": "2023-06-24T10:04:37.235Z"
   },
   {
    "duration": 56,
    "start_time": "2023-06-24T10:04:37.372Z"
   },
   {
    "duration": 42,
    "start_time": "2023-06-24T10:04:37.430Z"
   },
   {
    "duration": 60,
    "start_time": "2023-06-24T10:04:37.473Z"
   },
   {
    "duration": 4,
    "start_time": "2023-06-24T10:05:04.577Z"
   },
   {
    "duration": 32,
    "start_time": "2023-06-24T10:05:07.276Z"
   },
   {
    "duration": 6,
    "start_time": "2023-06-24T10:05:18.764Z"
   },
   {
    "duration": 109,
    "start_time": "2023-06-24T10:05:22.091Z"
   },
   {
    "duration": 110,
    "start_time": "2023-06-24T10:06:08.087Z"
   },
   {
    "duration": 113,
    "start_time": "2023-06-24T10:06:46.413Z"
   },
   {
    "duration": 105,
    "start_time": "2023-06-24T10:06:53.394Z"
   },
   {
    "duration": 115,
    "start_time": "2023-06-24T10:07:13.624Z"
   },
   {
    "duration": 10,
    "start_time": "2023-06-24T10:07:27.347Z"
   },
   {
    "duration": 4,
    "start_time": "2023-06-24T10:07:41.962Z"
   },
   {
    "duration": 15,
    "start_time": "2023-06-24T10:07:48.457Z"
   },
   {
    "duration": 11,
    "start_time": "2023-06-24T10:07:53.247Z"
   },
   {
    "duration": 14,
    "start_time": "2023-06-24T10:08:02.113Z"
   },
   {
    "duration": 10,
    "start_time": "2023-06-24T10:08:13.014Z"
   },
   {
    "duration": 14,
    "start_time": "2023-06-24T10:08:29.834Z"
   },
   {
    "duration": 7,
    "start_time": "2023-06-24T10:08:35.395Z"
   },
   {
    "duration": 142,
    "start_time": "2023-06-24T10:08:52.594Z"
   },
   {
    "duration": 22,
    "start_time": "2023-06-24T10:09:35.145Z"
   },
   {
    "duration": 22,
    "start_time": "2023-06-24T10:09:42.034Z"
   },
   {
    "duration": 17,
    "start_time": "2023-06-24T10:09:47.062Z"
   },
   {
    "duration": 128,
    "start_time": "2023-06-24T10:10:18.651Z"
   },
   {
    "duration": 11,
    "start_time": "2023-06-24T10:10:24.249Z"
   },
   {
    "duration": 15,
    "start_time": "2023-06-24T10:10:42.506Z"
   },
   {
    "duration": 118,
    "start_time": "2023-06-24T10:11:15.529Z"
   },
   {
    "duration": 1311,
    "start_time": "2023-06-24T10:11:19.221Z"
   },
   {
    "duration": 99,
    "start_time": "2023-06-24T10:11:20.534Z"
   },
   {
    "duration": 2,
    "start_time": "2023-06-24T10:11:20.636Z"
   },
   {
    "duration": 47,
    "start_time": "2023-06-24T10:11:20.641Z"
   },
   {
    "duration": 91,
    "start_time": "2023-06-24T10:11:20.691Z"
   },
   {
    "duration": 28,
    "start_time": "2023-06-24T10:11:20.784Z"
   },
   {
    "duration": 80,
    "start_time": "2023-06-24T10:11:20.813Z"
   },
   {
    "duration": 29,
    "start_time": "2023-06-24T10:11:20.896Z"
   },
   {
    "duration": 9,
    "start_time": "2023-06-24T10:11:20.927Z"
   },
   {
    "duration": 49,
    "start_time": "2023-06-24T10:11:20.939Z"
   },
   {
    "duration": 260,
    "start_time": "2023-06-24T10:11:20.990Z"
   },
   {
    "duration": 102,
    "start_time": "2023-06-24T10:11:21.252Z"
   },
   {
    "duration": 0,
    "start_time": "2023-06-24T10:11:21.356Z"
   },
   {
    "duration": 0,
    "start_time": "2023-06-24T10:11:21.357Z"
   },
   {
    "duration": 0,
    "start_time": "2023-06-24T10:11:21.359Z"
   },
   {
    "duration": 0,
    "start_time": "2023-06-24T10:11:21.361Z"
   },
   {
    "duration": 150,
    "start_time": "2023-06-24T10:11:27.497Z"
   },
   {
    "duration": 10,
    "start_time": "2023-06-24T10:11:34.245Z"
   },
   {
    "duration": 11,
    "start_time": "2023-06-24T10:11:39.206Z"
   },
   {
    "duration": 12,
    "start_time": "2023-06-24T10:11:59.294Z"
   },
   {
    "duration": 12,
    "start_time": "2023-06-24T10:12:12.434Z"
   },
   {
    "duration": 1309,
    "start_time": "2023-06-24T10:12:51.159Z"
   },
   {
    "duration": 100,
    "start_time": "2023-06-24T10:12:52.470Z"
   },
   {
    "duration": 3,
    "start_time": "2023-06-24T10:12:52.571Z"
   },
   {
    "duration": 69,
    "start_time": "2023-06-24T10:12:52.577Z"
   },
   {
    "duration": 116,
    "start_time": "2023-06-24T10:12:52.649Z"
   },
   {
    "duration": 29,
    "start_time": "2023-06-24T10:12:52.768Z"
   },
   {
    "duration": 74,
    "start_time": "2023-06-24T10:12:52.799Z"
   },
   {
    "duration": 42,
    "start_time": "2023-06-24T10:12:52.875Z"
   },
   {
    "duration": 9,
    "start_time": "2023-06-24T10:12:52.920Z"
   },
   {
    "duration": 49,
    "start_time": "2023-06-24T10:12:52.932Z"
   },
   {
    "duration": 247,
    "start_time": "2023-06-24T10:12:52.984Z"
   },
   {
    "duration": 129,
    "start_time": "2023-06-24T10:12:53.233Z"
   },
   {
    "duration": 0,
    "start_time": "2023-06-24T10:12:53.364Z"
   },
   {
    "duration": 0,
    "start_time": "2023-06-24T10:12:53.367Z"
   },
   {
    "duration": 0,
    "start_time": "2023-06-24T10:12:53.368Z"
   },
   {
    "duration": 0,
    "start_time": "2023-06-24T10:12:53.369Z"
   },
   {
    "duration": 13,
    "start_time": "2023-06-24T10:13:15.408Z"
   },
   {
    "duration": 14,
    "start_time": "2023-06-24T10:14:18.218Z"
   },
   {
    "duration": 12,
    "start_time": "2023-06-24T10:14:34.536Z"
   },
   {
    "duration": 14,
    "start_time": "2023-06-24T10:14:45.850Z"
   },
   {
    "duration": 14,
    "start_time": "2023-06-24T10:14:50.952Z"
   },
   {
    "duration": 7,
    "start_time": "2023-06-24T10:15:09.619Z"
   },
   {
    "duration": 11,
    "start_time": "2023-06-24T10:15:12.598Z"
   },
   {
    "duration": 8,
    "start_time": "2023-06-24T10:15:42.801Z"
   },
   {
    "duration": 15,
    "start_time": "2023-06-24T10:15:46.957Z"
   },
   {
    "duration": 14,
    "start_time": "2023-06-24T10:15:59.120Z"
   },
   {
    "duration": 15,
    "start_time": "2023-06-24T10:16:20.217Z"
   },
   {
    "duration": 11,
    "start_time": "2023-06-24T10:16:27.367Z"
   },
   {
    "duration": 55,
    "start_time": "2023-06-24T10:17:25.020Z"
   },
   {
    "duration": 13,
    "start_time": "2023-06-24T10:17:43.862Z"
   },
   {
    "duration": 17,
    "start_time": "2023-06-24T10:17:53.623Z"
   },
   {
    "duration": 17,
    "start_time": "2023-06-24T10:17:58.635Z"
   },
   {
    "duration": 15,
    "start_time": "2023-06-24T10:18:09.781Z"
   },
   {
    "duration": 9,
    "start_time": "2023-06-24T10:18:14.104Z"
   },
   {
    "duration": 13,
    "start_time": "2023-06-24T10:18:17.918Z"
   },
   {
    "duration": 11,
    "start_time": "2023-06-24T10:18:28.976Z"
   },
   {
    "duration": 21,
    "start_time": "2023-06-24T10:18:34.019Z"
   },
   {
    "duration": 122,
    "start_time": "2023-06-24T10:18:40.032Z"
   },
   {
    "duration": 111,
    "start_time": "2023-06-24T10:18:53.280Z"
   },
   {
    "duration": 9,
    "start_time": "2023-06-24T10:19:12.003Z"
   },
   {
    "duration": 10,
    "start_time": "2023-06-24T10:19:14.910Z"
   },
   {
    "duration": 9,
    "start_time": "2023-06-24T10:19:17.249Z"
   },
   {
    "duration": 10,
    "start_time": "2023-06-24T10:19:19.717Z"
   },
   {
    "duration": 9,
    "start_time": "2023-06-24T10:19:22.077Z"
   },
   {
    "duration": 10,
    "start_time": "2023-06-24T10:19:24.469Z"
   },
   {
    "duration": 9,
    "start_time": "2023-06-24T10:19:29.361Z"
   },
   {
    "duration": 8,
    "start_time": "2023-06-24T10:19:32.689Z"
   },
   {
    "duration": 20,
    "start_time": "2023-06-24T10:19:46.502Z"
   },
   {
    "duration": 23,
    "start_time": "2023-06-24T10:19:55.791Z"
   },
   {
    "duration": 10,
    "start_time": "2023-06-24T10:20:05.795Z"
   },
   {
    "duration": 11,
    "start_time": "2023-06-24T10:20:11.386Z"
   },
   {
    "duration": 16,
    "start_time": "2023-06-24T10:20:13.883Z"
   },
   {
    "duration": 10,
    "start_time": "2023-06-24T10:20:16.890Z"
   },
   {
    "duration": 13,
    "start_time": "2023-06-24T10:20:20.726Z"
   },
   {
    "duration": 116,
    "start_time": "2023-06-24T10:20:33.564Z"
   },
   {
    "duration": 107,
    "start_time": "2023-06-24T10:20:40.213Z"
   },
   {
    "duration": 109,
    "start_time": "2023-06-24T10:20:48.413Z"
   },
   {
    "duration": 20,
    "start_time": "2023-06-24T10:20:51.806Z"
   },
   {
    "duration": 20,
    "start_time": "2023-06-24T10:21:16.148Z"
   },
   {
    "duration": 9,
    "start_time": "2023-06-24T10:21:21.823Z"
   },
   {
    "duration": 9,
    "start_time": "2023-06-24T10:21:25.459Z"
   },
   {
    "duration": 9,
    "start_time": "2023-06-24T10:21:29.646Z"
   },
   {
    "duration": 11,
    "start_time": "2023-06-24T10:21:32.729Z"
   },
   {
    "duration": 9,
    "start_time": "2023-06-24T10:21:35.496Z"
   },
   {
    "duration": 9,
    "start_time": "2023-06-24T10:21:41.349Z"
   },
   {
    "duration": 9,
    "start_time": "2023-06-24T10:21:44.973Z"
   },
   {
    "duration": 9,
    "start_time": "2023-06-24T10:21:49.189Z"
   },
   {
    "duration": 16,
    "start_time": "2023-06-24T10:22:16.758Z"
   },
   {
    "duration": 14,
    "start_time": "2023-06-24T10:22:25.918Z"
   },
   {
    "duration": 12,
    "start_time": "2023-06-24T10:22:31.144Z"
   },
   {
    "duration": 6,
    "start_time": "2023-06-24T10:22:40.393Z"
   },
   {
    "duration": 6,
    "start_time": "2023-06-24T10:22:52.387Z"
   },
   {
    "duration": 6,
    "start_time": "2023-06-24T10:23:03.102Z"
   },
   {
    "duration": 127,
    "start_time": "2023-06-24T10:23:08.458Z"
   },
   {
    "duration": 147,
    "start_time": "2023-06-24T10:23:13.058Z"
   },
   {
    "duration": 111,
    "start_time": "2023-06-24T10:23:21.705Z"
   },
   {
    "duration": 129,
    "start_time": "2023-06-24T10:23:24.565Z"
   },
   {
    "duration": 128,
    "start_time": "2023-06-24T10:23:26.453Z"
   },
   {
    "duration": 229,
    "start_time": "2023-06-24T10:24:00.393Z"
   },
   {
    "duration": 121,
    "start_time": "2023-06-24T10:27:10.122Z"
   },
   {
    "duration": 119,
    "start_time": "2023-06-24T10:27:21.497Z"
   },
   {
    "duration": 11,
    "start_time": "2023-06-24T10:30:10.521Z"
   },
   {
    "duration": 201,
    "start_time": "2023-06-24T10:31:44.562Z"
   },
   {
    "duration": 12,
    "start_time": "2023-06-24T10:31:48.562Z"
   },
   {
    "duration": 12,
    "start_time": "2023-06-24T10:31:58.013Z"
   },
   {
    "duration": 18,
    "start_time": "2023-06-24T10:32:10.885Z"
   },
   {
    "duration": 11,
    "start_time": "2023-06-24T10:32:19.325Z"
   },
   {
    "duration": 13,
    "start_time": "2023-06-24T10:32:50.268Z"
   },
   {
    "duration": 10,
    "start_time": "2023-06-24T10:33:11.120Z"
   },
   {
    "duration": 157,
    "start_time": "2023-06-24T10:33:22.404Z"
   },
   {
    "duration": 127,
    "start_time": "2023-06-24T10:33:37.588Z"
   },
   {
    "duration": 135,
    "start_time": "2023-06-24T10:33:42.687Z"
   },
   {
    "duration": 140,
    "start_time": "2023-06-24T10:34:07.992Z"
   },
   {
    "duration": 12,
    "start_time": "2023-06-24T10:35:01.798Z"
   },
   {
    "duration": 13,
    "start_time": "2023-06-24T10:35:24.808Z"
   },
   {
    "duration": 10,
    "start_time": "2023-06-24T10:35:34.205Z"
   },
   {
    "duration": 152,
    "start_time": "2023-06-24T10:35:42.853Z"
   },
   {
    "duration": 10830,
    "start_time": "2023-06-24T10:36:00.544Z"
   },
   {
    "duration": 13,
    "start_time": "2023-06-24T10:36:40.571Z"
   },
   {
    "duration": 132,
    "start_time": "2023-06-24T10:36:46.899Z"
   },
   {
    "duration": 126,
    "start_time": "2023-06-24T10:37:43.783Z"
   },
   {
    "duration": 158,
    "start_time": "2023-06-24T10:38:11.790Z"
   },
   {
    "duration": 122,
    "start_time": "2023-06-24T10:38:25.528Z"
   },
   {
    "duration": 962,
    "start_time": "2023-06-24T10:40:02.813Z"
   },
   {
    "duration": 136,
    "start_time": "2023-06-24T10:41:16.153Z"
   },
   {
    "duration": 131,
    "start_time": "2023-06-24T10:41:27.856Z"
   },
   {
    "duration": 117,
    "start_time": "2023-06-24T10:41:34.277Z"
   },
   {
    "duration": 119,
    "start_time": "2023-06-24T10:41:46.640Z"
   },
   {
    "duration": 120,
    "start_time": "2023-06-24T10:42:00.407Z"
   },
   {
    "duration": 124,
    "start_time": "2023-06-24T10:42:14.791Z"
   },
   {
    "duration": 115,
    "start_time": "2023-06-24T10:42:45.475Z"
   },
   {
    "duration": 136,
    "start_time": "2023-06-24T10:42:58.831Z"
   },
   {
    "duration": 109,
    "start_time": "2023-06-24T10:43:48.504Z"
   },
   {
    "duration": 146,
    "start_time": "2023-06-24T10:43:58.461Z"
   },
   {
    "duration": 120,
    "start_time": "2023-06-24T10:44:11.804Z"
   },
   {
    "duration": 21,
    "start_time": "2023-06-24T10:44:27.684Z"
   },
   {
    "duration": 26,
    "start_time": "2023-06-24T10:44:29.200Z"
   },
   {
    "duration": 58,
    "start_time": "2023-06-24T10:44:29.862Z"
   },
   {
    "duration": 7,
    "start_time": "2023-06-24T10:47:40.630Z"
   },
   {
    "duration": 62,
    "start_time": "2023-06-24T10:47:58.882Z"
   },
   {
    "duration": 44,
    "start_time": "2023-06-24T10:48:24.261Z"
   },
   {
    "duration": 59,
    "start_time": "2023-06-24T10:48:32.638Z"
   },
   {
    "duration": 10,
    "start_time": "2023-06-24T10:50:08.492Z"
   },
   {
    "duration": 77,
    "start_time": "2023-06-24T10:50:09.991Z"
   },
   {
    "duration": 58,
    "start_time": "2023-06-24T10:50:35.304Z"
   },
   {
    "duration": 1161,
    "start_time": "2023-06-24T10:51:47.099Z"
   },
   {
    "duration": 175,
    "start_time": "2023-06-24T10:51:48.263Z"
   },
   {
    "duration": 3,
    "start_time": "2023-06-24T10:51:48.441Z"
   },
   {
    "duration": 6,
    "start_time": "2023-06-24T10:51:48.446Z"
   },
   {
    "duration": 43,
    "start_time": "2023-06-24T10:51:48.455Z"
   },
   {
    "duration": 26,
    "start_time": "2023-06-24T10:51:48.500Z"
   },
   {
    "duration": 68,
    "start_time": "2023-06-24T10:51:48.528Z"
   },
   {
    "duration": 27,
    "start_time": "2023-06-24T10:51:48.598Z"
   },
   {
    "duration": 6,
    "start_time": "2023-06-24T10:51:48.627Z"
   },
   {
    "duration": 37,
    "start_time": "2023-06-24T10:51:48.635Z"
   },
   {
    "duration": 148,
    "start_time": "2023-06-24T10:51:48.674Z"
   },
   {
    "duration": 0,
    "start_time": "2023-06-24T10:51:48.824Z"
   },
   {
    "duration": 0,
    "start_time": "2023-06-24T10:51:48.825Z"
   },
   {
    "duration": 0,
    "start_time": "2023-06-24T10:51:48.827Z"
   },
   {
    "duration": 0,
    "start_time": "2023-06-24T10:51:48.829Z"
   },
   {
    "duration": 0,
    "start_time": "2023-06-24T10:51:48.831Z"
   },
   {
    "duration": 56,
    "start_time": "2023-06-24T10:52:21.285Z"
   },
   {
    "duration": 1241,
    "start_time": "2023-06-24T10:52:24.884Z"
   },
   {
    "duration": 99,
    "start_time": "2023-06-24T10:52:26.127Z"
   },
   {
    "duration": 3,
    "start_time": "2023-06-24T10:52:26.228Z"
   },
   {
    "duration": 18,
    "start_time": "2023-06-24T10:52:26.233Z"
   },
   {
    "duration": 47,
    "start_time": "2023-06-24T10:52:26.253Z"
   },
   {
    "duration": 26,
    "start_time": "2023-06-24T10:52:26.302Z"
   },
   {
    "duration": 76,
    "start_time": "2023-06-24T10:52:26.330Z"
   },
   {
    "duration": 25,
    "start_time": "2023-06-24T10:52:26.408Z"
   },
   {
    "duration": 7,
    "start_time": "2023-06-24T10:52:26.435Z"
   },
   {
    "duration": 44,
    "start_time": "2023-06-24T10:52:26.444Z"
   },
   {
    "duration": 169,
    "start_time": "2023-06-24T10:52:26.489Z"
   },
   {
    "duration": 58,
    "start_time": "2023-06-24T10:52:26.666Z"
   },
   {
    "duration": 44,
    "start_time": "2023-06-24T10:52:26.726Z"
   },
   {
    "duration": 96,
    "start_time": "2023-06-24T10:52:26.772Z"
   },
   {
    "duration": 12,
    "start_time": "2023-06-24T10:52:26.870Z"
   },
   {
    "duration": 17,
    "start_time": "2023-06-24T10:52:26.884Z"
   },
   {
    "duration": 130,
    "start_time": "2023-06-24T10:54:04.987Z"
   },
   {
    "duration": 364,
    "start_time": "2023-06-24T10:55:29.414Z"
   },
   {
    "duration": 10,
    "start_time": "2023-06-24T11:00:21.903Z"
   },
   {
    "duration": 16,
    "start_time": "2023-06-24T11:00:45.398Z"
   },
   {
    "duration": 11,
    "start_time": "2023-06-24T11:05:26.921Z"
   },
   {
    "duration": 11,
    "start_time": "2023-06-24T11:05:37.029Z"
   },
   {
    "duration": 267,
    "start_time": "2023-06-24T11:05:47.657Z"
   },
   {
    "duration": 18,
    "start_time": "2023-06-24T11:05:52.134Z"
   },
   {
    "duration": 21,
    "start_time": "2023-06-24T11:06:52.728Z"
   },
   {
    "duration": 979,
    "start_time": "2023-06-24T11:12:17.825Z"
   },
   {
    "duration": 21,
    "start_time": "2023-06-24T11:23:29.846Z"
   },
   {
    "duration": 32,
    "start_time": "2023-06-24T11:23:35.785Z"
   },
   {
    "duration": 21,
    "start_time": "2023-06-24T11:24:26.504Z"
   },
   {
    "duration": 17,
    "start_time": "2023-06-24T11:24:35.099Z"
   },
   {
    "duration": 1627,
    "start_time": "2023-06-24T11:24:57.209Z"
   },
   {
    "duration": 1728,
    "start_time": "2023-06-24T11:25:14.438Z"
   },
   {
    "duration": 15,
    "start_time": "2023-06-24T11:25:25.513Z"
   },
   {
    "duration": 1693,
    "start_time": "2023-06-24T11:25:41.431Z"
   },
   {
    "duration": 26,
    "start_time": "2023-06-24T11:26:08.626Z"
   },
   {
    "duration": 21,
    "start_time": "2023-06-24T11:26:15.812Z"
   },
   {
    "duration": 10,
    "start_time": "2023-06-24T11:27:16.068Z"
   },
   {
    "duration": 11,
    "start_time": "2023-06-24T11:27:22.542Z"
   },
   {
    "duration": 16,
    "start_time": "2023-06-24T11:27:31.022Z"
   },
   {
    "duration": 17,
    "start_time": "2023-06-24T11:28:12.441Z"
   },
   {
    "duration": 9,
    "start_time": "2023-06-24T11:28:25.471Z"
   },
   {
    "duration": 14,
    "start_time": "2023-06-24T11:28:30.708Z"
   },
   {
    "duration": 13,
    "start_time": "2023-06-24T11:28:38.508Z"
   },
   {
    "duration": 15,
    "start_time": "2023-06-24T11:28:42.011Z"
   },
   {
    "duration": 5,
    "start_time": "2023-06-24T11:29:05.711Z"
   },
   {
    "duration": 28,
    "start_time": "2023-06-24T11:29:15.766Z"
   },
   {
    "duration": 6,
    "start_time": "2023-06-24T11:30:17.807Z"
   },
   {
    "duration": 27,
    "start_time": "2023-06-24T11:30:19.082Z"
   },
   {
    "duration": 13,
    "start_time": "2023-06-24T11:33:53.155Z"
   },
   {
    "duration": 519,
    "start_time": "2023-06-24T11:34:13.277Z"
   },
   {
    "duration": 26,
    "start_time": "2023-06-24T11:35:07.525Z"
   },
   {
    "duration": 361,
    "start_time": "2023-06-24T11:36:40.476Z"
   },
   {
    "duration": 2257,
    "start_time": "2023-06-24T11:38:12.397Z"
   },
   {
    "duration": 1843,
    "start_time": "2023-06-24T11:39:07.354Z"
   },
   {
    "duration": 1870,
    "start_time": "2023-06-24T11:39:19.416Z"
   },
   {
    "duration": 10,
    "start_time": "2023-06-24T11:43:52.598Z"
   },
   {
    "duration": 5,
    "start_time": "2023-06-24T11:43:58.200Z"
   },
   {
    "duration": 7,
    "start_time": "2023-06-24T11:44:11.901Z"
   },
   {
    "duration": 8,
    "start_time": "2023-06-24T11:44:17.636Z"
   },
   {
    "duration": 7,
    "start_time": "2023-06-24T11:44:24.104Z"
   },
   {
    "duration": 2368,
    "start_time": "2023-06-24T11:46:50.126Z"
   },
   {
    "duration": 1790,
    "start_time": "2023-06-24T11:47:05.065Z"
   },
   {
    "duration": 523,
    "start_time": "2023-06-24T11:47:20.096Z"
   },
   {
    "duration": 104,
    "start_time": "2023-06-24T12:02:12.483Z"
   },
   {
    "duration": 0,
    "start_time": "2023-06-24T12:02:12.589Z"
   },
   {
    "duration": 164,
    "start_time": "2023-06-24T12:02:17.812Z"
   },
   {
    "duration": 181,
    "start_time": "2023-06-24T12:02:59.430Z"
   },
   {
    "duration": 4,
    "start_time": "2023-06-24T12:05:23.724Z"
   },
   {
    "duration": 19,
    "start_time": "2023-06-24T12:05:40.009Z"
   },
   {
    "duration": 238,
    "start_time": "2023-06-24T12:05:53.860Z"
   },
   {
    "duration": 166,
    "start_time": "2023-06-24T12:06:20.235Z"
   },
   {
    "duration": 98,
    "start_time": "2023-06-24T12:07:59.530Z"
   },
   {
    "duration": 195,
    "start_time": "2023-06-24T12:08:55.515Z"
   },
   {
    "duration": 107,
    "start_time": "2023-06-24T12:10:40.180Z"
   },
   {
    "duration": 172,
    "start_time": "2023-06-24T12:11:27.709Z"
   },
   {
    "duration": 190,
    "start_time": "2023-06-24T12:13:23.607Z"
   },
   {
    "duration": 237,
    "start_time": "2023-06-24T12:13:24.012Z"
   },
   {
    "duration": 87397,
    "start_time": "2023-06-24T12:13:24.715Z"
   },
   {
    "duration": 229,
    "start_time": "2023-06-24T12:14:52.115Z"
   },
   {
    "duration": 32,
    "start_time": "2023-06-24T12:14:52.347Z"
   },
   {
    "duration": 0,
    "start_time": "2023-06-24T12:14:52.383Z"
   },
   {
    "duration": 162,
    "start_time": "2023-06-24T12:15:05.897Z"
   },
   {
    "duration": 216,
    "start_time": "2023-06-24T12:15:25.297Z"
   },
   {
    "duration": 19,
    "start_time": "2023-06-24T12:31:16.317Z"
   },
   {
    "duration": 12,
    "start_time": "2023-06-24T12:32:34.311Z"
   },
   {
    "duration": 21,
    "start_time": "2023-06-24T12:32:43.153Z"
   },
   {
    "duration": 6,
    "start_time": "2023-06-24T12:32:59.632Z"
   },
   {
    "duration": 28,
    "start_time": "2023-06-24T12:33:08.210Z"
   },
   {
    "duration": 10,
    "start_time": "2023-06-24T12:33:11.423Z"
   },
   {
    "duration": 6,
    "start_time": "2023-06-24T12:33:19.006Z"
   },
   {
    "duration": 11,
    "start_time": "2023-06-24T12:36:26.329Z"
   },
   {
    "duration": 19,
    "start_time": "2023-06-24T12:36:50.728Z"
   },
   {
    "duration": 8,
    "start_time": "2023-06-24T12:36:55.109Z"
   },
   {
    "duration": 19,
    "start_time": "2023-06-24T12:46:07.666Z"
   },
   {
    "duration": 11,
    "start_time": "2023-06-24T12:46:12.227Z"
   },
   {
    "duration": 3737,
    "start_time": "2023-06-24T12:56:17.952Z"
   },
   {
    "duration": 25,
    "start_time": "2023-06-24T12:56:21.691Z"
   },
   {
    "duration": 22,
    "start_time": "2023-06-24T12:59:00.274Z"
   },
   {
    "duration": 12,
    "start_time": "2023-06-24T12:59:11.818Z"
   },
   {
    "duration": 14,
    "start_time": "2023-06-24T13:00:01.687Z"
   },
   {
    "duration": 1439,
    "start_time": "2023-06-24T13:25:44.889Z"
   },
   {
    "duration": 11,
    "start_time": "2023-06-24T13:25:46.330Z"
   },
   {
    "duration": 0,
    "start_time": "2023-06-24T13:25:46.343Z"
   },
   {
    "duration": 20479,
    "start_time": "2023-06-24T13:30:06.837Z"
   },
   {
    "duration": 3,
    "start_time": "2023-06-24T13:33:08.932Z"
   },
   {
    "duration": 1695,
    "start_time": "2023-06-24T13:33:13.648Z"
   },
   {
    "duration": 109,
    "start_time": "2023-06-24T13:33:15.345Z"
   },
   {
    "duration": 3,
    "start_time": "2023-06-24T13:33:15.457Z"
   },
   {
    "duration": 19,
    "start_time": "2023-06-24T13:33:15.463Z"
   },
   {
    "duration": 41,
    "start_time": "2023-06-24T13:33:15.485Z"
   },
   {
    "duration": 29,
    "start_time": "2023-06-24T13:33:15.528Z"
   },
   {
    "duration": 59,
    "start_time": "2023-06-24T13:33:15.559Z"
   },
   {
    "duration": 52,
    "start_time": "2023-06-24T13:33:15.620Z"
   },
   {
    "duration": 11,
    "start_time": "2023-06-24T13:33:15.674Z"
   },
   {
    "duration": 35,
    "start_time": "2023-06-24T13:33:15.688Z"
   },
   {
    "duration": 138,
    "start_time": "2023-06-24T13:33:15.725Z"
   },
   {
    "duration": 70,
    "start_time": "2023-06-24T13:33:15.867Z"
   },
   {
    "duration": 46,
    "start_time": "2023-06-24T13:33:15.939Z"
   },
   {
    "duration": 65,
    "start_time": "2023-06-24T13:33:15.987Z"
   },
   {
    "duration": 26,
    "start_time": "2023-06-24T13:33:16.054Z"
   },
   {
    "duration": 13,
    "start_time": "2023-06-24T13:33:16.082Z"
   },
   {
    "duration": 10,
    "start_time": "2023-06-24T13:33:16.097Z"
   },
   {
    "duration": 192,
    "start_time": "2023-06-24T13:33:16.109Z"
   },
   {
    "duration": 194,
    "start_time": "2023-06-24T13:33:16.302Z"
   },
   {
    "duration": 177,
    "start_time": "2023-06-24T13:33:16.498Z"
   },
   {
    "duration": 171,
    "start_time": "2023-06-24T13:33:16.676Z"
   },
   {
    "duration": 35,
    "start_time": "2023-06-24T13:33:16.850Z"
   },
   {
    "duration": 5,
    "start_time": "2023-06-24T13:33:16.887Z"
   },
   {
    "duration": 13,
    "start_time": "2023-06-24T13:33:16.893Z"
   },
   {
    "duration": 20280,
    "start_time": "2023-06-24T13:33:16.909Z"
   },
   {
    "duration": 134,
    "start_time": "2023-06-24T13:33:37.192Z"
   },
   {
    "duration": 13,
    "start_time": "2023-06-24T13:38:15.245Z"
   },
   {
    "duration": 42,
    "start_time": "2023-06-24T13:38:42.053Z"
   },
   {
    "duration": 16,
    "start_time": "2023-06-24T13:38:46.723Z"
   },
   {
    "duration": 4,
    "start_time": "2023-06-24T13:39:17.265Z"
   },
   {
    "duration": 8145,
    "start_time": "2023-06-24T13:39:21.308Z"
   },
   {
    "duration": 20,
    "start_time": "2023-06-24T13:40:27.067Z"
   },
   {
    "duration": 8627,
    "start_time": "2023-06-24T13:40:30.460Z"
   },
   {
    "duration": 8802,
    "start_time": "2023-06-24T13:40:54.154Z"
   },
   {
    "duration": 6,
    "start_time": "2023-06-24T13:41:46.743Z"
   },
   {
    "duration": 8832,
    "start_time": "2023-06-24T13:41:50.707Z"
   },
   {
    "duration": 8304,
    "start_time": "2023-06-24T13:42:12.776Z"
   },
   {
    "duration": 10,
    "start_time": "2023-06-24T13:49:51.667Z"
   },
   {
    "duration": 27,
    "start_time": "2023-06-24T13:50:05.009Z"
   },
   {
    "duration": 25,
    "start_time": "2023-06-24T13:50:09.206Z"
   },
   {
    "duration": 17,
    "start_time": "2023-06-24T13:50:39.306Z"
   },
   {
    "duration": 1566,
    "start_time": "2023-06-24T13:51:51.004Z"
   },
   {
    "duration": 94,
    "start_time": "2023-06-24T13:51:52.572Z"
   },
   {
    "duration": 3,
    "start_time": "2023-06-24T13:51:52.668Z"
   },
   {
    "duration": 17,
    "start_time": "2023-06-24T13:51:52.673Z"
   },
   {
    "duration": 39,
    "start_time": "2023-06-24T13:51:52.692Z"
   },
   {
    "duration": 46,
    "start_time": "2023-06-24T13:51:52.733Z"
   },
   {
    "duration": 50,
    "start_time": "2023-06-24T13:51:52.782Z"
   },
   {
    "duration": 53,
    "start_time": "2023-06-24T13:51:52.834Z"
   },
   {
    "duration": 13,
    "start_time": "2023-06-24T13:51:52.889Z"
   },
   {
    "duration": 23,
    "start_time": "2023-06-24T13:51:52.904Z"
   },
   {
    "duration": 154,
    "start_time": "2023-06-24T13:51:52.929Z"
   },
   {
    "duration": 64,
    "start_time": "2023-06-24T13:51:53.085Z"
   },
   {
    "duration": 42,
    "start_time": "2023-06-24T13:51:53.151Z"
   },
   {
    "duration": 88,
    "start_time": "2023-06-24T13:51:53.196Z"
   },
   {
    "duration": 9,
    "start_time": "2023-06-24T13:51:53.286Z"
   },
   {
    "duration": 13,
    "start_time": "2023-06-24T13:51:53.297Z"
   },
   {
    "duration": 3,
    "start_time": "2023-06-24T13:51:53.312Z"
   },
   {
    "duration": 192,
    "start_time": "2023-06-24T13:51:53.317Z"
   },
   {
    "duration": 186,
    "start_time": "2023-06-24T13:51:53.511Z"
   },
   {
    "duration": 299,
    "start_time": "2023-06-24T13:51:53.699Z"
   },
   {
    "duration": 249,
    "start_time": "2023-06-24T13:51:54.000Z"
   },
   {
    "duration": 30,
    "start_time": "2023-06-24T13:51:54.251Z"
   },
   {
    "duration": 5,
    "start_time": "2023-06-24T13:51:54.282Z"
   },
   {
    "duration": 10,
    "start_time": "2023-06-24T13:51:54.289Z"
   },
   {
    "duration": 18825,
    "start_time": "2023-06-24T13:51:54.301Z"
   },
   {
    "duration": 153,
    "start_time": "2023-06-24T13:52:13.128Z"
   },
   {
    "duration": 15,
    "start_time": "2023-06-24T13:52:44.399Z"
   },
   {
    "duration": 41,
    "start_time": "2023-06-24T13:53:18.714Z"
   },
   {
    "duration": 89,
    "start_time": "2023-06-24T13:53:21.637Z"
   },
   {
    "duration": 1647,
    "start_time": "2023-06-24T14:03:26.852Z"
   },
   {
    "duration": 95,
    "start_time": "2023-06-24T14:03:28.501Z"
   },
   {
    "duration": 3,
    "start_time": "2023-06-24T14:03:28.598Z"
   },
   {
    "duration": 24,
    "start_time": "2023-06-24T14:03:28.603Z"
   },
   {
    "duration": 50,
    "start_time": "2023-06-24T14:03:28.629Z"
   },
   {
    "duration": 28,
    "start_time": "2023-06-24T14:03:28.681Z"
   },
   {
    "duration": 78,
    "start_time": "2023-06-24T14:03:28.710Z"
   },
   {
    "duration": 28,
    "start_time": "2023-06-24T14:03:28.791Z"
   },
   {
    "duration": 8,
    "start_time": "2023-06-24T14:03:28.821Z"
   },
   {
    "duration": 39,
    "start_time": "2023-06-24T14:03:28.832Z"
   },
   {
    "duration": 143,
    "start_time": "2023-06-24T14:03:28.873Z"
   },
   {
    "duration": 69,
    "start_time": "2023-06-24T14:03:29.018Z"
   },
   {
    "duration": 27,
    "start_time": "2023-06-24T14:03:29.089Z"
   },
   {
    "duration": 81,
    "start_time": "2023-06-24T14:03:29.118Z"
   },
   {
    "duration": 10,
    "start_time": "2023-06-24T14:03:29.200Z"
   },
   {
    "duration": 15,
    "start_time": "2023-06-24T14:03:29.211Z"
   },
   {
    "duration": 4,
    "start_time": "2023-06-24T14:03:29.228Z"
   },
   {
    "duration": 200,
    "start_time": "2023-06-24T14:03:29.234Z"
   },
   {
    "duration": 179,
    "start_time": "2023-06-24T14:03:29.436Z"
   },
   {
    "duration": 283,
    "start_time": "2023-06-24T14:03:29.617Z"
   },
   {
    "duration": 167,
    "start_time": "2023-06-24T14:03:29.902Z"
   },
   {
    "duration": 20,
    "start_time": "2023-06-24T14:03:30.072Z"
   },
   {
    "duration": 18,
    "start_time": "2023-06-24T14:03:30.094Z"
   },
   {
    "duration": 29,
    "start_time": "2023-06-24T14:03:30.114Z"
   },
   {
    "duration": 18298,
    "start_time": "2023-06-24T14:03:30.145Z"
   },
   {
    "duration": 152,
    "start_time": "2023-06-24T14:03:48.447Z"
   },
   {
    "duration": 24,
    "start_time": "2023-06-24T14:08:05.454Z"
   },
   {
    "duration": 16,
    "start_time": "2023-06-24T14:14:41.952Z"
   },
   {
    "duration": 13,
    "start_time": "2023-06-24T14:14:57.843Z"
   },
   {
    "duration": 13,
    "start_time": "2023-06-24T14:15:09.413Z"
   },
   {
    "duration": 13,
    "start_time": "2023-06-24T14:18:14.659Z"
   },
   {
    "duration": 15,
    "start_time": "2023-06-24T14:18:30.699Z"
   },
   {
    "duration": 14,
    "start_time": "2023-06-24T14:18:43.340Z"
   },
   {
    "duration": 11,
    "start_time": "2023-06-24T14:18:55.010Z"
   },
   {
    "duration": 15,
    "start_time": "2023-06-24T14:19:10.715Z"
   },
   {
    "duration": 12,
    "start_time": "2023-06-24T14:19:53.267Z"
   },
   {
    "duration": 8834,
    "start_time": "2023-06-24T14:20:04.512Z"
   },
   {
    "duration": 1877,
    "start_time": "2023-06-24T14:20:32.869Z"
   },
   {
    "duration": 95,
    "start_time": "2023-06-24T14:20:34.749Z"
   },
   {
    "duration": 3,
    "start_time": "2023-06-24T14:20:34.846Z"
   },
   {
    "duration": 6,
    "start_time": "2023-06-24T14:20:34.852Z"
   },
   {
    "duration": 44,
    "start_time": "2023-06-24T14:20:34.860Z"
   },
   {
    "duration": 28,
    "start_time": "2023-06-24T14:20:34.906Z"
   },
   {
    "duration": 67,
    "start_time": "2023-06-24T14:20:34.936Z"
   },
   {
    "duration": 29,
    "start_time": "2023-06-24T14:20:35.005Z"
   },
   {
    "duration": 35,
    "start_time": "2023-06-24T14:20:35.037Z"
   },
   {
    "duration": 18,
    "start_time": "2023-06-24T14:20:35.075Z"
   },
   {
    "duration": 150,
    "start_time": "2023-06-24T14:20:35.095Z"
   },
   {
    "duration": 67,
    "start_time": "2023-06-24T14:20:35.247Z"
   },
   {
    "duration": 52,
    "start_time": "2023-06-24T14:20:35.315Z"
   },
   {
    "duration": 70,
    "start_time": "2023-06-24T14:20:35.369Z"
   },
   {
    "duration": 27,
    "start_time": "2023-06-24T14:20:35.441Z"
   },
   {
    "duration": 27,
    "start_time": "2023-06-24T14:20:35.470Z"
   },
   {
    "duration": 20,
    "start_time": "2023-06-24T14:20:35.498Z"
   },
   {
    "duration": 211,
    "start_time": "2023-06-24T14:20:35.520Z"
   },
   {
    "duration": 194,
    "start_time": "2023-06-24T14:20:35.733Z"
   },
   {
    "duration": 302,
    "start_time": "2023-06-24T14:20:35.929Z"
   },
   {
    "duration": 172,
    "start_time": "2023-06-24T14:20:36.233Z"
   },
   {
    "duration": 21,
    "start_time": "2023-06-24T14:20:36.406Z"
   },
   {
    "duration": 14,
    "start_time": "2023-06-24T14:20:36.429Z"
   },
   {
    "duration": 28,
    "start_time": "2023-06-24T14:20:36.446Z"
   },
   {
    "duration": 18856,
    "start_time": "2023-06-24T14:20:36.476Z"
   },
   {
    "duration": 8921,
    "start_time": "2023-06-24T14:20:55.334Z"
   },
   {
    "duration": 18,
    "start_time": "2023-06-24T14:23:34.770Z"
   },
   {
    "duration": 8560,
    "start_time": "2023-06-24T14:23:41.829Z"
   },
   {
    "duration": 17,
    "start_time": "2023-06-24T14:25:03.230Z"
   },
   {
    "duration": 8387,
    "start_time": "2023-06-24T14:25:27.892Z"
   },
   {
    "duration": 1760,
    "start_time": "2023-06-24T14:29:17.330Z"
   },
   {
    "duration": 97,
    "start_time": "2023-06-24T14:29:19.093Z"
   },
   {
    "duration": 3,
    "start_time": "2023-06-24T14:29:19.192Z"
   },
   {
    "duration": 8,
    "start_time": "2023-06-24T14:29:19.198Z"
   },
   {
    "duration": 54,
    "start_time": "2023-06-24T14:29:19.208Z"
   },
   {
    "duration": 33,
    "start_time": "2023-06-24T14:29:19.266Z"
   },
   {
    "duration": 76,
    "start_time": "2023-06-24T14:29:19.301Z"
   },
   {
    "duration": 39,
    "start_time": "2023-06-24T14:29:19.379Z"
   },
   {
    "duration": 8,
    "start_time": "2023-06-24T14:29:19.421Z"
   },
   {
    "duration": 45,
    "start_time": "2023-06-24T14:29:19.433Z"
   },
   {
    "duration": 153,
    "start_time": "2023-06-24T14:29:19.480Z"
   },
   {
    "duration": 84,
    "start_time": "2023-06-24T14:29:19.635Z"
   },
   {
    "duration": 46,
    "start_time": "2023-06-24T14:29:19.721Z"
   },
   {
    "duration": 73,
    "start_time": "2023-06-24T14:29:19.770Z"
   },
   {
    "duration": 3,
    "start_time": "2023-06-24T14:29:19.845Z"
   },
   {
    "duration": 14,
    "start_time": "2023-06-24T14:29:19.869Z"
   },
   {
    "duration": 4,
    "start_time": "2023-06-24T14:29:19.885Z"
   },
   {
    "duration": 210,
    "start_time": "2023-06-24T14:29:19.891Z"
   },
   {
    "duration": 187,
    "start_time": "2023-06-24T14:29:20.103Z"
   },
   {
    "duration": 285,
    "start_time": "2023-06-24T14:29:20.292Z"
   },
   {
    "duration": 188,
    "start_time": "2023-06-24T14:29:20.579Z"
   },
   {
    "duration": 26,
    "start_time": "2023-06-24T14:29:20.769Z"
   },
   {
    "duration": 12,
    "start_time": "2023-06-24T14:29:20.797Z"
   },
   {
    "duration": 21,
    "start_time": "2023-06-24T14:29:20.812Z"
   },
   {
    "duration": 17204,
    "start_time": "2023-06-24T14:29:20.835Z"
   },
   {
    "duration": 8583,
    "start_time": "2023-06-24T14:29:38.041Z"
   },
   {
    "duration": 1605,
    "start_time": "2023-06-24T14:30:11.798Z"
   },
   {
    "duration": 95,
    "start_time": "2023-06-24T14:30:13.408Z"
   },
   {
    "duration": 3,
    "start_time": "2023-06-24T14:30:13.505Z"
   },
   {
    "duration": 12,
    "start_time": "2023-06-24T14:30:13.511Z"
   },
   {
    "duration": 42,
    "start_time": "2023-06-24T14:30:13.525Z"
   },
   {
    "duration": 31,
    "start_time": "2023-06-24T14:30:13.569Z"
   },
   {
    "duration": 84,
    "start_time": "2023-06-24T14:30:13.602Z"
   },
   {
    "duration": 34,
    "start_time": "2023-06-24T14:30:13.688Z"
   },
   {
    "duration": 8,
    "start_time": "2023-06-24T14:30:13.723Z"
   },
   {
    "duration": 49,
    "start_time": "2023-06-24T14:30:13.733Z"
   },
   {
    "duration": 168,
    "start_time": "2023-06-24T14:30:13.784Z"
   },
   {
    "duration": 97,
    "start_time": "2023-06-24T14:30:13.954Z"
   },
   {
    "duration": 47,
    "start_time": "2023-06-24T14:30:14.055Z"
   },
   {
    "duration": 107,
    "start_time": "2023-06-24T14:30:14.105Z"
   },
   {
    "duration": 16,
    "start_time": "2023-06-24T14:30:14.214Z"
   },
   {
    "duration": 54,
    "start_time": "2023-06-24T14:30:14.233Z"
   },
   {
    "duration": 24,
    "start_time": "2023-06-24T14:30:14.290Z"
   },
   {
    "duration": 224,
    "start_time": "2023-06-24T14:30:14.316Z"
   },
   {
    "duration": 193,
    "start_time": "2023-06-24T14:30:14.541Z"
   },
   {
    "duration": 278,
    "start_time": "2023-06-24T14:30:14.736Z"
   },
   {
    "duration": 178,
    "start_time": "2023-06-24T14:30:15.017Z"
   },
   {
    "duration": 23,
    "start_time": "2023-06-24T14:30:15.198Z"
   },
   {
    "duration": 21,
    "start_time": "2023-06-24T14:30:15.224Z"
   },
   {
    "duration": 37,
    "start_time": "2023-06-24T14:30:15.248Z"
   },
   {
    "duration": 19803,
    "start_time": "2023-06-24T14:30:15.287Z"
   },
   {
    "duration": 8660,
    "start_time": "2023-06-24T14:30:35.093Z"
   },
   {
    "duration": 5,
    "start_time": "2023-06-24T14:35:01.086Z"
   },
   {
    "duration": 57,
    "start_time": "2023-06-24T14:36:01.048Z"
   },
   {
    "duration": 79,
    "start_time": "2023-06-24T14:36:08.075Z"
   },
   {
    "duration": 113,
    "start_time": "2023-06-24T14:36:33.794Z"
   },
   {
    "duration": 5,
    "start_time": "2023-06-24T14:36:48.218Z"
   },
   {
    "duration": 13,
    "start_time": "2023-06-24T14:36:50.158Z"
   },
   {
    "duration": 988,
    "start_time": "2023-06-24T14:36:57.455Z"
   },
   {
    "duration": 14610,
    "start_time": "2023-06-24T14:37:34.722Z"
   },
   {
    "duration": 3668,
    "start_time": "2023-06-24T14:53:24.785Z"
   },
   {
    "duration": 21,
    "start_time": "2023-06-24T15:36:54.664Z"
   },
   {
    "duration": 17677,
    "start_time": "2023-06-24T15:40:00.912Z"
   },
   {
    "duration": 3915,
    "start_time": "2023-06-24T15:40:18.592Z"
   },
   {
    "duration": 54,
    "start_time": "2023-06-25T07:19:54.553Z"
   },
   {
    "duration": 1577,
    "start_time": "2023-06-25T07:20:16.933Z"
   },
   {
    "duration": 0,
    "start_time": "2023-06-25T07:20:18.512Z"
   },
   {
    "duration": 0,
    "start_time": "2023-06-25T07:20:18.513Z"
   },
   {
    "duration": 0,
    "start_time": "2023-06-25T07:20:18.515Z"
   },
   {
    "duration": 0,
    "start_time": "2023-06-25T07:20:18.517Z"
   },
   {
    "duration": 0,
    "start_time": "2023-06-25T07:20:18.518Z"
   },
   {
    "duration": 0,
    "start_time": "2023-06-25T07:20:18.520Z"
   },
   {
    "duration": 0,
    "start_time": "2023-06-25T07:20:18.521Z"
   },
   {
    "duration": 0,
    "start_time": "2023-06-25T07:20:18.522Z"
   },
   {
    "duration": 0,
    "start_time": "2023-06-25T07:20:18.524Z"
   },
   {
    "duration": 0,
    "start_time": "2023-06-25T07:20:18.525Z"
   },
   {
    "duration": 0,
    "start_time": "2023-06-25T07:20:18.526Z"
   },
   {
    "duration": 0,
    "start_time": "2023-06-25T07:20:18.545Z"
   },
   {
    "duration": 0,
    "start_time": "2023-06-25T07:20:18.546Z"
   },
   {
    "duration": 0,
    "start_time": "2023-06-25T07:20:18.548Z"
   },
   {
    "duration": 0,
    "start_time": "2023-06-25T07:20:18.575Z"
   },
   {
    "duration": 0,
    "start_time": "2023-06-25T07:20:18.575Z"
   },
   {
    "duration": 0,
    "start_time": "2023-06-25T07:20:18.576Z"
   },
   {
    "duration": 0,
    "start_time": "2023-06-25T07:20:18.576Z"
   },
   {
    "duration": 0,
    "start_time": "2023-06-25T07:20:18.588Z"
   },
   {
    "duration": 0,
    "start_time": "2023-06-25T07:20:18.589Z"
   },
   {
    "duration": 0,
    "start_time": "2023-06-25T07:20:18.591Z"
   },
   {
    "duration": 87,
    "start_time": "2023-06-25T07:21:17.421Z"
   },
   {
    "duration": 134,
    "start_time": "2023-06-25T07:21:20.271Z"
   },
   {
    "duration": 3073,
    "start_time": "2023-06-25T07:21:40.909Z"
   },
   {
    "duration": 1500,
    "start_time": "2023-06-25T07:21:49.369Z"
   },
   {
    "duration": 332,
    "start_time": "2023-06-25T07:21:50.871Z"
   },
   {
    "duration": 3,
    "start_time": "2023-06-25T07:21:51.205Z"
   },
   {
    "duration": 6,
    "start_time": "2023-06-25T07:21:51.210Z"
   },
   {
    "duration": 50,
    "start_time": "2023-06-25T07:21:51.217Z"
   },
   {
    "duration": 27,
    "start_time": "2023-06-25T07:21:51.269Z"
   },
   {
    "duration": 52,
    "start_time": "2023-06-25T07:21:51.298Z"
   },
   {
    "duration": 51,
    "start_time": "2023-06-25T07:21:51.351Z"
   },
   {
    "duration": 10,
    "start_time": "2023-06-25T07:21:51.404Z"
   },
   {
    "duration": 33,
    "start_time": "2023-06-25T07:21:51.417Z"
   },
   {
    "duration": 141,
    "start_time": "2023-06-25T07:21:51.452Z"
   },
   {
    "duration": 53,
    "start_time": "2023-06-25T07:21:51.595Z"
   },
   {
    "duration": 39,
    "start_time": "2023-06-25T07:21:51.649Z"
   },
   {
    "duration": 66,
    "start_time": "2023-06-25T07:21:51.690Z"
   },
   {
    "duration": 8,
    "start_time": "2023-06-25T07:21:51.757Z"
   },
   {
    "duration": 39,
    "start_time": "2023-06-25T07:21:51.766Z"
   },
   {
    "duration": 17,
    "start_time": "2023-06-25T07:21:51.806Z"
   },
   {
    "duration": 72,
    "start_time": "2023-06-25T07:21:51.824Z"
   },
   {
    "duration": 4,
    "start_time": "2023-06-25T07:21:51.897Z"
   },
   {
    "duration": 9,
    "start_time": "2023-06-25T07:21:51.903Z"
   },
   {
    "duration": 880,
    "start_time": "2023-06-25T07:21:51.914Z"
   },
   {
    "duration": 124,
    "start_time": "2023-06-25T07:21:52.796Z"
   },
   {
    "duration": 0,
    "start_time": "2023-06-25T07:21:52.922Z"
   },
   {
    "duration": 10,
    "start_time": "2023-06-25T07:22:28.258Z"
   },
   {
    "duration": 1124,
    "start_time": "2023-06-25T07:22:42.320Z"
   },
   {
    "duration": 761,
    "start_time": "2023-06-25T07:24:09.504Z"
   },
   {
    "duration": 964,
    "start_time": "2023-06-25T07:24:20.303Z"
   },
   {
    "duration": 2979,
    "start_time": "2023-06-25T07:24:43.903Z"
   },
   {
    "duration": 3028,
    "start_time": "2023-06-25T07:24:58.764Z"
   },
   {
    "duration": 2950,
    "start_time": "2023-06-25T07:25:10.048Z"
   },
   {
    "duration": 3515,
    "start_time": "2023-06-25T07:26:49.724Z"
   },
   {
    "duration": 4077,
    "start_time": "2023-06-25T07:27:34.078Z"
   },
   {
    "duration": 3561,
    "start_time": "2023-06-25T07:27:48.708Z"
   },
   {
    "duration": 958,
    "start_time": "2023-06-25T07:28:36.867Z"
   },
   {
    "duration": 1871,
    "start_time": "2023-06-25T07:28:59.486Z"
   },
   {
    "duration": 2490,
    "start_time": "2023-06-25T07:30:53.221Z"
   },
   {
    "duration": 2497,
    "start_time": "2023-06-25T07:36:15.979Z"
   },
   {
    "duration": 1140,
    "start_time": "2023-06-25T07:36:38.185Z"
   },
   {
    "duration": 1206,
    "start_time": "2023-06-25T07:37:15.897Z"
   },
   {
    "duration": 1668,
    "start_time": "2023-06-25T07:39:15.074Z"
   },
   {
    "duration": 100,
    "start_time": "2023-06-25T07:39:16.744Z"
   },
   {
    "duration": 2,
    "start_time": "2023-06-25T07:39:16.846Z"
   },
   {
    "duration": 7,
    "start_time": "2023-06-25T07:39:16.851Z"
   },
   {
    "duration": 47,
    "start_time": "2023-06-25T07:39:16.859Z"
   },
   {
    "duration": 31,
    "start_time": "2023-06-25T07:39:16.908Z"
   },
   {
    "duration": 75,
    "start_time": "2023-06-25T07:39:16.940Z"
   },
   {
    "duration": 25,
    "start_time": "2023-06-25T07:39:17.017Z"
   },
   {
    "duration": 5,
    "start_time": "2023-06-25T07:39:17.044Z"
   },
   {
    "duration": 18,
    "start_time": "2023-06-25T07:39:17.051Z"
   },
   {
    "duration": 128,
    "start_time": "2023-06-25T07:39:17.070Z"
   },
   {
    "duration": 56,
    "start_time": "2023-06-25T07:39:17.199Z"
   },
   {
    "duration": 44,
    "start_time": "2023-06-25T07:39:17.257Z"
   },
   {
    "duration": 55,
    "start_time": "2023-06-25T07:39:17.303Z"
   },
   {
    "duration": 29,
    "start_time": "2023-06-25T07:39:17.360Z"
   },
   {
    "duration": 23,
    "start_time": "2023-06-25T07:39:17.390Z"
   },
   {
    "duration": 19,
    "start_time": "2023-06-25T07:39:17.415Z"
   },
   {
    "duration": 86,
    "start_time": "2023-06-25T07:39:17.435Z"
   },
   {
    "duration": 4,
    "start_time": "2023-06-25T07:39:17.523Z"
   },
   {
    "duration": 268,
    "start_time": "2023-06-25T07:39:17.529Z"
   },
   {
    "duration": 0,
    "start_time": "2023-06-25T07:39:17.799Z"
   },
   {
    "duration": 0,
    "start_time": "2023-06-25T07:39:17.800Z"
   },
   {
    "duration": 6,
    "start_time": "2023-06-25T07:39:51.630Z"
   },
   {
    "duration": 890,
    "start_time": "2023-06-25T07:39:52.484Z"
   },
   {
    "duration": 1333,
    "start_time": "2023-06-25T07:39:54.114Z"
   },
   {
    "duration": 115,
    "start_time": "2023-06-25T07:55:18.472Z"
   },
   {
    "duration": 98,
    "start_time": "2023-06-25T07:56:32.492Z"
   },
   {
    "duration": 200,
    "start_time": "2023-06-25T08:05:48.824Z"
   },
   {
    "duration": 17,
    "start_time": "2023-06-25T08:07:25.096Z"
   },
   {
    "duration": 1481,
    "start_time": "2023-06-25T08:10:46.271Z"
   },
   {
    "duration": 90,
    "start_time": "2023-06-25T08:10:47.754Z"
   },
   {
    "duration": 3,
    "start_time": "2023-06-25T08:10:47.845Z"
   },
   {
    "duration": 7,
    "start_time": "2023-06-25T08:10:47.850Z"
   },
   {
    "duration": 36,
    "start_time": "2023-06-25T08:10:47.859Z"
   },
   {
    "duration": 23,
    "start_time": "2023-06-25T08:10:47.896Z"
   },
   {
    "duration": 55,
    "start_time": "2023-06-25T08:10:47.920Z"
   },
   {
    "duration": 23,
    "start_time": "2023-06-25T08:10:47.976Z"
   },
   {
    "duration": 5,
    "start_time": "2023-06-25T08:10:48.001Z"
   },
   {
    "duration": 17,
    "start_time": "2023-06-25T08:10:48.008Z"
   },
   {
    "duration": 123,
    "start_time": "2023-06-25T08:10:48.026Z"
   },
   {
    "duration": 59,
    "start_time": "2023-06-25T08:10:48.151Z"
   },
   {
    "duration": 22,
    "start_time": "2023-06-25T08:10:48.212Z"
   },
   {
    "duration": 66,
    "start_time": "2023-06-25T08:10:48.236Z"
   },
   {
    "duration": 9,
    "start_time": "2023-06-25T08:10:48.304Z"
   },
   {
    "duration": 16,
    "start_time": "2023-06-25T08:10:48.314Z"
   },
   {
    "duration": 16,
    "start_time": "2023-06-25T08:10:48.331Z"
   },
   {
    "duration": 82,
    "start_time": "2023-06-25T08:10:48.348Z"
   },
   {
    "duration": 3,
    "start_time": "2023-06-25T08:10:48.432Z"
   },
   {
    "duration": 9,
    "start_time": "2023-06-25T08:10:48.437Z"
   },
   {
    "duration": 844,
    "start_time": "2023-06-25T08:10:48.448Z"
   },
   {
    "duration": 11,
    "start_time": "2023-06-25T08:10:49.294Z"
   },
   {
    "duration": 1647,
    "start_time": "2023-06-25T08:10:49.307Z"
   },
   {
    "duration": 136,
    "start_time": "2023-06-25T08:11:26.182Z"
   },
   {
    "duration": 1535,
    "start_time": "2023-06-25T08:12:47.811Z"
   },
   {
    "duration": 95,
    "start_time": "2023-06-25T08:12:49.348Z"
   },
   {
    "duration": 3,
    "start_time": "2023-06-25T08:12:49.444Z"
   },
   {
    "duration": 16,
    "start_time": "2023-06-25T08:12:49.448Z"
   },
   {
    "duration": 44,
    "start_time": "2023-06-25T08:12:49.466Z"
   },
   {
    "duration": 24,
    "start_time": "2023-06-25T08:12:49.512Z"
   },
   {
    "duration": 52,
    "start_time": "2023-06-25T08:12:49.538Z"
   },
   {
    "duration": 23,
    "start_time": "2023-06-25T08:12:49.591Z"
   },
   {
    "duration": 6,
    "start_time": "2023-06-25T08:12:49.616Z"
   },
   {
    "duration": 18,
    "start_time": "2023-06-25T08:12:49.624Z"
   },
   {
    "duration": 133,
    "start_time": "2023-06-25T08:12:49.644Z"
   },
   {
    "duration": 48,
    "start_time": "2023-06-25T08:12:49.779Z"
   },
   {
    "duration": 22,
    "start_time": "2023-06-25T08:12:49.829Z"
   },
   {
    "duration": 76,
    "start_time": "2023-06-25T08:12:49.852Z"
   },
   {
    "duration": 9,
    "start_time": "2023-06-25T08:12:49.930Z"
   },
   {
    "duration": 15,
    "start_time": "2023-06-25T08:12:49.941Z"
   },
   {
    "duration": 32,
    "start_time": "2023-06-25T08:12:49.958Z"
   },
   {
    "duration": 84,
    "start_time": "2023-06-25T08:12:49.992Z"
   },
   {
    "duration": 4,
    "start_time": "2023-06-25T08:12:50.077Z"
   },
   {
    "duration": 37,
    "start_time": "2023-06-25T08:12:50.083Z"
   },
   {
    "duration": 908,
    "start_time": "2023-06-25T08:12:50.121Z"
   },
   {
    "duration": 28,
    "start_time": "2023-06-25T08:12:51.030Z"
   },
   {
    "duration": 1792,
    "start_time": "2023-06-25T08:12:51.075Z"
   },
   {
    "duration": 46,
    "start_time": "2023-06-25T08:14:03.658Z"
   },
   {
    "duration": 787,
    "start_time": "2023-06-25T08:15:36.540Z"
   },
   {
    "duration": 120,
    "start_time": "2023-06-25T08:17:00.558Z"
   },
   {
    "duration": 1533,
    "start_time": "2023-06-25T08:17:08.181Z"
   },
   {
    "duration": 97,
    "start_time": "2023-06-25T08:17:09.716Z"
   },
   {
    "duration": 2,
    "start_time": "2023-06-25T08:17:09.815Z"
   },
   {
    "duration": 17,
    "start_time": "2023-06-25T08:17:09.819Z"
   },
   {
    "duration": 52,
    "start_time": "2023-06-25T08:17:09.837Z"
   },
   {
    "duration": 25,
    "start_time": "2023-06-25T08:17:09.890Z"
   },
   {
    "duration": 60,
    "start_time": "2023-06-25T08:17:09.916Z"
   },
   {
    "duration": 23,
    "start_time": "2023-06-25T08:17:09.977Z"
   },
   {
    "duration": 5,
    "start_time": "2023-06-25T08:17:10.003Z"
   },
   {
    "duration": 74,
    "start_time": "2023-06-25T08:17:10.011Z"
   },
   {
    "duration": 177,
    "start_time": "2023-06-25T08:17:10.086Z"
   },
   {
    "duration": 61,
    "start_time": "2023-06-25T08:17:10.265Z"
   },
   {
    "duration": 24,
    "start_time": "2023-06-25T08:17:10.328Z"
   },
   {
    "duration": 93,
    "start_time": "2023-06-25T08:17:10.354Z"
   },
   {
    "duration": 9,
    "start_time": "2023-06-25T08:17:10.449Z"
   },
   {
    "duration": 34,
    "start_time": "2023-06-25T08:17:10.460Z"
   },
   {
    "duration": 35,
    "start_time": "2023-06-25T08:17:10.495Z"
   },
   {
    "duration": 76,
    "start_time": "2023-06-25T08:17:10.531Z"
   },
   {
    "duration": 904,
    "start_time": "2023-06-25T08:17:10.608Z"
   },
   {
    "duration": 23,
    "start_time": "2023-06-25T08:17:11.513Z"
   },
   {
    "duration": 9,
    "start_time": "2023-06-25T08:17:11.537Z"
   },
   {
    "duration": 17,
    "start_time": "2023-06-25T08:17:11.547Z"
   },
   {
    "duration": 6761,
    "start_time": "2023-06-25T08:17:11.565Z"
   },
   {
    "duration": 22,
    "start_time": "2023-06-25T08:19:56.328Z"
   },
   {
    "duration": 39,
    "start_time": "2023-06-25T08:24:19.511Z"
   },
   {
    "duration": 3,
    "start_time": "2023-06-25T08:25:27.970Z"
   },
   {
    "duration": 2,
    "start_time": "2023-06-25T08:28:06.852Z"
   },
   {
    "duration": 9,
    "start_time": "2023-06-25T08:28:46.898Z"
   },
   {
    "duration": 3,
    "start_time": "2023-06-25T08:28:47.861Z"
   },
   {
    "duration": 28,
    "start_time": "2023-06-25T08:28:48.517Z"
   },
   {
    "duration": 2964,
    "start_time": "2023-06-25T08:29:12.823Z"
   },
   {
    "duration": 8,
    "start_time": "2023-06-25T08:30:03.804Z"
   },
   {
    "duration": 1835,
    "start_time": "2023-06-25T08:30:08.687Z"
   },
   {
    "duration": 19,
    "start_time": "2023-06-25T08:30:30.296Z"
   },
   {
    "duration": 3,
    "start_time": "2023-06-25T08:31:26.021Z"
   },
   {
    "duration": 4484,
    "start_time": "2023-06-25T08:31:26.893Z"
   },
   {
    "duration": 11,
    "start_time": "2023-06-25T08:35:34.773Z"
   },
   {
    "duration": 8144,
    "start_time": "2023-06-25T08:35:40.352Z"
   },
   {
    "duration": 2132,
    "start_time": "2023-06-25T08:35:57.794Z"
   },
   {
    "duration": 2197,
    "start_time": "2023-06-25T08:36:11.833Z"
   },
   {
    "duration": 2272,
    "start_time": "2023-06-25T08:36:25.428Z"
   },
   {
    "duration": 1549,
    "start_time": "2023-06-25T08:36:40.907Z"
   },
   {
    "duration": 10,
    "start_time": "2023-06-25T08:40:12.061Z"
   },
   {
    "duration": 9,
    "start_time": "2023-06-25T08:40:19.740Z"
   },
   {
    "duration": 10,
    "start_time": "2023-06-25T08:40:34.000Z"
   },
   {
    "duration": 21,
    "start_time": "2023-06-25T08:41:41.747Z"
   },
   {
    "duration": 11,
    "start_time": "2023-06-25T08:41:52.828Z"
   },
   {
    "duration": 16,
    "start_time": "2023-06-25T08:42:06.280Z"
   },
   {
    "duration": 5,
    "start_time": "2023-06-25T08:42:18.613Z"
   },
   {
    "duration": 11,
    "start_time": "2023-06-25T08:42:28.576Z"
   },
   {
    "duration": 4524,
    "start_time": "2023-06-25T08:42:40.935Z"
   },
   {
    "duration": 2,
    "start_time": "2023-06-25T08:44:02.453Z"
   },
   {
    "duration": 221,
    "start_time": "2023-06-25T08:45:50.778Z"
   },
   {
    "duration": 89,
    "start_time": "2023-06-25T08:51:25.694Z"
   },
   {
    "duration": 212,
    "start_time": "2023-06-25T08:52:00.031Z"
   },
   {
    "duration": 10,
    "start_time": "2023-06-25T08:52:06.096Z"
   },
   {
    "duration": 141,
    "start_time": "2023-06-25T08:52:28.264Z"
   },
   {
    "duration": 109,
    "start_time": "2023-06-25T08:52:42.526Z"
   },
   {
    "duration": 84,
    "start_time": "2023-06-25T08:53:00.147Z"
   },
   {
    "duration": 499,
    "start_time": "2023-06-25T08:55:05.649Z"
   },
   {
    "duration": 10,
    "start_time": "2023-06-25T09:01:59.445Z"
   },
   {
    "duration": 5997,
    "start_time": "2023-06-25T09:02:45.425Z"
   },
   {
    "duration": 11,
    "start_time": "2023-06-25T09:03:27.068Z"
   },
   {
    "duration": 18,
    "start_time": "2023-06-25T09:03:28.942Z"
   },
   {
    "duration": 1440,
    "start_time": "2023-06-25T09:04:03.907Z"
   },
   {
    "duration": 95,
    "start_time": "2023-06-25T09:04:05.349Z"
   },
   {
    "duration": 2,
    "start_time": "2023-06-25T09:04:05.446Z"
   },
   {
    "duration": 10,
    "start_time": "2023-06-25T09:04:05.450Z"
   },
   {
    "duration": 34,
    "start_time": "2023-06-25T09:04:05.462Z"
   },
   {
    "duration": 24,
    "start_time": "2023-06-25T09:04:05.498Z"
   },
   {
    "duration": 62,
    "start_time": "2023-06-25T09:04:05.524Z"
   },
   {
    "duration": 24,
    "start_time": "2023-06-25T09:04:05.588Z"
   },
   {
    "duration": 6,
    "start_time": "2023-06-25T09:04:05.613Z"
   },
   {
    "duration": 23,
    "start_time": "2023-06-25T09:04:05.622Z"
   },
   {
    "duration": 130,
    "start_time": "2023-06-25T09:04:05.647Z"
   },
   {
    "duration": 52,
    "start_time": "2023-06-25T09:04:05.779Z"
   },
   {
    "duration": 25,
    "start_time": "2023-06-25T09:04:05.832Z"
   },
   {
    "duration": 61,
    "start_time": "2023-06-25T09:04:05.875Z"
   },
   {
    "duration": 10,
    "start_time": "2023-06-25T09:04:05.937Z"
   },
   {
    "duration": 32,
    "start_time": "2023-06-25T09:04:05.949Z"
   },
   {
    "duration": 33,
    "start_time": "2023-06-25T09:04:05.983Z"
   },
   {
    "duration": 83,
    "start_time": "2023-06-25T09:04:06.018Z"
   },
   {
    "duration": 1047,
    "start_time": "2023-06-25T09:04:06.103Z"
   },
   {
    "duration": 45,
    "start_time": "2023-06-25T09:04:07.151Z"
   },
   {
    "duration": 8,
    "start_time": "2023-06-25T09:04:07.198Z"
   },
   {
    "duration": 53,
    "start_time": "2023-06-25T09:04:07.208Z"
   },
   {
    "duration": 38,
    "start_time": "2023-06-25T09:04:07.262Z"
   },
   {
    "duration": 140,
    "start_time": "2023-06-25T09:04:07.302Z"
   },
   {
    "duration": 0,
    "start_time": "2023-06-25T09:04:07.443Z"
   },
   {
    "duration": 2,
    "start_time": "2023-06-25T09:04:20.007Z"
   },
   {
    "duration": 3098,
    "start_time": "2023-06-25T09:04:21.153Z"
   },
   {
    "duration": 2184,
    "start_time": "2023-06-25T09:05:30.129Z"
   },
   {
    "duration": 7,
    "start_time": "2023-06-25T09:05:41.521Z"
   },
   {
    "duration": 9,
    "start_time": "2023-06-25T09:05:42.620Z"
   },
   {
    "duration": 3,
    "start_time": "2023-06-25T09:05:43.179Z"
   },
   {
    "duration": 1422,
    "start_time": "2023-06-25T09:05:44.099Z"
   },
   {
    "duration": 2031,
    "start_time": "2023-06-25T09:06:01.658Z"
   },
   {
    "duration": 4279,
    "start_time": "2023-06-25T09:06:13.745Z"
   },
   {
    "duration": 334,
    "start_time": "2023-06-25T09:08:48.038Z"
   },
   {
    "duration": 121,
    "start_time": "2023-06-25T09:08:53.827Z"
   },
   {
    "duration": 129,
    "start_time": "2023-06-25T09:08:58.311Z"
   },
   {
    "duration": 76,
    "start_time": "2023-06-25T09:09:02.043Z"
   },
   {
    "duration": 137,
    "start_time": "2023-06-25T09:09:14.949Z"
   },
   {
    "duration": 84,
    "start_time": "2023-06-25T09:09:20.132Z"
   },
   {
    "duration": 11,
    "start_time": "2023-06-25T09:09:23.328Z"
   },
   {
    "duration": 2943,
    "start_time": "2023-06-25T09:10:29.282Z"
   },
   {
    "duration": 763,
    "start_time": "2023-06-25T09:10:42.935Z"
   },
   {
    "duration": 112,
    "start_time": "2023-06-25T09:10:53.661Z"
   },
   {
    "duration": 2694,
    "start_time": "2023-06-25T09:14:16.530Z"
   },
   {
    "duration": 11760,
    "start_time": "2023-06-25T09:14:28.387Z"
   },
   {
    "duration": 6093,
    "start_time": "2023-06-25T09:17:50.553Z"
   },
   {
    "duration": 3,
    "start_time": "2023-06-25T09:19:32.033Z"
   },
   {
    "duration": 4187,
    "start_time": "2023-06-25T09:19:41.574Z"
   },
   {
    "duration": 11,
    "start_time": "2023-06-25T09:22:36.809Z"
   },
   {
    "duration": 2232,
    "start_time": "2023-06-25T09:22:41.206Z"
   },
   {
    "duration": 2,
    "start_time": "2023-06-25T09:22:53.019Z"
   },
   {
    "duration": 2382,
    "start_time": "2023-06-25T09:22:55.346Z"
   },
   {
    "duration": 6676,
    "start_time": "2023-06-25T09:26:03.063Z"
   },
   {
    "duration": 7571,
    "start_time": "2023-06-25T09:26:26.642Z"
   },
   {
    "duration": 8947,
    "start_time": "2023-06-25T09:26:48.181Z"
   },
   {
    "duration": 8409,
    "start_time": "2023-06-25T09:28:11.103Z"
   },
   {
    "duration": 14523,
    "start_time": "2023-06-25T09:28:22.322Z"
   },
   {
    "duration": 21038,
    "start_time": "2023-06-25T09:28:51.403Z"
   },
   {
    "duration": 37366,
    "start_time": "2023-06-25T09:29:17.088Z"
   },
   {
    "duration": 12597,
    "start_time": "2023-06-25T09:30:11.254Z"
   },
   {
    "duration": 5159,
    "start_time": "2023-06-25T09:30:51.898Z"
   },
   {
    "duration": 7349,
    "start_time": "2023-06-25T09:31:07.088Z"
   },
   {
    "duration": 9297,
    "start_time": "2023-06-25T09:31:18.917Z"
   },
   {
    "duration": 22714,
    "start_time": "2023-06-25T09:31:37.522Z"
   },
   {
    "duration": 28333,
    "start_time": "2023-06-25T09:32:21.951Z"
   },
   {
    "duration": 27493,
    "start_time": "2023-06-25T09:33:00.145Z"
   },
   {
    "duration": 14889,
    "start_time": "2023-06-25T09:34:03.721Z"
   },
   {
    "duration": 43705,
    "start_time": "2023-06-25T09:34:29.072Z"
   },
   {
    "duration": 10220,
    "start_time": "2023-06-25T09:35:29.970Z"
   },
   {
    "duration": 16809,
    "start_time": "2023-06-25T09:35:51.537Z"
   },
   {
    "duration": 15065,
    "start_time": "2023-06-25T09:36:40.399Z"
   },
   {
    "duration": 25413,
    "start_time": "2023-06-25T09:37:02.612Z"
   },
   {
    "duration": 14329,
    "start_time": "2023-06-25T09:37:37.360Z"
   },
   {
    "duration": 14617,
    "start_time": "2023-06-25T09:38:02.396Z"
   },
   {
    "duration": 26295,
    "start_time": "2023-06-25T09:38:29.826Z"
   },
   {
    "duration": 25143,
    "start_time": "2023-06-25T09:38:57.458Z"
   },
   {
    "duration": 14341,
    "start_time": "2023-06-25T09:39:36.498Z"
   },
   {
    "duration": 6759,
    "start_time": "2023-06-25T09:40:14.775Z"
   },
   {
    "duration": 8590,
    "start_time": "2023-06-25T09:43:37.927Z"
   },
   {
    "duration": 7095,
    "start_time": "2023-06-25T09:44:04.114Z"
   },
   {
    "duration": 9550,
    "start_time": "2023-06-25T09:44:28.423Z"
   },
   {
    "duration": 9727,
    "start_time": "2023-06-25T09:44:48.155Z"
   },
   {
    "duration": 10969,
    "start_time": "2023-06-25T09:45:11.000Z"
   },
   {
    "duration": 11343,
    "start_time": "2023-06-25T09:45:29.234Z"
   },
   {
    "duration": 8315,
    "start_time": "2023-06-25T09:46:18.902Z"
   },
   {
    "duration": 7057,
    "start_time": "2023-06-25T09:46:41.057Z"
   },
   {
    "duration": 8779,
    "start_time": "2023-06-25T09:47:07.359Z"
   },
   {
    "duration": 6711,
    "start_time": "2023-06-25T09:49:39.208Z"
   },
   {
    "duration": 7511,
    "start_time": "2023-06-25T09:49:58.026Z"
   },
   {
    "duration": 6761,
    "start_time": "2023-06-25T09:50:12.614Z"
   },
   {
    "duration": 6091,
    "start_time": "2023-06-25T09:50:22.596Z"
   },
   {
    "duration": 6477,
    "start_time": "2023-06-25T09:50:52.494Z"
   },
   {
    "duration": 5724,
    "start_time": "2023-06-25T09:52:47.342Z"
   },
   {
    "duration": 8068,
    "start_time": "2023-06-25T09:53:07.304Z"
   },
   {
    "duration": 8822,
    "start_time": "2023-06-25T09:53:37.873Z"
   },
   {
    "duration": 7875,
    "start_time": "2023-06-25T09:53:56.920Z"
   },
   {
    "duration": 7825,
    "start_time": "2023-06-25T09:54:37.620Z"
   },
   {
    "duration": 8969,
    "start_time": "2023-06-25T09:55:00.576Z"
   },
   {
    "duration": 24713,
    "start_time": "2023-06-25T09:55:33.111Z"
   },
   {
    "duration": 6052,
    "start_time": "2023-06-25T09:56:07.990Z"
   },
   {
    "duration": 6443,
    "start_time": "2023-06-25T09:58:54.410Z"
   },
   {
    "duration": 1716,
    "start_time": "2023-06-25T10:00:54.514Z"
   },
   {
    "duration": 7,
    "start_time": "2023-06-25T10:01:51.969Z"
   },
   {
    "duration": 1910,
    "start_time": "2023-06-25T10:02:16.801Z"
   },
   {
    "duration": 1167,
    "start_time": "2023-06-25T10:07:31.293Z"
   },
   {
    "duration": 6512,
    "start_time": "2023-06-25T10:08:04.065Z"
   },
   {
    "duration": 1322,
    "start_time": "2023-06-25T10:11:18.747Z"
   },
   {
    "duration": 1737,
    "start_time": "2023-06-25T10:11:37.238Z"
   },
   {
    "duration": 3057,
    "start_time": "2023-06-25T10:12:09.571Z"
   },
   {
    "duration": 6696,
    "start_time": "2023-06-25T10:12:24.120Z"
   },
   {
    "duration": 6047,
    "start_time": "2023-06-25T10:13:01.374Z"
   },
   {
    "duration": 6469,
    "start_time": "2023-06-25T10:13:12.536Z"
   },
   {
    "duration": 5787,
    "start_time": "2023-06-25T10:13:35.920Z"
   },
   {
    "duration": 5860,
    "start_time": "2023-06-25T10:13:57.843Z"
   },
   {
    "duration": 5849,
    "start_time": "2023-06-25T10:14:10.151Z"
   },
   {
    "duration": 5726,
    "start_time": "2023-06-25T10:14:22.449Z"
   },
   {
    "duration": 7036,
    "start_time": "2023-06-25T10:14:33.406Z"
   },
   {
    "duration": 7944,
    "start_time": "2023-06-25T10:15:47.818Z"
   },
   {
    "duration": 8475,
    "start_time": "2023-06-25T10:16:22.973Z"
   },
   {
    "duration": 3218,
    "start_time": "2023-06-25T10:17:11.135Z"
   },
   {
    "duration": 6037,
    "start_time": "2023-06-25T10:18:21.584Z"
   },
   {
    "duration": 6696,
    "start_time": "2023-06-25T10:21:34.938Z"
   },
   {
    "duration": 2818,
    "start_time": "2023-06-25T10:22:22.670Z"
   },
   {
    "duration": 2547,
    "start_time": "2023-06-25T10:22:46.411Z"
   },
   {
    "duration": 1184,
    "start_time": "2023-06-25T10:23:27.409Z"
   },
   {
    "duration": 1197,
    "start_time": "2023-06-25T10:23:54.463Z"
   },
   {
    "duration": 6549,
    "start_time": "2023-06-25T10:24:21.965Z"
   },
   {
    "duration": 1222,
    "start_time": "2023-06-25T10:24:41.826Z"
   },
   {
    "duration": 5154,
    "start_time": "2023-06-25T10:25:05.115Z"
   },
   {
    "duration": 1194,
    "start_time": "2023-06-25T10:25:25.955Z"
   },
   {
    "duration": 1194,
    "start_time": "2023-06-25T10:25:45.079Z"
   },
   {
    "duration": 1481,
    "start_time": "2023-06-25T10:26:27.774Z"
   },
   {
    "duration": 1400,
    "start_time": "2023-06-25T10:27:08.066Z"
   },
   {
    "duration": 2906,
    "start_time": "2023-06-25T10:28:02.117Z"
   },
   {
    "duration": 13,
    "start_time": "2023-06-25T10:28:52.670Z"
   },
   {
    "duration": 13,
    "start_time": "2023-06-25T10:29:02.210Z"
   },
   {
    "duration": 14,
    "start_time": "2023-06-25T10:29:23.308Z"
   },
   {
    "duration": 7,
    "start_time": "2023-06-25T10:30:17.671Z"
   },
   {
    "duration": 9,
    "start_time": "2023-06-25T10:30:40.997Z"
   },
   {
    "duration": 8,
    "start_time": "2023-06-25T10:31:06.939Z"
   },
   {
    "duration": 7,
    "start_time": "2023-06-25T10:31:23.691Z"
   },
   {
    "duration": 28,
    "start_time": "2023-06-25T10:34:54.273Z"
   },
   {
    "duration": 1129,
    "start_time": "2023-06-25T10:35:51.391Z"
   },
   {
    "duration": 1160,
    "start_time": "2023-06-25T10:36:04.937Z"
   },
   {
    "duration": 925,
    "start_time": "2023-06-25T10:36:51.155Z"
   },
   {
    "duration": 1344,
    "start_time": "2023-06-25T10:37:13.966Z"
   },
   {
    "duration": 1140,
    "start_time": "2023-06-25T10:38:23.469Z"
   },
   {
    "duration": 1255,
    "start_time": "2023-06-25T10:38:32.635Z"
   },
   {
    "duration": 1384,
    "start_time": "2023-06-25T10:39:14.798Z"
   },
   {
    "duration": 1248,
    "start_time": "2023-06-25T10:39:40.918Z"
   },
   {
    "duration": 1294,
    "start_time": "2023-06-25T10:39:51.098Z"
   },
   {
    "duration": 1204,
    "start_time": "2023-06-25T10:39:58.602Z"
   },
   {
    "duration": 1183,
    "start_time": "2023-06-25T10:40:08.712Z"
   },
   {
    "duration": 1116,
    "start_time": "2023-06-25T10:40:19.200Z"
   },
   {
    "duration": 1139,
    "start_time": "2023-06-25T10:40:23.695Z"
   },
   {
    "duration": 3052,
    "start_time": "2023-06-25T10:40:29.609Z"
   },
   {
    "duration": 1317,
    "start_time": "2023-06-25T10:40:37.781Z"
   },
   {
    "duration": 1038,
    "start_time": "2023-06-25T10:40:47.282Z"
   },
   {
    "duration": 1231,
    "start_time": "2023-06-25T10:40:53.423Z"
   },
   {
    "duration": 1040,
    "start_time": "2023-06-25T10:41:35.835Z"
   },
   {
    "duration": 1205,
    "start_time": "2023-06-25T10:41:48.661Z"
   },
   {
    "duration": 1273,
    "start_time": "2023-06-25T10:42:04.118Z"
   },
   {
    "duration": 1534,
    "start_time": "2023-06-25T10:42:10.948Z"
   },
   {
    "duration": 1723,
    "start_time": "2023-06-25T10:42:17.860Z"
   },
   {
    "duration": 1097,
    "start_time": "2023-06-25T10:42:25.128Z"
   },
   {
    "duration": 1391,
    "start_time": "2023-06-25T10:42:32.012Z"
   },
   {
    "duration": 1351,
    "start_time": "2023-06-25T10:42:38.397Z"
   },
   {
    "duration": 1053,
    "start_time": "2023-06-25T10:42:48.339Z"
   },
   {
    "duration": 5503,
    "start_time": "2023-06-25T10:44:13.111Z"
   },
   {
    "duration": 5358,
    "start_time": "2023-06-25T10:44:50.058Z"
   },
   {
    "duration": 1169,
    "start_time": "2023-06-25T10:46:07.756Z"
   },
   {
    "duration": 1115,
    "start_time": "2023-06-25T10:46:22.388Z"
   },
   {
    "duration": 12,
    "start_time": "2023-06-25T10:47:42.911Z"
   },
   {
    "duration": 6387,
    "start_time": "2023-06-25T10:48:59.443Z"
   },
   {
    "duration": 5954,
    "start_time": "2023-06-25T10:49:21.513Z"
   },
   {
    "duration": 6143,
    "start_time": "2023-06-25T10:49:45.109Z"
   },
   {
    "duration": 1143,
    "start_time": "2023-06-25T10:50:28.470Z"
   },
   {
    "duration": 1106,
    "start_time": "2023-06-25T10:50:35.848Z"
   },
   {
    "duration": 956,
    "start_time": "2023-06-25T10:50:42.353Z"
   },
   {
    "duration": 994,
    "start_time": "2023-06-25T10:50:48.378Z"
   },
   {
    "duration": 1159,
    "start_time": "2023-06-25T10:51:05.938Z"
   },
   {
    "duration": 1222,
    "start_time": "2023-06-25T10:51:12.534Z"
   },
   {
    "duration": 1086,
    "start_time": "2023-06-25T10:51:19.274Z"
   },
   {
    "duration": 2294,
    "start_time": "2023-06-25T10:51:23.978Z"
   },
   {
    "duration": 2100,
    "start_time": "2023-06-25T10:51:30.715Z"
   },
   {
    "duration": 1481,
    "start_time": "2023-06-25T10:51:38.667Z"
   },
   {
    "duration": 1310,
    "start_time": "2023-06-25T10:51:44.623Z"
   },
   {
    "duration": 1102,
    "start_time": "2023-06-25T10:51:51.494Z"
   },
   {
    "duration": 1401,
    "start_time": "2023-06-25T10:51:57.173Z"
   },
   {
    "duration": 2650,
    "start_time": "2023-06-25T10:52:01.999Z"
   },
   {
    "duration": 1284,
    "start_time": "2023-06-25T10:52:11.233Z"
   },
   {
    "duration": 1393,
    "start_time": "2023-06-25T10:52:19.152Z"
   },
   {
    "duration": 1118,
    "start_time": "2023-06-25T10:52:24.629Z"
   },
   {
    "duration": 1531,
    "start_time": "2023-06-25T10:52:31.557Z"
   },
   {
    "duration": 6186,
    "start_time": "2023-06-25T10:53:04.920Z"
   },
   {
    "duration": 6458,
    "start_time": "2023-06-25T10:54:35.370Z"
   },
   {
    "duration": 22071,
    "start_time": "2023-06-25T10:59:25.029Z"
   },
   {
    "duration": 8450,
    "start_time": "2023-06-25T11:00:04.904Z"
   },
   {
    "duration": 1392,
    "start_time": "2023-06-25T11:01:44.353Z"
   },
   {
    "duration": 11,
    "start_time": "2023-06-25T11:04:34.206Z"
   },
   {
    "duration": 5480,
    "start_time": "2023-06-25T11:08:48.859Z"
   },
   {
    "duration": 1651,
    "start_time": "2023-06-25T11:32:01.851Z"
   },
   {
    "duration": 95,
    "start_time": "2023-06-25T11:32:03.504Z"
   },
   {
    "duration": 2,
    "start_time": "2023-06-25T11:32:03.601Z"
   },
   {
    "duration": 7,
    "start_time": "2023-06-25T11:32:03.605Z"
   },
   {
    "duration": 43,
    "start_time": "2023-06-25T11:32:03.614Z"
   },
   {
    "duration": 23,
    "start_time": "2023-06-25T11:32:03.658Z"
   },
   {
    "duration": 39,
    "start_time": "2023-06-25T11:32:03.683Z"
   },
   {
    "duration": 22,
    "start_time": "2023-06-25T11:32:03.723Z"
   },
   {
    "duration": 29,
    "start_time": "2023-06-25T11:32:03.746Z"
   },
   {
    "duration": 15,
    "start_time": "2023-06-25T11:32:03.778Z"
   },
   {
    "duration": 120,
    "start_time": "2023-06-25T11:32:03.794Z"
   },
   {
    "duration": 48,
    "start_time": "2023-06-25T11:32:03.915Z"
   },
   {
    "duration": 31,
    "start_time": "2023-06-25T11:32:03.964Z"
   },
   {
    "duration": 58,
    "start_time": "2023-06-25T11:32:03.997Z"
   },
   {
    "duration": 19,
    "start_time": "2023-06-25T11:32:04.057Z"
   },
   {
    "duration": 20,
    "start_time": "2023-06-25T11:32:04.078Z"
   },
   {
    "duration": 23,
    "start_time": "2023-06-25T11:32:04.100Z"
   },
   {
    "duration": 74,
    "start_time": "2023-06-25T11:32:04.124Z"
   },
   {
    "duration": 822,
    "start_time": "2023-06-25T11:32:04.200Z"
   },
   {
    "duration": 10,
    "start_time": "2023-06-25T11:32:05.023Z"
   },
   {
    "duration": 13,
    "start_time": "2023-06-25T11:32:05.035Z"
   },
   {
    "duration": 127,
    "start_time": "2023-06-25T11:32:05.049Z"
   },
   {
    "duration": 0,
    "start_time": "2023-06-25T11:32:05.178Z"
   },
   {
    "duration": 0,
    "start_time": "2023-06-25T11:32:05.179Z"
   },
   {
    "duration": 0,
    "start_time": "2023-06-25T11:32:05.180Z"
   },
   {
    "duration": 0,
    "start_time": "2023-06-25T11:32:05.181Z"
   },
   {
    "duration": 1352,
    "start_time": "2023-06-25T11:36:07.926Z"
   },
   {
    "duration": 91,
    "start_time": "2023-06-25T11:36:09.280Z"
   },
   {
    "duration": 3,
    "start_time": "2023-06-25T11:36:09.372Z"
   },
   {
    "duration": 14,
    "start_time": "2023-06-25T11:36:09.376Z"
   },
   {
    "duration": 50,
    "start_time": "2023-06-25T11:36:09.391Z"
   },
   {
    "duration": 22,
    "start_time": "2023-06-25T11:36:09.442Z"
   },
   {
    "duration": 47,
    "start_time": "2023-06-25T11:36:09.465Z"
   },
   {
    "duration": 23,
    "start_time": "2023-06-25T11:36:09.513Z"
   },
   {
    "duration": 10,
    "start_time": "2023-06-25T11:36:09.537Z"
   },
   {
    "duration": 38,
    "start_time": "2023-06-25T11:36:09.549Z"
   },
   {
    "duration": 105,
    "start_time": "2023-06-25T11:36:09.588Z"
   },
   {
    "duration": 47,
    "start_time": "2023-06-25T11:36:09.694Z"
   },
   {
    "duration": 36,
    "start_time": "2023-06-25T11:36:09.743Z"
   },
   {
    "duration": 54,
    "start_time": "2023-06-25T11:36:09.781Z"
   },
   {
    "duration": 9,
    "start_time": "2023-06-25T11:36:09.836Z"
   },
   {
    "duration": 30,
    "start_time": "2023-06-25T11:36:09.846Z"
   },
   {
    "duration": 24,
    "start_time": "2023-06-25T11:36:09.878Z"
   },
   {
    "duration": 77,
    "start_time": "2023-06-25T11:36:09.903Z"
   },
   {
    "duration": 828,
    "start_time": "2023-06-25T11:36:09.982Z"
   },
   {
    "duration": 10,
    "start_time": "2023-06-25T11:36:10.811Z"
   },
   {
    "duration": 14,
    "start_time": "2023-06-25T11:36:10.822Z"
   },
   {
    "duration": 1535,
    "start_time": "2023-06-25T11:42:04.932Z"
   },
   {
    "duration": 102,
    "start_time": "2023-06-25T11:42:06.469Z"
   },
   {
    "duration": 3,
    "start_time": "2023-06-25T11:42:06.573Z"
   },
   {
    "duration": 19,
    "start_time": "2023-06-25T11:42:06.579Z"
   },
   {
    "duration": 43,
    "start_time": "2023-06-25T11:42:06.600Z"
   },
   {
    "duration": 32,
    "start_time": "2023-06-25T11:42:06.644Z"
   },
   {
    "duration": 44,
    "start_time": "2023-06-25T11:42:06.677Z"
   },
   {
    "duration": 25,
    "start_time": "2023-06-25T11:42:06.723Z"
   },
   {
    "duration": 6,
    "start_time": "2023-06-25T11:42:06.750Z"
   },
   {
    "duration": 17,
    "start_time": "2023-06-25T11:42:06.777Z"
   },
   {
    "duration": 144,
    "start_time": "2023-06-25T11:42:06.796Z"
   },
   {
    "duration": 62,
    "start_time": "2023-06-25T11:42:06.942Z"
   },
   {
    "duration": 24,
    "start_time": "2023-06-25T11:42:07.005Z"
   },
   {
    "duration": 75,
    "start_time": "2023-06-25T11:42:07.031Z"
   },
   {
    "duration": 9,
    "start_time": "2023-06-25T11:42:07.108Z"
   },
   {
    "duration": 17,
    "start_time": "2023-06-25T11:42:07.119Z"
   },
   {
    "duration": 17,
    "start_time": "2023-06-25T11:42:07.137Z"
   },
   {
    "duration": 86,
    "start_time": "2023-06-25T11:42:07.155Z"
   },
   {
    "duration": 862,
    "start_time": "2023-06-25T11:42:07.243Z"
   },
   {
    "duration": 10,
    "start_time": "2023-06-25T11:42:08.107Z"
   },
   {
    "duration": 124,
    "start_time": "2023-06-25T11:42:08.118Z"
   },
   {
    "duration": 0,
    "start_time": "2023-06-25T11:42:08.244Z"
   },
   {
    "duration": 1,
    "start_time": "2023-06-25T11:42:08.245Z"
   },
   {
    "duration": 0,
    "start_time": "2023-06-25T11:42:08.247Z"
   },
   {
    "duration": 0,
    "start_time": "2023-06-25T11:42:08.248Z"
   },
   {
    "duration": 1,
    "start_time": "2023-06-25T11:42:08.249Z"
   },
   {
    "duration": 9,
    "start_time": "2023-06-25T11:42:16.551Z"
   },
   {
    "duration": 11,
    "start_time": "2023-06-25T11:44:22.032Z"
   },
   {
    "duration": 11,
    "start_time": "2023-06-25T11:44:31.527Z"
   },
   {
    "duration": 162761,
    "start_time": "2023-06-25T11:45:20.123Z"
   },
   {
    "duration": 242922,
    "start_time": "2023-06-25T11:48:31.149Z"
   },
   {
    "duration": 91,
    "start_time": "2023-06-25T11:52:34.072Z"
   },
   {
    "duration": 84,
    "start_time": "2023-06-25T11:53:15.773Z"
   },
   {
    "duration": 6617,
    "start_time": "2023-06-25T11:53:25.389Z"
   },
   {
    "duration": 6117,
    "start_time": "2023-06-25T11:53:43.339Z"
   },
   {
    "duration": 7033,
    "start_time": "2023-06-25T11:53:55.704Z"
   },
   {
    "duration": 3,
    "start_time": "2023-06-25T11:55:12.793Z"
   },
   {
    "duration": 23799,
    "start_time": "2023-06-25T11:55:40.892Z"
   },
   {
    "duration": 24817,
    "start_time": "2023-06-25T11:56:10.995Z"
   },
   {
    "duration": 7904,
    "start_time": "2023-06-25T11:56:44.409Z"
   },
   {
    "duration": 18795,
    "start_time": "2023-06-25T11:57:00.907Z"
   },
   {
    "duration": 26249,
    "start_time": "2023-06-25T11:57:38.961Z"
   },
   {
    "duration": 59663,
    "start_time": "2023-06-25T11:58:26.377Z"
   },
   {
    "duration": 12710,
    "start_time": "2023-06-25T12:00:32.588Z"
   },
   {
    "duration": 9784,
    "start_time": "2023-06-25T12:00:56.157Z"
   },
   {
    "duration": 8227,
    "start_time": "2023-06-25T12:01:24.504Z"
   },
   {
    "duration": 9550,
    "start_time": "2023-06-25T12:01:40.337Z"
   },
   {
    "duration": 7119,
    "start_time": "2023-06-25T12:02:10.220Z"
   },
   {
    "duration": 140,
    "start_time": "2023-06-25T12:03:29.594Z"
   },
   {
    "duration": 105,
    "start_time": "2023-06-25T12:03:38.029Z"
   },
   {
    "duration": 10713,
    "start_time": "2023-06-25T12:03:48.393Z"
   },
   {
    "duration": 10346,
    "start_time": "2023-06-25T12:04:08.103Z"
   },
   {
    "duration": 15607,
    "start_time": "2023-06-25T12:04:23.921Z"
   },
   {
    "duration": 28677,
    "start_time": "2023-06-25T12:04:56.385Z"
   },
   {
    "duration": 8870,
    "start_time": "2023-06-25T12:06:08.850Z"
   },
   {
    "duration": 5145,
    "start_time": "2023-06-25T12:06:46.677Z"
   },
   {
    "duration": 6328,
    "start_time": "2023-06-25T12:07:07.482Z"
   },
   {
    "duration": 8074,
    "start_time": "2023-06-25T12:07:41.665Z"
   },
   {
    "duration": 8998,
    "start_time": "2023-06-25T12:07:55.030Z"
   },
   {
    "duration": 6314,
    "start_time": "2023-06-25T12:08:10.997Z"
   },
   {
    "duration": 9627,
    "start_time": "2023-06-25T12:08:30.481Z"
   },
   {
    "duration": 11566,
    "start_time": "2023-06-25T12:08:45.875Z"
   },
   {
    "duration": 15191,
    "start_time": "2023-06-25T12:09:08.045Z"
   },
   {
    "duration": 9275,
    "start_time": "2023-06-25T12:09:29.396Z"
   },
   {
    "duration": 9151,
    "start_time": "2023-06-25T12:09:57.507Z"
   },
   {
    "duration": 7449,
    "start_time": "2023-06-25T12:10:12.673Z"
   },
   {
    "duration": 24290,
    "start_time": "2023-06-25T12:10:32.556Z"
   },
   {
    "duration": 24784,
    "start_time": "2023-06-25T12:11:17.992Z"
   },
   {
    "duration": 34306,
    "start_time": "2023-06-25T12:11:50.628Z"
   },
   {
    "duration": 27531,
    "start_time": "2023-06-25T12:12:34.269Z"
   },
   {
    "duration": 39517,
    "start_time": "2023-06-25T12:13:18.082Z"
   },
   {
    "duration": 42432,
    "start_time": "2023-06-25T12:15:28.024Z"
   },
   {
    "duration": 7367,
    "start_time": "2023-06-25T12:16:37.472Z"
   },
   {
    "duration": 6410,
    "start_time": "2023-06-25T12:16:48.020Z"
   },
   {
    "duration": 7038,
    "start_time": "2023-06-25T12:16:59.260Z"
   },
   {
    "duration": 5928,
    "start_time": "2023-06-25T12:17:15.092Z"
   },
   {
    "duration": 5301,
    "start_time": "2023-06-25T12:17:31.108Z"
   },
   {
    "duration": 5374,
    "start_time": "2023-06-25T12:17:52.638Z"
   },
   {
    "duration": 6466,
    "start_time": "2023-06-25T12:18:12.763Z"
   },
   {
    "duration": 6583,
    "start_time": "2023-06-25T12:18:26.352Z"
   },
   {
    "duration": 5997,
    "start_time": "2023-06-25T12:18:36.164Z"
   },
   {
    "duration": 8886,
    "start_time": "2023-06-25T12:18:56.921Z"
   },
   {
    "duration": 11604,
    "start_time": "2023-06-25T12:19:22.934Z"
   },
   {
    "duration": 12305,
    "start_time": "2023-06-25T12:19:47.992Z"
   },
   {
    "duration": 13598,
    "start_time": "2023-06-25T12:20:10.051Z"
   },
   {
    "duration": 15094,
    "start_time": "2023-06-25T12:20:34.078Z"
   },
   {
    "duration": 41959,
    "start_time": "2023-06-25T12:20:56.074Z"
   },
   {
    "duration": 6701,
    "start_time": "2023-06-25T12:22:13.705Z"
   },
   {
    "duration": 7480,
    "start_time": "2023-06-25T12:22:46.432Z"
   },
   {
    "duration": 6467,
    "start_time": "2023-06-25T12:23:17.806Z"
   },
   {
    "duration": 4,
    "start_time": "2023-06-25T12:24:29.713Z"
   },
   {
    "duration": 87,
    "start_time": "2023-06-25T12:25:28.018Z"
   },
   {
    "duration": 113,
    "start_time": "2023-06-25T12:26:22.867Z"
   },
   {
    "duration": 93,
    "start_time": "2023-06-25T12:27:54.349Z"
   },
   {
    "duration": 1412,
    "start_time": "2023-06-25T12:27:58.685Z"
   },
   {
    "duration": 1392,
    "start_time": "2023-06-25T12:28:25.351Z"
   },
   {
    "duration": 2095,
    "start_time": "2023-06-25T12:28:40.200Z"
   },
   {
    "duration": 2546,
    "start_time": "2023-06-25T12:28:53.016Z"
   },
   {
    "duration": 2399,
    "start_time": "2023-06-25T12:29:00.135Z"
   },
   {
    "duration": 2158,
    "start_time": "2023-06-25T12:29:06.930Z"
   },
   {
    "duration": 2162,
    "start_time": "2023-06-25T12:29:12.803Z"
   },
   {
    "duration": 2289,
    "start_time": "2023-06-25T12:29:19.958Z"
   },
   {
    "duration": 1971,
    "start_time": "2023-06-25T12:29:27.935Z"
   },
   {
    "duration": 1691,
    "start_time": "2023-06-25T12:29:36.667Z"
   },
   {
    "duration": 2805,
    "start_time": "2023-06-25T12:29:43.627Z"
   },
   {
    "duration": 4466,
    "start_time": "2023-06-25T12:29:52.550Z"
   },
   {
    "duration": 2771,
    "start_time": "2023-06-25T12:30:02.459Z"
   },
   {
    "duration": 2188,
    "start_time": "2023-06-25T12:30:12.200Z"
   },
   {
    "duration": 2133,
    "start_time": "2023-06-25T12:30:18.699Z"
   },
   {
    "duration": 1374,
    "start_time": "2023-06-25T12:30:27.433Z"
   },
   {
    "duration": 1863,
    "start_time": "2023-06-25T12:30:42.454Z"
   },
   {
    "duration": 1432,
    "start_time": "2023-06-25T12:30:48.548Z"
   },
   {
    "duration": 2325,
    "start_time": "2023-06-25T12:30:54.504Z"
   },
   {
    "duration": 2329,
    "start_time": "2023-06-25T12:30:59.888Z"
   },
   {
    "duration": 1275,
    "start_time": "2023-06-25T12:31:08.483Z"
   },
   {
    "duration": 1308,
    "start_time": "2023-06-25T12:31:17.431Z"
   },
   {
    "duration": 1470,
    "start_time": "2023-06-25T12:31:23.123Z"
   },
   {
    "duration": 1249,
    "start_time": "2023-06-25T12:31:28.627Z"
   },
   {
    "duration": 1541,
    "start_time": "2023-06-25T12:31:34.937Z"
   },
   {
    "duration": 1964,
    "start_time": "2023-06-25T12:31:50.412Z"
   },
   {
    "duration": 1386,
    "start_time": "2023-06-25T12:31:56.505Z"
   },
   {
    "duration": 1348,
    "start_time": "2023-06-25T12:32:04.737Z"
   },
   {
    "duration": 6268,
    "start_time": "2023-06-25T12:32:31.573Z"
   },
   {
    "duration": 5543,
    "start_time": "2023-06-25T12:33:15.753Z"
   },
   {
    "duration": 24,
    "start_time": "2023-06-25T12:34:12.781Z"
   },
   {
    "duration": 5,
    "start_time": "2023-06-25T12:34:24.929Z"
   },
   {
    "duration": 24,
    "start_time": "2023-06-25T12:34:28.678Z"
   },
   {
    "duration": 24,
    "start_time": "2023-06-25T12:34:42.546Z"
   },
   {
    "duration": 5,
    "start_time": "2023-06-25T12:34:54.637Z"
   },
   {
    "duration": 3,
    "start_time": "2023-06-25T12:37:20.886Z"
   },
   {
    "duration": 4,
    "start_time": "2023-06-25T12:37:32.807Z"
   },
   {
    "duration": 4,
    "start_time": "2023-06-25T12:37:42.662Z"
   },
   {
    "duration": 4,
    "start_time": "2023-06-25T12:37:55.154Z"
   },
   {
    "duration": 3,
    "start_time": "2023-06-25T12:38:20.508Z"
   },
   {
    "duration": 95,
    "start_time": "2023-06-25T12:38:42.669Z"
   },
   {
    "duration": 2567,
    "start_time": "2023-06-27T07:26:27.304Z"
   },
   {
    "duration": 0,
    "start_time": "2023-06-27T07:26:29.875Z"
   },
   {
    "duration": 0,
    "start_time": "2023-06-27T07:26:29.877Z"
   },
   {
    "duration": 6,
    "start_time": "2023-06-27T07:26:33.123Z"
   },
   {
    "duration": 15,
    "start_time": "2023-06-27T07:26:34.303Z"
   },
   {
    "duration": 13,
    "start_time": "2023-06-27T07:26:42.919Z"
   },
   {
    "duration": 3587,
    "start_time": "2023-06-27T07:27:07.415Z"
   },
   {
    "duration": 168,
    "start_time": "2023-06-27T07:27:11.517Z"
   },
   {
    "duration": 3,
    "start_time": "2023-06-27T07:27:12.287Z"
   },
   {
    "duration": 382,
    "start_time": "2023-06-27T07:27:14.718Z"
   },
   {
    "duration": 4,
    "start_time": "2023-06-27T07:27:15.765Z"
   },
   {
    "duration": 5,
    "start_time": "2023-06-27T07:27:17.829Z"
   },
   {
    "duration": 44,
    "start_time": "2023-06-27T07:27:18.316Z"
   },
   {
    "duration": 34,
    "start_time": "2023-06-27T07:27:18.896Z"
   },
   {
    "duration": 76,
    "start_time": "2023-06-27T07:27:19.374Z"
   },
   {
    "duration": 36,
    "start_time": "2023-06-27T07:27:20.128Z"
   },
   {
    "duration": 11,
    "start_time": "2023-06-27T07:27:26.025Z"
   },
   {
    "duration": 26,
    "start_time": "2023-06-27T07:27:26.509Z"
   },
   {
    "duration": 161,
    "start_time": "2023-06-27T07:27:27.004Z"
   },
   {
    "duration": 83,
    "start_time": "2023-06-27T07:27:28.826Z"
   },
   {
    "duration": 45,
    "start_time": "2023-06-27T07:27:29.213Z"
   },
   {
    "duration": 74,
    "start_time": "2023-06-27T07:27:29.354Z"
   },
   {
    "duration": 17,
    "start_time": "2023-06-27T07:27:31.078Z"
   },
   {
    "duration": 17,
    "start_time": "2023-06-27T07:27:31.816Z"
   },
   {
    "duration": 23,
    "start_time": "2023-06-27T07:27:35.021Z"
   },
   {
    "duration": 99,
    "start_time": "2023-06-27T07:27:38.224Z"
   },
   {
    "duration": 1074,
    "start_time": "2023-06-27T07:27:42.405Z"
   },
   {
    "duration": 80,
    "start_time": "2023-06-27T07:28:51.821Z"
   },
   {
    "duration": 1256,
    "start_time": "2023-06-27T07:29:01.522Z"
   },
   {
    "duration": 224,
    "start_time": "2023-06-27T07:31:59.406Z"
   },
   {
    "duration": 4,
    "start_time": "2023-06-27T07:39:01.874Z"
   },
   {
    "duration": 19,
    "start_time": "2023-06-27T07:39:51.214Z"
   },
   {
    "duration": 13,
    "start_time": "2023-06-27T07:40:09.615Z"
   },
   {
    "duration": 5,
    "start_time": "2023-06-27T07:40:11.501Z"
   },
   {
    "duration": 76,
    "start_time": "2023-06-27T07:40:12.300Z"
   },
   {
    "duration": 65,
    "start_time": "2023-06-27T07:40:22.805Z"
   },
   {
    "duration": 975,
    "start_time": "2023-06-27T07:40:34.375Z"
   },
   {
    "duration": 21,
    "start_time": "2023-06-27T07:40:36.915Z"
   },
   {
    "duration": 16,
    "start_time": "2023-06-27T07:40:47.202Z"
   },
   {
    "duration": 17,
    "start_time": "2023-06-27T07:40:49.469Z"
   },
   {
    "duration": 4,
    "start_time": "2023-06-27T07:40:50.125Z"
   },
   {
    "duration": 34,
    "start_time": "2023-06-27T07:40:51.127Z"
   },
   {
    "duration": 28,
    "start_time": "2023-06-27T07:41:58.296Z"
   },
   {
    "duration": 1944,
    "start_time": "2023-06-27T07:42:13.903Z"
   },
   {
    "duration": 4,
    "start_time": "2023-06-27T07:42:15.850Z"
   },
   {
    "duration": 132,
    "start_time": "2023-06-27T07:42:15.857Z"
   },
   {
    "duration": 3,
    "start_time": "2023-06-27T07:42:15.993Z"
   },
   {
    "duration": 8,
    "start_time": "2023-06-27T07:42:16.001Z"
   },
   {
    "duration": 63,
    "start_time": "2023-06-27T07:42:16.011Z"
   },
   {
    "duration": 39,
    "start_time": "2023-06-27T07:42:16.077Z"
   },
   {
    "duration": 93,
    "start_time": "2023-06-27T07:42:16.118Z"
   },
   {
    "duration": 63,
    "start_time": "2023-06-27T07:42:16.214Z"
   },
   {
    "duration": 11,
    "start_time": "2023-06-27T07:42:16.280Z"
   },
   {
    "duration": 32,
    "start_time": "2023-06-27T07:42:16.296Z"
   },
   {
    "duration": 177,
    "start_time": "2023-06-27T07:42:16.330Z"
   },
   {
    "duration": 76,
    "start_time": "2023-06-27T07:42:16.509Z"
   },
   {
    "duration": 51,
    "start_time": "2023-06-27T07:42:16.589Z"
   },
   {
    "duration": 132,
    "start_time": "2023-06-27T07:42:16.643Z"
   },
   {
    "duration": 16,
    "start_time": "2023-06-27T07:42:16.777Z"
   },
   {
    "duration": 50,
    "start_time": "2023-06-27T07:42:16.796Z"
   },
   {
    "duration": 58,
    "start_time": "2023-06-27T07:42:16.849Z"
   },
   {
    "duration": 106,
    "start_time": "2023-06-27T07:42:16.909Z"
   },
   {
    "duration": 1113,
    "start_time": "2023-06-27T07:42:17.018Z"
   },
   {
    "duration": 21,
    "start_time": "2023-06-27T07:42:18.133Z"
   },
   {
    "duration": 14,
    "start_time": "2023-06-27T07:42:18.166Z"
   },
   {
    "duration": 11,
    "start_time": "2023-06-27T07:42:18.182Z"
   },
   {
    "duration": 100,
    "start_time": "2023-06-27T07:42:18.196Z"
   },
   {
    "duration": 3,
    "start_time": "2023-06-27T07:42:18.299Z"
   },
   {
    "duration": 36,
    "start_time": "2023-06-27T07:42:18.305Z"
   },
   {
    "duration": 175,
    "start_time": "2023-06-27T07:42:18.344Z"
   },
   {
    "duration": 0,
    "start_time": "2023-06-27T07:42:18.521Z"
   },
   {
    "duration": 0,
    "start_time": "2023-06-27T07:42:18.522Z"
   },
   {
    "duration": 0,
    "start_time": "2023-06-27T07:42:18.524Z"
   },
   {
    "duration": 0,
    "start_time": "2023-06-27T07:42:18.530Z"
   },
   {
    "duration": 7,
    "start_time": "2023-06-27T07:42:31.454Z"
   },
   {
    "duration": 95,
    "start_time": "2023-06-27T07:44:31.745Z"
   },
   {
    "duration": 90,
    "start_time": "2023-06-27T07:44:36.835Z"
   },
   {
    "duration": 105,
    "start_time": "2023-06-27T07:44:48.000Z"
   },
   {
    "duration": 109,
    "start_time": "2023-06-27T07:44:53.099Z"
   },
   {
    "duration": 82,
    "start_time": "2023-06-27T07:46:11.403Z"
   },
   {
    "duration": 42,
    "start_time": "2023-06-27T07:46:28.225Z"
   },
   {
    "duration": 77,
    "start_time": "2023-06-27T07:46:31.638Z"
   },
   {
    "duration": 100,
    "start_time": "2023-06-27T07:46:34.133Z"
   },
   {
    "duration": 90,
    "start_time": "2023-06-27T07:46:56.342Z"
   },
   {
    "duration": 105,
    "start_time": "2023-06-27T07:47:02.224Z"
   },
   {
    "duration": 5118,
    "start_time": "2023-06-27T07:50:52.668Z"
   },
   {
    "duration": 121,
    "start_time": "2023-06-27T07:51:48.203Z"
   },
   {
    "duration": 5349,
    "start_time": "2023-06-27T07:51:55.630Z"
   },
   {
    "duration": 5348,
    "start_time": "2023-06-27T07:53:00.929Z"
   },
   {
    "duration": 9755,
    "start_time": "2023-06-27T07:53:36.035Z"
   },
   {
    "duration": 2063,
    "start_time": "2023-06-27T07:54:02.161Z"
   },
   {
    "duration": 6,
    "start_time": "2023-06-27T07:58:53.399Z"
   },
   {
    "duration": 4,
    "start_time": "2023-06-27T07:58:57.343Z"
   },
   {
    "duration": 1512,
    "start_time": "2023-06-27T07:59:08.731Z"
   },
   {
    "duration": 158906,
    "start_time": "2023-06-27T07:59:37.207Z"
   },
   {
    "duration": 4,
    "start_time": "2023-06-27T08:02:16.115Z"
   },
   {
    "duration": 1758,
    "start_time": "2023-06-27T08:10:56.638Z"
   },
   {
    "duration": 2,
    "start_time": "2023-06-27T08:10:58.401Z"
   },
   {
    "duration": 139,
    "start_time": "2023-06-27T08:10:58.405Z"
   },
   {
    "duration": 3,
    "start_time": "2023-06-27T08:10:58.546Z"
   },
   {
    "duration": 35,
    "start_time": "2023-06-27T08:10:58.550Z"
   },
   {
    "duration": 55,
    "start_time": "2023-06-27T08:10:58.590Z"
   },
   {
    "duration": 57,
    "start_time": "2023-06-27T08:10:58.646Z"
   },
   {
    "duration": 46,
    "start_time": "2023-06-27T08:10:58.705Z"
   },
   {
    "duration": 28,
    "start_time": "2023-06-27T08:10:58.753Z"
   },
   {
    "duration": 7,
    "start_time": "2023-06-27T08:10:58.785Z"
   },
   {
    "duration": 19,
    "start_time": "2023-06-27T08:10:58.794Z"
   },
   {
    "duration": 175,
    "start_time": "2023-06-27T08:10:58.815Z"
   },
   {
    "duration": 64,
    "start_time": "2023-06-27T08:10:58.992Z"
   },
   {
    "duration": 39,
    "start_time": "2023-06-27T08:10:59.058Z"
   },
   {
    "duration": 110,
    "start_time": "2023-06-27T08:10:59.100Z"
   },
   {
    "duration": 70,
    "start_time": "2023-06-27T08:10:59.212Z"
   },
   {
    "duration": 17,
    "start_time": "2023-06-27T08:10:59.289Z"
   },
   {
    "duration": 20,
    "start_time": "2023-06-27T08:10:59.308Z"
   },
   {
    "duration": 179,
    "start_time": "2023-06-27T08:10:59.330Z"
   },
   {
    "duration": 1008,
    "start_time": "2023-06-27T08:10:59.511Z"
   },
   {
    "duration": 19,
    "start_time": "2023-06-27T08:11:00.521Z"
   },
   {
    "duration": 57,
    "start_time": "2023-06-27T08:11:00.542Z"
   },
   {
    "duration": 147,
    "start_time": "2023-06-27T08:11:00.602Z"
   },
   {
    "duration": 3,
    "start_time": "2023-06-27T08:11:00.752Z"
   },
   {
    "duration": 54,
    "start_time": "2023-06-27T08:11:00.757Z"
   },
   {
    "duration": 40,
    "start_time": "2023-06-27T08:11:00.813Z"
   },
   {
    "duration": 1880,
    "start_time": "2023-06-27T08:11:43.804Z"
   },
   {
    "duration": 5,
    "start_time": "2023-06-27T08:11:45.686Z"
   },
   {
    "duration": 128,
    "start_time": "2023-06-27T08:11:45.693Z"
   },
   {
    "duration": 3,
    "start_time": "2023-06-27T08:11:45.823Z"
   },
   {
    "duration": 10,
    "start_time": "2023-06-27T08:11:45.829Z"
   },
   {
    "duration": 80,
    "start_time": "2023-06-27T08:11:45.841Z"
   },
   {
    "duration": 56,
    "start_time": "2023-06-27T08:11:45.923Z"
   },
   {
    "duration": 53,
    "start_time": "2023-06-27T08:11:45.981Z"
   },
   {
    "duration": 54,
    "start_time": "2023-06-27T08:11:46.037Z"
   },
   {
    "duration": 8,
    "start_time": "2023-06-27T08:11:46.093Z"
   },
   {
    "duration": 28,
    "start_time": "2023-06-27T08:11:46.103Z"
   },
   {
    "duration": 170,
    "start_time": "2023-06-27T08:11:46.133Z"
   },
   {
    "duration": 78,
    "start_time": "2023-06-27T08:11:46.308Z"
   },
   {
    "duration": 36,
    "start_time": "2023-06-27T08:11:46.390Z"
   },
   {
    "duration": 91,
    "start_time": "2023-06-27T08:11:46.428Z"
   },
   {
    "duration": 10,
    "start_time": "2023-06-27T08:11:46.521Z"
   },
   {
    "duration": 39,
    "start_time": "2023-06-27T08:11:46.533Z"
   },
   {
    "duration": 28,
    "start_time": "2023-06-27T08:11:46.582Z"
   },
   {
    "duration": 88,
    "start_time": "2023-06-27T08:11:46.612Z"
   },
   {
    "duration": 1004,
    "start_time": "2023-06-27T08:11:46.702Z"
   },
   {
    "duration": 21,
    "start_time": "2023-06-27T08:11:47.708Z"
   },
   {
    "duration": 21,
    "start_time": "2023-06-27T08:11:47.731Z"
   },
   {
    "duration": 154,
    "start_time": "2023-06-27T08:11:47.771Z"
   },
   {
    "duration": 3,
    "start_time": "2023-06-27T08:11:47.927Z"
   },
   {
    "duration": 18,
    "start_time": "2023-06-27T08:11:47.933Z"
   },
   {
    "duration": 16,
    "start_time": "2023-06-27T08:11:47.953Z"
   },
   {
    "duration": 87636,
    "start_time": "2023-06-27T08:11:47.970Z"
   },
   {
    "duration": 5,
    "start_time": "2023-06-27T08:13:15.608Z"
   },
   {
    "duration": 1783,
    "start_time": "2023-06-27T08:16:19.733Z"
   },
   {
    "duration": 3,
    "start_time": "2023-06-27T08:16:21.518Z"
   },
   {
    "duration": 128,
    "start_time": "2023-06-27T08:16:21.523Z"
   },
   {
    "duration": 3,
    "start_time": "2023-06-27T08:16:21.653Z"
   },
   {
    "duration": 38,
    "start_time": "2023-06-27T08:16:21.658Z"
   },
   {
    "duration": 64,
    "start_time": "2023-06-27T08:16:21.698Z"
   },
   {
    "duration": 43,
    "start_time": "2023-06-27T08:16:21.764Z"
   },
   {
    "duration": 65,
    "start_time": "2023-06-27T08:16:21.809Z"
   },
   {
    "duration": 40,
    "start_time": "2023-06-27T08:16:21.876Z"
   },
   {
    "duration": 7,
    "start_time": "2023-06-27T08:16:21.919Z"
   },
   {
    "duration": 33,
    "start_time": "2023-06-27T08:16:21.928Z"
   },
   {
    "duration": 161,
    "start_time": "2023-06-27T08:16:21.968Z"
   },
   {
    "duration": 87,
    "start_time": "2023-06-27T08:16:22.131Z"
   },
   {
    "duration": 29,
    "start_time": "2023-06-27T08:16:22.220Z"
   },
   {
    "duration": 94,
    "start_time": "2023-06-27T08:16:22.251Z"
   },
   {
    "duration": 35,
    "start_time": "2023-06-27T08:16:22.347Z"
   },
   {
    "duration": 23,
    "start_time": "2023-06-27T08:16:22.392Z"
   },
   {
    "duration": 19,
    "start_time": "2023-06-27T08:16:22.417Z"
   },
   {
    "duration": 100,
    "start_time": "2023-06-27T08:16:22.438Z"
   },
   {
    "duration": 1297,
    "start_time": "2023-06-27T08:16:22.540Z"
   },
   {
    "duration": 36,
    "start_time": "2023-06-27T08:16:23.839Z"
   },
   {
    "duration": 16,
    "start_time": "2023-06-27T08:16:23.883Z"
   },
   {
    "duration": 153,
    "start_time": "2023-06-27T08:16:23.901Z"
   },
   {
    "duration": 4,
    "start_time": "2023-06-27T08:16:24.056Z"
   },
   {
    "duration": 27,
    "start_time": "2023-06-27T08:16:24.062Z"
   },
   {
    "duration": 180,
    "start_time": "2023-06-27T08:16:24.094Z"
   },
   {
    "duration": 0,
    "start_time": "2023-06-27T08:16:24.277Z"
   },
   {
    "duration": 0,
    "start_time": "2023-06-27T08:16:24.279Z"
   },
   {
    "duration": 0,
    "start_time": "2023-06-27T08:16:24.281Z"
   },
   {
    "duration": 0,
    "start_time": "2023-06-27T08:16:24.282Z"
   },
   {
    "duration": 0,
    "start_time": "2023-06-27T08:16:24.284Z"
   },
   {
    "duration": 1890,
    "start_time": "2023-06-27T08:19:14.348Z"
   },
   {
    "duration": 4,
    "start_time": "2023-06-27T08:19:16.240Z"
   },
   {
    "duration": 166,
    "start_time": "2023-06-27T08:19:16.245Z"
   },
   {
    "duration": 3,
    "start_time": "2023-06-27T08:19:16.414Z"
   },
   {
    "duration": 17,
    "start_time": "2023-06-27T08:19:16.420Z"
   },
   {
    "duration": 71,
    "start_time": "2023-06-27T08:19:16.439Z"
   },
   {
    "duration": 34,
    "start_time": "2023-06-27T08:19:16.513Z"
   },
   {
    "duration": 70,
    "start_time": "2023-06-27T08:19:16.549Z"
   },
   {
    "duration": 29,
    "start_time": "2023-06-27T08:19:16.621Z"
   },
   {
    "duration": 10,
    "start_time": "2023-06-27T08:19:16.670Z"
   },
   {
    "duration": 56,
    "start_time": "2023-06-27T08:19:16.689Z"
   },
   {
    "duration": 201,
    "start_time": "2023-06-27T08:19:16.748Z"
   },
   {
    "duration": 77,
    "start_time": "2023-06-27T08:19:16.952Z"
   },
   {
    "duration": 57,
    "start_time": "2023-06-27T08:19:17.033Z"
   },
   {
    "duration": 107,
    "start_time": "2023-06-27T08:19:17.099Z"
   },
   {
    "duration": 16,
    "start_time": "2023-06-27T08:19:17.209Z"
   },
   {
    "duration": 54,
    "start_time": "2023-06-27T08:19:17.227Z"
   },
   {
    "duration": 26,
    "start_time": "2023-06-27T08:19:17.283Z"
   },
   {
    "duration": 122,
    "start_time": "2023-06-27T08:19:17.313Z"
   },
   {
    "duration": 999,
    "start_time": "2023-06-27T08:19:17.437Z"
   },
   {
    "duration": 20,
    "start_time": "2023-06-27T08:19:18.438Z"
   },
   {
    "duration": 37,
    "start_time": "2023-06-27T08:19:18.467Z"
   },
   {
    "duration": 131,
    "start_time": "2023-06-27T08:19:18.506Z"
   },
   {
    "duration": 3,
    "start_time": "2023-06-27T08:19:18.643Z"
   },
   {
    "duration": 36,
    "start_time": "2023-06-27T08:19:18.649Z"
   },
   {
    "duration": 159,
    "start_time": "2023-06-27T08:19:18.698Z"
   },
   {
    "duration": 0,
    "start_time": "2023-06-27T08:19:18.866Z"
   },
   {
    "duration": 0,
    "start_time": "2023-06-27T08:19:18.868Z"
   },
   {
    "duration": 0,
    "start_time": "2023-06-27T08:19:18.869Z"
   },
   {
    "duration": 0,
    "start_time": "2023-06-27T08:19:18.870Z"
   },
   {
    "duration": 0,
    "start_time": "2023-06-27T08:19:18.871Z"
   },
   {
    "duration": 18,
    "start_time": "2023-06-27T08:19:28.813Z"
   },
   {
    "duration": 216407,
    "start_time": "2023-06-27T08:19:39.606Z"
   },
   {
    "duration": 7,
    "start_time": "2023-06-27T08:23:27.942Z"
   },
   {
    "duration": 5,
    "start_time": "2023-06-27T08:24:31.740Z"
   },
   {
    "duration": 6,
    "start_time": "2023-06-27T08:26:15.627Z"
   },
   {
    "duration": 33952,
    "start_time": "2023-06-27T08:26:16.957Z"
   },
   {
    "duration": 0,
    "start_time": "2023-06-27T08:26:50.912Z"
   },
   {
    "duration": 7364,
    "start_time": "2023-06-27T08:27:03.779Z"
   },
   {
    "duration": 2325,
    "start_time": "2023-06-27T08:27:34.220Z"
   },
   {
    "duration": 3,
    "start_time": "2023-06-27T08:27:36.548Z"
   },
   {
    "duration": 154,
    "start_time": "2023-06-27T08:27:36.570Z"
   },
   {
    "duration": 3,
    "start_time": "2023-06-27T08:27:36.728Z"
   },
   {
    "duration": 7,
    "start_time": "2023-06-27T08:27:36.735Z"
   },
   {
    "duration": 53,
    "start_time": "2023-06-27T08:27:36.744Z"
   },
   {
    "duration": 45,
    "start_time": "2023-06-27T08:27:36.801Z"
   },
   {
    "duration": 92,
    "start_time": "2023-06-27T08:27:36.850Z"
   },
   {
    "duration": 59,
    "start_time": "2023-06-27T08:27:36.946Z"
   },
   {
    "duration": 17,
    "start_time": "2023-06-27T08:27:37.007Z"
   },
   {
    "duration": 45,
    "start_time": "2023-06-27T08:27:37.026Z"
   },
   {
    "duration": 235,
    "start_time": "2023-06-27T08:27:37.073Z"
   },
   {
    "duration": 106,
    "start_time": "2023-06-27T08:27:37.311Z"
   },
   {
    "duration": 60,
    "start_time": "2023-06-27T08:27:37.422Z"
   },
   {
    "duration": 131,
    "start_time": "2023-06-27T08:27:37.484Z"
   },
   {
    "duration": 18,
    "start_time": "2023-06-27T08:27:37.621Z"
   },
   {
    "duration": 43,
    "start_time": "2023-06-27T08:27:37.641Z"
   },
   {
    "duration": 30,
    "start_time": "2023-06-27T08:27:37.687Z"
   },
   {
    "duration": 159,
    "start_time": "2023-06-27T08:27:37.720Z"
   },
   {
    "duration": 1588,
    "start_time": "2023-06-27T08:27:37.881Z"
   },
   {
    "duration": 28,
    "start_time": "2023-06-27T08:27:39.472Z"
   },
   {
    "duration": 23,
    "start_time": "2023-06-27T08:27:39.502Z"
   },
   {
    "duration": 220,
    "start_time": "2023-06-27T08:27:39.529Z"
   },
   {
    "duration": 3,
    "start_time": "2023-06-27T08:27:39.752Z"
   },
   {
    "duration": 6,
    "start_time": "2023-06-27T08:27:39.769Z"
   },
   {
    "duration": 8,
    "start_time": "2023-06-27T08:27:39.778Z"
   },
   {
    "duration": 97951,
    "start_time": "2023-06-27T08:27:39.788Z"
   },
   {
    "duration": 6,
    "start_time": "2023-06-27T08:29:17.741Z"
   },
   {
    "duration": 60,
    "start_time": "2023-06-27T08:29:17.749Z"
   },
   {
    "duration": 97293,
    "start_time": "2023-06-27T08:29:17.812Z"
   },
   {
    "duration": 5,
    "start_time": "2023-06-27T08:30:55.107Z"
   },
   {
    "duration": 8353,
    "start_time": "2023-06-27T08:30:55.114Z"
   },
   {
    "duration": 1542,
    "start_time": "2023-06-27T08:31:03.470Z"
   },
   {
    "duration": 121,
    "start_time": "2023-06-27T08:31:05.017Z"
   },
   {
    "duration": 174,
    "start_time": "2023-06-27T08:31:55.004Z"
   },
   {
    "duration": 1859,
    "start_time": "2023-06-27T08:32:05.354Z"
   },
   {
    "duration": 3,
    "start_time": "2023-06-27T08:32:07.216Z"
   },
   {
    "duration": 136,
    "start_time": "2023-06-27T08:32:07.222Z"
   },
   {
    "duration": 4,
    "start_time": "2023-06-27T08:32:07.361Z"
   },
   {
    "duration": 19,
    "start_time": "2023-06-27T08:32:07.367Z"
   },
   {
    "duration": 83,
    "start_time": "2023-06-27T08:32:07.388Z"
   },
   {
    "duration": 35,
    "start_time": "2023-06-27T08:32:07.473Z"
   },
   {
    "duration": 103,
    "start_time": "2023-06-27T08:32:07.511Z"
   },
   {
    "duration": 59,
    "start_time": "2023-06-27T08:32:07.617Z"
   },
   {
    "duration": 9,
    "start_time": "2023-06-27T08:32:07.681Z"
   },
   {
    "duration": 58,
    "start_time": "2023-06-27T08:32:07.692Z"
   },
   {
    "duration": 160,
    "start_time": "2023-06-27T08:32:07.753Z"
   },
   {
    "duration": 84,
    "start_time": "2023-06-27T08:32:07.916Z"
   },
   {
    "duration": 42,
    "start_time": "2023-06-27T08:32:08.003Z"
   },
   {
    "duration": 107,
    "start_time": "2023-06-27T08:32:08.047Z"
   },
   {
    "duration": 22,
    "start_time": "2023-06-27T08:32:08.156Z"
   },
   {
    "duration": 23,
    "start_time": "2023-06-27T08:32:08.182Z"
   },
   {
    "duration": 35,
    "start_time": "2023-06-27T08:32:08.208Z"
   },
   {
    "duration": 169,
    "start_time": "2023-06-27T08:32:08.246Z"
   },
   {
    "duration": 980,
    "start_time": "2023-06-27T08:32:08.418Z"
   },
   {
    "duration": 19,
    "start_time": "2023-06-27T08:32:09.400Z"
   },
   {
    "duration": 15,
    "start_time": "2023-06-27T08:32:09.421Z"
   },
   {
    "duration": 144,
    "start_time": "2023-06-27T08:32:09.438Z"
   },
   {
    "duration": 3,
    "start_time": "2023-06-27T08:32:09.585Z"
   },
   {
    "duration": 8,
    "start_time": "2023-06-27T08:32:09.590Z"
   },
   {
    "duration": 27,
    "start_time": "2023-06-27T08:32:09.601Z"
   },
   {
    "duration": 96894,
    "start_time": "2023-06-27T08:32:09.631Z"
   },
   {
    "duration": 5,
    "start_time": "2023-06-27T08:33:46.530Z"
   },
   {
    "duration": 16,
    "start_time": "2023-06-27T08:33:46.537Z"
   },
   {
    "duration": 103690,
    "start_time": "2023-06-27T08:33:46.555Z"
   },
   {
    "duration": 6,
    "start_time": "2023-06-27T08:35:30.247Z"
   },
   {
    "duration": 1922,
    "start_time": "2023-06-27T08:35:40.328Z"
   },
   {
    "duration": 10175,
    "start_time": "2023-06-27T08:35:42.253Z"
   },
   {
    "duration": 10235,
    "start_time": "2023-06-27T08:37:57.250Z"
   },
   {
    "duration": 191,
    "start_time": "2023-06-27T08:39:42.610Z"
   },
   {
    "duration": 6,
    "start_time": "2023-06-27T08:39:54.502Z"
   },
   {
    "duration": 3055,
    "start_time": "2023-06-27T08:39:59.442Z"
   },
   {
    "duration": 5,
    "start_time": "2023-06-27T08:40:05.913Z"
   },
   {
    "duration": 7,
    "start_time": "2023-06-27T08:40:10.911Z"
   },
   {
    "duration": 5332,
    "start_time": "2023-06-27T08:40:12.007Z"
   },
   {
    "duration": 10,
    "start_time": "2023-06-27T08:40:19.008Z"
   },
   {
    "duration": 11,
    "start_time": "2023-06-27T08:49:22.139Z"
   },
   {
    "duration": 2595,
    "start_time": "2023-06-27T08:49:32.626Z"
   },
   {
    "duration": 528,
    "start_time": "2023-06-27T08:49:58.384Z"
   },
   {
    "duration": 158,
    "start_time": "2023-06-27T08:50:06.327Z"
   },
   {
    "duration": 58,
    "start_time": "2023-06-27T08:50:40.460Z"
   },
   {
    "duration": 99,
    "start_time": "2023-06-27T08:50:54.208Z"
   },
   {
    "duration": 4,
    "start_time": "2023-06-27T08:51:29.111Z"
   },
   {
    "duration": 1939,
    "start_time": "2023-06-27T08:51:43.407Z"
   },
   {
    "duration": 3,
    "start_time": "2023-06-27T08:51:45.349Z"
   },
   {
    "duration": 142,
    "start_time": "2023-06-27T08:51:45.354Z"
   },
   {
    "duration": 4,
    "start_time": "2023-06-27T08:51:45.498Z"
   },
   {
    "duration": 15,
    "start_time": "2023-06-27T08:51:45.504Z"
   },
   {
    "duration": 49,
    "start_time": "2023-06-27T08:51:45.521Z"
   },
   {
    "duration": 37,
    "start_time": "2023-06-27T08:51:45.572Z"
   },
   {
    "duration": 66,
    "start_time": "2023-06-27T08:51:45.611Z"
   },
   {
    "duration": 41,
    "start_time": "2023-06-27T08:51:45.679Z"
   },
   {
    "duration": 7,
    "start_time": "2023-06-27T08:51:45.723Z"
   },
   {
    "duration": 56,
    "start_time": "2023-06-27T08:51:45.732Z"
   },
   {
    "duration": 163,
    "start_time": "2023-06-27T08:51:45.798Z"
   },
   {
    "duration": 80,
    "start_time": "2023-06-27T08:51:45.964Z"
   },
   {
    "duration": 45,
    "start_time": "2023-06-27T08:51:46.046Z"
   },
   {
    "duration": 91,
    "start_time": "2023-06-27T08:51:46.097Z"
   },
   {
    "duration": 11,
    "start_time": "2023-06-27T08:51:46.196Z"
   },
   {
    "duration": 28,
    "start_time": "2023-06-27T08:51:46.209Z"
   },
   {
    "duration": 8,
    "start_time": "2023-06-27T08:51:46.239Z"
   },
   {
    "duration": 499,
    "start_time": "2023-06-27T08:51:46.249Z"
   },
   {
    "duration": 28,
    "start_time": "2023-06-27T08:51:46.750Z"
   },
   {
    "duration": 88,
    "start_time": "2023-06-27T08:51:46.789Z"
   },
   {
    "duration": 981,
    "start_time": "2023-06-27T08:51:46.879Z"
   },
   {
    "duration": 36,
    "start_time": "2023-06-27T08:51:47.861Z"
   },
   {
    "duration": 11,
    "start_time": "2023-06-27T08:51:47.900Z"
   },
   {
    "duration": 129,
    "start_time": "2023-06-27T08:51:47.913Z"
   },
   {
    "duration": 3,
    "start_time": "2023-06-27T08:51:48.044Z"
   },
   {
    "duration": 12,
    "start_time": "2023-06-27T08:51:48.048Z"
   },
   {
    "duration": 16,
    "start_time": "2023-06-27T08:51:48.067Z"
   },
   {
    "duration": 3061,
    "start_time": "2023-06-27T08:51:48.085Z"
   },
   {
    "duration": 5,
    "start_time": "2023-06-27T08:51:51.147Z"
   },
   {
    "duration": 42,
    "start_time": "2023-06-27T08:51:51.154Z"
   },
   {
    "duration": 4854,
    "start_time": "2023-06-27T08:51:51.198Z"
   },
   {
    "duration": 7,
    "start_time": "2023-06-27T08:51:56.054Z"
   },
   {
    "duration": 1920,
    "start_time": "2023-06-27T08:51:56.063Z"
   },
   {
    "duration": 4,
    "start_time": "2023-06-27T08:52:27.518Z"
   },
   {
    "duration": 121,
    "start_time": "2023-06-27T08:53:38.113Z"
   },
   {
    "duration": 172,
    "start_time": "2023-06-27T08:54:35.854Z"
   },
   {
    "duration": 75,
    "start_time": "2023-06-27T08:54:42.013Z"
   },
   {
    "duration": 529,
    "start_time": "2023-06-27T08:55:10.146Z"
   },
   {
    "duration": 73,
    "start_time": "2023-06-27T08:55:16.914Z"
   },
   {
    "duration": 6,
    "start_time": "2023-06-27T08:58:25.237Z"
   },
   {
    "duration": 29,
    "start_time": "2023-06-27T08:58:33.633Z"
   },
   {
    "duration": 30,
    "start_time": "2023-06-27T08:58:53.501Z"
   },
   {
    "duration": 19,
    "start_time": "2023-06-27T08:58:54.412Z"
   },
   {
    "duration": 96,
    "start_time": "2023-06-27T08:58:58.014Z"
   },
   {
    "duration": 96,
    "start_time": "2023-06-27T08:59:02.910Z"
   },
   {
    "duration": 1061,
    "start_time": "2023-06-27T08:59:15.133Z"
   },
   {
    "duration": 21,
    "start_time": "2023-06-27T08:59:25.117Z"
   },
   {
    "duration": 17,
    "start_time": "2023-06-27T08:59:44.917Z"
   },
   {
    "duration": 148,
    "start_time": "2023-06-27T08:59:46.534Z"
   },
   {
    "duration": 2,
    "start_time": "2023-06-27T08:59:49.510Z"
   },
   {
    "duration": 3,
    "start_time": "2023-06-27T08:59:49.820Z"
   },
   {
    "duration": 5,
    "start_time": "2023-06-27T08:59:52.407Z"
   },
   {
    "duration": 3137,
    "start_time": "2023-06-27T08:59:54.546Z"
   },
   {
    "duration": 4,
    "start_time": "2023-06-27T09:00:01.306Z"
   },
   {
    "duration": 4,
    "start_time": "2023-06-27T09:00:03.410Z"
   },
   {
    "duration": 5465,
    "start_time": "2023-06-27T09:00:04.223Z"
   },
   {
    "duration": 5,
    "start_time": "2023-06-27T09:00:11.718Z"
   },
   {
    "duration": 1896,
    "start_time": "2023-06-27T09:01:11.306Z"
   },
   {
    "duration": 2562,
    "start_time": "2023-06-27T09:01:28.418Z"
   },
   {
    "duration": 5,
    "start_time": "2023-06-27T09:01:57.414Z"
   },
   {
    "duration": 135283,
    "start_time": "2023-06-27T09:01:58.719Z"
   },
   {
    "duration": 5,
    "start_time": "2023-06-27T09:04:14.004Z"
   },
   {
    "duration": 14,
    "start_time": "2023-06-27T09:04:14.012Z"
   },
   {
    "duration": 86740,
    "start_time": "2023-06-27T09:04:14.029Z"
   },
   {
    "duration": 23,
    "start_time": "2023-06-27T09:05:40.771Z"
   },
   {
    "duration": 6,
    "start_time": "2023-06-27T09:06:29.221Z"
   },
   {
    "duration": 2237,
    "start_time": "2023-06-27T09:06:30.306Z"
   },
   {
    "duration": 4,
    "start_time": "2023-06-27T09:06:33.828Z"
   },
   {
    "duration": 4,
    "start_time": "2023-06-27T09:06:48.726Z"
   },
   {
    "duration": 6584,
    "start_time": "2023-06-27T09:06:49.217Z"
   },
   {
    "duration": 6,
    "start_time": "2023-06-27T09:06:59.923Z"
   },
   {
    "duration": 1986,
    "start_time": "2023-06-27T09:07:10.650Z"
   },
   {
    "duration": 5438,
    "start_time": "2023-06-27T09:08:09.720Z"
   },
   {
    "duration": 1836,
    "start_time": "2023-06-27T09:10:57.623Z"
   },
   {
    "duration": 1807,
    "start_time": "2023-06-27T09:11:08.725Z"
   },
   {
    "duration": 1643,
    "start_time": "2023-06-27T09:11:15.735Z"
   },
   {
    "duration": 7,
    "start_time": "2023-06-27T09:12:23.017Z"
   },
   {
    "duration": 9130,
    "start_time": "2023-06-27T09:12:23.508Z"
   },
   {
    "duration": 10426,
    "start_time": "2023-06-27T09:12:35.805Z"
   },
   {
    "duration": 13,
    "start_time": "2023-06-27T09:12:49.793Z"
   },
   {
    "duration": 6,
    "start_time": "2023-06-27T09:13:24.347Z"
   },
   {
    "duration": 5222,
    "start_time": "2023-06-27T09:13:32.105Z"
   },
   {
    "duration": 6,
    "start_time": "2023-06-27T09:13:44.737Z"
   },
   {
    "duration": 15106,
    "start_time": "2023-06-27T09:13:45.203Z"
   },
   {
    "duration": 5,
    "start_time": "2023-06-27T09:14:26.908Z"
   },
   {
    "duration": 3410,
    "start_time": "2023-06-27T09:14:27.704Z"
   },
   {
    "duration": 5,
    "start_time": "2023-06-27T09:14:31.116Z"
   },
   {
    "duration": 5,
    "start_time": "2023-06-27T09:14:35.901Z"
   },
   {
    "duration": 8209,
    "start_time": "2023-06-27T09:14:36.308Z"
   },
   {
    "duration": 10149,
    "start_time": "2023-06-27T09:14:44.520Z"
   },
   {
    "duration": 6,
    "start_time": "2023-06-27T09:14:54.672Z"
   },
   {
    "duration": 6,
    "start_time": "2023-06-27T09:19:11.321Z"
   },
   {
    "duration": 273733,
    "start_time": "2023-06-27T09:19:13.501Z"
   },
   {
    "duration": 6,
    "start_time": "2023-06-27T09:23:47.237Z"
   },
   {
    "duration": 6,
    "start_time": "2023-06-27T09:24:49.818Z"
   },
   {
    "duration": 2314,
    "start_time": "2023-06-27T09:24:51.015Z"
   },
   {
    "duration": 8,
    "start_time": "2023-06-27T09:24:55.508Z"
   },
   {
    "duration": 5,
    "start_time": "2023-06-27T09:25:00.916Z"
   },
   {
    "duration": 24942,
    "start_time": "2023-06-27T09:25:02.214Z"
   },
   {
    "duration": 0,
    "start_time": "2023-06-27T09:25:27.159Z"
   },
   {
    "duration": 6,
    "start_time": "2023-06-27T09:25:32.243Z"
   },
   {
    "duration": 12866,
    "start_time": "2023-06-27T09:25:32.945Z"
   },
   {
    "duration": 13,
    "start_time": "2023-06-27T09:25:45.819Z"
   },
   {
    "duration": 14,
    "start_time": "2023-06-27T09:26:51.309Z"
   },
   {
    "duration": 14,
    "start_time": "2023-06-27T09:27:08.511Z"
   },
   {
    "duration": 15,
    "start_time": "2023-06-27T09:27:26.812Z"
   },
   {
    "duration": 16,
    "start_time": "2023-06-27T09:27:54.614Z"
   },
   {
    "duration": 14,
    "start_time": "2023-06-27T09:28:38.137Z"
   },
   {
    "duration": 5,
    "start_time": "2023-06-27T09:29:36.133Z"
   },
   {
    "duration": 15,
    "start_time": "2023-06-27T09:29:46.211Z"
   },
   {
    "duration": 23,
    "start_time": "2023-06-27T09:32:08.219Z"
   },
   {
    "duration": 14,
    "start_time": "2023-06-27T09:37:12.229Z"
   },
   {
    "duration": 19,
    "start_time": "2023-06-27T09:48:26.763Z"
   },
   {
    "duration": 138,
    "start_time": "2023-06-27T09:50:31.617Z"
   },
   {
    "duration": 27,
    "start_time": "2023-06-27T09:55:13.761Z"
   },
   {
    "duration": 16,
    "start_time": "2023-06-27T09:55:23.305Z"
   },
   {
    "duration": 18,
    "start_time": "2023-06-27T09:56:38.913Z"
   },
   {
    "duration": 29,
    "start_time": "2023-06-27T09:56:58.454Z"
   },
   {
    "duration": 15,
    "start_time": "2023-06-27T09:57:11.439Z"
   },
   {
    "duration": 14,
    "start_time": "2023-06-27T09:57:41.840Z"
   },
   {
    "duration": 13,
    "start_time": "2023-06-27T09:57:49.213Z"
   },
   {
    "duration": 13,
    "start_time": "2023-06-27T09:58:07.038Z"
   },
   {
    "duration": 15,
    "start_time": "2023-06-27T09:58:09.154Z"
   },
   {
    "duration": 23,
    "start_time": "2023-06-27T09:58:58.010Z"
   },
   {
    "duration": 8806,
    "start_time": "2023-06-27T09:59:08.116Z"
   },
   {
    "duration": 21,
    "start_time": "2023-06-27T09:59:16.925Z"
   },
   {
    "duration": 5452,
    "start_time": "2023-06-27T10:00:28.103Z"
   },
   {
    "duration": 6131,
    "start_time": "2023-06-27T10:00:48.350Z"
   },
   {
    "duration": 5887,
    "start_time": "2023-06-27T10:01:07.260Z"
   },
   {
    "duration": 6389,
    "start_time": "2023-06-27T10:02:23.908Z"
   },
   {
    "duration": 3315,
    "start_time": "2023-06-27T10:03:03.034Z"
   },
   {
    "duration": 6153,
    "start_time": "2023-06-27T10:04:23.742Z"
   },
   {
    "duration": 323,
    "start_time": "2023-06-27T10:04:29.898Z"
   },
   {
    "duration": 42,
    "start_time": "2023-06-27T10:07:20.758Z"
   },
   {
    "duration": 5,
    "start_time": "2023-06-27T10:07:52.250Z"
   },
   {
    "duration": 16,
    "start_time": "2023-06-27T10:08:00.321Z"
   },
   {
    "duration": 21,
    "start_time": "2023-06-27T10:08:12.431Z"
   },
   {
    "duration": 16,
    "start_time": "2023-06-27T10:08:38.227Z"
   },
   {
    "duration": 5775,
    "start_time": "2023-06-27T10:08:51.259Z"
   },
   {
    "duration": 7,
    "start_time": "2023-06-27T10:09:12.928Z"
   },
   {
    "duration": 7988,
    "start_time": "2023-06-27T10:09:53.229Z"
   },
   {
    "duration": 305,
    "start_time": "2023-06-27T10:10:01.220Z"
   },
   {
    "duration": 6,
    "start_time": "2023-06-27T10:10:01.529Z"
   },
   {
    "duration": 269,
    "start_time": "2023-06-27T10:10:01.537Z"
   },
   {
    "duration": 428,
    "start_time": "2023-06-27T10:10:01.810Z"
   },
   {
    "duration": 320,
    "start_time": "2023-06-27T10:10:12.219Z"
   },
   {
    "duration": 429,
    "start_time": "2023-06-27T10:10:21.123Z"
   },
   {
    "duration": 389,
    "start_time": "2023-06-27T10:10:30.361Z"
   },
   {
    "duration": 418,
    "start_time": "2023-06-27T10:10:34.237Z"
   },
   {
    "duration": 368,
    "start_time": "2023-06-27T10:10:39.222Z"
   },
   {
    "duration": 412,
    "start_time": "2023-06-27T10:10:43.465Z"
   },
   {
    "duration": 484,
    "start_time": "2023-06-27T10:10:47.134Z"
   },
   {
    "duration": 333,
    "start_time": "2023-06-27T10:10:50.221Z"
   },
   {
    "duration": 371,
    "start_time": "2023-06-27T10:10:55.136Z"
   },
   {
    "duration": 339,
    "start_time": "2023-06-27T10:11:01.120Z"
   },
   {
    "duration": 407,
    "start_time": "2023-06-27T10:11:05.423Z"
   },
   {
    "duration": 329,
    "start_time": "2023-06-27T10:11:14.815Z"
   },
   {
    "duration": 340,
    "start_time": "2023-06-27T10:11:18.325Z"
   },
   {
    "duration": 373,
    "start_time": "2023-06-27T10:11:37.722Z"
   },
   {
    "duration": 357,
    "start_time": "2023-06-27T10:11:49.023Z"
   },
   {
    "duration": 366,
    "start_time": "2023-06-27T10:11:57.163Z"
   },
   {
    "duration": 375,
    "start_time": "2023-06-27T10:12:04.443Z"
   },
   {
    "duration": 380,
    "start_time": "2023-06-27T10:12:13.653Z"
   },
   {
    "duration": 581,
    "start_time": "2023-06-27T10:12:25.062Z"
   },
   {
    "duration": 317,
    "start_time": "2023-06-27T10:12:29.690Z"
   },
   {
    "duration": 289,
    "start_time": "2023-06-27T10:12:42.302Z"
   },
   {
    "duration": 7,
    "start_time": "2023-06-27T10:17:28.418Z"
   },
   {
    "duration": 12881,
    "start_time": "2023-06-27T10:17:28.818Z"
   },
   {
    "duration": 5,
    "start_time": "2023-06-27T10:28:30.732Z"
   },
   {
    "duration": 284539,
    "start_time": "2023-06-27T10:28:31.625Z"
   },
   {
    "duration": 9,
    "start_time": "2023-06-27T10:33:16.166Z"
   },
   {
    "duration": 15,
    "start_time": "2023-06-27T10:33:58.032Z"
   },
   {
    "duration": 137803,
    "start_time": "2023-06-27T10:33:58.726Z"
   },
   {
    "duration": 6,
    "start_time": "2023-06-27T10:36:16.532Z"
   },
   {
    "duration": 26520,
    "start_time": "2023-06-27T10:36:16.541Z"
   },
   {
    "duration": 7,
    "start_time": "2023-06-27T10:37:12.456Z"
   },
   {
    "duration": 75242,
    "start_time": "2023-06-27T10:37:13.720Z"
   },
   {
    "duration": 5,
    "start_time": "2023-06-27T10:38:32.053Z"
   },
   {
    "duration": 13908,
    "start_time": "2023-06-27T10:38:33.434Z"
   },
   {
    "duration": 5,
    "start_time": "2023-06-27T10:38:47.344Z"
   },
   {
    "duration": 7,
    "start_time": "2023-06-27T10:38:53.735Z"
   },
   {
    "duration": 14701,
    "start_time": "2023-06-27T10:39:14.650Z"
   },
   {
    "duration": 5,
    "start_time": "2023-06-27T10:39:29.354Z"
   },
   {
    "duration": 11850,
    "start_time": "2023-06-27T10:39:35.060Z"
   },
   {
    "duration": 5,
    "start_time": "2023-06-27T10:39:55.520Z"
   },
   {
    "duration": 10966,
    "start_time": "2023-06-27T10:39:55.965Z"
   },
   {
    "duration": 7,
    "start_time": "2023-06-27T10:40:06.934Z"
   },
   {
    "duration": 9132,
    "start_time": "2023-06-27T10:40:06.943Z"
   },
   {
    "duration": 6,
    "start_time": "2023-06-27T10:40:33.542Z"
   },
   {
    "duration": 16345,
    "start_time": "2023-06-27T10:40:33.956Z"
   },
   {
    "duration": 5,
    "start_time": "2023-06-27T10:40:50.304Z"
   },
   {
    "duration": 5,
    "start_time": "2023-06-27T10:41:06.756Z"
   },
   {
    "duration": 13945,
    "start_time": "2023-06-27T10:41:09.161Z"
   },
   {
    "duration": 10,
    "start_time": "2023-06-27T10:41:56.962Z"
   },
   {
    "duration": 14922,
    "start_time": "2023-06-27T10:41:58.213Z"
   },
   {
    "duration": 6,
    "start_time": "2023-06-27T10:42:13.940Z"
   },
   {
    "duration": 5,
    "start_time": "2023-06-27T10:42:17.947Z"
   },
   {
    "duration": 30341,
    "start_time": "2023-06-27T10:42:18.258Z"
   },
   {
    "duration": 8,
    "start_time": "2023-06-27T10:42:52.325Z"
   },
   {
    "duration": 8,
    "start_time": "2023-06-27T10:43:21.627Z"
   },
   {
    "duration": 5137,
    "start_time": "2023-06-27T10:43:23.665Z"
   },
   {
    "duration": 5,
    "start_time": "2023-06-27T10:43:28.809Z"
   },
   {
    "duration": 6,
    "start_time": "2023-06-27T10:43:31.320Z"
   },
   {
    "duration": 6667,
    "start_time": "2023-06-27T10:43:31.730Z"
   },
   {
    "duration": 5,
    "start_time": "2023-06-27T10:43:38.401Z"
   },
   {
    "duration": 6,
    "start_time": "2023-06-27T10:43:42.523Z"
   },
   {
    "duration": 9258,
    "start_time": "2023-06-27T10:43:42.841Z"
   },
   {
    "duration": 13,
    "start_time": "2023-06-27T10:43:52.102Z"
   },
   {
    "duration": 6,
    "start_time": "2023-06-27T10:43:54.751Z"
   },
   {
    "duration": 12097,
    "start_time": "2023-06-27T10:43:55.221Z"
   },
   {
    "duration": 4,
    "start_time": "2023-06-27T10:44:07.320Z"
   },
   {
    "duration": 10,
    "start_time": "2023-06-27T10:44:14.094Z"
   },
   {
    "duration": 11470,
    "start_time": "2023-06-27T10:44:16.156Z"
   },
   {
    "duration": 6,
    "start_time": "2023-06-27T10:44:27.628Z"
   },
   {
    "duration": 7,
    "start_time": "2023-06-27T10:44:33.344Z"
   },
   {
    "duration": 16139,
    "start_time": "2023-06-27T10:44:36.222Z"
   },
   {
    "duration": 7,
    "start_time": "2023-06-27T10:44:52.364Z"
   },
   {
    "duration": 6,
    "start_time": "2023-06-27T10:45:00.228Z"
   },
   {
    "duration": 25644,
    "start_time": "2023-06-27T10:45:00.412Z"
   },
   {
    "duration": 5,
    "start_time": "2023-06-27T10:45:26.060Z"
   },
   {
    "duration": 20161,
    "start_time": "2023-06-27T10:45:37.914Z"
   },
   {
    "duration": 6,
    "start_time": "2023-06-27T10:48:28.934Z"
   },
   {
    "duration": 15,
    "start_time": "2023-06-27T10:48:29.450Z"
   },
   {
    "duration": 6,
    "start_time": "2023-06-27T10:48:31.518Z"
   },
   {
    "duration": 26611,
    "start_time": "2023-06-27T10:48:39.728Z"
   },
   {
    "duration": 4,
    "start_time": "2023-06-27T10:49:08.933Z"
   },
   {
    "duration": 62992,
    "start_time": "2023-06-27T10:49:09.819Z"
   },
   {
    "duration": 11,
    "start_time": "2023-06-27T10:50:23.562Z"
   },
   {
    "duration": 7,
    "start_time": "2023-06-27T10:51:00.519Z"
   },
   {
    "duration": 38521,
    "start_time": "2023-06-27T10:51:01.122Z"
   },
   {
    "duration": 6,
    "start_time": "2023-06-27T10:51:39.646Z"
   },
   {
    "duration": 5,
    "start_time": "2023-06-27T10:52:03.757Z"
   },
   {
    "duration": 5,
    "start_time": "2023-06-27T10:52:21.814Z"
   },
   {
    "duration": 4507,
    "start_time": "2023-06-27T10:52:22.241Z"
   },
   {
    "duration": 4,
    "start_time": "2023-06-27T10:52:26.921Z"
   },
   {
    "duration": 4,
    "start_time": "2023-06-27T10:52:33.625Z"
   },
   {
    "duration": 7101,
    "start_time": "2023-06-27T10:52:34.060Z"
   },
   {
    "duration": 23,
    "start_time": "2023-06-27T10:52:41.163Z"
   },
   {
    "duration": 5,
    "start_time": "2023-06-27T10:52:47.314Z"
   },
   {
    "duration": 6511,
    "start_time": "2023-06-27T10:52:47.816Z"
   },
   {
    "duration": 7,
    "start_time": "2023-06-27T10:52:54.330Z"
   },
   {
    "duration": 6,
    "start_time": "2023-06-27T10:53:20.609Z"
   },
   {
    "duration": 6282,
    "start_time": "2023-06-27T10:53:21.055Z"
   },
   {
    "duration": 4,
    "start_time": "2023-06-27T10:53:27.340Z"
   },
   {
    "duration": 6217,
    "start_time": "2023-06-27T10:54:31.048Z"
   },
   {
    "duration": 18,
    "start_time": "2023-06-27T10:54:37.277Z"
   },
   {
    "duration": 7228,
    "start_time": "2023-06-27T10:54:57.946Z"
   },
   {
    "duration": 23,
    "start_time": "2023-06-27T10:56:13.149Z"
   },
   {
    "duration": 16,
    "start_time": "2023-06-27T10:56:17.917Z"
   },
   {
    "duration": 4,
    "start_time": "2023-06-27T10:56:50.953Z"
   },
   {
    "duration": 190,
    "start_time": "2023-06-27T11:00:56.049Z"
   },
   {
    "duration": 383,
    "start_time": "2023-06-27T11:01:03.128Z"
   },
   {
    "duration": 7,
    "start_time": "2023-06-27T11:01:19.214Z"
   },
   {
    "duration": 7905,
    "start_time": "2023-06-27T11:01:20.141Z"
   },
   {
    "duration": 8,
    "start_time": "2023-06-27T11:01:28.050Z"
   },
   {
    "duration": 6380,
    "start_time": "2023-06-27T11:01:38.491Z"
   },
   {
    "duration": 6,
    "start_time": "2023-06-27T11:01:53.345Z"
   },
   {
    "duration": 5988,
    "start_time": "2023-06-27T11:01:53.708Z"
   },
   {
    "duration": 6,
    "start_time": "2023-06-27T11:01:59.699Z"
   },
   {
    "duration": 6346,
    "start_time": "2023-06-27T11:02:05.952Z"
   },
   {
    "duration": 6,
    "start_time": "2023-06-27T11:02:17.913Z"
   },
   {
    "duration": 7443,
    "start_time": "2023-06-27T11:02:21.062Z"
   },
   {
    "duration": 6,
    "start_time": "2023-06-27T11:02:57.509Z"
   },
   {
    "duration": 9036,
    "start_time": "2023-06-27T11:03:02.225Z"
   },
   {
    "duration": 8,
    "start_time": "2023-06-27T11:03:29.841Z"
   },
   {
    "duration": 18017,
    "start_time": "2023-06-27T11:03:33.642Z"
   },
   {
    "duration": 6,
    "start_time": "2023-06-27T11:05:30.131Z"
   },
   {
    "duration": 31128,
    "start_time": "2023-06-27T11:05:32.993Z"
   },
   {
    "duration": 8,
    "start_time": "2023-06-27T11:06:34.635Z"
   },
   {
    "duration": 9,
    "start_time": "2023-06-27T11:06:41.197Z"
   },
   {
    "duration": 8360,
    "start_time": "2023-06-27T11:06:41.698Z"
   },
   {
    "duration": 0,
    "start_time": "2023-06-27T11:06:50.061Z"
   },
   {
    "duration": 6,
    "start_time": "2023-06-27T11:06:50.426Z"
   },
   {
    "duration": 15892,
    "start_time": "2023-06-27T11:06:54.048Z"
   },
   {
    "duration": 5,
    "start_time": "2023-06-27T11:07:28.742Z"
   },
   {
    "duration": 15061,
    "start_time": "2023-06-27T11:07:33.202Z"
   },
   {
    "duration": 12,
    "start_time": "2023-06-27T11:10:33.635Z"
   },
   {
    "duration": 9590,
    "start_time": "2023-06-27T11:10:43.740Z"
   },
   {
    "duration": 8936,
    "start_time": "2023-06-27T11:11:28.415Z"
   },
   {
    "duration": 8497,
    "start_time": "2023-06-27T11:15:12.111Z"
   },
   {
    "duration": 6574,
    "start_time": "2023-06-27T11:15:53.414Z"
   },
   {
    "duration": 13,
    "start_time": "2023-06-27T11:16:53.291Z"
   },
   {
    "duration": 9200,
    "start_time": "2023-06-27T11:17:06.986Z"
   },
   {
    "duration": 14360,
    "start_time": "2023-06-27T11:17:17.988Z"
   },
   {
    "duration": 27,
    "start_time": "2023-06-27T11:20:10.395Z"
   },
   {
    "duration": 16,
    "start_time": "2023-06-27T11:20:35.309Z"
   },
   {
    "duration": 7,
    "start_time": "2023-06-27T11:21:19.104Z"
   },
   {
    "duration": 11218,
    "start_time": "2023-06-27T11:21:19.925Z"
   },
   {
    "duration": 5,
    "start_time": "2023-06-27T11:21:31.145Z"
   },
   {
    "duration": 12454,
    "start_time": "2023-06-27T11:21:37.311Z"
   },
   {
    "duration": 4,
    "start_time": "2023-06-27T11:21:58.453Z"
   },
   {
    "duration": 16336,
    "start_time": "2023-06-27T11:22:00.944Z"
   },
   {
    "duration": 9,
    "start_time": "2023-06-27T11:22:28.270Z"
   },
   {
    "duration": 8124,
    "start_time": "2023-06-27T11:22:31.219Z"
   },
   {
    "duration": 5,
    "start_time": "2023-06-27T11:22:49.054Z"
   },
   {
    "duration": 7535,
    "start_time": "2023-06-27T11:22:51.612Z"
   },
   {
    "duration": 6,
    "start_time": "2023-06-27T11:23:09.336Z"
   },
   {
    "duration": 16101,
    "start_time": "2023-06-27T11:23:12.506Z"
   },
   {
    "duration": 12303,
    "start_time": "2023-06-27T11:23:38.996Z"
   },
   {
    "duration": 5,
    "start_time": "2023-06-27T11:23:51.301Z"
   },
   {
    "duration": 17513,
    "start_time": "2023-06-27T11:23:53.352Z"
   },
   {
    "duration": 4984,
    "start_time": "2023-06-27T11:25:24.909Z"
   },
   {
    "duration": 5,
    "start_time": "2023-06-27T11:30:33.942Z"
   },
   {
    "duration": 35,
    "start_time": "2023-06-27T11:31:20.724Z"
   },
   {
    "duration": 2543,
    "start_time": "2023-06-27T11:33:31.142Z"
   },
   {
    "duration": 56,
    "start_time": "2023-06-27T11:33:40.604Z"
   },
   {
    "duration": 24,
    "start_time": "2023-06-27T11:34:34.716Z"
   },
   {
    "duration": 30,
    "start_time": "2023-06-27T11:35:51.716Z"
   },
   {
    "duration": 15,
    "start_time": "2023-06-27T11:36:15.826Z"
   },
   {
    "duration": 601,
    "start_time": "2023-06-27T11:36:27.137Z"
   },
   {
    "duration": 31,
    "start_time": "2023-06-27T11:38:49.040Z"
   },
   {
    "duration": 605,
    "start_time": "2023-06-27T11:39:11.024Z"
   },
   {
    "duration": 43,
    "start_time": "2023-06-27T11:39:26.017Z"
   },
   {
    "duration": 13,
    "start_time": "2023-06-27T11:44:27.407Z"
   },
   {
    "duration": 5,
    "start_time": "2023-06-27T11:44:32.742Z"
   },
   {
    "duration": 7,
    "start_time": "2023-06-27T11:44:38.749Z"
   },
   {
    "duration": 23,
    "start_time": "2023-06-27T11:44:42.918Z"
   },
   {
    "duration": 13,
    "start_time": "2023-06-27T11:45:04.506Z"
   },
   {
    "duration": 135,
    "start_time": "2023-06-27T11:45:05.049Z"
   },
   {
    "duration": 5,
    "start_time": "2023-06-27T11:45:07.513Z"
   },
   {
    "duration": 2310,
    "start_time": "2023-06-27T11:45:09.636Z"
   },
   {
    "duration": 5,
    "start_time": "2023-06-27T11:45:13.606Z"
   },
   {
    "duration": 5,
    "start_time": "2023-06-27T11:45:14.952Z"
   },
   {
    "duration": 22849,
    "start_time": "2023-06-27T11:45:15.807Z"
   },
   {
    "duration": 6,
    "start_time": "2023-06-27T11:45:38.659Z"
   },
   {
    "duration": 18304,
    "start_time": "2023-06-27T11:45:38.666Z"
   },
   {
    "duration": 5858,
    "start_time": "2023-06-27T11:46:05.843Z"
   },
   {
    "duration": 331,
    "start_time": "2023-06-27T11:46:11.704Z"
   },
   {
    "duration": 8,
    "start_time": "2023-06-27T11:46:12.036Z"
   },
   {
    "duration": 45,
    "start_time": "2023-06-27T11:46:12.047Z"
   },
   {
    "duration": 352,
    "start_time": "2023-06-27T11:46:12.101Z"
   },
   {
    "duration": 71,
    "start_time": "2023-06-29T05:19:36.354Z"
   },
   {
    "duration": 1861,
    "start_time": "2023-06-29T05:19:42.995Z"
   },
   {
    "duration": 0,
    "start_time": "2023-06-29T05:19:44.859Z"
   },
   {
    "duration": 0,
    "start_time": "2023-06-29T05:19:44.863Z"
   },
   {
    "duration": 0,
    "start_time": "2023-06-29T05:19:44.864Z"
   },
   {
    "duration": 0,
    "start_time": "2023-06-29T05:19:44.865Z"
   },
   {
    "duration": 0,
    "start_time": "2023-06-29T05:19:44.866Z"
   },
   {
    "duration": 0,
    "start_time": "2023-06-29T05:19:44.867Z"
   },
   {
    "duration": 0,
    "start_time": "2023-06-29T05:19:44.869Z"
   },
   {
    "duration": 0,
    "start_time": "2023-06-29T05:19:44.870Z"
   },
   {
    "duration": 0,
    "start_time": "2023-06-29T05:19:44.871Z"
   },
   {
    "duration": 0,
    "start_time": "2023-06-29T05:19:44.872Z"
   },
   {
    "duration": 0,
    "start_time": "2023-06-29T05:19:44.873Z"
   },
   {
    "duration": 0,
    "start_time": "2023-06-29T05:19:44.875Z"
   },
   {
    "duration": 0,
    "start_time": "2023-06-29T05:19:44.876Z"
   },
   {
    "duration": 0,
    "start_time": "2023-06-29T05:19:44.877Z"
   },
   {
    "duration": 0,
    "start_time": "2023-06-29T05:19:44.878Z"
   },
   {
    "duration": 0,
    "start_time": "2023-06-29T05:19:44.900Z"
   },
   {
    "duration": 0,
    "start_time": "2023-06-29T05:19:44.901Z"
   },
   {
    "duration": 0,
    "start_time": "2023-06-29T05:19:44.901Z"
   },
   {
    "duration": 0,
    "start_time": "2023-06-29T05:19:44.902Z"
   },
   {
    "duration": 0,
    "start_time": "2023-06-29T05:19:44.902Z"
   },
   {
    "duration": 0,
    "start_time": "2023-06-29T05:19:44.903Z"
   },
   {
    "duration": 0,
    "start_time": "2023-06-29T05:19:44.903Z"
   },
   {
    "duration": 0,
    "start_time": "2023-06-29T05:19:44.904Z"
   },
   {
    "duration": 0,
    "start_time": "2023-06-29T05:19:44.904Z"
   },
   {
    "duration": 0,
    "start_time": "2023-06-29T05:19:44.904Z"
   },
   {
    "duration": 0,
    "start_time": "2023-06-29T05:19:44.905Z"
   },
   {
    "duration": 0,
    "start_time": "2023-06-29T05:19:44.905Z"
   },
   {
    "duration": 0,
    "start_time": "2023-06-29T05:19:44.906Z"
   },
   {
    "duration": 0,
    "start_time": "2023-06-29T05:19:44.906Z"
   },
   {
    "duration": 0,
    "start_time": "2023-06-29T05:19:44.917Z"
   },
   {
    "duration": 0,
    "start_time": "2023-06-29T05:19:44.918Z"
   },
   {
    "duration": 0,
    "start_time": "2023-06-29T05:19:44.919Z"
   },
   {
    "duration": 0,
    "start_time": "2023-06-29T05:19:44.920Z"
   },
   {
    "duration": 0,
    "start_time": "2023-06-29T05:19:44.921Z"
   },
   {
    "duration": 0,
    "start_time": "2023-06-29T05:19:44.922Z"
   },
   {
    "duration": 0,
    "start_time": "2023-06-29T05:19:44.923Z"
   },
   {
    "duration": 0,
    "start_time": "2023-06-29T05:19:44.923Z"
   },
   {
    "duration": 3464,
    "start_time": "2023-06-29T05:20:19.032Z"
   },
   {
    "duration": 1597,
    "start_time": "2023-06-29T05:20:26.733Z"
   },
   {
    "duration": 3,
    "start_time": "2023-06-29T05:20:28.331Z"
   },
   {
    "duration": 455,
    "start_time": "2023-06-29T05:20:28.335Z"
   },
   {
    "duration": 3,
    "start_time": "2023-06-29T05:20:28.792Z"
   },
   {
    "duration": 54,
    "start_time": "2023-06-29T05:20:28.797Z"
   },
   {
    "duration": 77,
    "start_time": "2023-06-29T05:20:28.852Z"
   },
   {
    "duration": 53,
    "start_time": "2023-06-29T05:20:28.930Z"
   },
   {
    "duration": 58,
    "start_time": "2023-06-29T05:20:28.985Z"
   },
   {
    "duration": 43,
    "start_time": "2023-06-29T05:20:29.045Z"
   },
   {
    "duration": 73,
    "start_time": "2023-06-29T05:20:29.090Z"
   },
   {
    "duration": 20,
    "start_time": "2023-06-29T05:20:29.165Z"
   },
   {
    "duration": 130,
    "start_time": "2023-06-29T05:20:29.187Z"
   },
   {
    "duration": 54,
    "start_time": "2023-06-29T05:20:29.318Z"
   },
   {
    "duration": 51,
    "start_time": "2023-06-29T05:20:29.374Z"
   },
   {
    "duration": 53,
    "start_time": "2023-06-29T05:20:29.426Z"
   },
   {
    "duration": 9,
    "start_time": "2023-06-29T05:20:29.480Z"
   },
   {
    "duration": 66,
    "start_time": "2023-06-29T05:20:29.490Z"
   },
   {
    "duration": 9,
    "start_time": "2023-06-29T05:20:29.558Z"
   },
   {
    "duration": 865,
    "start_time": "2023-06-29T05:20:29.569Z"
   },
   {
    "duration": 24,
    "start_time": "2023-06-29T05:20:30.436Z"
   },
   {
    "duration": 88,
    "start_time": "2023-06-29T05:20:30.461Z"
   },
   {
    "duration": 140,
    "start_time": "2023-06-29T05:20:30.551Z"
   },
   {
    "duration": 241,
    "start_time": "2023-06-29T05:20:30.693Z"
   },
   {
    "duration": 0,
    "start_time": "2023-06-29T05:20:30.936Z"
   },
   {
    "duration": 0,
    "start_time": "2023-06-29T05:20:30.937Z"
   },
   {
    "duration": 0,
    "start_time": "2023-06-29T05:20:30.938Z"
   },
   {
    "duration": 0,
    "start_time": "2023-06-29T05:20:30.939Z"
   },
   {
    "duration": 0,
    "start_time": "2023-06-29T05:20:30.940Z"
   },
   {
    "duration": 0,
    "start_time": "2023-06-29T05:20:30.941Z"
   },
   {
    "duration": 0,
    "start_time": "2023-06-29T05:20:30.942Z"
   },
   {
    "duration": 0,
    "start_time": "2023-06-29T05:20:30.943Z"
   },
   {
    "duration": 0,
    "start_time": "2023-06-29T05:20:30.944Z"
   },
   {
    "duration": 0,
    "start_time": "2023-06-29T05:20:30.945Z"
   },
   {
    "duration": 0,
    "start_time": "2023-06-29T05:20:30.946Z"
   },
   {
    "duration": 0,
    "start_time": "2023-06-29T05:20:30.947Z"
   },
   {
    "duration": 0,
    "start_time": "2023-06-29T05:20:30.948Z"
   },
   {
    "duration": 0,
    "start_time": "2023-06-29T05:20:30.949Z"
   },
   {
    "duration": 0,
    "start_time": "2023-06-29T05:20:30.950Z"
   },
   {
    "duration": 84,
    "start_time": "2023-06-29T05:21:46.454Z"
   },
   {
    "duration": 6,
    "start_time": "2023-06-29T05:24:19.651Z"
   },
   {
    "duration": 1251,
    "start_time": "2023-06-29T05:24:21.858Z"
   },
   {
    "duration": 12,
    "start_time": "2023-06-29T05:25:17.141Z"
   },
   {
    "duration": 1370,
    "start_time": "2023-06-29T05:25:17.659Z"
   },
   {
    "duration": 15,
    "start_time": "2023-06-29T05:25:22.478Z"
   },
   {
    "duration": 10,
    "start_time": "2023-06-29T05:25:23.875Z"
   },
   {
    "duration": 133,
    "start_time": "2023-06-29T05:25:27.346Z"
   },
   {
    "duration": 173,
    "start_time": "2023-06-29T05:25:57.959Z"
   },
   {
    "duration": 3,
    "start_time": "2023-06-29T05:26:41.159Z"
   },
   {
    "duration": 2373,
    "start_time": "2023-06-29T05:26:45.054Z"
   },
   {
    "duration": 7,
    "start_time": "2023-06-29T05:26:47.433Z"
   },
   {
    "duration": 4,
    "start_time": "2023-06-29T05:26:47.852Z"
   },
   {
    "duration": 20522,
    "start_time": "2023-06-29T05:26:48.552Z"
   },
   {
    "duration": 4,
    "start_time": "2023-06-29T05:27:09.077Z"
   },
   {
    "duration": 12,
    "start_time": "2023-06-29T05:28:52.860Z"
   },
   {
    "duration": 18,
    "start_time": "2023-06-29T05:32:23.340Z"
   },
   {
    "duration": 8056,
    "start_time": "2023-06-29T05:33:25.498Z"
   },
   {
    "duration": 20,
    "start_time": "2023-06-29T05:33:54.076Z"
   },
   {
    "duration": 13,
    "start_time": "2023-06-29T05:34:26.916Z"
   },
   {
    "duration": 14,
    "start_time": "2023-06-29T05:34:27.959Z"
   },
   {
    "duration": 6,
    "start_time": "2023-06-29T05:36:00.939Z"
   },
   {
    "duration": 9,
    "start_time": "2023-06-29T05:36:07.958Z"
   },
   {
    "duration": 9,
    "start_time": "2023-06-29T05:36:17.736Z"
   },
   {
    "duration": 8,
    "start_time": "2023-06-29T05:36:26.988Z"
   },
   {
    "duration": 70,
    "start_time": "2023-06-29T05:42:17.158Z"
   },
   {
    "duration": 1497,
    "start_time": "2023-06-29T05:42:25.630Z"
   },
   {
    "duration": 2,
    "start_time": "2023-06-29T05:42:27.129Z"
   },
   {
    "duration": 115,
    "start_time": "2023-06-29T05:42:27.132Z"
   },
   {
    "duration": 2,
    "start_time": "2023-06-29T05:42:27.249Z"
   },
   {
    "duration": 9,
    "start_time": "2023-06-29T05:42:27.254Z"
   },
   {
    "duration": 33,
    "start_time": "2023-06-29T05:42:27.264Z"
   },
   {
    "duration": 43,
    "start_time": "2023-06-29T05:42:27.299Z"
   },
   {
    "duration": 56,
    "start_time": "2023-06-29T05:42:27.344Z"
   },
   {
    "duration": 25,
    "start_time": "2023-06-29T05:42:27.401Z"
   },
   {
    "duration": 52,
    "start_time": "2023-06-29T05:42:27.427Z"
   },
   {
    "duration": 77,
    "start_time": "2023-06-29T05:42:27.481Z"
   },
   {
    "duration": 107,
    "start_time": "2023-06-29T05:42:27.560Z"
   },
   {
    "duration": 65,
    "start_time": "2023-06-29T05:42:27.668Z"
   },
   {
    "duration": 27,
    "start_time": "2023-06-29T05:42:27.737Z"
   },
   {
    "duration": 82,
    "start_time": "2023-06-29T05:42:27.766Z"
   },
   {
    "duration": 8,
    "start_time": "2023-06-29T05:42:27.850Z"
   },
   {
    "duration": 26,
    "start_time": "2023-06-29T05:42:27.859Z"
   },
   {
    "duration": 7,
    "start_time": "2023-06-29T05:42:27.886Z"
   },
   {
    "duration": 884,
    "start_time": "2023-06-29T05:42:27.894Z"
   },
   {
    "duration": 46,
    "start_time": "2023-06-29T05:42:28.780Z"
   },
   {
    "duration": 27,
    "start_time": "2023-06-29T05:42:28.827Z"
   },
   {
    "duration": 83,
    "start_time": "2023-06-29T05:42:28.856Z"
   },
   {
    "duration": 5,
    "start_time": "2023-06-29T05:42:28.941Z"
   },
   {
    "duration": 1038,
    "start_time": "2023-06-29T05:42:28.948Z"
   },
   {
    "duration": 42,
    "start_time": "2023-06-29T05:42:29.987Z"
   },
   {
    "duration": 86,
    "start_time": "2023-06-29T05:42:30.031Z"
   },
   {
    "duration": 209,
    "start_time": "2023-06-29T05:42:30.120Z"
   },
   {
    "duration": 1,
    "start_time": "2023-06-29T05:42:30.330Z"
   },
   {
    "duration": 0,
    "start_time": "2023-06-29T05:42:30.331Z"
   },
   {
    "duration": 0,
    "start_time": "2023-06-29T05:42:30.332Z"
   },
   {
    "duration": 0,
    "start_time": "2023-06-29T05:42:30.334Z"
   },
   {
    "duration": 0,
    "start_time": "2023-06-29T05:42:30.335Z"
   },
   {
    "duration": 0,
    "start_time": "2023-06-29T05:42:30.336Z"
   },
   {
    "duration": 0,
    "start_time": "2023-06-29T05:42:30.337Z"
   },
   {
    "duration": 0,
    "start_time": "2023-06-29T05:42:30.339Z"
   },
   {
    "duration": 0,
    "start_time": "2023-06-29T05:42:30.340Z"
   },
   {
    "duration": 0,
    "start_time": "2023-06-29T05:42:30.341Z"
   },
   {
    "duration": 0,
    "start_time": "2023-06-29T05:42:30.342Z"
   },
   {
    "duration": 0,
    "start_time": "2023-06-29T05:42:30.343Z"
   },
   {
    "duration": 0,
    "start_time": "2023-06-29T05:42:30.345Z"
   },
   {
    "duration": 71,
    "start_time": "2023-06-29T05:43:22.057Z"
   },
   {
    "duration": 56,
    "start_time": "2023-06-29T05:44:17.780Z"
   },
   {
    "duration": 58,
    "start_time": "2023-06-29T05:44:26.858Z"
   },
   {
    "duration": 52,
    "start_time": "2023-06-29T05:44:31.767Z"
   },
   {
    "duration": 74,
    "start_time": "2023-06-29T05:51:36.099Z"
   },
   {
    "duration": 73,
    "start_time": "2023-06-29T05:51:46.366Z"
   },
   {
    "duration": 203,
    "start_time": "2023-06-29T05:52:36.777Z"
   },
   {
    "duration": 146,
    "start_time": "2023-06-29T05:52:51.272Z"
   },
   {
    "duration": 27,
    "start_time": "2023-06-29T05:53:13.326Z"
   },
   {
    "duration": 10,
    "start_time": "2023-06-29T05:53:55.662Z"
   },
   {
    "duration": 2,
    "start_time": "2023-06-29T05:57:57.477Z"
   },
   {
    "duration": 19,
    "start_time": "2023-06-29T05:58:15.655Z"
   },
   {
    "duration": 41,
    "start_time": "2023-06-29T05:58:59.838Z"
   },
   {
    "duration": 75,
    "start_time": "2023-06-29T05:59:08.121Z"
   },
   {
    "duration": 69,
    "start_time": "2023-06-29T05:59:20.418Z"
   },
   {
    "duration": 76,
    "start_time": "2023-06-29T05:59:53.158Z"
   },
   {
    "duration": 5,
    "start_time": "2023-06-29T06:00:06.079Z"
   },
   {
    "duration": 7,
    "start_time": "2023-06-29T06:00:10.122Z"
   },
   {
    "duration": 8,
    "start_time": "2023-06-29T06:00:14.621Z"
   },
   {
    "duration": 2106,
    "start_time": "2023-06-29T06:00:17.227Z"
   },
   {
    "duration": 4,
    "start_time": "2023-06-29T06:00:23.342Z"
   },
   {
    "duration": 8,
    "start_time": "2023-06-29T06:00:26.385Z"
   },
   {
    "duration": 23284,
    "start_time": "2023-06-29T06:00:27.457Z"
   },
   {
    "duration": 4,
    "start_time": "2023-06-29T06:00:50.743Z"
   },
   {
    "duration": 12,
    "start_time": "2023-06-29T06:01:11.078Z"
   },
   {
    "duration": 14,
    "start_time": "2023-06-29T06:01:12.625Z"
   },
   {
    "duration": 30,
    "start_time": "2023-06-29T06:01:34.423Z"
   },
   {
    "duration": 4837,
    "start_time": "2023-06-29T06:02:28.443Z"
   },
   {
    "duration": 10,
    "start_time": "2023-06-29T06:02:36.488Z"
   },
   {
    "duration": 10,
    "start_time": "2023-06-29T06:03:23.876Z"
   },
   {
    "duration": 52,
    "start_time": "2023-06-29T06:08:08.787Z"
   },
   {
    "duration": 52,
    "start_time": "2023-06-29T06:09:30.140Z"
   },
   {
    "duration": 15,
    "start_time": "2023-06-29T06:13:35.223Z"
   },
   {
    "duration": 4,
    "start_time": "2023-06-29T06:13:46.748Z"
   },
   {
    "duration": 14,
    "start_time": "2023-06-29T06:14:06.178Z"
   },
   {
    "duration": 14,
    "start_time": "2023-06-29T06:14:20.729Z"
   },
   {
    "duration": 217,
    "start_time": "2023-06-29T06:14:35.043Z"
   },
   {
    "duration": 409,
    "start_time": "2023-06-29T06:20:19.222Z"
   },
   {
    "duration": 327,
    "start_time": "2023-06-29T06:20:51.522Z"
   },
   {
    "duration": 288,
    "start_time": "2023-06-29T06:21:11.127Z"
   },
   {
    "duration": 13,
    "start_time": "2023-06-29T06:21:21.138Z"
   },
   {
    "duration": 10,
    "start_time": "2023-06-29T06:21:24.396Z"
   },
   {
    "duration": 317,
    "start_time": "2023-06-29T06:21:27.004Z"
   },
   {
    "duration": 1815,
    "start_time": "2023-06-29T06:45:36.542Z"
   },
   {
    "duration": 2,
    "start_time": "2023-06-29T06:45:38.366Z"
   },
   {
    "duration": 404,
    "start_time": "2023-06-29T06:45:38.370Z"
   },
   {
    "duration": 2,
    "start_time": "2023-06-29T06:45:38.776Z"
   },
   {
    "duration": 8,
    "start_time": "2023-06-29T06:45:38.779Z"
   },
   {
    "duration": 100,
    "start_time": "2023-06-29T06:45:38.788Z"
   },
   {
    "duration": 52,
    "start_time": "2023-06-29T06:45:38.889Z"
   },
   {
    "duration": 74,
    "start_time": "2023-06-29T06:45:38.958Z"
   },
   {
    "duration": 30,
    "start_time": "2023-06-29T06:45:39.037Z"
   },
   {
    "duration": 7,
    "start_time": "2023-06-29T06:45:39.069Z"
   },
   {
    "duration": 27,
    "start_time": "2023-06-29T06:45:39.078Z"
   },
   {
    "duration": 133,
    "start_time": "2023-06-29T06:45:39.106Z"
   },
   {
    "duration": 84,
    "start_time": "2023-06-29T06:45:39.240Z"
   },
   {
    "duration": 40,
    "start_time": "2023-06-29T06:45:39.331Z"
   },
   {
    "duration": 96,
    "start_time": "2023-06-29T06:45:39.372Z"
   },
   {
    "duration": 9,
    "start_time": "2023-06-29T06:45:39.470Z"
   },
   {
    "duration": 44,
    "start_time": "2023-06-29T06:45:39.481Z"
   },
   {
    "duration": 49,
    "start_time": "2023-06-29T06:45:39.532Z"
   },
   {
    "duration": 1115,
    "start_time": "2023-06-29T06:45:39.583Z"
   },
   {
    "duration": 37,
    "start_time": "2023-06-29T06:45:40.700Z"
   },
   {
    "duration": 48,
    "start_time": "2023-06-29T06:45:40.738Z"
   },
   {
    "duration": 199,
    "start_time": "2023-06-29T06:45:40.788Z"
   },
   {
    "duration": 4,
    "start_time": "2023-06-29T06:45:40.989Z"
   },
   {
    "duration": 1338,
    "start_time": "2023-06-29T06:45:40.995Z"
   },
   {
    "duration": 27,
    "start_time": "2023-06-29T06:45:42.334Z"
   },
   {
    "duration": 28,
    "start_time": "2023-06-29T06:45:42.363Z"
   },
   {
    "duration": 93,
    "start_time": "2023-06-29T06:45:42.392Z"
   },
   {
    "duration": 3,
    "start_time": "2023-06-29T06:45:42.487Z"
   },
   {
    "duration": 2133,
    "start_time": "2023-06-29T06:45:42.492Z"
   },
   {
    "duration": 23,
    "start_time": "2023-06-29T06:45:44.641Z"
   },
   {
    "duration": 9,
    "start_time": "2023-06-29T06:45:44.666Z"
   },
   {
    "duration": 31066,
    "start_time": "2023-06-29T06:45:44.677Z"
   },
   {
    "duration": 9,
    "start_time": "2023-06-29T06:46:15.744Z"
   },
   {
    "duration": 72,
    "start_time": "2023-06-29T06:46:15.754Z"
   },
   {
    "duration": 2000,
    "start_time": "2023-06-29T06:46:22.321Z"
   },
   {
    "duration": 2,
    "start_time": "2023-06-29T06:46:24.323Z"
   },
   {
    "duration": 157,
    "start_time": "2023-06-29T06:46:24.334Z"
   },
   {
    "duration": 3,
    "start_time": "2023-06-29T06:46:24.493Z"
   },
   {
    "duration": 70,
    "start_time": "2023-06-29T06:46:24.498Z"
   },
   {
    "duration": 91,
    "start_time": "2023-06-29T06:46:24.570Z"
   },
   {
    "duration": 58,
    "start_time": "2023-06-29T06:46:24.663Z"
   },
   {
    "duration": 112,
    "start_time": "2023-06-29T06:46:24.737Z"
   },
   {
    "duration": 62,
    "start_time": "2023-06-29T06:46:24.851Z"
   },
   {
    "duration": 51,
    "start_time": "2023-06-29T06:46:24.918Z"
   },
   {
    "duration": 46,
    "start_time": "2023-06-29T06:46:24.971Z"
   },
   {
    "duration": 221,
    "start_time": "2023-06-29T06:46:25.018Z"
   },
   {
    "duration": 105,
    "start_time": "2023-06-29T06:46:25.240Z"
   },
   {
    "duration": 31,
    "start_time": "2023-06-29T06:46:25.353Z"
   },
   {
    "duration": 181,
    "start_time": "2023-06-29T06:46:25.386Z"
   },
   {
    "duration": 11,
    "start_time": "2023-06-29T06:46:25.568Z"
   },
   {
    "duration": 65,
    "start_time": "2023-06-29T06:46:25.580Z"
   },
   {
    "duration": 35,
    "start_time": "2023-06-29T06:46:25.646Z"
   },
   {
    "duration": 1137,
    "start_time": "2023-06-29T06:46:25.682Z"
   },
   {
    "duration": 41,
    "start_time": "2023-06-29T06:46:26.840Z"
   },
   {
    "duration": 37,
    "start_time": "2023-06-29T06:46:26.883Z"
   },
   {
    "duration": 159,
    "start_time": "2023-06-29T06:46:26.922Z"
   },
   {
    "duration": 6,
    "start_time": "2023-06-29T06:46:27.083Z"
   },
   {
    "duration": 1386,
    "start_time": "2023-06-29T06:46:27.091Z"
   },
   {
    "duration": 33,
    "start_time": "2023-06-29T06:46:28.480Z"
   },
   {
    "duration": 53,
    "start_time": "2023-06-29T06:46:28.514Z"
   },
   {
    "duration": 285,
    "start_time": "2023-06-29T06:46:28.568Z"
   },
   {
    "duration": 0,
    "start_time": "2023-06-29T06:46:28.854Z"
   },
   {
    "duration": 0,
    "start_time": "2023-06-29T06:46:28.855Z"
   },
   {
    "duration": 0,
    "start_time": "2023-06-29T06:46:28.856Z"
   },
   {
    "duration": 0,
    "start_time": "2023-06-29T06:46:28.863Z"
   },
   {
    "duration": 0,
    "start_time": "2023-06-29T06:46:28.864Z"
   },
   {
    "duration": 0,
    "start_time": "2023-06-29T06:46:28.865Z"
   },
   {
    "duration": 0,
    "start_time": "2023-06-29T06:46:28.866Z"
   },
   {
    "duration": 0,
    "start_time": "2023-06-29T06:46:28.868Z"
   },
   {
    "duration": 0,
    "start_time": "2023-06-29T06:46:28.869Z"
   },
   {
    "duration": 0,
    "start_time": "2023-06-29T06:46:28.872Z"
   },
   {
    "duration": 0,
    "start_time": "2023-06-29T06:46:28.872Z"
   },
   {
    "duration": 0,
    "start_time": "2023-06-29T06:46:28.873Z"
   },
   {
    "duration": 0,
    "start_time": "2023-06-29T06:46:28.874Z"
   },
   {
    "duration": 368,
    "start_time": "2023-06-29T06:49:28.669Z"
   },
   {
    "duration": 92,
    "start_time": "2023-06-29T06:52:34.490Z"
   },
   {
    "duration": 17,
    "start_time": "2023-06-29T06:52:41.020Z"
   },
   {
    "duration": 2332,
    "start_time": "2023-06-29T06:52:46.011Z"
   },
   {
    "duration": 2,
    "start_time": "2023-06-29T06:52:48.345Z"
   },
   {
    "duration": 228,
    "start_time": "2023-06-29T06:52:48.348Z"
   },
   {
    "duration": 3,
    "start_time": "2023-06-29T06:52:48.583Z"
   },
   {
    "duration": 54,
    "start_time": "2023-06-29T06:52:48.590Z"
   },
   {
    "duration": 99,
    "start_time": "2023-06-29T06:52:48.646Z"
   },
   {
    "duration": 65,
    "start_time": "2023-06-29T06:52:48.752Z"
   },
   {
    "duration": 60,
    "start_time": "2023-06-29T06:52:48.826Z"
   },
   {
    "duration": 64,
    "start_time": "2023-06-29T06:52:48.888Z"
   },
   {
    "duration": 20,
    "start_time": "2023-06-29T06:52:48.958Z"
   },
   {
    "duration": 45,
    "start_time": "2023-06-29T06:52:48.980Z"
   },
   {
    "duration": 194,
    "start_time": "2023-06-29T06:52:49.037Z"
   },
   {
    "duration": 113,
    "start_time": "2023-06-29T06:52:49.244Z"
   },
   {
    "duration": 27,
    "start_time": "2023-06-29T06:52:49.367Z"
   },
   {
    "duration": 97,
    "start_time": "2023-06-29T06:52:49.396Z"
   },
   {
    "duration": 22,
    "start_time": "2023-06-29T06:52:49.495Z"
   },
   {
    "duration": 109,
    "start_time": "2023-06-29T06:52:49.520Z"
   },
   {
    "duration": 13,
    "start_time": "2023-06-29T06:52:49.653Z"
   },
   {
    "duration": 1059,
    "start_time": "2023-06-29T06:52:49.668Z"
   },
   {
    "duration": 50,
    "start_time": "2023-06-29T06:52:50.733Z"
   },
   {
    "duration": 121,
    "start_time": "2023-06-29T06:52:50.785Z"
   },
   {
    "duration": 161,
    "start_time": "2023-06-29T06:52:50.908Z"
   },
   {
    "duration": 6,
    "start_time": "2023-06-29T06:52:51.072Z"
   },
   {
    "duration": 1462,
    "start_time": "2023-06-29T06:52:51.079Z"
   },
   {
    "duration": 28,
    "start_time": "2023-06-29T06:52:52.542Z"
   },
   {
    "duration": 16,
    "start_time": "2023-06-29T06:52:52.572Z"
   },
   {
    "duration": 173,
    "start_time": "2023-06-29T06:52:52.590Z"
   },
   {
    "duration": 4,
    "start_time": "2023-06-29T06:52:52.767Z"
   },
   {
    "duration": 2369,
    "start_time": "2023-06-29T06:52:52.772Z"
   },
   {
    "duration": 11,
    "start_time": "2023-06-29T06:52:55.146Z"
   },
   {
    "duration": 16,
    "start_time": "2023-06-29T06:52:55.161Z"
   },
   {
    "duration": 27116,
    "start_time": "2023-06-29T06:52:55.178Z"
   },
   {
    "duration": 10,
    "start_time": "2023-06-29T06:53:22.295Z"
   },
   {
    "duration": 75,
    "start_time": "2023-06-29T06:53:22.320Z"
   },
   {
    "duration": 6141,
    "start_time": "2023-06-29T06:53:22.396Z"
   },
   {
    "duration": 11,
    "start_time": "2023-06-29T06:53:28.538Z"
   },
   {
    "duration": 426,
    "start_time": "2023-06-29T06:53:28.550Z"
   },
   {
    "duration": 20,
    "start_time": "2023-06-29T06:53:28.978Z"
   },
   {
    "duration": 83,
    "start_time": "2023-06-29T06:53:28.999Z"
   },
   {
    "duration": 388,
    "start_time": "2023-06-29T06:53:29.084Z"
   },
   {
    "duration": 1844,
    "start_time": "2023-06-29T06:56:22.780Z"
   },
   {
    "duration": 9,
    "start_time": "2023-06-29T06:56:24.626Z"
   },
   {
    "duration": 208,
    "start_time": "2023-06-29T06:56:24.637Z"
   },
   {
    "duration": 7,
    "start_time": "2023-06-29T06:56:24.854Z"
   },
   {
    "duration": 11,
    "start_time": "2023-06-29T06:56:24.863Z"
   },
   {
    "duration": 66,
    "start_time": "2023-06-29T06:56:24.876Z"
   },
   {
    "duration": 51,
    "start_time": "2023-06-29T06:56:24.943Z"
   },
   {
    "duration": 65,
    "start_time": "2023-06-29T06:56:24.995Z"
   },
   {
    "duration": 53,
    "start_time": "2023-06-29T06:56:25.062Z"
   },
   {
    "duration": 6,
    "start_time": "2023-06-29T06:56:25.117Z"
   },
   {
    "duration": 259,
    "start_time": "2023-06-29T06:56:25.125Z"
   },
   {
    "duration": 0,
    "start_time": "2023-06-29T06:56:25.387Z"
   },
   {
    "duration": 0,
    "start_time": "2023-06-29T06:56:25.389Z"
   },
   {
    "duration": 0,
    "start_time": "2023-06-29T06:56:25.390Z"
   },
   {
    "duration": 0,
    "start_time": "2023-06-29T06:56:25.392Z"
   },
   {
    "duration": 0,
    "start_time": "2023-06-29T06:56:25.393Z"
   },
   {
    "duration": 0,
    "start_time": "2023-06-29T06:56:25.395Z"
   },
   {
    "duration": 0,
    "start_time": "2023-06-29T06:56:25.396Z"
   },
   {
    "duration": 0,
    "start_time": "2023-06-29T06:56:25.398Z"
   },
   {
    "duration": 0,
    "start_time": "2023-06-29T06:56:25.399Z"
   },
   {
    "duration": 0,
    "start_time": "2023-06-29T06:56:25.400Z"
   },
   {
    "duration": 0,
    "start_time": "2023-06-29T06:56:25.401Z"
   },
   {
    "duration": 0,
    "start_time": "2023-06-29T06:56:25.402Z"
   },
   {
    "duration": 0,
    "start_time": "2023-06-29T06:56:25.403Z"
   },
   {
    "duration": 0,
    "start_time": "2023-06-29T06:56:25.404Z"
   },
   {
    "duration": 0,
    "start_time": "2023-06-29T06:56:25.404Z"
   },
   {
    "duration": 0,
    "start_time": "2023-06-29T06:56:25.414Z"
   },
   {
    "duration": 0,
    "start_time": "2023-06-29T06:56:25.415Z"
   },
   {
    "duration": 0,
    "start_time": "2023-06-29T06:56:25.415Z"
   },
   {
    "duration": 0,
    "start_time": "2023-06-29T06:56:25.416Z"
   },
   {
    "duration": 0,
    "start_time": "2023-06-29T06:56:25.417Z"
   },
   {
    "duration": 0,
    "start_time": "2023-06-29T06:56:25.425Z"
   },
   {
    "duration": 0,
    "start_time": "2023-06-29T06:56:25.427Z"
   },
   {
    "duration": 0,
    "start_time": "2023-06-29T06:56:25.428Z"
   },
   {
    "duration": 0,
    "start_time": "2023-06-29T06:56:25.434Z"
   },
   {
    "duration": 0,
    "start_time": "2023-06-29T06:56:25.436Z"
   },
   {
    "duration": 0,
    "start_time": "2023-06-29T06:56:25.437Z"
   },
   {
    "duration": 0,
    "start_time": "2023-06-29T06:56:25.440Z"
   },
   {
    "duration": 0,
    "start_time": "2023-06-29T06:56:25.442Z"
   },
   {
    "duration": 11,
    "start_time": "2023-06-29T06:56:51.180Z"
   },
   {
    "duration": 2203,
    "start_time": "2023-06-29T06:56:55.446Z"
   },
   {
    "duration": 6,
    "start_time": "2023-06-29T06:56:57.651Z"
   },
   {
    "duration": 215,
    "start_time": "2023-06-29T06:56:57.658Z"
   },
   {
    "duration": 8,
    "start_time": "2023-06-29T06:56:57.876Z"
   },
   {
    "duration": 12,
    "start_time": "2023-06-29T06:56:57.886Z"
   },
   {
    "duration": 112,
    "start_time": "2023-06-29T06:56:57.909Z"
   },
   {
    "duration": 49,
    "start_time": "2023-06-29T06:56:58.022Z"
   },
   {
    "duration": 69,
    "start_time": "2023-06-29T06:56:58.072Z"
   },
   {
    "duration": 87,
    "start_time": "2023-06-29T06:56:58.143Z"
   },
   {
    "duration": 18,
    "start_time": "2023-06-29T06:56:58.255Z"
   },
   {
    "duration": 30,
    "start_time": "2023-06-29T06:56:58.275Z"
   },
   {
    "duration": 174,
    "start_time": "2023-06-29T06:56:58.309Z"
   },
   {
    "duration": 81,
    "start_time": "2023-06-29T06:56:58.485Z"
   },
   {
    "duration": 24,
    "start_time": "2023-06-29T06:56:58.567Z"
   },
   {
    "duration": 91,
    "start_time": "2023-06-29T06:56:58.593Z"
   },
   {
    "duration": 10,
    "start_time": "2023-06-29T06:56:58.686Z"
   },
   {
    "duration": 78,
    "start_time": "2023-06-29T06:56:58.698Z"
   },
   {
    "duration": 11,
    "start_time": "2023-06-29T06:56:58.778Z"
   },
   {
    "duration": 1175,
    "start_time": "2023-06-29T06:56:58.790Z"
   },
   {
    "duration": 48,
    "start_time": "2023-06-29T06:56:59.970Z"
   },
   {
    "duration": 37,
    "start_time": "2023-06-29T06:57:00.020Z"
   },
   {
    "duration": 117,
    "start_time": "2023-06-29T06:57:00.059Z"
   },
   {
    "duration": 1563,
    "start_time": "2023-06-29T06:57:00.178Z"
   },
   {
    "duration": 26,
    "start_time": "2023-06-29T06:57:01.746Z"
   },
   {
    "duration": 96,
    "start_time": "2023-06-29T06:57:01.775Z"
   },
   {
    "duration": 360,
    "start_time": "2023-06-29T06:57:01.873Z"
   },
   {
    "duration": 0,
    "start_time": "2023-06-29T06:57:02.235Z"
   },
   {
    "duration": 1,
    "start_time": "2023-06-29T06:57:02.235Z"
   },
   {
    "duration": 0,
    "start_time": "2023-06-29T06:57:02.236Z"
   },
   {
    "duration": 0,
    "start_time": "2023-06-29T06:57:02.241Z"
   },
   {
    "duration": 0,
    "start_time": "2023-06-29T06:57:02.242Z"
   },
   {
    "duration": 0,
    "start_time": "2023-06-29T06:57:02.243Z"
   },
   {
    "duration": 0,
    "start_time": "2023-06-29T06:57:02.244Z"
   },
   {
    "duration": 0,
    "start_time": "2023-06-29T06:57:02.245Z"
   },
   {
    "duration": 0,
    "start_time": "2023-06-29T06:57:02.246Z"
   },
   {
    "duration": 0,
    "start_time": "2023-06-29T06:57:02.249Z"
   },
   {
    "duration": 0,
    "start_time": "2023-06-29T06:57:02.250Z"
   },
   {
    "duration": 0,
    "start_time": "2023-06-29T06:57:02.251Z"
   },
   {
    "duration": 0,
    "start_time": "2023-06-29T06:57:02.257Z"
   },
   {
    "duration": 2519,
    "start_time": "2023-06-29T06:57:12.559Z"
   },
   {
    "duration": 2,
    "start_time": "2023-06-29T06:57:15.080Z"
   },
   {
    "duration": 185,
    "start_time": "2023-06-29T06:57:15.084Z"
   },
   {
    "duration": 5,
    "start_time": "2023-06-29T06:57:15.271Z"
   },
   {
    "duration": 13,
    "start_time": "2023-06-29T06:57:15.279Z"
   },
   {
    "duration": 167,
    "start_time": "2023-06-29T06:57:15.294Z"
   },
   {
    "duration": 88,
    "start_time": "2023-06-29T06:57:15.473Z"
   },
   {
    "duration": 162,
    "start_time": "2023-06-29T06:57:15.563Z"
   },
   {
    "duration": 58,
    "start_time": "2023-06-29T06:57:15.727Z"
   },
   {
    "duration": 48,
    "start_time": "2023-06-29T06:57:15.795Z"
   },
   {
    "duration": 95,
    "start_time": "2023-06-29T06:57:15.850Z"
   },
   {
    "duration": 290,
    "start_time": "2023-06-29T06:57:15.947Z"
   },
   {
    "duration": 117,
    "start_time": "2023-06-29T06:57:16.246Z"
   },
   {
    "duration": 62,
    "start_time": "2023-06-29T06:57:16.366Z"
   },
   {
    "duration": 191,
    "start_time": "2023-06-29T06:57:16.430Z"
   },
   {
    "duration": 32,
    "start_time": "2023-06-29T06:57:16.623Z"
   },
   {
    "duration": 41,
    "start_time": "2023-06-29T06:57:16.657Z"
   },
   {
    "duration": 14,
    "start_time": "2023-06-29T06:57:16.699Z"
   },
   {
    "duration": 1360,
    "start_time": "2023-06-29T06:57:16.715Z"
   },
   {
    "duration": 61,
    "start_time": "2023-06-29T06:57:18.077Z"
   },
   {
    "duration": 117,
    "start_time": "2023-06-29T06:57:18.140Z"
   },
   {
    "duration": 116,
    "start_time": "2023-06-29T06:57:18.259Z"
   },
   {
    "duration": 1700,
    "start_time": "2023-06-29T06:57:18.377Z"
   },
   {
    "duration": 34,
    "start_time": "2023-06-29T06:57:20.083Z"
   },
   {
    "duration": 55,
    "start_time": "2023-06-29T06:57:20.131Z"
   },
   {
    "duration": 196,
    "start_time": "2023-06-29T06:57:20.188Z"
   },
   {
    "duration": 98,
    "start_time": "2023-06-29T06:57:20.388Z"
   },
   {
    "duration": 2751,
    "start_time": "2023-06-29T06:57:20.490Z"
   },
   {
    "duration": 7,
    "start_time": "2023-06-29T06:57:23.250Z"
   },
   {
    "duration": 73,
    "start_time": "2023-06-29T06:57:23.259Z"
   },
   {
    "duration": 34196,
    "start_time": "2023-06-29T06:57:23.333Z"
   },
   {
    "duration": 15,
    "start_time": "2023-06-29T06:57:57.534Z"
   },
   {
    "duration": 71,
    "start_time": "2023-06-29T06:57:57.562Z"
   },
   {
    "duration": 7350,
    "start_time": "2023-06-29T06:57:57.639Z"
   },
   {
    "duration": 29,
    "start_time": "2023-06-29T06:58:04.992Z"
   },
   {
    "duration": 599,
    "start_time": "2023-06-29T06:58:05.034Z"
   },
   {
    "duration": 39,
    "start_time": "2023-06-29T06:58:05.635Z"
   },
   {
    "duration": 172,
    "start_time": "2023-06-29T06:58:05.681Z"
   },
   {
    "duration": 477,
    "start_time": "2023-06-29T06:58:05.859Z"
   },
   {
    "duration": 242,
    "start_time": "2023-06-29T06:58:11.418Z"
   },
   {
    "duration": 157,
    "start_time": "2023-06-29T07:06:14.476Z"
   },
   {
    "duration": 74,
    "start_time": "2023-06-29T07:07:32.006Z"
   },
   {
    "duration": 5,
    "start_time": "2023-06-29T07:07:44.354Z"
   },
   {
    "duration": 61,
    "start_time": "2023-06-29T07:07:46.182Z"
   },
   {
    "duration": 5,
    "start_time": "2023-06-29T07:07:48.746Z"
   },
   {
    "duration": 21,
    "start_time": "2023-06-29T07:13:03.375Z"
   },
   {
    "duration": 18,
    "start_time": "2023-06-29T07:16:07.251Z"
   },
   {
    "duration": 19,
    "start_time": "2023-06-29T07:16:30.790Z"
   },
   {
    "duration": 12,
    "start_time": "2023-06-29T07:18:00.539Z"
   },
   {
    "duration": 23,
    "start_time": "2023-06-29T07:20:51.194Z"
   },
   {
    "duration": 80,
    "start_time": "2023-06-29T07:21:02.194Z"
   },
   {
    "duration": 4,
    "start_time": "2023-06-29T07:21:06.664Z"
   },
   {
    "duration": 1876,
    "start_time": "2023-06-29T07:21:07.854Z"
   },
   {
    "duration": 4,
    "start_time": "2023-06-29T07:21:13.193Z"
   },
   {
    "duration": 56,
    "start_time": "2023-06-30T07:06:21.116Z"
   },
   {
    "duration": 1681,
    "start_time": "2023-06-30T07:06:46.407Z"
   },
   {
    "duration": 0,
    "start_time": "2023-06-30T07:06:48.091Z"
   },
   {
    "duration": 0,
    "start_time": "2023-06-30T07:06:48.092Z"
   },
   {
    "duration": 0,
    "start_time": "2023-06-30T07:06:48.094Z"
   },
   {
    "duration": 0,
    "start_time": "2023-06-30T07:06:48.095Z"
   },
   {
    "duration": 0,
    "start_time": "2023-06-30T07:06:48.096Z"
   },
   {
    "duration": 0,
    "start_time": "2023-06-30T07:06:48.097Z"
   },
   {
    "duration": 0,
    "start_time": "2023-06-30T07:06:48.099Z"
   },
   {
    "duration": 0,
    "start_time": "2023-06-30T07:06:48.100Z"
   },
   {
    "duration": 0,
    "start_time": "2023-06-30T07:06:48.101Z"
   },
   {
    "duration": 0,
    "start_time": "2023-06-30T07:06:48.102Z"
   },
   {
    "duration": 0,
    "start_time": "2023-06-30T07:06:48.103Z"
   },
   {
    "duration": 0,
    "start_time": "2023-06-30T07:06:48.104Z"
   },
   {
    "duration": 0,
    "start_time": "2023-06-30T07:06:48.106Z"
   },
   {
    "duration": 0,
    "start_time": "2023-06-30T07:06:48.107Z"
   },
   {
    "duration": 0,
    "start_time": "2023-06-30T07:06:48.108Z"
   },
   {
    "duration": 0,
    "start_time": "2023-06-30T07:06:48.109Z"
   },
   {
    "duration": 0,
    "start_time": "2023-06-30T07:06:48.110Z"
   },
   {
    "duration": 0,
    "start_time": "2023-06-30T07:06:48.111Z"
   },
   {
    "duration": 0,
    "start_time": "2023-06-30T07:06:48.112Z"
   },
   {
    "duration": 0,
    "start_time": "2023-06-30T07:06:48.113Z"
   },
   {
    "duration": 0,
    "start_time": "2023-06-30T07:06:48.114Z"
   },
   {
    "duration": 0,
    "start_time": "2023-06-30T07:06:48.152Z"
   },
   {
    "duration": 0,
    "start_time": "2023-06-30T07:06:48.154Z"
   },
   {
    "duration": 0,
    "start_time": "2023-06-30T07:06:48.155Z"
   },
   {
    "duration": 0,
    "start_time": "2023-06-30T07:06:48.155Z"
   },
   {
    "duration": 0,
    "start_time": "2023-06-30T07:06:48.157Z"
   },
   {
    "duration": 0,
    "start_time": "2023-06-30T07:06:48.158Z"
   },
   {
    "duration": 0,
    "start_time": "2023-06-30T07:06:48.159Z"
   },
   {
    "duration": 0,
    "start_time": "2023-06-30T07:06:48.160Z"
   },
   {
    "duration": 0,
    "start_time": "2023-06-30T07:06:48.161Z"
   },
   {
    "duration": 0,
    "start_time": "2023-06-30T07:06:48.163Z"
   },
   {
    "duration": 0,
    "start_time": "2023-06-30T07:06:48.164Z"
   },
   {
    "duration": 0,
    "start_time": "2023-06-30T07:06:48.165Z"
   },
   {
    "duration": 0,
    "start_time": "2023-06-30T07:06:48.166Z"
   },
   {
    "duration": 0,
    "start_time": "2023-06-30T07:06:48.167Z"
   },
   {
    "duration": 0,
    "start_time": "2023-06-30T07:06:48.168Z"
   },
   {
    "duration": 0,
    "start_time": "2023-06-30T07:06:48.169Z"
   },
   {
    "duration": 0,
    "start_time": "2023-06-30T07:06:48.170Z"
   },
   {
    "duration": 0,
    "start_time": "2023-06-30T07:06:48.171Z"
   },
   {
    "duration": 3146,
    "start_time": "2023-06-30T07:07:07.264Z"
   },
   {
    "duration": 1650,
    "start_time": "2023-06-30T07:07:13.941Z"
   },
   {
    "duration": 3,
    "start_time": "2023-06-30T07:07:15.592Z"
   },
   {
    "duration": 371,
    "start_time": "2023-06-30T07:07:15.596Z"
   },
   {
    "duration": 2,
    "start_time": "2023-06-30T07:07:15.969Z"
   },
   {
    "duration": 17,
    "start_time": "2023-06-30T07:07:15.973Z"
   },
   {
    "duration": 47,
    "start_time": "2023-06-30T07:07:15.991Z"
   },
   {
    "duration": 24,
    "start_time": "2023-06-30T07:07:16.040Z"
   },
   {
    "duration": 40,
    "start_time": "2023-06-30T07:07:16.065Z"
   },
   {
    "duration": 70,
    "start_time": "2023-06-30T07:07:16.107Z"
   },
   {
    "duration": 16,
    "start_time": "2023-06-30T07:07:16.180Z"
   },
   {
    "duration": 18,
    "start_time": "2023-06-30T07:07:16.198Z"
   },
   {
    "duration": 136,
    "start_time": "2023-06-30T07:07:16.218Z"
   },
   {
    "duration": 56,
    "start_time": "2023-06-30T07:07:16.356Z"
   },
   {
    "duration": 45,
    "start_time": "2023-06-30T07:07:16.413Z"
   },
   {
    "duration": 61,
    "start_time": "2023-06-30T07:07:16.461Z"
   },
   {
    "duration": 9,
    "start_time": "2023-06-30T07:07:16.524Z"
   },
   {
    "duration": 14,
    "start_time": "2023-06-30T07:07:16.551Z"
   },
   {
    "duration": 6,
    "start_time": "2023-06-30T07:07:16.567Z"
   },
   {
    "duration": 879,
    "start_time": "2023-06-30T07:07:16.574Z"
   },
   {
    "duration": 27,
    "start_time": "2023-06-30T07:07:17.455Z"
   },
   {
    "duration": 18,
    "start_time": "2023-06-30T07:07:17.484Z"
   },
   {
    "duration": 3,
    "start_time": "2023-06-30T07:07:17.503Z"
   },
   {
    "duration": 151,
    "start_time": "2023-06-30T07:07:17.508Z"
   },
   {
    "duration": 0,
    "start_time": "2023-06-30T07:07:17.660Z"
   },
   {
    "duration": 0,
    "start_time": "2023-06-30T07:07:17.662Z"
   },
   {
    "duration": 0,
    "start_time": "2023-06-30T07:07:17.663Z"
   },
   {
    "duration": 0,
    "start_time": "2023-06-30T07:07:17.664Z"
   },
   {
    "duration": 0,
    "start_time": "2023-06-30T07:07:17.665Z"
   },
   {
    "duration": 0,
    "start_time": "2023-06-30T07:07:17.666Z"
   },
   {
    "duration": 0,
    "start_time": "2023-06-30T07:07:17.667Z"
   },
   {
    "duration": 1,
    "start_time": "2023-06-30T07:07:17.668Z"
   },
   {
    "duration": 0,
    "start_time": "2023-06-30T07:07:17.670Z"
   },
   {
    "duration": 0,
    "start_time": "2023-06-30T07:07:17.671Z"
   },
   {
    "duration": 0,
    "start_time": "2023-06-30T07:07:17.672Z"
   },
   {
    "duration": 0,
    "start_time": "2023-06-30T07:07:17.673Z"
   },
   {
    "duration": 0,
    "start_time": "2023-06-30T07:07:17.674Z"
   },
   {
    "duration": 0,
    "start_time": "2023-06-30T07:07:17.675Z"
   },
   {
    "duration": 0,
    "start_time": "2023-06-30T07:07:17.677Z"
   },
   {
    "duration": 0,
    "start_time": "2023-06-30T07:07:17.678Z"
   },
   {
    "duration": 0,
    "start_time": "2023-06-30T07:07:17.679Z"
   },
   {
    "duration": 147,
    "start_time": "2023-06-30T07:08:02.905Z"
   },
   {
    "duration": 12,
    "start_time": "2023-06-30T07:08:11.449Z"
   },
   {
    "duration": 12,
    "start_time": "2023-06-30T07:08:24.838Z"
   },
   {
    "duration": 1641,
    "start_time": "2023-06-30T07:09:00.590Z"
   },
   {
    "duration": 3,
    "start_time": "2023-06-30T07:09:02.233Z"
   },
   {
    "duration": 126,
    "start_time": "2023-06-30T07:09:02.238Z"
   },
   {
    "duration": 3,
    "start_time": "2023-06-30T07:09:02.367Z"
   },
   {
    "duration": 15,
    "start_time": "2023-06-30T07:09:02.372Z"
   },
   {
    "duration": 42,
    "start_time": "2023-06-30T07:09:02.389Z"
   },
   {
    "duration": 28,
    "start_time": "2023-06-30T07:09:02.433Z"
   },
   {
    "duration": 45,
    "start_time": "2023-06-30T07:09:02.463Z"
   },
   {
    "duration": 50,
    "start_time": "2023-06-30T07:09:02.510Z"
   },
   {
    "duration": 8,
    "start_time": "2023-06-30T07:09:02.562Z"
   },
   {
    "duration": 24,
    "start_time": "2023-06-30T07:09:02.572Z"
   },
   {
    "duration": 145,
    "start_time": "2023-06-30T07:09:02.598Z"
   },
   {
    "duration": 59,
    "start_time": "2023-06-30T07:09:02.752Z"
   },
   {
    "duration": 42,
    "start_time": "2023-06-30T07:09:02.815Z"
   },
   {
    "duration": 64,
    "start_time": "2023-06-30T07:09:02.859Z"
   },
   {
    "duration": 28,
    "start_time": "2023-06-30T07:09:02.925Z"
   },
   {
    "duration": 19,
    "start_time": "2023-06-30T07:09:02.955Z"
   },
   {
    "duration": 6,
    "start_time": "2023-06-30T07:09:02.976Z"
   },
   {
    "duration": 927,
    "start_time": "2023-06-30T07:09:02.985Z"
   },
   {
    "duration": 39,
    "start_time": "2023-06-30T07:09:03.914Z"
   },
   {
    "duration": 19,
    "start_time": "2023-06-30T07:09:03.955Z"
   },
   {
    "duration": 132,
    "start_time": "2023-06-30T07:09:03.976Z"
   },
   {
    "duration": 0,
    "start_time": "2023-06-30T07:09:04.110Z"
   },
   {
    "duration": 0,
    "start_time": "2023-06-30T07:09:04.111Z"
   },
   {
    "duration": 0,
    "start_time": "2023-06-30T07:09:04.112Z"
   },
   {
    "duration": 0,
    "start_time": "2023-06-30T07:09:04.113Z"
   },
   {
    "duration": 0,
    "start_time": "2023-06-30T07:09:04.114Z"
   },
   {
    "duration": 0,
    "start_time": "2023-06-30T07:09:04.115Z"
   },
   {
    "duration": 0,
    "start_time": "2023-06-30T07:09:04.116Z"
   },
   {
    "duration": 0,
    "start_time": "2023-06-30T07:09:04.117Z"
   },
   {
    "duration": 0,
    "start_time": "2023-06-30T07:09:04.118Z"
   },
   {
    "duration": 0,
    "start_time": "2023-06-30T07:09:04.119Z"
   },
   {
    "duration": 0,
    "start_time": "2023-06-30T07:09:04.120Z"
   },
   {
    "duration": 0,
    "start_time": "2023-06-30T07:09:04.122Z"
   },
   {
    "duration": 0,
    "start_time": "2023-06-30T07:09:04.122Z"
   },
   {
    "duration": 0,
    "start_time": "2023-06-30T07:09:04.123Z"
   },
   {
    "duration": 0,
    "start_time": "2023-06-30T07:09:04.125Z"
   },
   {
    "duration": 1,
    "start_time": "2023-06-30T07:09:04.125Z"
   },
   {
    "duration": 12,
    "start_time": "2023-06-30T07:12:25.332Z"
   },
   {
    "duration": 34,
    "start_time": "2023-06-30T07:13:15.539Z"
   },
   {
    "duration": 8,
    "start_time": "2023-06-30T07:14:18.567Z"
   },
   {
    "duration": 11,
    "start_time": "2023-06-30T07:14:36.091Z"
   },
   {
    "duration": 22,
    "start_time": "2023-06-30T07:14:42.622Z"
   },
   {
    "duration": 507,
    "start_time": "2023-06-30T07:16:03.352Z"
   },
   {
    "duration": 14,
    "start_time": "2023-06-30T07:16:37.568Z"
   },
   {
    "duration": 9,
    "start_time": "2023-06-30T07:16:38.821Z"
   },
   {
    "duration": 1739,
    "start_time": "2023-06-30T07:17:25.262Z"
   },
   {
    "duration": 4,
    "start_time": "2023-06-30T07:17:27.004Z"
   },
   {
    "duration": 117,
    "start_time": "2023-06-30T07:17:27.010Z"
   },
   {
    "duration": 3,
    "start_time": "2023-06-30T07:17:27.130Z"
   },
   {
    "duration": 24,
    "start_time": "2023-06-30T07:17:27.136Z"
   },
   {
    "duration": 326,
    "start_time": "2023-06-30T07:17:27.163Z"
   },
   {
    "duration": 28,
    "start_time": "2023-06-30T07:17:27.491Z"
   },
   {
    "duration": 64,
    "start_time": "2023-06-30T07:17:27.521Z"
   },
   {
    "duration": 27,
    "start_time": "2023-06-30T07:17:27.587Z"
   },
   {
    "duration": 8,
    "start_time": "2023-06-30T07:17:27.616Z"
   },
   {
    "duration": 38,
    "start_time": "2023-06-30T07:17:27.626Z"
   },
   {
    "duration": 141,
    "start_time": "2023-06-30T07:17:27.666Z"
   },
   {
    "duration": 67,
    "start_time": "2023-06-30T07:17:27.809Z"
   },
   {
    "duration": 26,
    "start_time": "2023-06-30T07:17:27.880Z"
   },
   {
    "duration": 80,
    "start_time": "2023-06-30T07:17:27.907Z"
   },
   {
    "duration": 11,
    "start_time": "2023-06-30T07:17:27.989Z"
   },
   {
    "duration": 20,
    "start_time": "2023-06-30T07:17:28.001Z"
   },
   {
    "duration": 4,
    "start_time": "2023-06-30T07:17:28.023Z"
   },
   {
    "duration": 994,
    "start_time": "2023-06-30T07:17:28.029Z"
   },
   {
    "duration": 36,
    "start_time": "2023-06-30T07:17:29.025Z"
   },
   {
    "duration": 20,
    "start_time": "2023-06-30T07:17:29.063Z"
   },
   {
    "duration": 23,
    "start_time": "2023-06-30T07:17:29.085Z"
   },
   {
    "duration": 20,
    "start_time": "2023-06-30T07:17:29.110Z"
   },
   {
    "duration": 1711,
    "start_time": "2023-06-30T07:17:29.132Z"
   },
   {
    "duration": 0,
    "start_time": "2023-06-30T07:17:30.845Z"
   },
   {
    "duration": 0,
    "start_time": "2023-06-30T07:17:30.846Z"
   },
   {
    "duration": 0,
    "start_time": "2023-06-30T07:17:30.848Z"
   },
   {
    "duration": 0,
    "start_time": "2023-06-30T07:17:30.850Z"
   },
   {
    "duration": 0,
    "start_time": "2023-06-30T07:17:30.852Z"
   },
   {
    "duration": 0,
    "start_time": "2023-06-30T07:17:30.853Z"
   },
   {
    "duration": 0,
    "start_time": "2023-06-30T07:17:30.854Z"
   },
   {
    "duration": 0,
    "start_time": "2023-06-30T07:17:30.856Z"
   },
   {
    "duration": 0,
    "start_time": "2023-06-30T07:17:30.857Z"
   },
   {
    "duration": 0,
    "start_time": "2023-06-30T07:17:30.860Z"
   },
   {
    "duration": 0,
    "start_time": "2023-06-30T07:17:30.861Z"
   },
   {
    "duration": 0,
    "start_time": "2023-06-30T07:17:30.862Z"
   },
   {
    "duration": 0,
    "start_time": "2023-06-30T07:17:30.864Z"
   },
   {
    "duration": 0,
    "start_time": "2023-06-30T07:17:30.865Z"
   },
   {
    "duration": 0,
    "start_time": "2023-06-30T07:17:30.867Z"
   },
   {
    "duration": 0,
    "start_time": "2023-06-30T07:17:30.868Z"
   },
   {
    "duration": 2409,
    "start_time": "2023-06-30T07:18:09.464Z"
   },
   {
    "duration": 1838,
    "start_time": "2023-06-30T07:20:04.921Z"
   },
   {
    "duration": 2,
    "start_time": "2023-06-30T07:20:06.761Z"
   },
   {
    "duration": 101,
    "start_time": "2023-06-30T07:20:06.765Z"
   },
   {
    "duration": 2,
    "start_time": "2023-06-30T07:20:06.869Z"
   },
   {
    "duration": 17,
    "start_time": "2023-06-30T07:20:06.873Z"
   },
   {
    "duration": 96,
    "start_time": "2023-06-30T07:20:06.892Z"
   },
   {
    "duration": 57,
    "start_time": "2023-06-30T07:20:06.989Z"
   },
   {
    "duration": 93,
    "start_time": "2023-06-30T07:20:07.048Z"
   },
   {
    "duration": 35,
    "start_time": "2023-06-30T07:20:07.143Z"
   },
   {
    "duration": 22,
    "start_time": "2023-06-30T07:20:07.181Z"
   },
   {
    "duration": 33,
    "start_time": "2023-06-30T07:20:07.206Z"
   },
   {
    "duration": 163,
    "start_time": "2023-06-30T07:20:07.241Z"
   },
   {
    "duration": 59,
    "start_time": "2023-06-30T07:20:07.406Z"
   },
   {
    "duration": 25,
    "start_time": "2023-06-30T07:20:07.467Z"
   },
   {
    "duration": 83,
    "start_time": "2023-06-30T07:20:07.494Z"
   },
   {
    "duration": 9,
    "start_time": "2023-06-30T07:20:07.579Z"
   },
   {
    "duration": 16,
    "start_time": "2023-06-30T07:20:07.591Z"
   },
   {
    "duration": 48,
    "start_time": "2023-06-30T07:20:07.609Z"
   },
   {
    "duration": 1017,
    "start_time": "2023-06-30T07:20:07.659Z"
   },
   {
    "duration": 29,
    "start_time": "2023-06-30T07:20:08.678Z"
   },
   {
    "duration": 19,
    "start_time": "2023-06-30T07:20:08.709Z"
   },
   {
    "duration": 51,
    "start_time": "2023-06-30T07:20:08.731Z"
   },
   {
    "duration": 14,
    "start_time": "2023-06-30T07:20:08.785Z"
   },
   {
    "duration": 37,
    "start_time": "2023-06-30T07:20:08.801Z"
   },
   {
    "duration": 190,
    "start_time": "2023-06-30T07:20:08.840Z"
   },
   {
    "duration": 0,
    "start_time": "2023-06-30T07:20:09.033Z"
   },
   {
    "duration": 0,
    "start_time": "2023-06-30T07:20:09.034Z"
   },
   {
    "duration": 0,
    "start_time": "2023-06-30T07:20:09.036Z"
   },
   {
    "duration": 0,
    "start_time": "2023-06-30T07:20:09.037Z"
   },
   {
    "duration": 0,
    "start_time": "2023-06-30T07:20:09.052Z"
   },
   {
    "duration": 0,
    "start_time": "2023-06-30T07:20:09.054Z"
   },
   {
    "duration": 0,
    "start_time": "2023-06-30T07:20:09.056Z"
   },
   {
    "duration": 0,
    "start_time": "2023-06-30T07:20:09.057Z"
   },
   {
    "duration": 0,
    "start_time": "2023-06-30T07:20:09.058Z"
   },
   {
    "duration": 0,
    "start_time": "2023-06-30T07:20:09.059Z"
   },
   {
    "duration": 0,
    "start_time": "2023-06-30T07:20:09.060Z"
   },
   {
    "duration": 0,
    "start_time": "2023-06-30T07:20:09.061Z"
   },
   {
    "duration": 0,
    "start_time": "2023-06-30T07:20:09.063Z"
   },
   {
    "duration": 0,
    "start_time": "2023-06-30T07:20:09.064Z"
   },
   {
    "duration": 0,
    "start_time": "2023-06-30T07:20:09.065Z"
   },
   {
    "duration": 5,
    "start_time": "2023-06-30T07:21:07.658Z"
   },
   {
    "duration": 29,
    "start_time": "2023-06-30T07:21:08.340Z"
   },
   {
    "duration": 1241,
    "start_time": "2023-06-30T07:21:11.573Z"
   },
   {
    "duration": 18,
    "start_time": "2023-06-30T07:21:21.465Z"
   },
   {
    "duration": 12,
    "start_time": "2023-06-30T07:21:23.282Z"
   },
   {
    "duration": 26,
    "start_time": "2023-06-30T07:21:25.928Z"
   },
   {
    "duration": 11,
    "start_time": "2023-06-30T07:26:24.807Z"
   },
   {
    "duration": 6,
    "start_time": "2023-06-30T07:26:38.761Z"
   },
   {
    "duration": 15,
    "start_time": "2023-06-30T07:26:51.165Z"
   },
   {
    "duration": 23,
    "start_time": "2023-06-30T07:27:03.349Z"
   },
   {
    "duration": 23,
    "start_time": "2023-06-30T07:27:25.094Z"
   },
   {
    "duration": 4,
    "start_time": "2023-06-30T07:28:57.961Z"
   },
   {
    "duration": 22,
    "start_time": "2023-06-30T07:28:58.717Z"
   },
   {
    "duration": 4,
    "start_time": "2023-06-30T07:29:24.878Z"
   },
   {
    "duration": 19,
    "start_time": "2023-06-30T07:29:25.360Z"
   },
   {
    "duration": 27,
    "start_time": "2023-06-30T07:29:45.694Z"
   },
   {
    "duration": 20,
    "start_time": "2023-06-30T07:31:04.363Z"
   },
   {
    "duration": 4,
    "start_time": "2023-06-30T07:31:45.532Z"
   },
   {
    "duration": 4,
    "start_time": "2023-06-30T07:31:47.927Z"
   },
   {
    "duration": 17,
    "start_time": "2023-06-30T07:31:49.214Z"
   },
   {
    "duration": 1044,
    "start_time": "2023-06-30T07:31:52.899Z"
   },
   {
    "duration": 19,
    "start_time": "2023-06-30T07:31:57.522Z"
   },
   {
    "duration": 16,
    "start_time": "2023-06-30T07:32:04.370Z"
   },
   {
    "duration": 51,
    "start_time": "2023-06-30T07:32:06.966Z"
   },
   {
    "duration": 38,
    "start_time": "2023-06-30T07:32:17.236Z"
   },
   {
    "duration": 5,
    "start_time": "2023-06-30T07:32:22.700Z"
   },
   {
    "duration": 1868,
    "start_time": "2023-06-30T07:32:27.057Z"
   },
   {
    "duration": 4,
    "start_time": "2023-06-30T07:32:29.246Z"
   },
   {
    "duration": 43,
    "start_time": "2023-06-30T07:32:39.370Z"
   },
   {
    "duration": 15,
    "start_time": "2023-06-30T07:39:31.108Z"
   },
   {
    "duration": 89,
    "start_time": "2023-06-30T07:42:24.104Z"
   },
   {
    "duration": 136,
    "start_time": "2023-06-30T07:43:37.672Z"
   },
   {
    "duration": 20,
    "start_time": "2023-06-30T07:44:00.840Z"
   },
   {
    "duration": 28,
    "start_time": "2023-06-30T07:44:25.263Z"
   },
   {
    "duration": 48,
    "start_time": "2023-06-30T07:46:07.143Z"
   },
   {
    "duration": 48,
    "start_time": "2023-06-30T07:46:15.262Z"
   },
   {
    "duration": 16,
    "start_time": "2023-06-30T07:47:05.984Z"
   },
   {
    "duration": 14,
    "start_time": "2023-06-30T07:47:17.802Z"
   },
   {
    "duration": 23,
    "start_time": "2023-06-30T07:48:38.403Z"
   },
   {
    "duration": 13,
    "start_time": "2023-06-30T07:49:36.810Z"
   },
   {
    "duration": 16,
    "start_time": "2023-06-30T07:49:49.764Z"
   },
   {
    "duration": 12,
    "start_time": "2023-06-30T07:49:57.935Z"
   },
   {
    "duration": 11,
    "start_time": "2023-06-30T07:50:00.914Z"
   },
   {
    "duration": 11,
    "start_time": "2023-06-30T07:50:05.418Z"
   },
   {
    "duration": 12,
    "start_time": "2023-06-30T07:53:03.310Z"
   },
   {
    "duration": 19,
    "start_time": "2023-06-30T07:53:07.229Z"
   },
   {
    "duration": 41,
    "start_time": "2023-06-30T07:53:32.064Z"
   },
   {
    "duration": 50,
    "start_time": "2023-06-30T07:55:52.865Z"
   },
   {
    "duration": 23,
    "start_time": "2023-06-30T08:00:11.411Z"
   },
   {
    "duration": 11,
    "start_time": "2023-06-30T08:05:50.388Z"
   },
   {
    "duration": 1458,
    "start_time": "2023-06-30T08:05:59.222Z"
   },
   {
    "duration": 1391,
    "start_time": "2023-06-30T08:06:35.203Z"
   },
   {
    "duration": 12,
    "start_time": "2023-06-30T08:26:04.711Z"
   },
   {
    "duration": 20,
    "start_time": "2023-06-30T08:26:25.829Z"
   },
   {
    "duration": 27,
    "start_time": "2023-06-30T08:26:36.365Z"
   },
   {
    "duration": 15,
    "start_time": "2023-06-30T08:26:44.936Z"
   },
   {
    "duration": 1899,
    "start_time": "2023-06-30T08:26:57.891Z"
   },
   {
    "duration": 3,
    "start_time": "2023-06-30T08:26:59.792Z"
   },
   {
    "duration": 116,
    "start_time": "2023-06-30T08:26:59.796Z"
   },
   {
    "duration": 2,
    "start_time": "2023-06-30T08:26:59.915Z"
   },
   {
    "duration": 6,
    "start_time": "2023-06-30T08:26:59.919Z"
   },
   {
    "duration": 56,
    "start_time": "2023-06-30T08:26:59.926Z"
   },
   {
    "duration": 28,
    "start_time": "2023-06-30T08:26:59.984Z"
   },
   {
    "duration": 79,
    "start_time": "2023-06-30T08:27:00.014Z"
   },
   {
    "duration": 26,
    "start_time": "2023-06-30T08:27:00.095Z"
   },
   {
    "duration": 35,
    "start_time": "2023-06-30T08:27:00.123Z"
   },
   {
    "duration": 46,
    "start_time": "2023-06-30T08:27:00.161Z"
   },
   {
    "duration": 153,
    "start_time": "2023-06-30T08:27:00.209Z"
   },
   {
    "duration": 67,
    "start_time": "2023-06-30T08:27:00.364Z"
   },
   {
    "duration": 52,
    "start_time": "2023-06-30T08:27:00.433Z"
   },
   {
    "duration": 78,
    "start_time": "2023-06-30T08:27:00.487Z"
   },
   {
    "duration": 11,
    "start_time": "2023-06-30T08:27:00.567Z"
   },
   {
    "duration": 31,
    "start_time": "2023-06-30T08:27:00.580Z"
   },
   {
    "duration": 27,
    "start_time": "2023-06-30T08:27:00.612Z"
   },
   {
    "duration": 977,
    "start_time": "2023-06-30T08:27:00.641Z"
   },
   {
    "duration": 44,
    "start_time": "2023-06-30T08:27:01.620Z"
   },
   {
    "duration": 23,
    "start_time": "2023-06-30T08:27:01.667Z"
   },
   {
    "duration": 66,
    "start_time": "2023-06-30T08:27:01.692Z"
   },
   {
    "duration": 40,
    "start_time": "2023-06-30T08:27:01.761Z"
   },
   {
    "duration": 93,
    "start_time": "2023-06-30T08:27:01.803Z"
   },
   {
    "duration": 1111,
    "start_time": "2023-06-30T08:27:01.898Z"
   },
   {
    "duration": 0,
    "start_time": "2023-06-30T08:27:03.012Z"
   },
   {
    "duration": 0,
    "start_time": "2023-06-30T08:27:03.014Z"
   },
   {
    "duration": 0,
    "start_time": "2023-06-30T08:27:03.015Z"
   },
   {
    "duration": 0,
    "start_time": "2023-06-30T08:27:03.017Z"
   },
   {
    "duration": 0,
    "start_time": "2023-06-30T08:27:03.018Z"
   },
   {
    "duration": 0,
    "start_time": "2023-06-30T08:27:03.019Z"
   },
   {
    "duration": 0,
    "start_time": "2023-06-30T08:27:03.021Z"
   },
   {
    "duration": 0,
    "start_time": "2023-06-30T08:27:03.022Z"
   },
   {
    "duration": 0,
    "start_time": "2023-06-30T08:27:03.023Z"
   },
   {
    "duration": 0,
    "start_time": "2023-06-30T08:27:03.024Z"
   },
   {
    "duration": 0,
    "start_time": "2023-06-30T08:27:03.026Z"
   },
   {
    "duration": 0,
    "start_time": "2023-06-30T08:27:03.027Z"
   },
   {
    "duration": 0,
    "start_time": "2023-06-30T08:27:03.028Z"
   },
   {
    "duration": 0,
    "start_time": "2023-06-30T08:27:03.029Z"
   },
   {
    "duration": 0,
    "start_time": "2023-06-30T08:27:03.030Z"
   },
   {
    "duration": 0,
    "start_time": "2023-06-30T08:27:03.031Z"
   },
   {
    "duration": 0,
    "start_time": "2023-06-30T08:27:03.032Z"
   },
   {
    "duration": 0,
    "start_time": "2023-06-30T08:27:03.034Z"
   },
   {
    "duration": 0,
    "start_time": "2023-06-30T08:27:03.035Z"
   },
   {
    "duration": 0,
    "start_time": "2023-06-30T08:27:03.036Z"
   },
   {
    "duration": 0,
    "start_time": "2023-06-30T08:27:03.037Z"
   },
   {
    "duration": 6,
    "start_time": "2023-06-30T08:27:35.506Z"
   },
   {
    "duration": 15,
    "start_time": "2023-06-30T08:27:45.980Z"
   },
   {
    "duration": 1326,
    "start_time": "2023-06-30T08:27:47.780Z"
   },
   {
    "duration": 26,
    "start_time": "2023-06-30T08:27:51.139Z"
   },
   {
    "duration": 10,
    "start_time": "2023-06-30T08:27:51.915Z"
   },
   {
    "duration": 16,
    "start_time": "2023-06-30T08:27:53.116Z"
   },
   {
    "duration": 17,
    "start_time": "2023-06-30T08:27:53.298Z"
   },
   {
    "duration": 12,
    "start_time": "2023-06-30T08:27:53.480Z"
   },
   {
    "duration": 19,
    "start_time": "2023-06-30T08:28:09.171Z"
   },
   {
    "duration": 22,
    "start_time": "2023-06-30T08:28:15.714Z"
   },
   {
    "duration": 47,
    "start_time": "2023-06-30T08:32:24.236Z"
   },
   {
    "duration": 35,
    "start_time": "2023-06-30T08:32:25.851Z"
   },
   {
    "duration": 24,
    "start_time": "2023-06-30T08:32:53.519Z"
   },
   {
    "duration": 30,
    "start_time": "2023-06-30T08:32:53.982Z"
   },
   {
    "duration": 35,
    "start_time": "2023-06-30T08:35:13.957Z"
   },
   {
    "duration": 37,
    "start_time": "2023-06-30T08:35:14.453Z"
   },
   {
    "duration": 19,
    "start_time": "2023-06-30T08:36:52.323Z"
   },
   {
    "duration": 26,
    "start_time": "2023-06-30T08:36:52.899Z"
   },
   {
    "duration": 31,
    "start_time": "2023-06-30T08:39:26.305Z"
   },
   {
    "duration": 28,
    "start_time": "2023-06-30T08:39:27.469Z"
   },
   {
    "duration": 1525,
    "start_time": "2023-06-30T08:39:51.201Z"
   },
   {
    "duration": 3,
    "start_time": "2023-06-30T08:39:52.728Z"
   },
   {
    "duration": 103,
    "start_time": "2023-06-30T08:39:52.732Z"
   },
   {
    "duration": 3,
    "start_time": "2023-06-30T08:39:52.837Z"
   },
   {
    "duration": 31,
    "start_time": "2023-06-30T08:39:52.841Z"
   },
   {
    "duration": 60,
    "start_time": "2023-06-30T08:39:52.875Z"
   },
   {
    "duration": 33,
    "start_time": "2023-06-30T08:39:52.937Z"
   },
   {
    "duration": 48,
    "start_time": "2023-06-30T08:39:52.972Z"
   },
   {
    "duration": 46,
    "start_time": "2023-06-30T08:39:53.022Z"
   },
   {
    "duration": 8,
    "start_time": "2023-06-30T08:39:53.071Z"
   },
   {
    "duration": 45,
    "start_time": "2023-06-30T08:39:53.080Z"
   },
   {
    "duration": 139,
    "start_time": "2023-06-30T08:39:53.127Z"
   },
   {
    "duration": 62,
    "start_time": "2023-06-30T08:39:53.269Z"
   },
   {
    "duration": 50,
    "start_time": "2023-06-30T08:39:53.334Z"
   },
   {
    "duration": 82,
    "start_time": "2023-06-30T08:39:53.386Z"
   },
   {
    "duration": 11,
    "start_time": "2023-06-30T08:39:53.470Z"
   },
   {
    "duration": 17,
    "start_time": "2023-06-30T08:39:53.483Z"
   },
   {
    "duration": 5,
    "start_time": "2023-06-30T08:39:53.501Z"
   },
   {
    "duration": 967,
    "start_time": "2023-06-30T08:39:53.508Z"
   },
   {
    "duration": 30,
    "start_time": "2023-06-30T08:39:54.477Z"
   },
   {
    "duration": 18,
    "start_time": "2023-06-30T08:39:54.509Z"
   },
   {
    "duration": 45,
    "start_time": "2023-06-30T08:39:54.529Z"
   },
   {
    "duration": 9,
    "start_time": "2023-06-30T08:39:54.576Z"
   },
   {
    "duration": 44,
    "start_time": "2023-06-30T08:39:54.587Z"
   },
   {
    "duration": 31,
    "start_time": "2023-06-30T08:39:54.633Z"
   },
   {
    "duration": 38,
    "start_time": "2023-06-30T08:39:54.666Z"
   },
   {
    "duration": 1548,
    "start_time": "2023-06-30T08:39:54.706Z"
   },
   {
    "duration": 20,
    "start_time": "2023-06-30T08:39:56.261Z"
   },
   {
    "duration": 11,
    "start_time": "2023-06-30T08:39:56.283Z"
   },
   {
    "duration": 15,
    "start_time": "2023-06-30T08:39:56.296Z"
   },
   {
    "duration": 90,
    "start_time": "2023-06-30T08:39:56.313Z"
   },
   {
    "duration": 27,
    "start_time": "2023-06-30T08:39:56.405Z"
   },
   {
    "duration": 155,
    "start_time": "2023-06-30T08:39:56.434Z"
   },
   {
    "duration": 0,
    "start_time": "2023-06-30T08:39:56.591Z"
   },
   {
    "duration": 0,
    "start_time": "2023-06-30T08:39:56.592Z"
   },
   {
    "duration": 0,
    "start_time": "2023-06-30T08:39:56.593Z"
   },
   {
    "duration": 0,
    "start_time": "2023-06-30T08:39:56.595Z"
   },
   {
    "duration": 0,
    "start_time": "2023-06-30T08:39:56.596Z"
   },
   {
    "duration": 0,
    "start_time": "2023-06-30T08:39:56.597Z"
   },
   {
    "duration": 0,
    "start_time": "2023-06-30T08:39:56.598Z"
   },
   {
    "duration": 0,
    "start_time": "2023-06-30T08:39:56.599Z"
   },
   {
    "duration": 1,
    "start_time": "2023-06-30T08:39:56.600Z"
   },
   {
    "duration": 0,
    "start_time": "2023-06-30T08:39:56.602Z"
   },
   {
    "duration": 0,
    "start_time": "2023-06-30T08:39:56.603Z"
   },
   {
    "duration": 0,
    "start_time": "2023-06-30T08:39:56.604Z"
   },
   {
    "duration": 0,
    "start_time": "2023-06-30T08:39:56.605Z"
   },
   {
    "duration": 23,
    "start_time": "2023-06-30T08:40:36.603Z"
   },
   {
    "duration": 22,
    "start_time": "2023-06-30T08:41:18.171Z"
   },
   {
    "duration": 46,
    "start_time": "2023-06-30T08:41:28.747Z"
   },
   {
    "duration": 18,
    "start_time": "2023-06-30T08:41:50.398Z"
   },
   {
    "duration": 36,
    "start_time": "2023-06-30T08:42:09.406Z"
   },
   {
    "duration": 32,
    "start_time": "2023-06-30T08:42:11.558Z"
   },
   {
    "duration": 14,
    "start_time": "2023-06-30T08:42:13.285Z"
   },
   {
    "duration": 45,
    "start_time": "2023-06-30T08:43:36.607Z"
   },
   {
    "duration": 32,
    "start_time": "2023-06-30T08:46:26.022Z"
   },
   {
    "duration": 27,
    "start_time": "2023-06-30T08:46:34.294Z"
   },
   {
    "duration": 20,
    "start_time": "2023-06-30T08:46:38.117Z"
   },
   {
    "duration": 39,
    "start_time": "2023-06-30T08:48:43.342Z"
   },
   {
    "duration": 18,
    "start_time": "2023-06-30T08:48:51.879Z"
   },
   {
    "duration": 1677,
    "start_time": "2023-06-30T08:49:00.699Z"
   },
   {
    "duration": 3,
    "start_time": "2023-06-30T08:49:02.379Z"
   },
   {
    "duration": 150,
    "start_time": "2023-06-30T08:49:02.384Z"
   },
   {
    "duration": 3,
    "start_time": "2023-06-30T08:49:02.536Z"
   },
   {
    "duration": 63,
    "start_time": "2023-06-30T08:49:02.541Z"
   },
   {
    "duration": 72,
    "start_time": "2023-06-30T08:49:02.606Z"
   },
   {
    "duration": 27,
    "start_time": "2023-06-30T08:49:02.680Z"
   },
   {
    "duration": 63,
    "start_time": "2023-06-30T08:49:02.708Z"
   },
   {
    "duration": 32,
    "start_time": "2023-06-30T08:49:02.773Z"
   },
   {
    "duration": 6,
    "start_time": "2023-06-30T08:49:02.808Z"
   },
   {
    "duration": 20,
    "start_time": "2023-06-30T08:49:02.816Z"
   },
   {
    "duration": 143,
    "start_time": "2023-06-30T08:49:02.858Z"
   },
   {
    "duration": 80,
    "start_time": "2023-06-30T08:49:03.003Z"
   },
   {
    "duration": 30,
    "start_time": "2023-06-30T08:49:03.085Z"
   },
   {
    "duration": 85,
    "start_time": "2023-06-30T08:49:03.117Z"
   },
   {
    "duration": 11,
    "start_time": "2023-06-30T08:49:03.204Z"
   },
   {
    "duration": 71,
    "start_time": "2023-06-30T08:49:03.216Z"
   },
   {
    "duration": 7,
    "start_time": "2023-06-30T08:49:03.289Z"
   },
   {
    "duration": 973,
    "start_time": "2023-06-30T08:49:03.297Z"
   },
   {
    "duration": 31,
    "start_time": "2023-06-30T08:49:04.272Z"
   },
   {
    "duration": 17,
    "start_time": "2023-06-30T08:49:04.304Z"
   },
   {
    "duration": 44,
    "start_time": "2023-06-30T08:49:04.323Z"
   },
   {
    "duration": 32,
    "start_time": "2023-06-30T08:49:04.369Z"
   },
   {
    "duration": 69,
    "start_time": "2023-06-30T08:49:04.403Z"
   },
   {
    "duration": 21,
    "start_time": "2023-06-30T08:49:04.473Z"
   },
   {
    "duration": 30,
    "start_time": "2023-06-30T08:49:04.496Z"
   },
   {
    "duration": 1287,
    "start_time": "2023-06-30T08:49:04.527Z"
   },
   {
    "duration": 16,
    "start_time": "2023-06-30T08:49:05.817Z"
   },
   {
    "duration": 25,
    "start_time": "2023-06-30T08:49:05.834Z"
   },
   {
    "duration": 37,
    "start_time": "2023-06-30T08:49:05.861Z"
   },
   {
    "duration": 74,
    "start_time": "2023-06-30T08:49:05.899Z"
   },
   {
    "duration": 27,
    "start_time": "2023-06-30T08:49:05.978Z"
   },
   {
    "duration": 176,
    "start_time": "2023-06-30T08:49:06.007Z"
   },
   {
    "duration": 0,
    "start_time": "2023-06-30T08:49:06.185Z"
   },
   {
    "duration": 0,
    "start_time": "2023-06-30T08:49:06.187Z"
   },
   {
    "duration": 0,
    "start_time": "2023-06-30T08:49:06.190Z"
   },
   {
    "duration": 0,
    "start_time": "2023-06-30T08:49:06.191Z"
   },
   {
    "duration": 0,
    "start_time": "2023-06-30T08:49:06.192Z"
   },
   {
    "duration": 0,
    "start_time": "2023-06-30T08:49:06.194Z"
   },
   {
    "duration": 0,
    "start_time": "2023-06-30T08:49:06.194Z"
   },
   {
    "duration": 0,
    "start_time": "2023-06-30T08:49:06.196Z"
   },
   {
    "duration": 0,
    "start_time": "2023-06-30T08:49:06.196Z"
   },
   {
    "duration": 0,
    "start_time": "2023-06-30T08:49:06.197Z"
   },
   {
    "duration": 0,
    "start_time": "2023-06-30T08:49:06.198Z"
   },
   {
    "duration": 0,
    "start_time": "2023-06-30T08:49:06.200Z"
   },
   {
    "duration": 0,
    "start_time": "2023-06-30T08:49:06.201Z"
   },
   {
    "duration": 31,
    "start_time": "2023-06-30T08:49:35.412Z"
   },
   {
    "duration": 4,
    "start_time": "2023-06-30T08:50:02.306Z"
   },
   {
    "duration": 10,
    "start_time": "2023-06-30T08:50:03.738Z"
   },
   {
    "duration": 2075,
    "start_time": "2023-06-30T08:50:11.434Z"
   },
   {
    "duration": 5,
    "start_time": "2023-06-30T08:50:14.515Z"
   },
   {
    "duration": 4,
    "start_time": "2023-06-30T08:50:17.779Z"
   },
   {
    "duration": 31,
    "start_time": "2023-06-30T08:50:18.344Z"
   },
   {
    "duration": 9338,
    "start_time": "2023-06-30T08:50:22.579Z"
   },
   {
    "duration": 5,
    "start_time": "2023-06-30T08:50:31.919Z"
   },
   {
    "duration": 8,
    "start_time": "2023-06-30T08:50:41.114Z"
   },
   {
    "duration": 5,
    "start_time": "2023-06-30T08:51:05.001Z"
   },
   {
    "duration": 255,
    "start_time": "2023-06-30T08:51:05.478Z"
   },
   {
    "duration": 12,
    "start_time": "2023-06-30T08:51:12.576Z"
   },
   {
    "duration": 5,
    "start_time": "2023-06-30T08:51:17.181Z"
   },
   {
    "duration": 11,
    "start_time": "2023-06-30T08:51:22.947Z"
   },
   {
    "duration": 280,
    "start_time": "2023-06-30T08:51:24.453Z"
   },
   {
    "duration": 149,
    "start_time": "2023-06-30T09:06:02.810Z"
   },
   {
    "duration": 31,
    "start_time": "2023-06-30T10:16:41.742Z"
   },
   {
    "duration": 25,
    "start_time": "2023-06-30T10:16:55.122Z"
   },
   {
    "duration": 14,
    "start_time": "2023-06-30T10:29:50.130Z"
   },
   {
    "duration": 18,
    "start_time": "2023-06-30T10:29:58.975Z"
   },
   {
    "duration": 11,
    "start_time": "2023-06-30T10:30:06.809Z"
   },
   {
    "duration": 19,
    "start_time": "2023-06-30T10:30:09.355Z"
   },
   {
    "duration": 12,
    "start_time": "2023-06-30T10:30:13.402Z"
   },
   {
    "duration": 19,
    "start_time": "2023-06-30T10:34:18.263Z"
   },
   {
    "duration": 172,
    "start_time": "2023-06-30T10:44:33.477Z"
   },
   {
    "duration": 1874,
    "start_time": "2023-08-29T12:12:23.818Z"
   },
   {
    "duration": 0,
    "start_time": "2023-08-29T12:12:25.695Z"
   },
   {
    "duration": 0,
    "start_time": "2023-08-29T12:12:25.696Z"
   },
   {
    "duration": 3726,
    "start_time": "2023-08-29T12:12:28.510Z"
   },
   {
    "duration": 4,
    "start_time": "2023-08-29T12:12:37.658Z"
   },
   {
    "duration": 1645,
    "start_time": "2023-08-29T12:12:37.664Z"
   },
   {
    "duration": 325,
    "start_time": "2023-08-29T12:12:39.311Z"
   },
   {
    "duration": 3,
    "start_time": "2023-08-29T12:12:39.637Z"
   },
   {
    "duration": 5,
    "start_time": "2023-08-29T12:12:39.643Z"
   },
   {
    "duration": 41,
    "start_time": "2023-08-29T12:12:39.649Z"
   },
   {
    "duration": 27,
    "start_time": "2023-08-29T12:12:39.692Z"
   },
   {
    "duration": 68,
    "start_time": "2023-08-29T12:12:39.721Z"
   },
   {
    "duration": 29,
    "start_time": "2023-08-29T12:12:39.791Z"
   },
   {
    "duration": 28,
    "start_time": "2023-08-29T12:12:39.822Z"
   },
   {
    "duration": 19,
    "start_time": "2023-08-29T12:12:39.852Z"
   },
   {
    "duration": 149,
    "start_time": "2023-08-29T12:12:39.873Z"
   },
   {
    "duration": 64,
    "start_time": "2023-08-29T12:12:40.023Z"
   },
   {
    "duration": 35,
    "start_time": "2023-08-29T12:12:40.092Z"
   },
   {
    "duration": 79,
    "start_time": "2023-08-29T12:12:40.128Z"
   },
   {
    "duration": 11,
    "start_time": "2023-08-29T12:12:40.210Z"
   },
   {
    "duration": 35,
    "start_time": "2023-08-29T12:12:40.223Z"
   },
   {
    "duration": 12,
    "start_time": "2023-08-29T12:12:40.260Z"
   },
   {
    "duration": 883,
    "start_time": "2023-08-29T12:12:40.274Z"
   },
   {
    "duration": 28,
    "start_time": "2023-08-29T12:12:41.159Z"
   },
   {
    "duration": 18,
    "start_time": "2023-08-29T12:12:41.188Z"
   },
   {
    "duration": 41,
    "start_time": "2023-08-29T12:12:41.208Z"
   },
   {
    "duration": 5,
    "start_time": "2023-08-29T12:12:41.251Z"
   },
   {
    "duration": 30,
    "start_time": "2023-08-29T12:12:41.258Z"
   },
   {
    "duration": 35,
    "start_time": "2023-08-29T12:12:41.290Z"
   },
   {
    "duration": 23,
    "start_time": "2023-08-29T12:12:41.326Z"
   },
   {
    "duration": 1165,
    "start_time": "2023-08-29T12:12:41.350Z"
   },
   {
    "duration": 17,
    "start_time": "2023-08-29T12:12:42.517Z"
   },
   {
    "duration": 18,
    "start_time": "2023-08-29T12:12:42.535Z"
   },
   {
    "duration": 13,
    "start_time": "2023-08-29T12:12:42.555Z"
   },
   {
    "duration": 82,
    "start_time": "2023-08-29T12:12:42.569Z"
   },
   {
    "duration": 37,
    "start_time": "2023-08-29T12:12:42.653Z"
   },
   {
    "duration": 3,
    "start_time": "2023-08-29T12:12:42.692Z"
   },
   {
    "duration": 1896,
    "start_time": "2023-08-29T12:12:42.697Z"
   },
   {
    "duration": 5,
    "start_time": "2023-08-29T12:12:44.595Z"
   },
   {
    "duration": 5,
    "start_time": "2023-08-29T12:12:44.602Z"
   },
   {
    "duration": 8191,
    "start_time": "2023-08-29T12:12:44.609Z"
   },
   {
    "duration": 4,
    "start_time": "2023-08-29T12:12:52.802Z"
   },
   {
    "duration": 14,
    "start_time": "2023-08-29T12:12:52.808Z"
   },
   {
    "duration": 246,
    "start_time": "2023-08-29T12:12:52.823Z"
   },
   {
    "duration": 4,
    "start_time": "2023-08-29T12:12:53.073Z"
   },
   {
    "duration": 8,
    "start_time": "2023-08-29T12:12:53.079Z"
   },
   {
    "duration": 304,
    "start_time": "2023-08-29T12:12:53.089Z"
   }
  ],
  "kernelspec": {
   "display_name": "Python 3 (ipykernel)",
   "language": "python",
   "name": "python3"
  },
  "language_info": {
   "codemirror_mode": {
    "name": "ipython",
    "version": 3
   },
   "file_extension": ".py",
   "mimetype": "text/x-python",
   "name": "python",
   "nbconvert_exporter": "python",
   "pygments_lexer": "ipython3",
   "version": "3.9.5"
  },
  "toc": {
   "base_numbering": 1,
   "nav_menu": {},
   "number_sections": true,
   "sideBar": true,
   "skip_h1_title": true,
   "title_cell": "Table of Contents",
   "title_sidebar": "Contents",
   "toc_cell": false,
   "toc_position": {},
   "toc_section_display": true,
   "toc_window_display": true
  }
 },
 "nbformat": 4,
 "nbformat_minor": 2
}
