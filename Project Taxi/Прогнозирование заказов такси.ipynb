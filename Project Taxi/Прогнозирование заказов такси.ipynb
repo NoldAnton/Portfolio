{
 "cells": [
  {
   "cell_type": "markdown",
   "metadata": {},
   "source": [
    "#  Прогнозирование заказов такси"
   ]
  },
  {
   "cell_type": "markdown",
   "metadata": {},
   "source": [
    "Компания «Чётенькое такси» собрала исторические данные о заказах такси в аэропортах. Чтобы привлекать больше водителей в период пиковой нагрузки, нужно спрогнозировать количество заказов такси на следующий час. Постройте модель для такого предсказания.\n",
    "\n",
    "Значение метрики *RMSE* на тестовой выборке должно быть не больше 48.\n",
    "\n",
    "Вам нужно:\n",
    "\n",
    "1. Загрузить данные и выполнить их ресемплирование по одному часу.\n",
    "2. Проанализировать данные.\n",
    "3. Обучить разные модели с различными гиперпараметрами. Сделать тестовую выборку размером 10% от исходных данных.\n",
    "4. Проверить данные на тестовой выборке и сделать выводы.\n",
    "\n",
    "\n",
    "Данные лежат в файле `taxi.csv`. Количество заказов находится в столбце `num_orders` (от англ. *number of orders*, «число заказов»)."
   ]
  },
  {
   "cell_type": "markdown",
   "metadata": {},
   "source": [
    "## Подготовка"
   ]
  },
  {
   "cell_type": "code",
   "execution_count": 1,
   "metadata": {},
   "outputs": [],
   "source": [
    "import warnings\n",
    "warnings.filterwarnings('ignore')\n",
    "import numpy as np\n",
    "import pandas as pd\n",
    "from sklearn.model_selection import train_test_split\n",
    "from statsmodels.tsa.seasonal import seasonal_decompose\n",
    "import matplotlib.pyplot as plt\n",
    "\n",
    "from sklearn.model_selection import GridSearchCV, cross_val_score\n",
    "from sklearn.model_selection import KFold\n",
    "from sklearn.model_selection import GridSearchCV\n",
    "from sklearn import linear_model\n",
    "import lightgbm as lgb\n",
    "import lightgbm as lgm\n",
    "from sklearn.linear_model import Ridge\n",
    "from sklearn.linear_model import LinearRegression\n",
    "from catboost import CatBoostRegressor\n",
    "from sklearn.metrics import mean_squared_error\n",
    "from sklearn.model_selection import TimeSeriesSplit"
   ]
  },
  {
   "cell_type": "code",
   "execution_count": 2,
   "metadata": {},
   "outputs": [
    {
     "name": "stdout",
     "output_type": "stream",
     "text": [
      "<class 'pandas.core.frame.DataFrame'>\n",
      "DatetimeIndex: 26496 entries, 2018-03-01 00:00:00 to 2018-08-31 23:50:00\n",
      "Data columns (total 1 columns):\n",
      " #   Column      Non-Null Count  Dtype\n",
      "---  ------      --------------  -----\n",
      " 0   num_orders  26496 non-null  int64\n",
      "dtypes: int64(1)\n",
      "memory usage: 414.0 KB\n"
     ]
    },
    {
     "data": {
      "text/html": [
       "<div>\n",
       "<style scoped>\n",
       "    .dataframe tbody tr th:only-of-type {\n",
       "        vertical-align: middle;\n",
       "    }\n",
       "\n",
       "    .dataframe tbody tr th {\n",
       "        vertical-align: top;\n",
       "    }\n",
       "\n",
       "    .dataframe thead th {\n",
       "        text-align: right;\n",
       "    }\n",
       "</style>\n",
       "<table border=\"1\" class=\"dataframe\">\n",
       "  <thead>\n",
       "    <tr style=\"text-align: right;\">\n",
       "      <th></th>\n",
       "      <th>num_orders</th>\n",
       "    </tr>\n",
       "    <tr>\n",
       "      <th>datetime</th>\n",
       "      <th></th>\n",
       "    </tr>\n",
       "  </thead>\n",
       "  <tbody>\n",
       "    <tr>\n",
       "      <th>2018-03-01 00:00:00</th>\n",
       "      <td>9</td>\n",
       "    </tr>\n",
       "    <tr>\n",
       "      <th>2018-03-01 00:10:00</th>\n",
       "      <td>14</td>\n",
       "    </tr>\n",
       "    <tr>\n",
       "      <th>2018-03-01 00:20:00</th>\n",
       "      <td>28</td>\n",
       "    </tr>\n",
       "    <tr>\n",
       "      <th>2018-03-01 00:30:00</th>\n",
       "      <td>20</td>\n",
       "    </tr>\n",
       "    <tr>\n",
       "      <th>2018-03-01 00:40:00</th>\n",
       "      <td>32</td>\n",
       "    </tr>\n",
       "    <tr>\n",
       "      <th>2018-03-01 00:50:00</th>\n",
       "      <td>21</td>\n",
       "    </tr>\n",
       "    <tr>\n",
       "      <th>2018-03-01 01:00:00</th>\n",
       "      <td>7</td>\n",
       "    </tr>\n",
       "    <tr>\n",
       "      <th>2018-03-01 01:10:00</th>\n",
       "      <td>5</td>\n",
       "    </tr>\n",
       "    <tr>\n",
       "      <th>2018-03-01 01:20:00</th>\n",
       "      <td>17</td>\n",
       "    </tr>\n",
       "    <tr>\n",
       "      <th>2018-03-01 01:30:00</th>\n",
       "      <td>12</td>\n",
       "    </tr>\n",
       "  </tbody>\n",
       "</table>\n",
       "</div>"
      ],
      "text/plain": [
       "                     num_orders\n",
       "datetime                       \n",
       "2018-03-01 00:00:00           9\n",
       "2018-03-01 00:10:00          14\n",
       "2018-03-01 00:20:00          28\n",
       "2018-03-01 00:30:00          20\n",
       "2018-03-01 00:40:00          32\n",
       "2018-03-01 00:50:00          21\n",
       "2018-03-01 01:00:00           7\n",
       "2018-03-01 01:10:00           5\n",
       "2018-03-01 01:20:00          17\n",
       "2018-03-01 01:30:00          12"
      ]
     },
     "execution_count": 2,
     "metadata": {},
     "output_type": "execute_result"
    }
   ],
   "source": [
    "data = pd.read_csv('/datasets/taxi.csv', index_col=0, parse_dates=True)\n",
    "data.info()\n",
    "data.head(10)"
   ]
  },
  {
   "cell_type": "code",
   "execution_count": 3,
   "metadata": {},
   "outputs": [
    {
     "data": {
      "text/html": [
       "<div>\n",
       "<style scoped>\n",
       "    .dataframe tbody tr th:only-of-type {\n",
       "        vertical-align: middle;\n",
       "    }\n",
       "\n",
       "    .dataframe tbody tr th {\n",
       "        vertical-align: top;\n",
       "    }\n",
       "\n",
       "    .dataframe thead th {\n",
       "        text-align: right;\n",
       "    }\n",
       "</style>\n",
       "<table border=\"1\" class=\"dataframe\">\n",
       "  <thead>\n",
       "    <tr style=\"text-align: right;\">\n",
       "      <th></th>\n",
       "      <th>num_orders</th>\n",
       "    </tr>\n",
       "    <tr>\n",
       "      <th>datetime</th>\n",
       "      <th></th>\n",
       "    </tr>\n",
       "  </thead>\n",
       "  <tbody>\n",
       "    <tr>\n",
       "      <th>2018-03-01 00:00:00</th>\n",
       "      <td>124</td>\n",
       "    </tr>\n",
       "    <tr>\n",
       "      <th>2018-03-01 01:00:00</th>\n",
       "      <td>85</td>\n",
       "    </tr>\n",
       "    <tr>\n",
       "      <th>2018-03-01 02:00:00</th>\n",
       "      <td>71</td>\n",
       "    </tr>\n",
       "    <tr>\n",
       "      <th>2018-03-01 03:00:00</th>\n",
       "      <td>66</td>\n",
       "    </tr>\n",
       "    <tr>\n",
       "      <th>2018-03-01 04:00:00</th>\n",
       "      <td>43</td>\n",
       "    </tr>\n",
       "  </tbody>\n",
       "</table>\n",
       "</div>"
      ],
      "text/plain": [
       "                     num_orders\n",
       "datetime                       \n",
       "2018-03-01 00:00:00         124\n",
       "2018-03-01 01:00:00          85\n",
       "2018-03-01 02:00:00          71\n",
       "2018-03-01 03:00:00          66\n",
       "2018-03-01 04:00:00          43"
      ]
     },
     "execution_count": 3,
     "metadata": {},
     "output_type": "execute_result"
    }
   ],
   "source": [
    "#Делаем ресемпл 1 час\n",
    "data = data.resample('1H').sum()\n",
    "data.head()"
   ]
  },
  {
   "cell_type": "markdown",
   "metadata": {},
   "source": [
    "После ознакомления с датасетом я сделал округлил значения времени до 1 часа, менять тип столбца datetime не требуется. "
   ]
  },
  {
   "cell_type": "markdown",
   "metadata": {},
   "source": [
    "## Анализ"
   ]
  },
  {
   "cell_type": "code",
   "execution_count": 4,
   "metadata": {},
   "outputs": [
    {
     "data": {
      "image/png": "[encoded data removed]",
      "text/plain": [
       "<Figure size 720x1152 with 3 Axes>"
      ]
     },
     "metadata": {
      "needs_background": "light"
     },
     "output_type": "display_data"
    }
   ],
   "source": [
    "decompose = seasonal_decompose(data)\n",
    "\n",
    "plt.figure(figsize=(10, 16))\n",
    "plt.subplot(311)\n",
    "\n",
    "decompose.trend.plot(ax=plt.gca())\n",
    "plt.title('Тренд')\n",
    "plt.xlabel(\"Месяц\")\n",
    "plt.ylabel(\"Заказы\")\n",
    "plt.subplot(312)\n",
    "\n",
    "decompose.seasonal['2018-06-13':'2018-06-13'].plot(ax=plt.gca())\n",
    "plt.title('Сезон')\n",
    "plt.xlabel(\"Время\")\n",
    "plt.ylabel(\"Заказы\")\n",
    "plt.subplot(313)\n",
    "\n",
    "decompose.resid.plot(ax=plt.gca())\n",
    "plt.title('Остальные шумы')\n",
    "plt.xlabel(\"Месяц\")\n",
    "plt.ylabel(\"Заказы\")\n",
    "plt.tight_layout()"
   ]
  },
  {
   "cell_type": "code",
   "execution_count": 5,
   "metadata": {},
   "outputs": [
    {
     "data": {
      "text/plain": [
       "Text(0, 0.5, 'Заказы')"
      ]
     },
     "execution_count": 5,
     "metadata": {},
     "output_type": "execute_result"
    },
    {
     "data": {
      "image/png": "[encoded data removed]",
      "text/plain": [
       "<Figure size 432x288 with 1 Axes>"
      ]
     },
     "metadata": {
      "needs_background": "light"
     },
     "output_type": "display_data"
    }
   ],
   "source": [
    "data['rolling_mean'] = data.rolling(10).mean()\n",
    "data.plot()\n",
    "plt.xlabel(\"Месяц\")\n",
    "plt.ylabel(\"Заказы\")"
   ]
  },
  {
   "cell_type": "markdown",
   "metadata": {},
   "source": [
    "После декомпозиции можно отметить из тренда, что количество заказов растет, из сезонности можно понять, что больше всего заказов ночью в 00:00 и меньше всего заказов в 06:00 утра."
   ]
  },
  {
   "cell_type": "markdown",
   "metadata": {},
   "source": [
    "## Обучение"
   ]
  },
  {
   "cell_type": "code",
   "execution_count": 6,
   "metadata": {},
   "outputs": [
    {
     "data": {
      "text/html": [
       "<div>\n",
       "<style scoped>\n",
       "    .dataframe tbody tr th:only-of-type {\n",
       "        vertical-align: middle;\n",
       "    }\n",
       "\n",
       "    .dataframe tbody tr th {\n",
       "        vertical-align: top;\n",
       "    }\n",
       "\n",
       "    .dataframe thead th {\n",
       "        text-align: right;\n",
       "    }\n",
       "</style>\n",
       "<table border=\"1\" class=\"dataframe\">\n",
       "  <thead>\n",
       "    <tr style=\"text-align: right;\">\n",
       "      <th></th>\n",
       "      <th>num_orders</th>\n",
       "      <th>rolling_mean</th>\n",
       "      <th>year</th>\n",
       "      <th>month</th>\n",
       "      <th>day</th>\n",
       "      <th>dayofweek</th>\n",
       "      <th>lag_1</th>\n",
       "      <th>lag_2</th>\n",
       "      <th>lag_3</th>\n",
       "      <th>lag_4</th>\n",
       "      <th>...</th>\n",
       "      <th>lag_15</th>\n",
       "      <th>lag_16</th>\n",
       "      <th>lag_17</th>\n",
       "      <th>lag_18</th>\n",
       "      <th>lag_19</th>\n",
       "      <th>lag_20</th>\n",
       "      <th>lag_21</th>\n",
       "      <th>lag_22</th>\n",
       "      <th>lag_23</th>\n",
       "      <th>lag_24</th>\n",
       "    </tr>\n",
       "    <tr>\n",
       "      <th>datetime</th>\n",
       "      <th></th>\n",
       "      <th></th>\n",
       "      <th></th>\n",
       "      <th></th>\n",
       "      <th></th>\n",
       "      <th></th>\n",
       "      <th></th>\n",
       "      <th></th>\n",
       "      <th></th>\n",
       "      <th></th>\n",
       "      <th></th>\n",
       "      <th></th>\n",
       "      <th></th>\n",
       "      <th></th>\n",
       "      <th></th>\n",
       "      <th></th>\n",
       "      <th></th>\n",
       "      <th></th>\n",
       "      <th></th>\n",
       "      <th></th>\n",
       "      <th></th>\n",
       "    </tr>\n",
       "  </thead>\n",
       "  <tbody>\n",
       "    <tr>\n",
       "      <th>2018-03-01 00:00:00</th>\n",
       "      <td>124</td>\n",
       "      <td>NaN</td>\n",
       "      <td>2018</td>\n",
       "      <td>3</td>\n",
       "      <td>1</td>\n",
       "      <td>3</td>\n",
       "      <td>NaN</td>\n",
       "      <td>NaN</td>\n",
       "      <td>NaN</td>\n",
       "      <td>NaN</td>\n",
       "      <td>...</td>\n",
       "      <td>NaN</td>\n",
       "      <td>NaN</td>\n",
       "      <td>NaN</td>\n",
       "      <td>NaN</td>\n",
       "      <td>NaN</td>\n",
       "      <td>NaN</td>\n",
       "      <td>NaN</td>\n",
       "      <td>NaN</td>\n",
       "      <td>NaN</td>\n",
       "      <td>NaN</td>\n",
       "    </tr>\n",
       "    <tr>\n",
       "      <th>2018-03-01 01:00:00</th>\n",
       "      <td>85</td>\n",
       "      <td>NaN</td>\n",
       "      <td>2018</td>\n",
       "      <td>3</td>\n",
       "      <td>1</td>\n",
       "      <td>3</td>\n",
       "      <td>124.0</td>\n",
       "      <td>NaN</td>\n",
       "      <td>NaN</td>\n",
       "      <td>NaN</td>\n",
       "      <td>...</td>\n",
       "      <td>NaN</td>\n",
       "      <td>NaN</td>\n",
       "      <td>NaN</td>\n",
       "      <td>NaN</td>\n",
       "      <td>NaN</td>\n",
       "      <td>NaN</td>\n",
       "      <td>NaN</td>\n",
       "      <td>NaN</td>\n",
       "      <td>NaN</td>\n",
       "      <td>NaN</td>\n",
       "    </tr>\n",
       "    <tr>\n",
       "      <th>2018-03-01 02:00:00</th>\n",
       "      <td>71</td>\n",
       "      <td>NaN</td>\n",
       "      <td>2018</td>\n",
       "      <td>3</td>\n",
       "      <td>1</td>\n",
       "      <td>3</td>\n",
       "      <td>85.0</td>\n",
       "      <td>124.0</td>\n",
       "      <td>NaN</td>\n",
       "      <td>NaN</td>\n",
       "      <td>...</td>\n",
       "      <td>NaN</td>\n",
       "      <td>NaN</td>\n",
       "      <td>NaN</td>\n",
       "      <td>NaN</td>\n",
       "      <td>NaN</td>\n",
       "      <td>NaN</td>\n",
       "      <td>NaN</td>\n",
       "      <td>NaN</td>\n",
       "      <td>NaN</td>\n",
       "      <td>NaN</td>\n",
       "    </tr>\n",
       "    <tr>\n",
       "      <th>2018-03-01 03:00:00</th>\n",
       "      <td>66</td>\n",
       "      <td>NaN</td>\n",
       "      <td>2018</td>\n",
       "      <td>3</td>\n",
       "      <td>1</td>\n",
       "      <td>3</td>\n",
       "      <td>71.0</td>\n",
       "      <td>85.0</td>\n",
       "      <td>124.0</td>\n",
       "      <td>NaN</td>\n",
       "      <td>...</td>\n",
       "      <td>NaN</td>\n",
       "      <td>NaN</td>\n",
       "      <td>NaN</td>\n",
       "      <td>NaN</td>\n",
       "      <td>NaN</td>\n",
       "      <td>NaN</td>\n",
       "      <td>NaN</td>\n",
       "      <td>NaN</td>\n",
       "      <td>NaN</td>\n",
       "      <td>NaN</td>\n",
       "    </tr>\n",
       "    <tr>\n",
       "      <th>2018-03-01 04:00:00</th>\n",
       "      <td>43</td>\n",
       "      <td>NaN</td>\n",
       "      <td>2018</td>\n",
       "      <td>3</td>\n",
       "      <td>1</td>\n",
       "      <td>3</td>\n",
       "      <td>66.0</td>\n",
       "      <td>71.0</td>\n",
       "      <td>85.0</td>\n",
       "      <td>124.0</td>\n",
       "      <td>...</td>\n",
       "      <td>NaN</td>\n",
       "      <td>NaN</td>\n",
       "      <td>NaN</td>\n",
       "      <td>NaN</td>\n",
       "      <td>NaN</td>\n",
       "      <td>NaN</td>\n",
       "      <td>NaN</td>\n",
       "      <td>NaN</td>\n",
       "      <td>NaN</td>\n",
       "      <td>NaN</td>\n",
       "    </tr>\n",
       "    <tr>\n",
       "      <th>2018-03-01 05:00:00</th>\n",
       "      <td>6</td>\n",
       "      <td>NaN</td>\n",
       "      <td>2018</td>\n",
       "      <td>3</td>\n",
       "      <td>1</td>\n",
       "      <td>3</td>\n",
       "      <td>43.0</td>\n",
       "      <td>66.0</td>\n",
       "      <td>71.0</td>\n",
       "      <td>85.0</td>\n",
       "      <td>...</td>\n",
       "      <td>NaN</td>\n",
       "      <td>NaN</td>\n",
       "      <td>NaN</td>\n",
       "      <td>NaN</td>\n",
       "      <td>NaN</td>\n",
       "      <td>NaN</td>\n",
       "      <td>NaN</td>\n",
       "      <td>NaN</td>\n",
       "      <td>NaN</td>\n",
       "      <td>NaN</td>\n",
       "    </tr>\n",
       "    <tr>\n",
       "      <th>2018-03-01 06:00:00</th>\n",
       "      <td>12</td>\n",
       "      <td>NaN</td>\n",
       "      <td>2018</td>\n",
       "      <td>3</td>\n",
       "      <td>1</td>\n",
       "      <td>3</td>\n",
       "      <td>6.0</td>\n",
       "      <td>43.0</td>\n",
       "      <td>66.0</td>\n",
       "      <td>71.0</td>\n",
       "      <td>...</td>\n",
       "      <td>NaN</td>\n",
       "      <td>NaN</td>\n",
       "      <td>NaN</td>\n",
       "      <td>NaN</td>\n",
       "      <td>NaN</td>\n",
       "      <td>NaN</td>\n",
       "      <td>NaN</td>\n",
       "      <td>NaN</td>\n",
       "      <td>NaN</td>\n",
       "      <td>NaN</td>\n",
       "    </tr>\n",
       "    <tr>\n",
       "      <th>2018-03-01 07:00:00</th>\n",
       "      <td>15</td>\n",
       "      <td>NaN</td>\n",
       "      <td>2018</td>\n",
       "      <td>3</td>\n",
       "      <td>1</td>\n",
       "      <td>3</td>\n",
       "      <td>12.0</td>\n",
       "      <td>6.0</td>\n",
       "      <td>43.0</td>\n",
       "      <td>66.0</td>\n",
       "      <td>...</td>\n",
       "      <td>NaN</td>\n",
       "      <td>NaN</td>\n",
       "      <td>NaN</td>\n",
       "      <td>NaN</td>\n",
       "      <td>NaN</td>\n",
       "      <td>NaN</td>\n",
       "      <td>NaN</td>\n",
       "      <td>NaN</td>\n",
       "      <td>NaN</td>\n",
       "      <td>NaN</td>\n",
       "    </tr>\n",
       "    <tr>\n",
       "      <th>2018-03-01 08:00:00</th>\n",
       "      <td>34</td>\n",
       "      <td>NaN</td>\n",
       "      <td>2018</td>\n",
       "      <td>3</td>\n",
       "      <td>1</td>\n",
       "      <td>3</td>\n",
       "      <td>15.0</td>\n",
       "      <td>12.0</td>\n",
       "      <td>6.0</td>\n",
       "      <td>43.0</td>\n",
       "      <td>...</td>\n",
       "      <td>NaN</td>\n",
       "      <td>NaN</td>\n",
       "      <td>NaN</td>\n",
       "      <td>NaN</td>\n",
       "      <td>NaN</td>\n",
       "      <td>NaN</td>\n",
       "      <td>NaN</td>\n",
       "      <td>NaN</td>\n",
       "      <td>NaN</td>\n",
       "      <td>NaN</td>\n",
       "    </tr>\n",
       "    <tr>\n",
       "      <th>2018-03-01 09:00:00</th>\n",
       "      <td>69</td>\n",
       "      <td>NaN</td>\n",
       "      <td>2018</td>\n",
       "      <td>3</td>\n",
       "      <td>1</td>\n",
       "      <td>3</td>\n",
       "      <td>34.0</td>\n",
       "      <td>15.0</td>\n",
       "      <td>12.0</td>\n",
       "      <td>6.0</td>\n",
       "      <td>...</td>\n",
       "      <td>NaN</td>\n",
       "      <td>NaN</td>\n",
       "      <td>NaN</td>\n",
       "      <td>NaN</td>\n",
       "      <td>NaN</td>\n",
       "      <td>NaN</td>\n",
       "      <td>NaN</td>\n",
       "      <td>NaN</td>\n",
       "      <td>NaN</td>\n",
       "      <td>NaN</td>\n",
       "    </tr>\n",
       "  </tbody>\n",
       "</table>\n",
       "<p>10 rows × 30 columns</p>\n",
       "</div>"
      ],
      "text/plain": [
       "                     num_orders  rolling_mean  year  month  day  dayofweek  \\\n",
       "datetime                                                                     \n",
       "2018-03-01 00:00:00         124           NaN  2018      3    1          3   \n",
       "2018-03-01 01:00:00          85           NaN  2018      3    1          3   \n",
       "2018-03-01 02:00:00          71           NaN  2018      3    1          3   \n",
       "2018-03-01 03:00:00          66           NaN  2018      3    1          3   \n",
       "2018-03-01 04:00:00          43           NaN  2018      3    1          3   \n",
       "2018-03-01 05:00:00           6           NaN  2018      3    1          3   \n",
       "2018-03-01 06:00:00          12           NaN  2018      3    1          3   \n",
       "2018-03-01 07:00:00          15           NaN  2018      3    1          3   \n",
       "2018-03-01 08:00:00          34           NaN  2018      3    1          3   \n",
       "2018-03-01 09:00:00          69           NaN  2018      3    1          3   \n",
       "\n",
       "                     lag_1  lag_2  lag_3  lag_4  ...  lag_15  lag_16  lag_17  \\\n",
       "datetime                                         ...                           \n",
       "2018-03-01 00:00:00    NaN    NaN    NaN    NaN  ...     NaN     NaN     NaN   \n",
       "2018-03-01 01:00:00  124.0    NaN    NaN    NaN  ...     NaN     NaN     NaN   \n",
       "2018-03-01 02:00:00   85.0  124.0    NaN    NaN  ...     NaN     NaN     NaN   \n",
       "2018-03-01 03:00:00   71.0   85.0  124.0    NaN  ...     NaN     NaN     NaN   \n",
       "2018-03-01 04:00:00   66.0   71.0   85.0  124.0  ...     NaN     NaN     NaN   \n",
       "2018-03-01 05:00:00   43.0   66.0   71.0   85.0  ...     NaN     NaN     NaN   \n",
       "2018-03-01 06:00:00    6.0   43.0   66.0   71.0  ...     NaN     NaN     NaN   \n",
       "2018-03-01 07:00:00   12.0    6.0   43.0   66.0  ...     NaN     NaN     NaN   \n",
       "2018-03-01 08:00:00   15.0   12.0    6.0   43.0  ...     NaN     NaN     NaN   \n",
       "2018-03-01 09:00:00   34.0   15.0   12.0    6.0  ...     NaN     NaN     NaN   \n",
       "\n",
       "                     lag_18  lag_19  lag_20  lag_21  lag_22  lag_23  lag_24  \n",
       "datetime                                                                     \n",
       "2018-03-01 00:00:00     NaN     NaN     NaN     NaN     NaN     NaN     NaN  \n",
       "2018-03-01 01:00:00     NaN     NaN     NaN     NaN     NaN     NaN     NaN  \n",
       "2018-03-01 02:00:00     NaN     NaN     NaN     NaN     NaN     NaN     NaN  \n",
       "2018-03-01 03:00:00     NaN     NaN     NaN     NaN     NaN     NaN     NaN  \n",
       "2018-03-01 04:00:00     NaN     NaN     NaN     NaN     NaN     NaN     NaN  \n",
       "2018-03-01 05:00:00     NaN     NaN     NaN     NaN     NaN     NaN     NaN  \n",
       "2018-03-01 06:00:00     NaN     NaN     NaN     NaN     NaN     NaN     NaN  \n",
       "2018-03-01 07:00:00     NaN     NaN     NaN     NaN     NaN     NaN     NaN  \n",
       "2018-03-01 08:00:00     NaN     NaN     NaN     NaN     NaN     NaN     NaN  \n",
       "2018-03-01 09:00:00     NaN     NaN     NaN     NaN     NaN     NaN     NaN  \n",
       "\n",
       "[10 rows x 30 columns]"
      ]
     },
     "execution_count": 6,
     "metadata": {},
     "output_type": "execute_result"
    }
   ],
   "source": [
    "#Создадим и применим функцию make_features\n",
    "def make_features(data, max_lag, rolling_mean_size):\n",
    "    data['year'] = data.index.year\n",
    "    data['month'] = data.index.month\n",
    "    data['day'] = data.index.day\n",
    "    data['dayofweek'] = data.index.dayofweek\n",
    "    \n",
    "    for lag in range(1, max_lag + 1):\n",
    "        data['lag_{}'.format(lag)] = data['num_orders'].shift(lag)\n",
    "\n",
    "    data['rolling_mean'] = data['num_orders'].shift().rolling(rolling_mean_size).mean()\n",
    "\n",
    "make_features(data, 24, 10)\n",
    "data.head(10)"
   ]
  },
  {
   "cell_type": "code",
   "execution_count": 7,
   "metadata": {},
   "outputs": [
    {
     "data": {
      "text/html": [
       "<div>\n",
       "<style scoped>\n",
       "    .dataframe tbody tr th:only-of-type {\n",
       "        vertical-align: middle;\n",
       "    }\n",
       "\n",
       "    .dataframe tbody tr th {\n",
       "        vertical-align: top;\n",
       "    }\n",
       "\n",
       "    .dataframe thead th {\n",
       "        text-align: right;\n",
       "    }\n",
       "</style>\n",
       "<table border=\"1\" class=\"dataframe\">\n",
       "  <thead>\n",
       "    <tr style=\"text-align: right;\">\n",
       "      <th></th>\n",
       "      <th>num_orders</th>\n",
       "      <th>rolling_mean</th>\n",
       "      <th>year</th>\n",
       "      <th>month</th>\n",
       "      <th>day</th>\n",
       "      <th>dayofweek</th>\n",
       "      <th>lag_1</th>\n",
       "      <th>lag_2</th>\n",
       "      <th>lag_3</th>\n",
       "      <th>lag_4</th>\n",
       "      <th>...</th>\n",
       "      <th>lag_15</th>\n",
       "      <th>lag_16</th>\n",
       "      <th>lag_17</th>\n",
       "      <th>lag_18</th>\n",
       "      <th>lag_19</th>\n",
       "      <th>lag_20</th>\n",
       "      <th>lag_21</th>\n",
       "      <th>lag_22</th>\n",
       "      <th>lag_23</th>\n",
       "      <th>lag_24</th>\n",
       "    </tr>\n",
       "    <tr>\n",
       "      <th>datetime</th>\n",
       "      <th></th>\n",
       "      <th></th>\n",
       "      <th></th>\n",
       "      <th></th>\n",
       "      <th></th>\n",
       "      <th></th>\n",
       "      <th></th>\n",
       "      <th></th>\n",
       "      <th></th>\n",
       "      <th></th>\n",
       "      <th></th>\n",
       "      <th></th>\n",
       "      <th></th>\n",
       "      <th></th>\n",
       "      <th></th>\n",
       "      <th></th>\n",
       "      <th></th>\n",
       "      <th></th>\n",
       "      <th></th>\n",
       "      <th></th>\n",
       "      <th></th>\n",
       "    </tr>\n",
       "  </thead>\n",
       "  <tbody>\n",
       "    <tr>\n",
       "      <th>2018-03-02 00:00:00</th>\n",
       "      <td>90</td>\n",
       "      <td>61.7</td>\n",
       "      <td>2018</td>\n",
       "      <td>3</td>\n",
       "      <td>2</td>\n",
       "      <td>4</td>\n",
       "      <td>58.0</td>\n",
       "      <td>113.0</td>\n",
       "      <td>66.0</td>\n",
       "      <td>61.0</td>\n",
       "      <td>...</td>\n",
       "      <td>69.0</td>\n",
       "      <td>34.0</td>\n",
       "      <td>15.0</td>\n",
       "      <td>12.0</td>\n",
       "      <td>6.0</td>\n",
       "      <td>43.0</td>\n",
       "      <td>66.0</td>\n",
       "      <td>71.0</td>\n",
       "      <td>85.0</td>\n",
       "      <td>124.0</td>\n",
       "    </tr>\n",
       "    <tr>\n",
       "      <th>2018-03-02 01:00:00</th>\n",
       "      <td>120</td>\n",
       "      <td>65.9</td>\n",
       "      <td>2018</td>\n",
       "      <td>3</td>\n",
       "      <td>2</td>\n",
       "      <td>4</td>\n",
       "      <td>90.0</td>\n",
       "      <td>58.0</td>\n",
       "      <td>113.0</td>\n",
       "      <td>66.0</td>\n",
       "      <td>...</td>\n",
       "      <td>64.0</td>\n",
       "      <td>69.0</td>\n",
       "      <td>34.0</td>\n",
       "      <td>15.0</td>\n",
       "      <td>12.0</td>\n",
       "      <td>6.0</td>\n",
       "      <td>43.0</td>\n",
       "      <td>66.0</td>\n",
       "      <td>71.0</td>\n",
       "      <td>85.0</td>\n",
       "    </tr>\n",
       "    <tr>\n",
       "      <th>2018-03-02 02:00:00</th>\n",
       "      <td>75</td>\n",
       "      <td>71.3</td>\n",
       "      <td>2018</td>\n",
       "      <td>3</td>\n",
       "      <td>2</td>\n",
       "      <td>4</td>\n",
       "      <td>120.0</td>\n",
       "      <td>90.0</td>\n",
       "      <td>58.0</td>\n",
       "      <td>113.0</td>\n",
       "      <td>...</td>\n",
       "      <td>96.0</td>\n",
       "      <td>64.0</td>\n",
       "      <td>69.0</td>\n",
       "      <td>34.0</td>\n",
       "      <td>15.0</td>\n",
       "      <td>12.0</td>\n",
       "      <td>6.0</td>\n",
       "      <td>43.0</td>\n",
       "      <td>66.0</td>\n",
       "      <td>71.0</td>\n",
       "    </tr>\n",
       "    <tr>\n",
       "      <th>2018-03-02 03:00:00</th>\n",
       "      <td>64</td>\n",
       "      <td>74.5</td>\n",
       "      <td>2018</td>\n",
       "      <td>3</td>\n",
       "      <td>2</td>\n",
       "      <td>4</td>\n",
       "      <td>75.0</td>\n",
       "      <td>120.0</td>\n",
       "      <td>90.0</td>\n",
       "      <td>58.0</td>\n",
       "      <td>...</td>\n",
       "      <td>30.0</td>\n",
       "      <td>96.0</td>\n",
       "      <td>64.0</td>\n",
       "      <td>69.0</td>\n",
       "      <td>34.0</td>\n",
       "      <td>15.0</td>\n",
       "      <td>12.0</td>\n",
       "      <td>6.0</td>\n",
       "      <td>43.0</td>\n",
       "      <td>66.0</td>\n",
       "    </tr>\n",
       "    <tr>\n",
       "      <th>2018-03-02 04:00:00</th>\n",
       "      <td>20</td>\n",
       "      <td>76.5</td>\n",
       "      <td>2018</td>\n",
       "      <td>3</td>\n",
       "      <td>2</td>\n",
       "      <td>4</td>\n",
       "      <td>64.0</td>\n",
       "      <td>75.0</td>\n",
       "      <td>120.0</td>\n",
       "      <td>90.0</td>\n",
       "      <td>...</td>\n",
       "      <td>32.0</td>\n",
       "      <td>30.0</td>\n",
       "      <td>96.0</td>\n",
       "      <td>64.0</td>\n",
       "      <td>69.0</td>\n",
       "      <td>34.0</td>\n",
       "      <td>15.0</td>\n",
       "      <td>12.0</td>\n",
       "      <td>6.0</td>\n",
       "      <td>43.0</td>\n",
       "    </tr>\n",
       "    <tr>\n",
       "      <th>2018-03-02 05:00:00</th>\n",
       "      <td>11</td>\n",
       "      <td>71.2</td>\n",
       "      <td>2018</td>\n",
       "      <td>3</td>\n",
       "      <td>2</td>\n",
       "      <td>4</td>\n",
       "      <td>20.0</td>\n",
       "      <td>64.0</td>\n",
       "      <td>75.0</td>\n",
       "      <td>120.0</td>\n",
       "      <td>...</td>\n",
       "      <td>48.0</td>\n",
       "      <td>32.0</td>\n",
       "      <td>30.0</td>\n",
       "      <td>96.0</td>\n",
       "      <td>64.0</td>\n",
       "      <td>69.0</td>\n",
       "      <td>34.0</td>\n",
       "      <td>15.0</td>\n",
       "      <td>12.0</td>\n",
       "      <td>6.0</td>\n",
       "    </tr>\n",
       "    <tr>\n",
       "      <th>2018-03-02 06:00:00</th>\n",
       "      <td>11</td>\n",
       "      <td>67.8</td>\n",
       "      <td>2018</td>\n",
       "      <td>3</td>\n",
       "      <td>2</td>\n",
       "      <td>4</td>\n",
       "      <td>11.0</td>\n",
       "      <td>20.0</td>\n",
       "      <td>64.0</td>\n",
       "      <td>75.0</td>\n",
       "      <td>...</td>\n",
       "      <td>66.0</td>\n",
       "      <td>48.0</td>\n",
       "      <td>32.0</td>\n",
       "      <td>30.0</td>\n",
       "      <td>96.0</td>\n",
       "      <td>64.0</td>\n",
       "      <td>69.0</td>\n",
       "      <td>34.0</td>\n",
       "      <td>15.0</td>\n",
       "      <td>12.0</td>\n",
       "    </tr>\n",
       "    <tr>\n",
       "      <th>2018-03-02 07:00:00</th>\n",
       "      <td>7</td>\n",
       "      <td>62.8</td>\n",
       "      <td>2018</td>\n",
       "      <td>3</td>\n",
       "      <td>2</td>\n",
       "      <td>4</td>\n",
       "      <td>11.0</td>\n",
       "      <td>11.0</td>\n",
       "      <td>20.0</td>\n",
       "      <td>64.0</td>\n",
       "      <td>...</td>\n",
       "      <td>43.0</td>\n",
       "      <td>66.0</td>\n",
       "      <td>48.0</td>\n",
       "      <td>32.0</td>\n",
       "      <td>30.0</td>\n",
       "      <td>96.0</td>\n",
       "      <td>64.0</td>\n",
       "      <td>69.0</td>\n",
       "      <td>34.0</td>\n",
       "      <td>15.0</td>\n",
       "    </tr>\n",
       "    <tr>\n",
       "      <th>2018-03-02 08:00:00</th>\n",
       "      <td>46</td>\n",
       "      <td>56.9</td>\n",
       "      <td>2018</td>\n",
       "      <td>3</td>\n",
       "      <td>2</td>\n",
       "      <td>4</td>\n",
       "      <td>7.0</td>\n",
       "      <td>11.0</td>\n",
       "      <td>11.0</td>\n",
       "      <td>20.0</td>\n",
       "      <td>...</td>\n",
       "      <td>44.0</td>\n",
       "      <td>43.0</td>\n",
       "      <td>66.0</td>\n",
       "      <td>48.0</td>\n",
       "      <td>32.0</td>\n",
       "      <td>30.0</td>\n",
       "      <td>96.0</td>\n",
       "      <td>64.0</td>\n",
       "      <td>69.0</td>\n",
       "      <td>34.0</td>\n",
       "    </tr>\n",
       "    <tr>\n",
       "      <th>2018-03-02 09:00:00</th>\n",
       "      <td>45</td>\n",
       "      <td>50.2</td>\n",
       "      <td>2018</td>\n",
       "      <td>3</td>\n",
       "      <td>2</td>\n",
       "      <td>4</td>\n",
       "      <td>46.0</td>\n",
       "      <td>7.0</td>\n",
       "      <td>11.0</td>\n",
       "      <td>11.0</td>\n",
       "      <td>...</td>\n",
       "      <td>73.0</td>\n",
       "      <td>44.0</td>\n",
       "      <td>43.0</td>\n",
       "      <td>66.0</td>\n",
       "      <td>48.0</td>\n",
       "      <td>32.0</td>\n",
       "      <td>30.0</td>\n",
       "      <td>96.0</td>\n",
       "      <td>64.0</td>\n",
       "      <td>69.0</td>\n",
       "    </tr>\n",
       "  </tbody>\n",
       "</table>\n",
       "<p>10 rows × 30 columns</p>\n",
       "</div>"
      ],
      "text/plain": [
       "                     num_orders  rolling_mean  year  month  day  dayofweek  \\\n",
       "datetime                                                                     \n",
       "2018-03-02 00:00:00          90          61.7  2018      3    2          4   \n",
       "2018-03-02 01:00:00         120          65.9  2018      3    2          4   \n",
       "2018-03-02 02:00:00          75          71.3  2018      3    2          4   \n",
       "2018-03-02 03:00:00          64          74.5  2018      3    2          4   \n",
       "2018-03-02 04:00:00          20          76.5  2018      3    2          4   \n",
       "2018-03-02 05:00:00          11          71.2  2018      3    2          4   \n",
       "2018-03-02 06:00:00          11          67.8  2018      3    2          4   \n",
       "2018-03-02 07:00:00           7          62.8  2018      3    2          4   \n",
       "2018-03-02 08:00:00          46          56.9  2018      3    2          4   \n",
       "2018-03-02 09:00:00          45          50.2  2018      3    2          4   \n",
       "\n",
       "                     lag_1  lag_2  lag_3  lag_4  ...  lag_15  lag_16  lag_17  \\\n",
       "datetime                                         ...                           \n",
       "2018-03-02 00:00:00   58.0  113.0   66.0   61.0  ...    69.0    34.0    15.0   \n",
       "2018-03-02 01:00:00   90.0   58.0  113.0   66.0  ...    64.0    69.0    34.0   \n",
       "2018-03-02 02:00:00  120.0   90.0   58.0  113.0  ...    96.0    64.0    69.0   \n",
       "2018-03-02 03:00:00   75.0  120.0   90.0   58.0  ...    30.0    96.0    64.0   \n",
       "2018-03-02 04:00:00   64.0   75.0  120.0   90.0  ...    32.0    30.0    96.0   \n",
       "2018-03-02 05:00:00   20.0   64.0   75.0  120.0  ...    48.0    32.0    30.0   \n",
       "2018-03-02 06:00:00   11.0   20.0   64.0   75.0  ...    66.0    48.0    32.0   \n",
       "2018-03-02 07:00:00   11.0   11.0   20.0   64.0  ...    43.0    66.0    48.0   \n",
       "2018-03-02 08:00:00    7.0   11.0   11.0   20.0  ...    44.0    43.0    66.0   \n",
       "2018-03-02 09:00:00   46.0    7.0   11.0   11.0  ...    73.0    44.0    43.0   \n",
       "\n",
       "                     lag_18  lag_19  lag_20  lag_21  lag_22  lag_23  lag_24  \n",
       "datetime                                                                     \n",
       "2018-03-02 00:00:00    12.0     6.0    43.0    66.0    71.0    85.0   124.0  \n",
       "2018-03-02 01:00:00    15.0    12.0     6.0    43.0    66.0    71.0    85.0  \n",
       "2018-03-02 02:00:00    34.0    15.0    12.0     6.0    43.0    66.0    71.0  \n",
       "2018-03-02 03:00:00    69.0    34.0    15.0    12.0     6.0    43.0    66.0  \n",
       "2018-03-02 04:00:00    64.0    69.0    34.0    15.0    12.0     6.0    43.0  \n",
       "2018-03-02 05:00:00    96.0    64.0    69.0    34.0    15.0    12.0     6.0  \n",
       "2018-03-02 06:00:00    30.0    96.0    64.0    69.0    34.0    15.0    12.0  \n",
       "2018-03-02 07:00:00    32.0    30.0    96.0    64.0    69.0    34.0    15.0  \n",
       "2018-03-02 08:00:00    48.0    32.0    30.0    96.0    64.0    69.0    34.0  \n",
       "2018-03-02 09:00:00    66.0    48.0    32.0    30.0    96.0    64.0    69.0  \n",
       "\n",
       "[10 rows x 30 columns]"
      ]
     },
     "execution_count": 7,
     "metadata": {},
     "output_type": "execute_result"
    }
   ],
   "source": [
    "#Удаляем пропуски и проверяем\n",
    "data = data.dropna()\n",
    "data.head(10)"
   ]
  },
  {
   "cell_type": "code",
   "execution_count": 8,
   "metadata": {
    "scrolled": false
   },
   "outputs": [
    {
     "name": "stdout",
     "output_type": "stream",
     "text": [
      "Размер тренировочной выборки: (3513, 29)\n",
      "Размер тестовой выборки: (439, 29)\n",
      "Размер валидационной выборки: (440, 29)\n",
      "(4392, 30)\n"
     ]
    }
   ],
   "source": [
    "# Создаем признаки \n",
    "features = data.drop(['num_orders'], axis = 1)  \n",
    "target = data['num_orders'] \n",
    "\n",
    "features_train, features_valid, target_train, target_valid = train_test_split(features, target, test_size=0.2, shuffle=False)\n",
    "features_test, features_valid, target_test, target_valid = train_test_split(features_valid, target_valid, test_size=0.5, shuffle=False)\n",
    "\n",
    "print('Размер тренировочной выборки:', features_train.shape) \n",
    "print('Размер тестовой выборки:', features_test.shape) \n",
    "print('Размер валидационной выборки:', features_valid.shape) \n",
    "print(data.shape)"
   ]
  },
  {
   "cell_type": "markdown",
   "metadata": {},
   "source": [
    "Лучшие параметры max_depth=10, n_estimators=200"
   ]
  },
  {
   "cell_type": "code",
   "execution_count": 10,
   "metadata": {},
   "outputs": [
    {
     "data": {
      "text/plain": [
       "59.26299870434133"
      ]
     },
     "execution_count": 10,
     "metadata": {},
     "output_type": "execute_result"
    }
   ],
   "source": [
    "#Проверяем модель LGBMRegressor\n",
    "\n",
    "light_gbm = lgb.LGBMRegressor(num_leaves= 16, learning_rate=0.01, max_depth=10, n_estimators=200)\n",
    "light_gbm.fit(features_train, target_train)\n",
    "pred4 = light_gbm.predict(features_valid)\n",
    "rmse_light_gbm = mean_squared_error(target_valid, pred4)**0.5\n",
    "rmse_light_gbm"
   ]
  },
  {
   "cell_type": "code",
   "execution_count": 11,
   "metadata": {},
   "outputs": [
    {
     "name": "stdout",
     "output_type": "stream",
     "text": [
      "0:\tlearn: 35.3485376\ttotal: 55.9ms\tremaining: 55.8s\n",
      "100:\tlearn: 22.9480632\ttotal: 619ms\tremaining: 5.51s\n",
      "200:\tlearn: 21.0058770\ttotal: 1.16s\tremaining: 4.62s\n",
      "300:\tlearn: 19.8907313\ttotal: 1.7s\tremaining: 3.95s\n",
      "400:\tlearn: 18.9105647\ttotal: 2.25s\tremaining: 3.37s\n",
      "500:\tlearn: 18.1947623\ttotal: 2.81s\tremaining: 2.8s\n",
      "600:\tlearn: 17.6036402\ttotal: 3.39s\tremaining: 2.25s\n",
      "700:\tlearn: 17.0271949\ttotal: 3.97s\tremaining: 1.69s\n",
      "800:\tlearn: 16.5837216\ttotal: 4.56s\tremaining: 1.13s\n",
      "900:\tlearn: 16.2280458\ttotal: 5.13s\tremaining: 563ms\n",
      "999:\tlearn: 15.8799148\ttotal: 5.67s\tremaining: 0us\n"
     ]
    },
    {
     "data": {
      "text/plain": [
       "55.18503147297283"
      ]
     },
     "execution_count": 11,
     "metadata": {},
     "output_type": "execute_result"
    }
   ],
   "source": [
    "#Проверяем модель CatBoostRegressor\n",
    "\n",
    "model_cat = CatBoostRegressor(n_estimators = 1000, loss_function = 'MAE', eval_metric = 'RMSE')\n",
    "model_cat.fit(features_train, target_train, verbose=100)\n",
    "predicted_valid2 = model_cat.predict(features_valid)\n",
    "rmse_cat = (mean_squared_error(target_valid, predicted_valid2))**0.5\n",
    "rmse_cat"
   ]
  },
  {
   "cell_type": "markdown",
   "metadata": {},
   "source": [
    "После тестирования модель CatBoost показала лучшие результаты, осталось провести финальное тестирование модели."
   ]
  },
  {
   "cell_type": "markdown",
   "metadata": {},
   "source": [
    "## Тестирование"
   ]
  },
  {
   "cell_type": "code",
   "execution_count": 12,
   "metadata": {},
   "outputs": [
    {
     "data": {
      "text/plain": [
       "33.9913650258038"
      ]
     },
     "execution_count": 12,
     "metadata": {},
     "output_type": "execute_result"
    }
   ],
   "source": [
    "# Финальное тестирование модели CatBoostRegressor\n",
    "predicted_valid3 = model_cat.predict(features_test)\n",
    "rmse_cat_test = mean_squared_error(target_test, predicted_valid3)**0.5\n",
    "rmse_cat_test"
   ]
  },
  {
   "cell_type": "markdown",
   "metadata": {},
   "source": [
    "***Вывод***:\n",
    "\n",
    "После ознакомления с датасетом был сделан ресемпл до 1 часа, и я приступил к анализу. Была сделана декомпозиция из которой можно отметить, что количество заказов растет ближе к 12 ночи и уменьшается ближе к 6 утра и 6 вечера. Количество заказов растет ночью в связи с тем, что общественный транспорт перестает ходить. Далее я создал функцию make_features и разделил дата сет как сказанно в условии на 3 части тренировочную валидационную и тестовую(10% от общей). Далее я начал лучшие параметры для модели ими оказались  max_depth: 10, n_estimators: 200. После чего я обучил модели LGBMRegressor и CatBoost. Обе модели показали хороший результат, но модель CatBoost результат лучше. CatBoost лучшая модель."
   ]
  }
 ],
 "metadata": {
  "ExecuteTimeLog": [
   {
    "duration": 44,
    "start_time": "2023-05-04T13:23:53.749Z"
   },
   {
    "duration": 1605,
    "start_time": "2023-05-04T13:23:58.281Z"
   },
   {
    "duration": 101,
    "start_time": "2023-05-04T13:23:59.888Z"
   },
   {
    "duration": 158,
    "start_time": "2023-05-04T13:24:19.284Z"
   },
   {
    "duration": 69,
    "start_time": "2023-05-04T13:26:02.812Z"
   },
   {
    "duration": 12,
    "start_time": "2023-05-04T13:26:15.404Z"
   },
   {
    "duration": 9,
    "start_time": "2023-05-04T13:26:20.208Z"
   },
   {
    "duration": 14,
    "start_time": "2023-05-04T13:26:23.549Z"
   },
   {
    "duration": 58,
    "start_time": "2023-05-04T13:28:29.118Z"
   },
   {
    "duration": 12,
    "start_time": "2023-05-04T13:48:13.688Z"
   },
   {
    "duration": 922,
    "start_time": "2023-05-04T13:48:38.162Z"
   },
   {
    "duration": 14,
    "start_time": "2023-05-04T13:49:54.914Z"
   },
   {
    "duration": 260,
    "start_time": "2023-05-04T13:50:02.342Z"
   },
   {
    "duration": 15,
    "start_time": "2023-05-04T13:58:00.667Z"
   },
   {
    "duration": 10,
    "start_time": "2023-05-04T13:58:36.965Z"
   },
   {
    "duration": 20,
    "start_time": "2023-05-04T13:58:50.401Z"
   },
   {
    "duration": 25,
    "start_time": "2023-05-04T13:58:55.601Z"
   },
   {
    "duration": 1560,
    "start_time": "2023-05-04T14:00:01.916Z"
   },
   {
    "duration": 62,
    "start_time": "2023-05-04T14:00:03.478Z"
   },
   {
    "duration": 15,
    "start_time": "2023-05-04T14:00:03.542Z"
   },
   {
    "duration": 957,
    "start_time": "2023-05-04T14:00:03.559Z"
   },
   {
    "duration": 237,
    "start_time": "2023-05-04T14:00:04.518Z"
   },
   {
    "duration": 38,
    "start_time": "2023-05-04T14:00:04.757Z"
   },
   {
    "duration": 124,
    "start_time": "2023-05-04T14:00:29.083Z"
   },
   {
    "duration": 29,
    "start_time": "2023-05-04T14:00:35.374Z"
   },
   {
    "duration": 10,
    "start_time": "2023-05-04T14:04:05.259Z"
   },
   {
    "duration": 11,
    "start_time": "2023-05-04T14:05:54.930Z"
   },
   {
    "duration": 16,
    "start_time": "2023-05-04T14:06:12.489Z"
   },
   {
    "duration": 11,
    "start_time": "2023-05-04T14:06:17.407Z"
   },
   {
    "duration": 10,
    "start_time": "2023-05-04T14:06:38.041Z"
   },
   {
    "duration": 9,
    "start_time": "2023-05-04T14:06:43.035Z"
   },
   {
    "duration": 9,
    "start_time": "2023-05-04T14:06:55.149Z"
   },
   {
    "duration": 60,
    "start_time": "2023-05-04T14:07:02.522Z"
   },
   {
    "duration": 21,
    "start_time": "2023-05-04T14:07:39.629Z"
   },
   {
    "duration": 63,
    "start_time": "2023-05-04T14:07:44.625Z"
   },
   {
    "duration": 85,
    "start_time": "2023-05-04T14:08:39.937Z"
   },
   {
    "duration": 101180,
    "start_time": "2023-05-04T14:09:03.017Z"
   },
   {
    "duration": 12,
    "start_time": "2023-05-04T14:10:49.260Z"
   },
   {
    "duration": 1599,
    "start_time": "2023-05-04T14:11:08.509Z"
   },
   {
    "duration": 1089,
    "start_time": "2023-05-04T14:11:41.621Z"
   },
   {
    "duration": 10,
    "start_time": "2023-05-04T14:12:57.664Z"
   },
   {
    "duration": 13,
    "start_time": "2023-05-04T14:13:16.749Z"
   },
   {
    "duration": 6,
    "start_time": "2023-05-04T14:13:27.584Z"
   },
   {
    "duration": 10,
    "start_time": "2023-05-04T14:14:27.528Z"
   },
   {
    "duration": 10,
    "start_time": "2023-05-04T14:15:41.671Z"
   },
   {
    "duration": 749,
    "start_time": "2023-05-04T14:15:47.930Z"
   },
   {
    "duration": 944,
    "start_time": "2023-05-04T14:16:07.934Z"
   },
   {
    "duration": 1401,
    "start_time": "2023-05-04T14:16:28.458Z"
   },
   {
    "duration": 817,
    "start_time": "2023-05-04T14:16:44.528Z"
   },
   {
    "duration": 1329,
    "start_time": "2023-05-04T14:18:40.542Z"
   },
   {
    "duration": 55,
    "start_time": "2023-05-04T14:18:41.873Z"
   },
   {
    "duration": 10,
    "start_time": "2023-05-04T14:18:41.930Z"
   },
   {
    "duration": 741,
    "start_time": "2023-05-04T14:18:41.942Z"
   },
   {
    "duration": 290,
    "start_time": "2023-05-04T14:18:42.685Z"
   },
   {
    "duration": 37,
    "start_time": "2023-05-04T14:18:42.977Z"
   },
   {
    "duration": 24,
    "start_time": "2023-05-04T14:18:43.015Z"
   },
   {
    "duration": 11,
    "start_time": "2023-05-04T14:18:43.041Z"
   },
   {
    "duration": 5,
    "start_time": "2023-05-04T14:18:43.053Z"
   },
   {
    "duration": 0,
    "start_time": "2023-05-04T14:18:43.060Z"
   },
   {
    "duration": 0,
    "start_time": "2023-05-04T14:18:43.061Z"
   },
   {
    "duration": 0,
    "start_time": "2023-05-04T14:18:43.062Z"
   },
   {
    "duration": 0,
    "start_time": "2023-05-04T14:18:43.063Z"
   },
   {
    "duration": 0,
    "start_time": "2023-05-04T14:18:43.065Z"
   },
   {
    "duration": 2804,
    "start_time": "2023-05-04T14:19:27.890Z"
   },
   {
    "duration": 1151,
    "start_time": "2023-05-04T14:19:32.170Z"
   },
   {
    "duration": 12,
    "start_time": "2023-05-04T14:19:33.893Z"
   },
   {
    "duration": 6,
    "start_time": "2023-05-04T14:19:34.594Z"
   },
   {
    "duration": 5,
    "start_time": "2023-05-04T14:19:35.062Z"
   },
   {
    "duration": 4,
    "start_time": "2023-05-04T14:20:49.128Z"
   },
   {
    "duration": 100,
    "start_time": "2023-05-04T14:21:00.033Z"
   },
   {
    "duration": 10,
    "start_time": "2023-05-04T14:21:18.615Z"
   },
   {
    "duration": 4,
    "start_time": "2023-05-04T14:21:27.124Z"
   },
   {
    "duration": 3,
    "start_time": "2023-05-04T14:22:07.260Z"
   },
   {
    "duration": 4,
    "start_time": "2023-05-04T14:22:09.792Z"
   },
   {
    "duration": 4,
    "start_time": "2023-05-04T14:22:26.791Z"
   },
   {
    "duration": 3,
    "start_time": "2023-05-04T14:23:18.593Z"
   },
   {
    "duration": 16,
    "start_time": "2023-05-04T14:30:20.283Z"
   },
   {
    "duration": 1403,
    "start_time": "2023-05-04T14:30:26.082Z"
   },
   {
    "duration": 56,
    "start_time": "2023-05-04T14:30:27.487Z"
   },
   {
    "duration": 12,
    "start_time": "2023-05-04T14:30:27.544Z"
   },
   {
    "duration": 738,
    "start_time": "2023-05-04T14:30:27.558Z"
   },
   {
    "duration": 302,
    "start_time": "2023-05-04T14:30:28.297Z"
   },
   {
    "duration": 30,
    "start_time": "2023-05-04T14:30:28.600Z"
   },
   {
    "duration": 23,
    "start_time": "2023-05-04T14:30:28.632Z"
   },
   {
    "duration": 137,
    "start_time": "2023-05-04T14:30:28.657Z"
   },
   {
    "duration": 1,
    "start_time": "2023-05-04T14:30:28.795Z"
   },
   {
    "duration": 1,
    "start_time": "2023-05-04T14:30:28.796Z"
   },
   {
    "duration": 0,
    "start_time": "2023-05-04T14:30:28.797Z"
   },
   {
    "duration": 0,
    "start_time": "2023-05-04T14:30:28.798Z"
   },
   {
    "duration": 0,
    "start_time": "2023-05-04T14:30:28.799Z"
   },
   {
    "duration": 11,
    "start_time": "2023-05-04T14:31:00.175Z"
   },
   {
    "duration": 11,
    "start_time": "2023-05-04T14:31:23.972Z"
   },
   {
    "duration": 1349,
    "start_time": "2023-05-04T14:31:30.134Z"
   },
   {
    "duration": 57,
    "start_time": "2023-05-04T14:31:31.485Z"
   },
   {
    "duration": 13,
    "start_time": "2023-05-04T14:31:31.544Z"
   },
   {
    "duration": 760,
    "start_time": "2023-05-04T14:31:31.560Z"
   },
   {
    "duration": 304,
    "start_time": "2023-05-04T14:31:32.322Z"
   },
   {
    "duration": 35,
    "start_time": "2023-05-04T14:31:32.628Z"
   },
   {
    "duration": 31,
    "start_time": "2023-05-04T14:31:32.664Z"
   },
   {
    "duration": 11,
    "start_time": "2023-05-04T14:31:32.697Z"
   },
   {
    "duration": 7,
    "start_time": "2023-05-04T14:31:32.709Z"
   },
   {
    "duration": 0,
    "start_time": "2023-05-04T14:31:32.718Z"
   },
   {
    "duration": 0,
    "start_time": "2023-05-04T14:31:32.719Z"
   },
   {
    "duration": 0,
    "start_time": "2023-05-04T14:31:32.721Z"
   },
   {
    "duration": 0,
    "start_time": "2023-05-04T14:31:32.722Z"
   },
   {
    "duration": 10,
    "start_time": "2023-05-04T14:31:53.180Z"
   },
   {
    "duration": 1651,
    "start_time": "2023-05-04T14:31:59.346Z"
   },
   {
    "duration": 1288,
    "start_time": "2023-05-04T14:32:00.999Z"
   },
   {
    "duration": 11,
    "start_time": "2023-05-04T14:32:06.538Z"
   },
   {
    "duration": 7,
    "start_time": "2023-05-04T14:32:07.155Z"
   },
   {
    "duration": 4,
    "start_time": "2023-05-04T14:33:08.811Z"
   },
   {
    "duration": 5,
    "start_time": "2023-05-04T14:33:09.831Z"
   },
   {
    "duration": 92264,
    "start_time": "2023-05-04T14:33:16.940Z"
   },
   {
    "duration": 1710,
    "start_time": "2023-05-04T14:34:49.205Z"
   },
   {
    "duration": 1101,
    "start_time": "2023-05-04T14:34:50.916Z"
   },
   {
    "duration": 10,
    "start_time": "2023-05-04T14:34:52.019Z"
   },
   {
    "duration": 19,
    "start_time": "2023-05-04T14:34:52.030Z"
   },
   {
    "duration": 132794,
    "start_time": "2023-05-04T14:37:24.504Z"
   },
   {
    "duration": 4,
    "start_time": "2023-05-04T14:39:37.300Z"
   },
   {
    "duration": 116,
    "start_time": "2023-05-04T14:39:44.196Z"
   },
   {
    "duration": 11,
    "start_time": "2023-05-04T14:40:03.276Z"
   },
   {
    "duration": 14,
    "start_time": "2023-05-04T14:40:12.292Z"
   },
   {
    "duration": 6,
    "start_time": "2023-05-04T14:40:45.619Z"
   },
   {
    "duration": 5,
    "start_time": "2023-05-04T14:40:48.855Z"
   },
   {
    "duration": 17,
    "start_time": "2023-05-04T14:40:53.171Z"
   },
   {
    "duration": 954,
    "start_time": "2023-05-04T14:41:18.796Z"
   },
   {
    "duration": 669,
    "start_time": "2023-05-04T14:42:06.391Z"
   },
   {
    "duration": 14,
    "start_time": "2023-05-04T14:42:21.510Z"
   },
   {
    "duration": 13,
    "start_time": "2023-05-04T14:42:54.668Z"
   },
   {
    "duration": 49,
    "start_time": "2023-05-04T14:43:27.570Z"
   },
   {
    "duration": 1585,
    "start_time": "2023-05-04T14:43:50.921Z"
   },
   {
    "duration": 1142,
    "start_time": "2023-05-04T14:44:01.295Z"
   },
   {
    "duration": 12,
    "start_time": "2023-05-04T14:44:04.543Z"
   },
   {
    "duration": 6,
    "start_time": "2023-05-04T14:44:05.547Z"
   },
   {
    "duration": 20,
    "start_time": "2023-05-05T12:02:03.222Z"
   },
   {
    "duration": 1622,
    "start_time": "2023-05-06T08:47:35.969Z"
   },
   {
    "duration": 140,
    "start_time": "2023-05-06T08:47:48.856Z"
   },
   {
    "duration": 12,
    "start_time": "2023-05-06T08:47:50.309Z"
   },
   {
    "duration": 824,
    "start_time": "2023-05-06T08:48:01.607Z"
   },
   {
    "duration": 298,
    "start_time": "2023-05-06T08:48:03.264Z"
   },
   {
    "duration": 128,
    "start_time": "2023-05-06T08:49:29.630Z"
   },
   {
    "duration": 11,
    "start_time": "2023-05-06T08:49:35.766Z"
   },
   {
    "duration": 3,
    "start_time": "2023-05-06T08:51:07.379Z"
   },
   {
    "duration": 54,
    "start_time": "2023-05-06T08:51:09.274Z"
   },
   {
    "duration": 17,
    "start_time": "2023-05-06T08:51:10.227Z"
   },
   {
    "duration": 699,
    "start_time": "2023-05-06T08:51:11.182Z"
   },
   {
    "duration": 237,
    "start_time": "2023-05-06T08:51:13.610Z"
   },
   {
    "duration": 35,
    "start_time": "2023-05-06T08:51:22.717Z"
   },
   {
    "duration": 17,
    "start_time": "2023-05-06T08:52:35.938Z"
   },
   {
    "duration": 8,
    "start_time": "2023-05-06T08:53:03.014Z"
   },
   {
    "duration": 9,
    "start_time": "2023-05-06T08:55:40.810Z"
   },
   {
    "duration": 9,
    "start_time": "2023-05-06T08:55:47.560Z"
   },
   {
    "duration": 21,
    "start_time": "2023-05-06T08:56:03.681Z"
   },
   {
    "duration": 8,
    "start_time": "2023-05-06T08:56:04.015Z"
   },
   {
    "duration": 226,
    "start_time": "2023-05-06T09:13:08.445Z"
   },
   {
    "duration": 14,
    "start_time": "2023-05-06T09:13:23.439Z"
   },
   {
    "duration": 6,
    "start_time": "2023-05-06T09:48:54.947Z"
   },
   {
    "duration": 1401,
    "start_time": "2023-05-06T09:52:47.331Z"
   },
   {
    "duration": 61,
    "start_time": "2023-05-06T09:52:48.734Z"
   },
   {
    "duration": 11,
    "start_time": "2023-05-06T09:52:48.796Z"
   },
   {
    "duration": 758,
    "start_time": "2023-05-06T09:52:48.809Z"
   },
   {
    "duration": 295,
    "start_time": "2023-05-06T09:52:49.569Z"
   },
   {
    "duration": 29,
    "start_time": "2023-05-06T09:52:49.866Z"
   },
   {
    "duration": 23,
    "start_time": "2023-05-06T09:52:49.896Z"
   },
   {
    "duration": 16,
    "start_time": "2023-05-06T09:52:49.938Z"
   },
   {
    "duration": 44,
    "start_time": "2023-05-06T12:12:34.432Z"
   },
   {
    "duration": 91,
    "start_time": "2023-05-06T12:12:34.500Z"
   },
   {
    "duration": 0,
    "start_time": "2023-05-06T12:12:34.712Z"
   },
   {
    "duration": 0,
    "start_time": "2023-05-06T12:12:34.714Z"
   },
   {
    "duration": 0,
    "start_time": "2023-05-06T12:12:34.715Z"
   },
   {
    "duration": 0,
    "start_time": "2023-05-06T12:12:34.716Z"
   },
   {
    "duration": 0,
    "start_time": "2023-05-06T12:12:34.718Z"
   },
   {
    "duration": 0,
    "start_time": "2023-05-06T12:12:34.719Z"
   },
   {
    "duration": 0,
    "start_time": "2023-05-06T12:12:34.721Z"
   },
   {
    "duration": 6,
    "start_time": "2023-05-06T12:25:36.373Z"
   },
   {
    "duration": 14,
    "start_time": "2023-05-06T12:25:50.963Z"
   },
   {
    "duration": 1865,
    "start_time": "2023-05-06T12:26:24.262Z"
   },
   {
    "duration": 84,
    "start_time": "2023-05-06T12:26:26.129Z"
   },
   {
    "duration": 12,
    "start_time": "2023-05-06T12:26:26.214Z"
   },
   {
    "duration": 946,
    "start_time": "2023-05-06T12:26:26.227Z"
   },
   {
    "duration": 411,
    "start_time": "2023-05-06T12:26:27.175Z"
   },
   {
    "duration": 34,
    "start_time": "2023-05-06T12:26:27.588Z"
   },
   {
    "duration": 56,
    "start_time": "2023-05-06T12:26:27.624Z"
   },
   {
    "duration": 17,
    "start_time": "2023-05-06T12:26:27.684Z"
   },
   {
    "duration": 0,
    "start_time": "2023-05-06T16:36:22.459Z"
   },
   {
    "duration": 0,
    "start_time": "2023-05-06T16:36:22.460Z"
   },
   {
    "duration": 0,
    "start_time": "2023-05-06T16:36:22.465Z"
   },
   {
    "duration": 0,
    "start_time": "2023-05-06T16:36:22.466Z"
   },
   {
    "duration": 0,
    "start_time": "2023-05-06T16:36:22.467Z"
   },
   {
    "duration": 0,
    "start_time": "2023-05-06T16:36:22.468Z"
   },
   {
    "duration": 0,
    "start_time": "2023-05-06T16:36:22.469Z"
   },
   {
    "duration": 0,
    "start_time": "2023-05-06T16:36:22.470Z"
   },
   {
    "duration": 0,
    "start_time": "2023-05-06T16:36:22.472Z"
   },
   {
    "duration": 0,
    "start_time": "2023-05-06T16:36:22.473Z"
   },
   {
    "duration": 0,
    "start_time": "2023-05-06T16:36:22.474Z"
   },
   {
    "duration": 0,
    "start_time": "2023-05-06T16:36:22.476Z"
   },
   {
    "duration": 1443,
    "start_time": "2023-05-06T16:39:05.348Z"
   },
   {
    "duration": 76,
    "start_time": "2023-05-06T16:39:06.793Z"
   },
   {
    "duration": 12,
    "start_time": "2023-05-06T16:39:06.870Z"
   },
   {
    "duration": 839,
    "start_time": "2023-05-06T16:39:06.884Z"
   },
   {
    "duration": 321,
    "start_time": "2023-05-06T16:39:07.724Z"
   },
   {
    "duration": 35,
    "start_time": "2023-05-06T16:39:08.047Z"
   },
   {
    "duration": 26,
    "start_time": "2023-05-06T16:39:08.084Z"
   },
   {
    "duration": 12,
    "start_time": "2023-05-06T16:39:08.111Z"
   },
   {
    "duration": 6592104,
    "start_time": "2023-05-06T16:39:08.136Z"
   },
   {
    "duration": 183638,
    "start_time": "2023-05-06T18:29:00.246Z"
   },
   {
    "duration": 1598,
    "start_time": "2023-05-06T18:32:03.886Z"
   },
   {
    "duration": 11,
    "start_time": "2023-05-06T18:32:05.485Z"
   },
   {
    "duration": 24,
    "start_time": "2023-05-06T18:32:05.497Z"
   },
   {
    "duration": 6,
    "start_time": "2023-05-09T14:13:28.596Z"
   },
   {
    "duration": 6,
    "start_time": "2023-05-09T14:13:39.606Z"
   },
   {
    "duration": 80,
    "start_time": "2023-05-09T15:57:06.342Z"
   },
   {
    "duration": 1929,
    "start_time": "2023-05-09T15:57:12.556Z"
   },
   {
    "duration": 321,
    "start_time": "2023-05-09T15:57:14.488Z"
   },
   {
    "duration": 14,
    "start_time": "2023-05-09T15:57:14.810Z"
   },
   {
    "duration": 1207,
    "start_time": "2023-05-09T15:57:16.426Z"
   },
   {
    "duration": 507,
    "start_time": "2023-05-09T15:57:17.798Z"
   },
   {
    "duration": 78,
    "start_time": "2023-05-09T15:57:22.055Z"
   },
   {
    "duration": 61,
    "start_time": "2023-05-09T15:57:30.410Z"
   },
   {
    "duration": 22,
    "start_time": "2023-05-09T15:57:35.658Z"
   },
   {
    "duration": 569266,
    "start_time": "2023-05-09T15:57:52.423Z"
   },
   {
    "duration": 1581,
    "start_time": "2023-05-09T16:07:21.691Z"
   },
   {
    "duration": 7,
    "start_time": "2023-05-09T16:07:23.273Z"
   },
   {
    "duration": 11,
    "start_time": "2023-05-09T16:10:20.829Z"
   },
   {
    "duration": 12,
    "start_time": "2023-05-09T16:10:30.842Z"
   },
   {
    "duration": 10,
    "start_time": "2023-05-09T16:10:55.090Z"
   },
   {
    "duration": 11,
    "start_time": "2023-05-09T16:11:10.542Z"
   },
   {
    "duration": 12,
    "start_time": "2023-05-09T16:11:21.686Z"
   },
   {
    "duration": 14,
    "start_time": "2023-05-09T16:20:24.095Z"
   },
   {
    "duration": 3,
    "start_time": "2023-05-09T16:20:24.111Z"
   },
   {
    "duration": 547782,
    "start_time": "2023-05-09T16:20:24.116Z"
   },
   {
    "duration": 1622,
    "start_time": "2023-05-09T16:29:31.899Z"
   },
   {
    "duration": 6,
    "start_time": "2023-05-09T16:29:33.522Z"
   },
   {
    "duration": 2129,
    "start_time": "2023-05-09T16:40:06.874Z"
   },
   {
    "duration": 7,
    "start_time": "2023-05-09T16:40:14.443Z"
   },
   {
    "duration": 11,
    "start_time": "2023-05-09T16:40:28.977Z"
   },
   {
    "duration": 2089,
    "start_time": "2023-05-09T16:40:33.153Z"
   },
   {
    "duration": 1002,
    "start_time": "2023-05-09T16:40:53.987Z"
   },
   {
    "duration": 7,
    "start_time": "2023-05-09T16:40:59.825Z"
   },
   {
    "duration": 3363,
    "start_time": "2023-05-09T16:41:07.310Z"
   },
   {
    "duration": 7,
    "start_time": "2023-05-09T16:41:15.051Z"
   },
   {
    "duration": 4926,
    "start_time": "2023-05-09T16:41:21.325Z"
   },
   {
    "duration": 9,
    "start_time": "2023-05-09T16:41:28.156Z"
   },
   {
    "duration": 29393,
    "start_time": "2023-05-09T16:41:41.659Z"
   },
   {
    "duration": 10,
    "start_time": "2023-05-09T16:42:16.532Z"
   },
   {
    "duration": 11,
    "start_time": "2023-05-09T16:42:38.515Z"
   },
   {
    "duration": 11,
    "start_time": "2023-05-09T16:42:45.852Z"
   },
   {
    "duration": 32662,
    "start_time": "2023-05-09T16:42:52.603Z"
   },
   {
    "duration": 30317,
    "start_time": "2023-05-09T16:43:31.284Z"
   },
   {
    "duration": 10,
    "start_time": "2023-05-09T16:44:04.748Z"
   },
   {
    "duration": 19,
    "start_time": "2023-05-09T16:45:15.233Z"
   },
   {
    "duration": 301073,
    "start_time": "2023-05-09T16:45:41.023Z"
   },
   {
    "duration": 19,
    "start_time": "2023-05-09T16:50:42.098Z"
   },
   {
    "duration": 15,
    "start_time": "2023-05-09T16:50:51.173Z"
   },
   {
    "duration": 9,
    "start_time": "2023-05-09T16:51:19.782Z"
   },
   {
    "duration": 64490,
    "start_time": "2023-05-09T16:52:18.263Z"
   },
   {
    "duration": 23136,
    "start_time": "2023-05-09T16:53:32.722Z"
   },
   {
    "duration": 29824,
    "start_time": "2023-05-09T16:54:09.946Z"
   },
   {
    "duration": 11,
    "start_time": "2023-05-09T16:54:40.426Z"
   },
   {
    "duration": 11,
    "start_time": "2023-05-09T16:55:03.125Z"
   },
   {
    "duration": 9,
    "start_time": "2023-05-09T16:55:14.410Z"
   },
   {
    "duration": 11,
    "start_time": "2023-05-09T16:55:18.300Z"
   },
   {
    "duration": 12573,
    "start_time": "2023-05-09T16:55:33.835Z"
   },
   {
    "duration": 9,
    "start_time": "2023-05-09T16:55:50.564Z"
   },
   {
    "duration": 3358,
    "start_time": "2023-05-09T16:56:04.436Z"
   },
   {
    "duration": 9902,
    "start_time": "2023-05-09T16:56:13.195Z"
   },
   {
    "duration": 16966,
    "start_time": "2023-05-09T16:56:31.902Z"
   },
   {
    "duration": 8,
    "start_time": "2023-05-09T16:56:52.932Z"
   },
   {
    "duration": 10,
    "start_time": "2023-05-09T16:57:21.711Z"
   },
   {
    "duration": 10,
    "start_time": "2023-05-09T16:57:27.129Z"
   },
   {
    "duration": 10,
    "start_time": "2023-05-09T16:57:40.951Z"
   },
   {
    "duration": 13,
    "start_time": "2023-05-09T16:58:06.420Z"
   },
   {
    "duration": 10,
    "start_time": "2023-05-09T16:58:15.468Z"
   },
   {
    "duration": 16837,
    "start_time": "2023-05-09T16:58:22.585Z"
   },
   {
    "duration": 16,
    "start_time": "2023-05-09T16:58:42.928Z"
   },
   {
    "duration": 10,
    "start_time": "2023-05-09T16:59:28.034Z"
   },
   {
    "duration": 11,
    "start_time": "2023-05-09T16:59:35.266Z"
   },
   {
    "duration": 11,
    "start_time": "2023-05-09T17:00:18.037Z"
   },
   {
    "duration": 7123,
    "start_time": "2023-05-09T17:00:26.981Z"
   },
   {
    "duration": 8,
    "start_time": "2023-05-09T17:00:38.185Z"
   },
   {
    "duration": 159503,
    "start_time": "2023-05-09T17:00:44.384Z"
   },
   {
    "duration": 1519,
    "start_time": "2023-08-29T14:52:21.273Z"
   },
   {
    "duration": 131,
    "start_time": "2023-08-29T14:52:22.794Z"
   },
   {
    "duration": 13,
    "start_time": "2023-08-29T14:52:22.926Z"
   },
   {
    "duration": 838,
    "start_time": "2023-08-29T14:52:22.941Z"
   },
   {
    "duration": 366,
    "start_time": "2023-08-29T14:52:23.781Z"
   },
   {
    "duration": 51,
    "start_time": "2023-08-29T14:52:24.148Z"
   },
   {
    "duration": 55,
    "start_time": "2023-08-29T14:52:24.201Z"
   },
   {
    "duration": 12,
    "start_time": "2023-08-29T14:52:24.258Z"
   },
   {
    "duration": 27,
    "start_time": "2023-08-29T14:52:24.271Z"
   },
   {
    "duration": 12058,
    "start_time": "2023-08-29T14:52:24.300Z"
   },
   {
    "duration": 7115,
    "start_time": "2023-08-29T14:52:36.360Z"
   },
   {
    "duration": 8,
    "start_time": "2023-08-29T14:52:43.477Z"
   },
   {
    "duration": 152,
    "start_time": "2023-08-29T14:53:24.617Z"
   },
   {
    "duration": 27,
    "start_time": "2023-08-29T14:53:43.856Z"
   },
   {
    "duration": 1489,
    "start_time": "2023-08-29T14:54:09.462Z"
   },
   {
    "duration": 67,
    "start_time": "2023-08-29T14:54:10.953Z"
   },
   {
    "duration": 13,
    "start_time": "2023-08-29T14:54:11.022Z"
   },
   {
    "duration": 903,
    "start_time": "2023-08-29T14:54:11.037Z"
   },
   {
    "duration": 358,
    "start_time": "2023-08-29T14:54:11.942Z"
   },
   {
    "duration": 53,
    "start_time": "2023-08-29T14:54:12.302Z"
   },
   {
    "duration": 35,
    "start_time": "2023-08-29T14:54:12.357Z"
   },
   {
    "duration": 14,
    "start_time": "2023-08-29T14:54:12.393Z"
   },
   {
    "duration": 18,
    "start_time": "2023-08-29T14:54:12.409Z"
   },
   {
    "duration": 1725,
    "start_time": "2023-08-29T14:54:12.430Z"
   },
   {
    "duration": 6896,
    "start_time": "2023-08-29T14:54:14.157Z"
   },
   {
    "duration": 8,
    "start_time": "2023-08-29T14:54:21.055Z"
   },
   {
    "duration": 146,
    "start_time": "2023-08-29T14:54:38.610Z"
   },
   {
    "duration": 29,
    "start_time": "2023-08-29T14:54:53.082Z"
   },
   {
    "duration": 28,
    "start_time": "2023-08-29T15:05:20.805Z"
   },
   {
    "duration": 1686,
    "start_time": "2023-08-29T15:05:29.618Z"
   },
   {
    "duration": 68,
    "start_time": "2023-08-29T15:05:31.306Z"
   },
   {
    "duration": 35,
    "start_time": "2023-08-29T15:05:31.376Z"
   },
   {
    "duration": 905,
    "start_time": "2023-08-29T15:05:31.413Z"
   },
   {
    "duration": 374,
    "start_time": "2023-08-29T15:05:32.320Z"
   },
   {
    "duration": 61,
    "start_time": "2023-08-29T15:05:32.697Z"
   },
   {
    "duration": 37,
    "start_time": "2023-08-29T15:05:32.760Z"
   },
   {
    "duration": 14,
    "start_time": "2023-08-29T15:05:32.799Z"
   },
   {
    "duration": 21,
    "start_time": "2023-08-29T15:05:32.815Z"
   },
   {
    "duration": 3416,
    "start_time": "2023-08-29T15:05:32.838Z"
   },
   {
    "duration": 6979,
    "start_time": "2023-08-29T15:05:36.255Z"
   },
   {
    "duration": 8,
    "start_time": "2023-08-29T15:05:43.235Z"
   },
   {
    "duration": 162,
    "start_time": "2023-08-29T15:05:44.062Z"
   },
   {
    "duration": 28,
    "start_time": "2023-08-29T15:05:49.226Z"
   },
   {
    "duration": 1458,
    "start_time": "2023-08-29T15:06:02.663Z"
   },
   {
    "duration": 65,
    "start_time": "2023-08-29T15:06:04.123Z"
   },
   {
    "duration": 95,
    "start_time": "2023-08-29T15:06:04.189Z"
   },
   {
    "duration": 848,
    "start_time": "2023-08-29T15:06:04.286Z"
   },
   {
    "duration": 388,
    "start_time": "2023-08-29T15:06:05.137Z"
   },
   {
    "duration": 52,
    "start_time": "2023-08-29T15:06:05.528Z"
   },
   {
    "duration": 37,
    "start_time": "2023-08-29T15:06:05.582Z"
   },
   {
    "duration": 12,
    "start_time": "2023-08-29T15:06:05.621Z"
   },
   {
    "duration": 12,
    "start_time": "2023-08-29T15:06:05.635Z"
   },
   {
    "duration": 2300,
    "start_time": "2023-08-29T15:06:05.649Z"
   },
   {
    "duration": 6955,
    "start_time": "2023-08-29T15:06:07.951Z"
   },
   {
    "duration": 7,
    "start_time": "2023-08-29T15:06:14.908Z"
   },
   {
    "duration": 140,
    "start_time": "2023-08-29T15:06:26.251Z"
   },
   {
    "duration": 1578,
    "start_time": "2023-08-29T15:06:29.637Z"
   },
   {
    "duration": 65,
    "start_time": "2023-08-29T15:06:31.217Z"
   },
   {
    "duration": 13,
    "start_time": "2023-08-29T15:06:31.286Z"
   },
   {
    "duration": 844,
    "start_time": "2023-08-29T15:06:31.301Z"
   },
   {
    "duration": 355,
    "start_time": "2023-08-29T15:06:32.147Z"
   },
   {
    "duration": 65,
    "start_time": "2023-08-29T15:06:32.503Z"
   },
   {
    "duration": 34,
    "start_time": "2023-08-29T15:06:32.570Z"
   },
   {
    "duration": 11,
    "start_time": "2023-08-29T15:06:32.606Z"
   },
   {
    "duration": 4,
    "start_time": "2023-08-29T15:06:32.619Z"
   },
   {
    "duration": 1609,
    "start_time": "2023-08-29T15:06:32.647Z"
   },
   {
    "duration": 7421,
    "start_time": "2023-08-29T15:06:34.258Z"
   },
   {
    "duration": 7,
    "start_time": "2023-08-29T15:06:41.681Z"
   },
   {
    "duration": 1413,
    "start_time": "2023-08-29T15:06:49.499Z"
   },
   {
    "duration": 1502,
    "start_time": "2023-08-29T15:07:05.551Z"
   },
   {
    "duration": 1427,
    "start_time": "2023-08-29T15:07:13.788Z"
   },
   {
    "duration": 1510,
    "start_time": "2023-08-29T15:07:18.247Z"
   },
   {
    "duration": 1538,
    "start_time": "2023-08-29T15:07:29.348Z"
   },
   {
    "duration": 68,
    "start_time": "2023-08-29T15:07:30.888Z"
   },
   {
    "duration": 13,
    "start_time": "2023-08-29T15:07:30.958Z"
   },
   {
    "duration": 1313,
    "start_time": "2023-08-29T15:07:30.974Z"
   },
   {
    "duration": 377,
    "start_time": "2023-08-29T15:07:32.290Z"
   },
   {
    "duration": 47,
    "start_time": "2023-08-29T15:07:32.669Z"
   },
   {
    "duration": 197,
    "start_time": "2023-08-29T15:07:32.718Z"
   },
   {
    "duration": 12,
    "start_time": "2023-08-29T15:07:32.916Z"
   },
   {
    "duration": 18,
    "start_time": "2023-08-29T15:07:32.930Z"
   },
   {
    "duration": 2103,
    "start_time": "2023-08-29T15:07:32.952Z"
   },
   {
    "duration": 6932,
    "start_time": "2023-08-29T15:07:35.057Z"
   },
   {
    "duration": 7,
    "start_time": "2023-08-29T15:07:41.990Z"
   }
  ],
  "kernelspec": {
   "display_name": "Python 3 (ipykernel)",
   "language": "python",
   "name": "python3"
  },
  "language_info": {
   "codemirror_mode": {
    "name": "ipython",
    "version": 3
   },
   "file_extension": ".py",
   "mimetype": "text/x-python",
   "name": "python",
   "nbconvert_exporter": "python",
   "pygments_lexer": "ipython3",
   "version": "3.9.5"
  },
  "toc": {
   "base_numbering": 1,
   "nav_menu": {},
   "number_sections": true,
   "sideBar": true,
   "skip_h1_title": true,
   "title_cell": "Содержание",
   "title_sidebar": "Contents",
   "toc_cell": true,
   "toc_position": {
    "height": "calc(100% - 180px)",
    "left": "10px",
    "top": "150px",
    "width": "195px"
   },
   "toc_section_display": true,
   "toc_window_display": true
  }
 },
 "nbformat": 4,
 "nbformat_minor": 2
}
