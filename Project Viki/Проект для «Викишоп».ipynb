{
 "cells": [
  {
   "cell_type": "markdown",
   "metadata": {},
   "source": [
    "# Проект для «Викишоп»"
   ]
  },
  {
   "cell_type": "markdown",
   "metadata": {},
   "source": [
    "Интернет-магазин «Викишоп» запускает новый сервис. Теперь пользователи могут редактировать и дополнять описания товаров, как в вики-сообществах. То есть клиенты предлагают свои правки и комментируют изменения других. Магазину нужен инструмент, который будет искать токсичные комментарии и отправлять их на модерацию. \n",
    "\n",
    "Обучите модель классифицировать комментарии на позитивные и негативные. В вашем распоряжении набор данных с разметкой о токсичности правок.\n",
    "\n",
    "Постройте модель со значением метрики качества *F1* не меньше 0.75. \n",
    "\n",
    "**Инструкция по выполнению проекта**\n",
    "\n",
    "1. Загрузите и подготовьте данные.\n",
    "2. Обучите разные модели. \n",
    "3. Сделайте выводы.\n",
    "\n",
    "Для выполнения проекта применять *BERT* необязательно, но вы можете попробовать.\n",
    "\n",
    "**Описание данных**\n",
    "\n",
    "Данные находятся в файле `toxic_comments.csv`. Столбец *text* в нём содержит текст комментария, а *toxic* — целевой признак."
   ]
  },
  {
   "cell_type": "markdown",
   "metadata": {},
   "source": [
    "## Подготовка"
   ]
  },
  {
   "cell_type": "code",
   "execution_count": 1,
   "metadata": {},
   "outputs": [
    {
     "name": "stderr",
     "output_type": "stream",
     "text": [
      "[nltk_data] Downloading package stopwords to /home/jovyan/nltk_data...\n",
      "[nltk_data]   Package stopwords is already up-to-date!\n"
     ]
    }
   ],
   "source": [
    "# Загружаем библиотеки\n",
    "import pandas as pd\n",
    "import re\n",
    "import nltk\n",
    "nltk.download('stopwords')\n",
    "\n",
    "from nltk.corpus import stopwords as nltk_stopwords\n",
    "from sklearn.feature_extraction.text import TfidfVectorizer\n",
    "from sklearn.linear_model import LogisticRegression\n",
    "from sklearn.ensemble import RandomForestClassifier\n",
    "from sklearn.tree import DecisionTreeClassifier\n",
    "from sklearn.pipeline import Pipeline\n",
    "from sklearn.model_selection import GridSearchCV\n",
    "from sklearn.model_selection import cross_val_score, cross_val_predict\n",
    "from sklearn.metrics import f1_score\n",
    "import numpy as np\n",
    "from sklearn import metrics\n",
    "from pymystem3 import Mystem\n",
    "m = Mystem()\n",
    "from sklearn.model_selection import train_test_split\n",
    "import warnings\n",
    "warnings.filterwarnings('ignore')\n",
    "\n",
    "from nltk.stem import WordNetLemmatizer\n",
    "from nltk.corpus import wordnet"
   ]
  },
  {
   "cell_type": "code",
   "execution_count": 2,
   "metadata": {},
   "outputs": [
    {
     "data": {
      "text/html": [
       "<div>\n",
       "<style scoped>\n",
       "    .dataframe tbody tr th:only-of-type {\n",
       "        vertical-align: middle;\n",
       "    }\n",
       "\n",
       "    .dataframe tbody tr th {\n",
       "        vertical-align: top;\n",
       "    }\n",
       "\n",
       "    .dataframe thead th {\n",
       "        text-align: right;\n",
       "    }\n",
       "</style>\n",
       "<table border=\"1\" class=\"dataframe\">\n",
       "  <thead>\n",
       "    <tr style=\"text-align: right;\">\n",
       "      <th></th>\n",
       "      <th>Unnamed: 0</th>\n",
       "      <th>text</th>\n",
       "      <th>toxic</th>\n",
       "    </tr>\n",
       "  </thead>\n",
       "  <tbody>\n",
       "    <tr>\n",
       "      <th>0</th>\n",
       "      <td>0</td>\n",
       "      <td>Explanation\\nWhy the edits made under my usern...</td>\n",
       "      <td>0</td>\n",
       "    </tr>\n",
       "    <tr>\n",
       "      <th>1</th>\n",
       "      <td>1</td>\n",
       "      <td>D'aww! He matches this background colour I'm s...</td>\n",
       "      <td>0</td>\n",
       "    </tr>\n",
       "    <tr>\n",
       "      <th>2</th>\n",
       "      <td>2</td>\n",
       "      <td>Hey man, I'm really not trying to edit war. It...</td>\n",
       "      <td>0</td>\n",
       "    </tr>\n",
       "    <tr>\n",
       "      <th>3</th>\n",
       "      <td>3</td>\n",
       "      <td>\"\\nMore\\nI can't make any real suggestions on ...</td>\n",
       "      <td>0</td>\n",
       "    </tr>\n",
       "    <tr>\n",
       "      <th>4</th>\n",
       "      <td>4</td>\n",
       "      <td>You, sir, are my hero. Any chance you remember...</td>\n",
       "      <td>0</td>\n",
       "    </tr>\n",
       "  </tbody>\n",
       "</table>\n",
       "</div>"
      ],
      "text/plain": [
       "   Unnamed: 0                                               text  toxic\n",
       "0           0  Explanation\\nWhy the edits made under my usern...      0\n",
       "1           1  D'aww! He matches this background colour I'm s...      0\n",
       "2           2  Hey man, I'm really not trying to edit war. It...      0\n",
       "3           3  \"\\nMore\\nI can't make any real suggestions on ...      0\n",
       "4           4  You, sir, are my hero. Any chance you remember...      0"
      ]
     },
     "execution_count": 2,
     "metadata": {},
     "output_type": "execute_result"
    }
   ],
   "source": [
    "comments = pd.read_csv('/datasets/toxic_comments.csv')\n",
    "comments.head()"
   ]
  },
  {
   "cell_type": "code",
   "execution_count": 3,
   "metadata": {},
   "outputs": [
    {
     "data": {
      "text/html": [
       "<div>\n",
       "<style scoped>\n",
       "    .dataframe tbody tr th:only-of-type {\n",
       "        vertical-align: middle;\n",
       "    }\n",
       "\n",
       "    .dataframe tbody tr th {\n",
       "        vertical-align: top;\n",
       "    }\n",
       "\n",
       "    .dataframe thead th {\n",
       "        text-align: right;\n",
       "    }\n",
       "</style>\n",
       "<table border=\"1\" class=\"dataframe\">\n",
       "  <thead>\n",
       "    <tr style=\"text-align: right;\">\n",
       "      <th></th>\n",
       "      <th>Unnamed: 0</th>\n",
       "      <th>text</th>\n",
       "      <th>toxic</th>\n",
       "    </tr>\n",
       "  </thead>\n",
       "  <tbody>\n",
       "    <tr>\n",
       "      <th>0</th>\n",
       "      <td>0</td>\n",
       "      <td>Explanation\\nWhy the edits made under my usern...</td>\n",
       "      <td>0</td>\n",
       "    </tr>\n",
       "    <tr>\n",
       "      <th>1</th>\n",
       "      <td>1</td>\n",
       "      <td>D'aww! He matches this background colour I'm s...</td>\n",
       "      <td>0</td>\n",
       "    </tr>\n",
       "    <tr>\n",
       "      <th>2</th>\n",
       "      <td>2</td>\n",
       "      <td>Hey man, I'm really not trying to edit war. It...</td>\n",
       "      <td>0</td>\n",
       "    </tr>\n",
       "    <tr>\n",
       "      <th>3</th>\n",
       "      <td>3</td>\n",
       "      <td>\"\\nMore\\nI can't make any real suggestions on ...</td>\n",
       "      <td>0</td>\n",
       "    </tr>\n",
       "    <tr>\n",
       "      <th>4</th>\n",
       "      <td>4</td>\n",
       "      <td>You, sir, are my hero. Any chance you remember...</td>\n",
       "      <td>0</td>\n",
       "    </tr>\n",
       "  </tbody>\n",
       "</table>\n",
       "</div>"
      ],
      "text/plain": [
       "   Unnamed: 0                                               text  toxic\n",
       "0           0  Explanation\\nWhy the edits made under my usern...      0\n",
       "1           1  D'aww! He matches this background colour I'm s...      0\n",
       "2           2  Hey man, I'm really not trying to edit war. It...      0\n",
       "3           3  \"\\nMore\\nI can't make any real suggestions on ...      0\n",
       "4           4  You, sir, are my hero. Any chance you remember...      0"
      ]
     },
     "execution_count": 3,
     "metadata": {},
     "output_type": "execute_result"
    }
   ],
   "source": [
    "# Очистим тексты от символов \n",
    "def clean_data(row):\n",
    "    row = re.sub(r\"(?:\\n|\\r)\", \" \", row)\n",
    "    row = re.sub(r\"[^a-zA-Z ]+\", \"\", row).strip()\n",
    "    row = row.lower()\n",
    "    return row\n",
    "\n",
    "\n",
    "comments.head()"
   ]
  },
  {
   "cell_type": "code",
   "execution_count": 4,
   "metadata": {},
   "outputs": [
    {
     "name": "stdout",
     "output_type": "stream",
     "text": [
      "<class 'pandas.core.frame.DataFrame'>\n",
      "RangeIndex: 159292 entries, 0 to 159291\n",
      "Data columns (total 3 columns):\n",
      " #   Column      Non-Null Count   Dtype \n",
      "---  ------      --------------   ----- \n",
      " 0   Unnamed: 0  159292 non-null  int64 \n",
      " 1   text        159292 non-null  object\n",
      " 2   toxic       159292 non-null  int64 \n",
      "dtypes: int64(2), object(1)\n",
      "memory usage: 3.6+ MB\n"
     ]
    }
   ],
   "source": [
    "comments.info()"
   ]
  },
  {
   "cell_type": "code",
   "execution_count": 5,
   "metadata": {},
   "outputs": [
    {
     "name": "stdout",
     "output_type": "stream",
     "text": [
      "Explanation\n",
      "Why the edits made under my username Hardcore Metallica Fan were reverted? They weren't vandalisms, just closure on some GAs after I voted at New York Dolls FAC. And please don't remove the template from the talk page since I'm retired now.89.205.38.27\n"
     ]
    }
   ],
   "source": [
    "# Объявим корпус текстов, переведем его в тип юникод:\n",
    "corpus = comments['text'].values #.astype('U')\n",
    "print(corpus[0])"
   ]
  },
  {
   "cell_type": "code",
   "execution_count": 6,
   "metadata": {},
   "outputs": [
    {
     "name": "stderr",
     "output_type": "stream",
     "text": [
      "[nltk_data] Downloading package wordnet to /home/jovyan/nltk_data...\n",
      "[nltk_data]   Package wordnet is already up-to-date!\n"
     ]
    }
   ],
   "source": [
    "# Подключаем библиотеки лематизации анг текста\n",
    "import nltk\n",
    "nltk.download('wordnet')\n",
    "import nltk\n",
    "from nltk.stem import WordNetLemmatizer \n",
    "lemmatizer = WordNetLemmatizer()\n",
    "\n",
    "\n",
    "from tqdm import notebook\n",
    "from tqdm import tqdm\n",
    "import pymorphy2\n",
    "from nltk.corpus import stopwords as nltk_stopwords"
   ]
  },
  {
   "cell_type": "code",
   "execution_count": 7,
   "metadata": {},
   "outputs": [],
   "source": [
    "def get_wordnet_pos(word):\n",
    "    tag = nltk.pos_tag([word])[0][1][0].upper()\n",
    "    tag_dict = {\"J\": wordnet.ADJ,               \n",
    "                \"N\": wordnet.NOUN,              \n",
    "                \"V\": wordnet.VERB,              \n",
    "                \"R\": wordnet.ADV                \n",
    "               }  \n",
    "    return tag_dict.get(tag, wordnet.NOUN)\n",
    "\n",
    "lemmatizer = WordNetLemmatizer()\n",
    "\n",
    "def lemm_text(text):\n",
    "    text = [lemmatizer.lemmatize(w, get_wordnet_pos(w)) for w in nltk.word_tokenize(text)]\n",
    "    return ' '.join(text)"
   ]
  },
  {
   "cell_type": "code",
   "execution_count": 8,
   "metadata": {},
   "outputs": [],
   "source": [
    "# Чистим текст и лематизируем\n",
    "wnl = WordNetLemmatizer()\n",
    "\n",
    "def clear_text(text):\n",
    "    pattern = re.sub(r'[^a-zA-Z]', ' ', text)\n",
    "    clear = pattern.split()\n",
    "    lemm = []\n",
    "    for i in range(len(clear)):\n",
    "        lemm.append(wnl.lemmatize(clear[i]))\n",
    "    return \" \".join(lemm)"
   ]
  },
  {
   "cell_type": "code",
   "execution_count": 9,
   "metadata": {},
   "outputs": [
    {
     "name": "stderr",
     "output_type": "stream",
     "text": [
      "[nltk_data] Downloading package averaged_perceptron_tagger to\n",
      "[nltk_data]     /home/jovyan/nltk_data...\n",
      "[nltk_data]   Package averaged_perceptron_tagger is already up-to-\n",
      "[nltk_data]       date!\n"
     ]
    },
    {
     "data": {
      "text/plain": [
       "True"
      ]
     },
     "execution_count": 9,
     "metadata": {},
     "output_type": "execute_result"
    }
   ],
   "source": [
    "import nltk\n",
    "nltk.download('averaged_perceptron_tagger')"
   ]
  },
  {
   "cell_type": "code",
   "execution_count": 10,
   "metadata": {
    "scrolled": true
   },
   "outputs": [
    {
     "name": "stderr",
     "output_type": "stream",
     "text": [
      "100%|██████████| 159292/159292 [24:47<00:00, 107.10it/s]\n"
     ]
    }
   ],
   "source": [
    "for i in tqdm(range(len(corpus))):\n",
    "    corpus[i] = lemm_text(corpus[i])"
   ]
  },
  {
   "cell_type": "code",
   "execution_count": 11,
   "metadata": {
    "scrolled": true
   },
   "outputs": [
    {
     "data": {
      "text/html": [
       "<div>\n",
       "<style scoped>\n",
       "    .dataframe tbody tr th:only-of-type {\n",
       "        vertical-align: middle;\n",
       "    }\n",
       "\n",
       "    .dataframe tbody tr th {\n",
       "        vertical-align: top;\n",
       "    }\n",
       "\n",
       "    .dataframe thead th {\n",
       "        text-align: right;\n",
       "    }\n",
       "</style>\n",
       "<table border=\"1\" class=\"dataframe\">\n",
       "  <thead>\n",
       "    <tr style=\"text-align: right;\">\n",
       "      <th></th>\n",
       "      <th>Unnamed: 0</th>\n",
       "      <th>text</th>\n",
       "      <th>toxic</th>\n",
       "    </tr>\n",
       "  </thead>\n",
       "  <tbody>\n",
       "    <tr>\n",
       "      <th>0</th>\n",
       "      <td>0</td>\n",
       "      <td>Explanation Why the edits make under my userna...</td>\n",
       "      <td>0</td>\n",
       "    </tr>\n",
       "    <tr>\n",
       "      <th>1</th>\n",
       "      <td>1</td>\n",
       "      <td>D'aww ! He match this background colour I 'm s...</td>\n",
       "      <td>0</td>\n",
       "    </tr>\n",
       "    <tr>\n",
       "      <th>2</th>\n",
       "      <td>2</td>\n",
       "      <td>Hey man , I 'm really not try to edit war . It...</td>\n",
       "      <td>0</td>\n",
       "    </tr>\n",
       "    <tr>\n",
       "      <th>3</th>\n",
       "      <td>3</td>\n",
       "      <td>`` More I ca n't make any real suggestion on i...</td>\n",
       "      <td>0</td>\n",
       "    </tr>\n",
       "    <tr>\n",
       "      <th>4</th>\n",
       "      <td>4</td>\n",
       "      <td>You , sir , be my hero . Any chance you rememb...</td>\n",
       "      <td>0</td>\n",
       "    </tr>\n",
       "    <tr>\n",
       "      <th>5</th>\n",
       "      <td>5</td>\n",
       "      <td>`` Congratulations from me a well , use the to...</td>\n",
       "      <td>0</td>\n",
       "    </tr>\n",
       "    <tr>\n",
       "      <th>6</th>\n",
       "      <td>6</td>\n",
       "      <td>COCKSUCKER BEFORE YOU PISS AROUND ON MY WORK</td>\n",
       "      <td>1</td>\n",
       "    </tr>\n",
       "    <tr>\n",
       "      <th>7</th>\n",
       "      <td>7</td>\n",
       "      <td>Your vandalism to the Matt Shirvington article...</td>\n",
       "      <td>0</td>\n",
       "    </tr>\n",
       "    <tr>\n",
       "      <th>8</th>\n",
       "      <td>8</td>\n",
       "      <td>Sorry if the word 'nonsense ' be offensive to ...</td>\n",
       "      <td>0</td>\n",
       "    </tr>\n",
       "    <tr>\n",
       "      <th>9</th>\n",
       "      <td>9</td>\n",
       "      <td>alignment on this subject and which be contrar...</td>\n",
       "      <td>0</td>\n",
       "    </tr>\n",
       "  </tbody>\n",
       "</table>\n",
       "</div>"
      ],
      "text/plain": [
       "   Unnamed: 0                                               text  toxic\n",
       "0           0  Explanation Why the edits make under my userna...      0\n",
       "1           1  D'aww ! He match this background colour I 'm s...      0\n",
       "2           2  Hey man , I 'm really not try to edit war . It...      0\n",
       "3           3  `` More I ca n't make any real suggestion on i...      0\n",
       "4           4  You , sir , be my hero . Any chance you rememb...      0\n",
       "5           5  `` Congratulations from me a well , use the to...      0\n",
       "6           6       COCKSUCKER BEFORE YOU PISS AROUND ON MY WORK      1\n",
       "7           7  Your vandalism to the Matt Shirvington article...      0\n",
       "8           8  Sorry if the word 'nonsense ' be offensive to ...      0\n",
       "9           9  alignment on this subject and which be contrar...      0"
      ]
     },
     "metadata": {},
     "output_type": "display_data"
    }
   ],
   "source": [
    "# Склеиваем лематизированный текст и наш датафрейм\n",
    "df_corpus = pd.DataFrame(corpus)\n",
    "comments['text'] = df_corpus\n",
    "display(comments.head(10))\n"
   ]
  },
  {
   "cell_type": "code",
   "execution_count": 12,
   "metadata": {},
   "outputs": [
    {
     "name": "stdout",
     "output_type": "stream",
     "text": [
      "(107521, 3) (35841, 3) (15930, 3)\n"
     ]
    }
   ],
   "source": [
    "\n",
    "# Разделим датасет\n",
    "df_train_valid, df_test = train_test_split(comments, test_size = 0.1, random_state = 12345)\n",
    "df_train, df_valid = train_test_split(df_train_valid, shuffle=False, test_size=0.25, random_state = 12345)\n",
    "print(df_train.shape, df_valid.shape, df_test.shape)\n",
    "\n"
   ]
  },
  {
   "cell_type": "code",
   "execution_count": 13,
   "metadata": {},
   "outputs": [],
   "source": [
    "features_train = df_train['text']\n",
    "target_train = df_train['toxic'].values\n",
    "\n",
    "features_valid = df_valid['text']\n",
    "target_valid = df_valid['toxic'].values\n",
    "\n",
    "features_test = df_test['text']\n",
    "target_test = df_test['toxic'].values"
   ]
  },
  {
   "cell_type": "code",
   "execution_count": 14,
   "metadata": {},
   "outputs": [
    {
     "name": "stderr",
     "output_type": "stream",
     "text": [
      "[nltk_data] Downloading package stopwords to /home/jovyan/nltk_data...\n",
      "[nltk_data]   Package stopwords is already up-to-date!\n"
     ]
    }
   ],
   "source": [
    "from nltk.corpus import stopwords \n",
    "\n",
    "try:\n",
    "    nltk.download('stopwords')\n",
    "except:\n",
    "    pass\n",
    "#Объявляю набор стоп-слов \n",
    "try:\n",
    "    stopwords = set(stopwords.words('english'))\n",
    "except:\n",
    "    pass\n",
    "#Объявляю TFIDF-векторизатор\n",
    "count_tf_idf = TfidfVectorizer(stop_words=stopwords) \n",
    "#Выполняю векторизацию текстов\n",
    "features_train = count_tf_idf.fit_transform(features_train)\n",
    "features_test = count_tf_idf.transform(features_test)\n",
    "features_valid = count_tf_idf.transform(features_valid)"
   ]
  },
  {
   "cell_type": "markdown",
   "metadata": {},
   "source": [
    "Вывод: После ознакомления с информацией я изабвился от лишних символов и стоп слов. Разделил датасет на выборки, лематизировал текст и изменил тип столбцов. Можно приступать к обучению модели."
   ]
  },
  {
   "cell_type": "markdown",
   "metadata": {},
   "source": [
    "## Обучение"
   ]
  },
  {
   "cell_type": "code",
   "execution_count": 15,
   "metadata": {},
   "outputs": [
    {
     "name": "stdout",
     "output_type": "stream",
     "text": [
      "Fitting 3 folds for each of 10 candidates, totalling 30 fits\n",
      "Best Params {'C': 4, 'penalty': 'l1'}\n",
      "Best Score 0.7640425877676781\n"
     ]
    }
   ],
   "source": [
    "# Пробуем модель логистической регрессии\n",
    "\n",
    "lr = LogisticRegression(random_state=1, solver='liblinear', max_iter=100)\n",
    "params = {\n",
    "   'penalty':['l1', 'l2'],        \n",
    "   'C':list(range(1,15,3)) \n",
    "}\n",
    "\n",
    "\n",
    "\n",
    "lr_gs = GridSearchCV(lr, params, cv=3, scoring='f1', verbose=True).fit(features_train, target_train)\n",
    "\n",
    "print (\"Best Params\", lr_gs.best_params_)\n",
    "print (\"Best Score\", lr_gs.best_score_)"
   ]
  },
  {
   "cell_type": "code",
   "execution_count": 16,
   "metadata": {},
   "outputs": [
    {
     "data": {
      "text/plain": [
       "LogisticRegression(C=4, class_weight='balanced', penalty='l1', random_state=1,\n",
       "                   solver='liblinear')"
      ]
     },
     "execution_count": 16,
     "metadata": {},
     "output_type": "execute_result"
    }
   ],
   "source": [
    "lr_best = LogisticRegression(random_state=1, class_weight = 'balanced', C = 4, penalty = 'l1', solver='liblinear', max_iter=100)\n",
    "lr_best.fit(features_train, target_train)"
   ]
  },
  {
   "cell_type": "code",
   "execution_count": 17,
   "metadata": {},
   "outputs": [
    {
     "data": {
      "text/plain": [
       "0.7611752887995983"
      ]
     },
     "execution_count": 17,
     "metadata": {},
     "output_type": "execute_result"
    }
   ],
   "source": [
    "pred1 = lr_best.predict(features_valid)\n",
    "f1_score(target_valid, pred1)"
   ]
  },
  {
   "cell_type": "code",
   "execution_count": 18,
   "metadata": {},
   "outputs": [
    {
     "name": "stdout",
     "output_type": "stream",
     "text": [
      "Fitting 3 folds for each of 6 candidates, totalling 18 fits\n",
      "Best Params {'criterion': 'gini', 'max_depth': 11}\n",
      "Best Score 0.5974026524927939\n"
     ]
    }
   ],
   "source": [
    "# Проверим теперь решающее дерево\n",
    "\n",
    "tree = DecisionTreeClassifier(random_state = 123)\n",
    "params = {\n",
    "   'criterion':['gini', 'entropy'],        \n",
    "   'max_depth':list(range(1,15,5)) \n",
    "}\n",
    "\n",
    "\n",
    "\n",
    "tree_gs = GridSearchCV(tree, params, cv=3, scoring='f1', verbose=True).fit(features_train, target_train)\n",
    "\n",
    "print (\"Best Params\", tree_gs.best_params_)\n",
    "print (\"Best Score\", tree_gs.best_score_)"
   ]
  },
  {
   "cell_type": "code",
   "execution_count": 19,
   "metadata": {},
   "outputs": [
    {
     "data": {
      "text/plain": [
       "0.6009675685361046"
      ]
     },
     "execution_count": 19,
     "metadata": {},
     "output_type": "execute_result"
    }
   ],
   "source": [
    "tree_best = DecisionTreeClassifier(random_state = 123, criterion='gini', max_depth=11)\n",
    "tree_best.fit(features_train, target_train)\n",
    "pred2 = tree_best.predict(features_valid)\n",
    "f1_score(target_valid, pred2)"
   ]
  },
  {
   "cell_type": "markdown",
   "metadata": {},
   "source": [
    "Лучшей моделью оказалась Логисчтическая регрессия можно приступать к финальному тесту."
   ]
  },
  {
   "cell_type": "markdown",
   "metadata": {},
   "source": [
    "## Выводы"
   ]
  },
  {
   "cell_type": "code",
   "execution_count": 20,
   "metadata": {},
   "outputs": [
    {
     "data": {
      "text/plain": [
       "0.7593397046046915"
      ]
     },
     "execution_count": 20,
     "metadata": {},
     "output_type": "execute_result"
    }
   ],
   "source": [
    "pred1 = lr_best.predict(features_test)      \n",
    "f1_lr = f1_score(target_test, pred1)     \n",
    "f1_lr"
   ]
  },
  {
   "cell_type": "markdown",
   "metadata": {},
   "source": [
    "Вывод: После ознакомления с информацией я привел весь текст к нижнему регистру изабвился от лишних символов и стоп слов. Разделил датасет на выборки и изменил тип столбцов и приступил к обучению моделей. Я использовал две модели логисчической регрессии и решающего дерева. Подобрав лучшие параметры я приступил к тесту. У модели логистической регрессии оказались результаты лучше и провел финальный тест на тестовой выборке. Лучшая модель - Логисчтическая регрессия. Результат F1 мерки - 0.75\n"
   ]
  },
  {
   "cell_type": "markdown",
   "metadata": {},
   "source": [
    "Вывод 2: Во время исправлений замечаний был выполнен большой объем работы и сменена последовательности действий. Сначало я лематизировал и очистил все твиты, после чего разделил на выборки, потом векторизировал выборки и приступил к обучению модели"
   ]
  }
 ],
 "metadata": {
  "ExecuteTimeLog": [
   {
    "duration": 2027,
    "start_time": "2023-05-11T07:16:47.221Z"
   },
   {
    "duration": 12,
    "start_time": "2023-05-11T07:18:14.757Z"
   },
   {
    "duration": 2411,
    "start_time": "2023-05-11T07:18:27.056Z"
   },
   {
    "duration": 2716,
    "start_time": "2023-05-11T07:18:44.618Z"
   },
   {
    "duration": 1838,
    "start_time": "2023-05-11T07:26:06.672Z"
   },
   {
    "duration": 24,
    "start_time": "2023-05-11T07:26:14.457Z"
   },
   {
    "duration": 30,
    "start_time": "2023-05-11T07:26:55.702Z"
   },
   {
    "duration": 27,
    "start_time": "2023-05-11T07:27:08.252Z"
   },
   {
    "duration": 1859,
    "start_time": "2023-05-11T07:27:48.851Z"
   },
   {
    "duration": 5855,
    "start_time": "2023-05-11T07:28:08.250Z"
   },
   {
    "duration": 439,
    "start_time": "2023-05-11T07:28:15.218Z"
   },
   {
    "duration": 1925,
    "start_time": "2023-05-11T07:28:29.574Z"
   },
   {
    "duration": 181,
    "start_time": "2023-05-11T07:28:38.748Z"
   },
   {
    "duration": 846,
    "start_time": "2023-05-11T07:28:48.155Z"
   },
   {
    "duration": 170703,
    "start_time": "2023-05-11T07:28:57.394Z"
   },
   {
    "duration": 2534,
    "start_time": "2023-05-11T07:31:48.098Z"
   },
   {
    "duration": 16,
    "start_time": "2023-05-11T07:31:50.634Z"
   },
   {
    "duration": 5,
    "start_time": "2023-05-11T07:31:50.652Z"
   },
   {
    "duration": 0,
    "start_time": "2023-05-11T07:31:50.658Z"
   },
   {
    "duration": 0,
    "start_time": "2023-05-11T07:31:50.659Z"
   },
   {
    "duration": 162165,
    "start_time": "2023-05-11T07:32:46.233Z"
   },
   {
    "duration": 5589,
    "start_time": "2023-05-11T07:35:28.400Z"
   },
   {
    "duration": 10,
    "start_time": "2023-05-11T07:35:33.991Z"
   },
   {
    "duration": 291,
    "start_time": "2023-05-11T07:38:40.474Z"
   },
   {
    "duration": 9,
    "start_time": "2023-05-11T20:38:09.864Z"
   },
   {
    "duration": 56,
    "start_time": "2023-05-11T20:38:16.106Z"
   },
   {
    "duration": 1541,
    "start_time": "2023-05-11T20:38:23.169Z"
   },
   {
    "duration": 2396,
    "start_time": "2023-05-11T20:38:24.712Z"
   },
   {
    "duration": 8,
    "start_time": "2023-05-11T20:38:27.110Z"
   },
   {
    "duration": 61,
    "start_time": "2023-05-11T20:38:27.120Z"
   },
   {
    "duration": 41,
    "start_time": "2023-05-11T20:38:27.183Z"
   },
   {
    "duration": 53,
    "start_time": "2023-05-11T20:38:27.226Z"
   },
   {
    "duration": 2308,
    "start_time": "2023-05-11T20:38:27.281Z"
   },
   {
    "duration": 7250,
    "start_time": "2023-05-11T20:38:29.591Z"
   },
   {
    "duration": 518,
    "start_time": "2023-05-11T20:38:36.842Z"
   },
   {
    "duration": 2156,
    "start_time": "2023-05-11T20:38:37.364Z"
   },
   {
    "duration": 210,
    "start_time": "2023-05-11T20:38:39.522Z"
   },
   {
    "duration": 988,
    "start_time": "2023-05-11T20:38:39.734Z"
   },
   {
    "duration": 6,
    "start_time": "2023-05-11T20:38:40.725Z"
   },
   {
    "duration": 1,
    "start_time": "2023-05-11T20:38:40.732Z"
   },
   {
    "duration": 0,
    "start_time": "2023-05-11T20:38:40.734Z"
   },
   {
    "duration": 0,
    "start_time": "2023-05-11T20:38:40.746Z"
   },
   {
    "duration": 0,
    "start_time": "2023-05-11T20:38:40.747Z"
   },
   {
    "duration": 0,
    "start_time": "2023-05-11T20:38:40.748Z"
   },
   {
    "duration": 139,
    "start_time": "2023-05-11T20:42:10.301Z"
   },
   {
    "duration": 1149,
    "start_time": "2023-05-11T20:42:50.019Z"
   },
   {
    "duration": 16,
    "start_time": "2023-05-11T20:43:05.817Z"
   },
   {
    "duration": 16,
    "start_time": "2023-05-11T20:43:52.717Z"
   },
   {
    "duration": 1635,
    "start_time": "2023-05-11T20:43:58.415Z"
   },
   {
    "duration": 916,
    "start_time": "2023-05-11T20:44:00.052Z"
   },
   {
    "duration": 8,
    "start_time": "2023-05-11T20:44:00.971Z"
   },
   {
    "duration": 68,
    "start_time": "2023-05-11T20:44:00.982Z"
   },
   {
    "duration": 163,
    "start_time": "2023-05-11T20:44:01.052Z"
   },
   {
    "duration": 1,
    "start_time": "2023-05-11T20:44:01.217Z"
   },
   {
    "duration": 0,
    "start_time": "2023-05-11T20:44:01.219Z"
   },
   {
    "duration": 0,
    "start_time": "2023-05-11T20:44:01.221Z"
   },
   {
    "duration": 0,
    "start_time": "2023-05-11T20:44:01.222Z"
   },
   {
    "duration": 0,
    "start_time": "2023-05-11T20:44:01.224Z"
   },
   {
    "duration": 0,
    "start_time": "2023-05-11T20:44:01.225Z"
   },
   {
    "duration": 0,
    "start_time": "2023-05-11T20:44:01.226Z"
   },
   {
    "duration": 0,
    "start_time": "2023-05-11T20:44:01.228Z"
   },
   {
    "duration": 0,
    "start_time": "2023-05-11T20:44:01.247Z"
   },
   {
    "duration": 0,
    "start_time": "2023-05-11T20:44:01.248Z"
   },
   {
    "duration": 0,
    "start_time": "2023-05-11T20:44:01.250Z"
   },
   {
    "duration": 0,
    "start_time": "2023-05-11T20:44:01.251Z"
   },
   {
    "duration": 1,
    "start_time": "2023-05-11T20:44:01.252Z"
   },
   {
    "duration": 0,
    "start_time": "2023-05-11T20:44:01.254Z"
   },
   {
    "duration": 11,
    "start_time": "2023-05-11T20:44:26.959Z"
   },
   {
    "duration": 19,
    "start_time": "2023-05-11T20:44:31.559Z"
   },
   {
    "duration": 1659,
    "start_time": "2023-05-11T20:45:08.837Z"
   },
   {
    "duration": 2440,
    "start_time": "2023-05-11T20:45:10.498Z"
   },
   {
    "duration": 7,
    "start_time": "2023-05-11T20:45:12.940Z"
   },
   {
    "duration": 41,
    "start_time": "2023-05-11T20:45:12.950Z"
   },
   {
    "duration": 54,
    "start_time": "2023-05-11T20:46:21.485Z"
   },
   {
    "duration": 1682,
    "start_time": "2023-05-11T20:46:30.669Z"
   },
   {
    "duration": 2491,
    "start_time": "2023-05-11T20:46:32.354Z"
   },
   {
    "duration": 8,
    "start_time": "2023-05-11T20:46:34.847Z"
   },
   {
    "duration": 63,
    "start_time": "2023-05-11T20:46:34.857Z"
   },
   {
    "duration": 55,
    "start_time": "2023-05-11T20:46:51.928Z"
   },
   {
    "duration": 1664,
    "start_time": "2023-05-11T20:46:56.269Z"
   },
   {
    "duration": 2642,
    "start_time": "2023-05-11T20:46:59.556Z"
   },
   {
    "duration": 8,
    "start_time": "2023-05-11T20:47:03.499Z"
   },
   {
    "duration": 35,
    "start_time": "2023-05-11T20:47:04.976Z"
   },
   {
    "duration": 56,
    "start_time": "2023-05-11T20:47:19.201Z"
   },
   {
    "duration": 1725,
    "start_time": "2023-05-11T20:47:36.799Z"
   },
   {
    "duration": 2573,
    "start_time": "2023-05-11T20:47:38.526Z"
   },
   {
    "duration": 9,
    "start_time": "2023-05-11T20:47:41.100Z"
   },
   {
    "duration": 50,
    "start_time": "2023-05-11T20:47:41.111Z"
   },
   {
    "duration": 14,
    "start_time": "2023-05-11T20:47:41.163Z"
   },
   {
    "duration": 54,
    "start_time": "2023-05-11T20:48:06.278Z"
   },
   {
    "duration": 1563,
    "start_time": "2023-05-11T20:48:10.497Z"
   },
   {
    "duration": 2423,
    "start_time": "2023-05-11T20:48:12.062Z"
   },
   {
    "duration": 7,
    "start_time": "2023-05-11T20:48:14.487Z"
   },
   {
    "duration": 76,
    "start_time": "2023-05-11T20:48:14.496Z"
   },
   {
    "duration": 12,
    "start_time": "2023-05-11T20:48:14.574Z"
   },
   {
    "duration": 3130,
    "start_time": "2023-05-11T20:48:14.588Z"
   },
   {
    "duration": 0,
    "start_time": "2023-05-11T20:48:17.720Z"
   },
   {
    "duration": 0,
    "start_time": "2023-05-11T20:48:17.721Z"
   },
   {
    "duration": 0,
    "start_time": "2023-05-11T20:48:17.722Z"
   },
   {
    "duration": 0,
    "start_time": "2023-05-11T20:48:17.724Z"
   },
   {
    "duration": 0,
    "start_time": "2023-05-11T20:48:17.725Z"
   },
   {
    "duration": 0,
    "start_time": "2023-05-11T20:48:17.726Z"
   },
   {
    "duration": 0,
    "start_time": "2023-05-11T20:48:17.728Z"
   },
   {
    "duration": 0,
    "start_time": "2023-05-11T20:48:17.747Z"
   },
   {
    "duration": 0,
    "start_time": "2023-05-11T20:48:17.748Z"
   },
   {
    "duration": 0,
    "start_time": "2023-05-11T20:48:17.749Z"
   },
   {
    "duration": 0,
    "start_time": "2023-05-11T20:48:17.750Z"
   },
   {
    "duration": 0,
    "start_time": "2023-05-11T20:48:17.751Z"
   },
   {
    "duration": 0,
    "start_time": "2023-05-11T20:48:17.752Z"
   },
   {
    "duration": 0,
    "start_time": "2023-05-11T20:48:17.753Z"
   },
   {
    "duration": 11,
    "start_time": "2023-05-11T20:48:33.205Z"
   },
   {
    "duration": 1466,
    "start_time": "2023-05-11T20:48:42.887Z"
   },
   {
    "duration": 970,
    "start_time": "2023-05-11T20:48:44.355Z"
   },
   {
    "duration": 9,
    "start_time": "2023-05-11T20:48:45.327Z"
   },
   {
    "duration": 36,
    "start_time": "2023-05-11T20:48:45.345Z"
   },
   {
    "duration": 7,
    "start_time": "2023-05-11T20:48:45.383Z"
   },
   {
    "duration": 3037,
    "start_time": "2023-05-11T20:48:45.392Z"
   },
   {
    "duration": 1639,
    "start_time": "2023-05-11T20:49:15.820Z"
   },
   {
    "duration": 2483,
    "start_time": "2023-05-11T20:49:18.876Z"
   },
   {
    "duration": 10,
    "start_time": "2023-05-11T20:49:21.362Z"
   },
   {
    "duration": 59,
    "start_time": "2023-05-11T20:49:21.374Z"
   },
   {
    "duration": 10,
    "start_time": "2023-05-11T20:49:21.435Z"
   },
   {
    "duration": 3261,
    "start_time": "2023-05-11T20:49:26.588Z"
   },
   {
    "duration": 133,
    "start_time": "2023-05-11T20:49:40.157Z"
   },
   {
    "duration": 12,
    "start_time": "2023-05-11T20:49:51.931Z"
   },
   {
    "duration": 6,
    "start_time": "2023-05-11T20:49:55.741Z"
   },
   {
    "duration": 25,
    "start_time": "2023-05-11T20:54:38.761Z"
   },
   {
    "duration": 5,
    "start_time": "2023-05-11T20:54:50.292Z"
   },
   {
    "duration": 3,
    "start_time": "2023-05-11T20:54:53.573Z"
   },
   {
    "duration": 5,
    "start_time": "2023-05-11T20:55:05.425Z"
   },
   {
    "duration": 1186,
    "start_time": "2023-05-11T20:55:15.096Z"
   },
   {
    "duration": 10,
    "start_time": "2023-05-11T20:55:43.516Z"
   },
   {
    "duration": 1521,
    "start_time": "2023-05-11T20:55:57.215Z"
   },
   {
    "duration": 946,
    "start_time": "2023-05-11T20:55:58.738Z"
   },
   {
    "duration": 9,
    "start_time": "2023-05-11T20:56:00.701Z"
   },
   {
    "duration": 34,
    "start_time": "2023-05-11T20:56:02.234Z"
   },
   {
    "duration": 26,
    "start_time": "2023-05-11T20:56:03.162Z"
   },
   {
    "duration": 2302,
    "start_time": "2023-05-11T20:56:04.668Z"
   },
   {
    "duration": 5,
    "start_time": "2023-05-11T20:56:15.534Z"
   },
   {
    "duration": 11,
    "start_time": "2023-05-11T20:56:34.318Z"
   },
   {
    "duration": 10,
    "start_time": "2023-05-11T20:56:50.340Z"
   },
   {
    "duration": 10,
    "start_time": "2023-05-11T20:57:07.418Z"
   },
   {
    "duration": 10,
    "start_time": "2023-05-11T20:58:40.420Z"
   },
   {
    "duration": 10,
    "start_time": "2023-05-11T20:59:25.295Z"
   },
   {
    "duration": 53,
    "start_time": "2023-05-11T20:59:40.283Z"
   },
   {
    "duration": 5,
    "start_time": "2023-05-11T20:59:52.996Z"
   },
   {
    "duration": 6,
    "start_time": "2023-05-11T21:00:00.302Z"
   },
   {
    "duration": 1210,
    "start_time": "2023-05-11T21:00:29.381Z"
   },
   {
    "duration": 3,
    "start_time": "2023-05-11T21:00:31.721Z"
   },
   {
    "duration": 11,
    "start_time": "2023-05-11T21:01:15.640Z"
   },
   {
    "duration": 4,
    "start_time": "2023-05-11T21:01:23.887Z"
   },
   {
    "duration": 13,
    "start_time": "2023-05-11T21:01:24.572Z"
   },
   {
    "duration": 13,
    "start_time": "2023-05-11T21:02:33.108Z"
   },
   {
    "duration": 1493,
    "start_time": "2023-05-11T21:02:44.479Z"
   },
   {
    "duration": 963,
    "start_time": "2023-05-11T21:02:45.974Z"
   },
   {
    "duration": 8,
    "start_time": "2023-05-11T21:02:48.141Z"
   },
   {
    "duration": 35,
    "start_time": "2023-05-11T21:02:49.986Z"
   },
   {
    "duration": 25,
    "start_time": "2023-05-11T21:02:50.877Z"
   },
   {
    "duration": 2141,
    "start_time": "2023-05-11T21:02:52.476Z"
   },
   {
    "duration": 136,
    "start_time": "2023-05-11T21:02:57.454Z"
   },
   {
    "duration": 16,
    "start_time": "2023-05-11T21:03:10.381Z"
   },
   {
    "duration": 1554,
    "start_time": "2023-05-11T21:03:33.445Z"
   },
   {
    "duration": 920,
    "start_time": "2023-05-11T21:03:35.001Z"
   },
   {
    "duration": 7,
    "start_time": "2023-05-11T21:03:35.923Z"
   },
   {
    "duration": 44,
    "start_time": "2023-05-11T21:03:35.932Z"
   },
   {
    "duration": 38,
    "start_time": "2023-05-11T21:03:35.977Z"
   },
   {
    "duration": 2,
    "start_time": "2023-05-11T21:03:36.017Z"
   },
   {
    "duration": 151,
    "start_time": "2023-05-11T21:03:36.021Z"
   },
   {
    "duration": 0,
    "start_time": "2023-05-11T21:03:36.175Z"
   },
   {
    "duration": 0,
    "start_time": "2023-05-11T21:03:36.176Z"
   },
   {
    "duration": 0,
    "start_time": "2023-05-11T21:03:36.178Z"
   },
   {
    "duration": 0,
    "start_time": "2023-05-11T21:03:36.180Z"
   },
   {
    "duration": 0,
    "start_time": "2023-05-11T21:03:36.181Z"
   },
   {
    "duration": 0,
    "start_time": "2023-05-11T21:03:36.182Z"
   },
   {
    "duration": 0,
    "start_time": "2023-05-11T21:03:36.183Z"
   },
   {
    "duration": 0,
    "start_time": "2023-05-11T21:03:36.184Z"
   },
   {
    "duration": 0,
    "start_time": "2023-05-11T21:03:36.185Z"
   },
   {
    "duration": 0,
    "start_time": "2023-05-11T21:03:36.186Z"
   },
   {
    "duration": 0,
    "start_time": "2023-05-11T21:03:36.186Z"
   },
   {
    "duration": 0,
    "start_time": "2023-05-11T21:03:36.188Z"
   },
   {
    "duration": 0,
    "start_time": "2023-05-11T21:03:36.189Z"
   },
   {
    "duration": 0,
    "start_time": "2023-05-11T21:03:36.190Z"
   },
   {
    "duration": 0,
    "start_time": "2023-05-11T21:03:36.191Z"
   },
   {
    "duration": 0,
    "start_time": "2023-05-11T21:03:36.192Z"
   },
   {
    "duration": 17,
    "start_time": "2023-05-11T21:04:47.064Z"
   },
   {
    "duration": 2190,
    "start_time": "2023-05-11T21:04:49.937Z"
   },
   {
    "duration": 12,
    "start_time": "2023-05-11T21:04:52.471Z"
   },
   {
    "duration": 11,
    "start_time": "2023-05-11T21:05:14.024Z"
   },
   {
    "duration": 1482,
    "start_time": "2023-05-11T21:05:26.248Z"
   },
   {
    "duration": 959,
    "start_time": "2023-05-11T21:05:27.733Z"
   },
   {
    "duration": 8,
    "start_time": "2023-05-11T21:05:28.694Z"
   },
   {
    "duration": 74,
    "start_time": "2023-05-11T21:05:28.705Z"
   },
   {
    "duration": 26,
    "start_time": "2023-05-11T21:05:28.782Z"
   },
   {
    "duration": 2178,
    "start_time": "2023-05-11T21:05:28.810Z"
   },
   {
    "duration": 177,
    "start_time": "2023-05-11T21:05:30.991Z"
   },
   {
    "duration": 0,
    "start_time": "2023-05-11T21:05:31.171Z"
   },
   {
    "duration": 0,
    "start_time": "2023-05-11T21:05:31.172Z"
   },
   {
    "duration": 0,
    "start_time": "2023-05-11T21:05:31.173Z"
   },
   {
    "duration": 0,
    "start_time": "2023-05-11T21:05:31.174Z"
   },
   {
    "duration": 0,
    "start_time": "2023-05-11T21:05:31.175Z"
   },
   {
    "duration": 0,
    "start_time": "2023-05-11T21:05:31.176Z"
   },
   {
    "duration": 0,
    "start_time": "2023-05-11T21:05:31.177Z"
   },
   {
    "duration": 0,
    "start_time": "2023-05-11T21:05:31.178Z"
   },
   {
    "duration": 0,
    "start_time": "2023-05-11T21:05:31.179Z"
   },
   {
    "duration": 0,
    "start_time": "2023-05-11T21:05:31.180Z"
   },
   {
    "duration": 0,
    "start_time": "2023-05-11T21:05:31.181Z"
   },
   {
    "duration": 0,
    "start_time": "2023-05-11T21:05:31.182Z"
   },
   {
    "duration": 0,
    "start_time": "2023-05-11T21:05:31.183Z"
   },
   {
    "duration": 0,
    "start_time": "2023-05-11T21:05:31.184Z"
   },
   {
    "duration": 0,
    "start_time": "2023-05-11T21:05:31.185Z"
   },
   {
    "duration": 0,
    "start_time": "2023-05-11T21:05:31.186Z"
   },
   {
    "duration": 5,
    "start_time": "2023-05-11T21:06:08.274Z"
   },
   {
    "duration": 5,
    "start_time": "2023-05-11T21:06:17.155Z"
   },
   {
    "duration": 1232,
    "start_time": "2023-05-11T21:06:30.118Z"
   },
   {
    "duration": 4,
    "start_time": "2023-05-11T21:06:35.809Z"
   },
   {
    "duration": 11,
    "start_time": "2023-05-11T21:08:37.753Z"
   },
   {
    "duration": 3,
    "start_time": "2023-05-11T21:08:56.426Z"
   },
   {
    "duration": 5,
    "start_time": "2023-05-11T21:09:02.584Z"
   },
   {
    "duration": 10,
    "start_time": "2023-05-11T21:09:08.892Z"
   },
   {
    "duration": 10,
    "start_time": "2023-05-11T21:13:12.066Z"
   },
   {
    "duration": 1547,
    "start_time": "2023-05-11T21:13:16.648Z"
   },
   {
    "duration": 929,
    "start_time": "2023-05-11T21:13:18.197Z"
   },
   {
    "duration": 8,
    "start_time": "2023-05-11T21:13:19.128Z"
   },
   {
    "duration": 46,
    "start_time": "2023-05-11T21:13:19.145Z"
   },
   {
    "duration": 28,
    "start_time": "2023-05-11T21:13:19.193Z"
   },
   {
    "duration": 1519,
    "start_time": "2023-05-11T21:13:48.120Z"
   },
   {
    "duration": 2402,
    "start_time": "2023-05-11T21:13:49.641Z"
   },
   {
    "duration": 9,
    "start_time": "2023-05-11T21:13:52.044Z"
   },
   {
    "duration": 81,
    "start_time": "2023-05-11T21:13:52.055Z"
   },
   {
    "duration": 59,
    "start_time": "2023-05-11T21:13:52.138Z"
   },
   {
    "duration": 16,
    "start_time": "2023-05-11T21:13:52.199Z"
   },
   {
    "duration": 1377,
    "start_time": "2023-05-11T21:13:52.217Z"
   },
   {
    "duration": 0,
    "start_time": "2023-05-11T21:13:53.596Z"
   },
   {
    "duration": 0,
    "start_time": "2023-05-11T21:13:53.598Z"
   },
   {
    "duration": 0,
    "start_time": "2023-05-11T21:13:53.600Z"
   },
   {
    "duration": 0,
    "start_time": "2023-05-11T21:13:53.601Z"
   },
   {
    "duration": 0,
    "start_time": "2023-05-11T21:13:53.603Z"
   },
   {
    "duration": 0,
    "start_time": "2023-05-11T21:13:53.604Z"
   },
   {
    "duration": 0,
    "start_time": "2023-05-11T21:13:53.605Z"
   },
   {
    "duration": 0,
    "start_time": "2023-05-11T21:13:53.607Z"
   },
   {
    "duration": 0,
    "start_time": "2023-05-11T21:13:53.608Z"
   },
   {
    "duration": 0,
    "start_time": "2023-05-11T21:13:53.609Z"
   },
   {
    "duration": 0,
    "start_time": "2023-05-11T21:13:53.611Z"
   },
   {
    "duration": 0,
    "start_time": "2023-05-11T21:13:53.612Z"
   },
   {
    "duration": 0,
    "start_time": "2023-05-11T21:13:53.613Z"
   },
   {
    "duration": 0,
    "start_time": "2023-05-11T21:13:53.615Z"
   },
   {
    "duration": 0,
    "start_time": "2023-05-11T21:13:53.616Z"
   },
   {
    "duration": 0,
    "start_time": "2023-05-11T21:13:53.617Z"
   },
   {
    "duration": 35,
    "start_time": "2023-05-11T21:14:05.474Z"
   },
   {
    "duration": 18,
    "start_time": "2023-05-11T21:14:19.254Z"
   },
   {
    "duration": 1410,
    "start_time": "2023-05-11T21:14:23.661Z"
   },
   {
    "duration": 2215,
    "start_time": "2023-05-11T21:14:50.181Z"
   },
   {
    "duration": 10,
    "start_time": "2023-05-11T21:14:53.433Z"
   },
   {
    "duration": 11,
    "start_time": "2023-05-11T21:14:58.250Z"
   },
   {
    "duration": 6,
    "start_time": "2023-05-11T21:15:17.204Z"
   },
   {
    "duration": 1250,
    "start_time": "2023-05-11T21:15:23.555Z"
   },
   {
    "duration": 3,
    "start_time": "2023-05-11T21:15:26.628Z"
   },
   {
    "duration": 4,
    "start_time": "2023-05-11T21:15:36.022Z"
   },
   {
    "duration": 4,
    "start_time": "2023-05-11T21:15:40.624Z"
   },
   {
    "duration": 4,
    "start_time": "2023-05-11T21:16:20.255Z"
   },
   {
    "duration": 4,
    "start_time": "2023-05-11T21:16:43.217Z"
   },
   {
    "duration": 3,
    "start_time": "2023-05-11T21:16:52.099Z"
   },
   {
    "duration": 4,
    "start_time": "2023-05-11T21:17:01.496Z"
   },
   {
    "duration": 12,
    "start_time": "2023-05-11T21:17:02.606Z"
   },
   {
    "duration": 5,
    "start_time": "2023-05-11T21:17:07.871Z"
   },
   {
    "duration": 10,
    "start_time": "2023-05-11T21:17:09.874Z"
   },
   {
    "duration": 10,
    "start_time": "2023-05-11T21:22:34.689Z"
   },
   {
    "duration": 4,
    "start_time": "2023-05-11T21:25:04.517Z"
   },
   {
    "duration": 3,
    "start_time": "2023-05-11T21:25:07.217Z"
   },
   {
    "duration": 11,
    "start_time": "2023-05-11T21:25:43.979Z"
   },
   {
    "duration": 1579,
    "start_time": "2023-05-11T21:28:12.415Z"
   },
   {
    "duration": 926,
    "start_time": "2023-05-11T21:28:13.996Z"
   },
   {
    "duration": 7,
    "start_time": "2023-05-11T21:28:14.923Z"
   },
   {
    "duration": 42,
    "start_time": "2023-05-11T21:28:14.932Z"
   },
   {
    "duration": 23,
    "start_time": "2023-05-11T21:28:14.976Z"
   },
   {
    "duration": 2191,
    "start_time": "2023-05-11T21:28:15.001Z"
   },
   {
    "duration": 132,
    "start_time": "2023-05-11T21:28:17.193Z"
   },
   {
    "duration": 0,
    "start_time": "2023-05-11T21:28:17.328Z"
   },
   {
    "duration": 0,
    "start_time": "2023-05-11T21:28:17.329Z"
   },
   {
    "duration": 0,
    "start_time": "2023-05-11T21:28:17.331Z"
   },
   {
    "duration": 0,
    "start_time": "2023-05-11T21:28:17.347Z"
   },
   {
    "duration": 0,
    "start_time": "2023-05-11T21:28:17.349Z"
   },
   {
    "duration": 0,
    "start_time": "2023-05-11T21:28:17.350Z"
   },
   {
    "duration": 0,
    "start_time": "2023-05-11T21:28:17.354Z"
   },
   {
    "duration": 0,
    "start_time": "2023-05-11T21:28:17.357Z"
   },
   {
    "duration": 0,
    "start_time": "2023-05-11T21:28:17.361Z"
   },
   {
    "duration": 0,
    "start_time": "2023-05-11T21:28:17.362Z"
   },
   {
    "duration": 0,
    "start_time": "2023-05-11T21:28:17.363Z"
   },
   {
    "duration": 0,
    "start_time": "2023-05-11T21:28:17.364Z"
   },
   {
    "duration": 0,
    "start_time": "2023-05-11T21:28:17.365Z"
   },
   {
    "duration": 0,
    "start_time": "2023-05-11T21:28:17.366Z"
   },
   {
    "duration": 0,
    "start_time": "2023-05-11T21:28:17.367Z"
   },
   {
    "duration": 0,
    "start_time": "2023-05-11T21:28:17.368Z"
   },
   {
    "duration": 0,
    "start_time": "2023-05-11T21:28:17.369Z"
   },
   {
    "duration": 10637,
    "start_time": "2023-05-11T21:28:31.929Z"
   },
   {
    "duration": 1517,
    "start_time": "2023-05-11T21:28:44.919Z"
   },
   {
    "duration": 10,
    "start_time": "2023-05-11T21:29:21.471Z"
   },
   {
    "duration": 226,
    "start_time": "2023-05-11T21:29:34.934Z"
   },
   {
    "duration": 1339,
    "start_time": "2023-05-11T21:29:48.296Z"
   },
   {
    "duration": 11,
    "start_time": "2023-05-11T21:29:50.185Z"
   },
   {
    "duration": 22,
    "start_time": "2023-05-11T21:30:40.206Z"
   },
   {
    "duration": 1458,
    "start_time": "2023-05-11T21:36:29.473Z"
   },
   {
    "duration": 967,
    "start_time": "2023-05-11T21:36:30.933Z"
   },
   {
    "duration": 9,
    "start_time": "2023-05-11T21:36:31.902Z"
   },
   {
    "duration": 33,
    "start_time": "2023-05-11T21:36:32.795Z"
   },
   {
    "duration": 2280,
    "start_time": "2023-05-11T21:36:35.500Z"
   },
   {
    "duration": 26,
    "start_time": "2023-05-11T21:36:44.588Z"
   },
   {
    "duration": 234,
    "start_time": "2023-05-11T21:37:33.767Z"
   },
   {
    "duration": 1197,
    "start_time": "2023-05-11T21:37:46.770Z"
   },
   {
    "duration": 125,
    "start_time": "2023-05-11T21:38:35.393Z"
   },
   {
    "duration": 12,
    "start_time": "2023-05-11T21:40:13.073Z"
   },
   {
    "duration": 12,
    "start_time": "2023-05-11T21:40:23.093Z"
   },
   {
    "duration": 10,
    "start_time": "2023-05-11T21:40:30.436Z"
   },
   {
    "duration": 1544,
    "start_time": "2023-05-11T21:45:06.269Z"
   },
   {
    "duration": 958,
    "start_time": "2023-05-11T21:45:07.815Z"
   },
   {
    "duration": 8,
    "start_time": "2023-05-11T21:45:08.777Z"
   },
   {
    "duration": 42,
    "start_time": "2023-05-11T21:45:08.787Z"
   },
   {
    "duration": 2280,
    "start_time": "2023-05-11T21:45:08.831Z"
   },
   {
    "duration": 46,
    "start_time": "2023-05-11T21:45:11.113Z"
   },
   {
    "duration": 252,
    "start_time": "2023-05-11T21:45:11.162Z"
   },
   {
    "duration": 1280,
    "start_time": "2023-05-11T21:45:11.416Z"
   },
   {
    "duration": 136,
    "start_time": "2023-05-11T21:45:12.699Z"
   },
   {
    "duration": 0,
    "start_time": "2023-05-11T21:45:12.837Z"
   },
   {
    "duration": 0,
    "start_time": "2023-05-11T21:45:12.838Z"
   },
   {
    "duration": 0,
    "start_time": "2023-05-11T21:45:12.846Z"
   },
   {
    "duration": 0,
    "start_time": "2023-05-11T21:45:12.847Z"
   },
   {
    "duration": 0,
    "start_time": "2023-05-11T21:45:12.848Z"
   },
   {
    "duration": 0,
    "start_time": "2023-05-11T21:45:12.849Z"
   },
   {
    "duration": 0,
    "start_time": "2023-05-11T21:45:12.851Z"
   },
   {
    "duration": 0,
    "start_time": "2023-05-11T21:45:12.851Z"
   },
   {
    "duration": 0,
    "start_time": "2023-05-11T21:45:12.853Z"
   },
   {
    "duration": 0,
    "start_time": "2023-05-11T21:45:12.854Z"
   },
   {
    "duration": 0,
    "start_time": "2023-05-11T21:45:12.855Z"
   },
   {
    "duration": 0,
    "start_time": "2023-05-11T21:45:12.856Z"
   },
   {
    "duration": 0,
    "start_time": "2023-05-11T21:45:12.857Z"
   },
   {
    "duration": 0,
    "start_time": "2023-05-11T21:45:12.858Z"
   },
   {
    "duration": 4,
    "start_time": "2023-05-11T21:45:54.536Z"
   },
   {
    "duration": 12,
    "start_time": "2023-05-11T21:46:02.146Z"
   },
   {
    "duration": 4,
    "start_time": "2023-05-11T21:49:36.189Z"
   },
   {
    "duration": 1569,
    "start_time": "2023-05-11T21:50:42.907Z"
   },
   {
    "duration": 922,
    "start_time": "2023-05-11T21:50:45.797Z"
   },
   {
    "duration": 7,
    "start_time": "2023-05-11T21:50:48.024Z"
   },
   {
    "duration": 33,
    "start_time": "2023-05-11T21:50:49.767Z"
   },
   {
    "duration": 127,
    "start_time": "2023-05-11T21:50:53.545Z"
   },
   {
    "duration": 44,
    "start_time": "2023-05-11T21:51:09.833Z"
   },
   {
    "duration": 47,
    "start_time": "2023-05-11T21:51:15.516Z"
   },
   {
    "duration": 1619,
    "start_time": "2023-05-11T21:53:07.432Z"
   },
   {
    "duration": 1528,
    "start_time": "2023-05-11T21:54:15.674Z"
   },
   {
    "duration": 2410,
    "start_time": "2023-05-11T21:54:17.204Z"
   },
   {
    "duration": 8,
    "start_time": "2023-05-11T21:54:19.616Z"
   },
   {
    "duration": 41,
    "start_time": "2023-05-11T21:54:19.626Z"
   },
   {
    "duration": 42,
    "start_time": "2023-05-11T21:54:19.670Z"
   },
   {
    "duration": 61,
    "start_time": "2023-05-11T21:54:19.714Z"
   },
   {
    "duration": 25,
    "start_time": "2023-05-11T21:54:19.777Z"
   },
   {
    "duration": 1760,
    "start_time": "2023-05-11T21:54:19.804Z"
   },
   {
    "duration": 0,
    "start_time": "2023-05-11T21:54:21.566Z"
   },
   {
    "duration": 0,
    "start_time": "2023-05-11T21:54:21.567Z"
   },
   {
    "duration": 0,
    "start_time": "2023-05-11T21:54:21.568Z"
   },
   {
    "duration": 0,
    "start_time": "2023-05-11T21:54:21.569Z"
   },
   {
    "duration": 0,
    "start_time": "2023-05-11T21:54:21.570Z"
   },
   {
    "duration": 0,
    "start_time": "2023-05-11T21:54:21.571Z"
   },
   {
    "duration": 0,
    "start_time": "2023-05-11T21:54:21.572Z"
   },
   {
    "duration": 0,
    "start_time": "2023-05-11T21:54:21.573Z"
   },
   {
    "duration": 0,
    "start_time": "2023-05-11T21:54:21.574Z"
   },
   {
    "duration": 0,
    "start_time": "2023-05-11T21:54:21.575Z"
   },
   {
    "duration": 0,
    "start_time": "2023-05-11T21:54:21.576Z"
   },
   {
    "duration": 1691,
    "start_time": "2023-05-11T21:55:22.221Z"
   },
   {
    "duration": 2418,
    "start_time": "2023-05-11T21:55:23.914Z"
   },
   {
    "duration": 9,
    "start_time": "2023-05-11T21:55:26.333Z"
   },
   {
    "duration": 64,
    "start_time": "2023-05-11T21:55:26.345Z"
   },
   {
    "duration": 61,
    "start_time": "2023-05-11T21:55:26.411Z"
   },
   {
    "duration": 50,
    "start_time": "2023-05-11T21:55:26.474Z"
   },
   {
    "duration": 42,
    "start_time": "2023-05-11T21:55:26.527Z"
   },
   {
    "duration": 1800,
    "start_time": "2023-05-11T21:55:26.572Z"
   },
   {
    "duration": 0,
    "start_time": "2023-05-11T21:55:28.375Z"
   },
   {
    "duration": 0,
    "start_time": "2023-05-11T21:55:28.377Z"
   },
   {
    "duration": 0,
    "start_time": "2023-05-11T21:55:28.379Z"
   },
   {
    "duration": 0,
    "start_time": "2023-05-11T21:55:28.380Z"
   },
   {
    "duration": 0,
    "start_time": "2023-05-11T21:55:28.382Z"
   },
   {
    "duration": 0,
    "start_time": "2023-05-11T21:55:28.384Z"
   },
   {
    "duration": 0,
    "start_time": "2023-05-11T21:55:28.385Z"
   },
   {
    "duration": 0,
    "start_time": "2023-05-11T21:55:28.387Z"
   },
   {
    "duration": 1,
    "start_time": "2023-05-11T21:55:28.388Z"
   },
   {
    "duration": 0,
    "start_time": "2023-05-11T21:55:28.390Z"
   },
   {
    "duration": 0,
    "start_time": "2023-05-11T21:55:28.392Z"
   },
   {
    "duration": 1555,
    "start_time": "2023-05-11T21:56:10.770Z"
   },
   {
    "duration": 964,
    "start_time": "2023-05-11T21:56:12.328Z"
   },
   {
    "duration": 8,
    "start_time": "2023-05-11T21:56:13.296Z"
   },
   {
    "duration": 59,
    "start_time": "2023-05-11T21:56:13.306Z"
   },
   {
    "duration": 53,
    "start_time": "2023-05-11T21:56:13.367Z"
   },
   {
    "duration": 55,
    "start_time": "2023-05-11T21:56:13.422Z"
   },
   {
    "duration": 26,
    "start_time": "2023-05-11T21:56:13.479Z"
   },
   {
    "duration": 141,
    "start_time": "2023-05-11T21:56:13.507Z"
   },
   {
    "duration": 0,
    "start_time": "2023-05-11T21:56:13.649Z"
   },
   {
    "duration": 0,
    "start_time": "2023-05-11T21:56:13.651Z"
   },
   {
    "duration": 0,
    "start_time": "2023-05-11T21:56:13.652Z"
   },
   {
    "duration": 0,
    "start_time": "2023-05-11T21:56:13.653Z"
   },
   {
    "duration": 0,
    "start_time": "2023-05-11T21:56:13.654Z"
   },
   {
    "duration": 0,
    "start_time": "2023-05-11T21:56:13.655Z"
   },
   {
    "duration": 0,
    "start_time": "2023-05-11T21:56:13.656Z"
   },
   {
    "duration": 0,
    "start_time": "2023-05-11T21:56:13.657Z"
   },
   {
    "duration": 0,
    "start_time": "2023-05-11T21:56:13.658Z"
   },
   {
    "duration": 0,
    "start_time": "2023-05-11T21:56:13.659Z"
   },
   {
    "duration": 0,
    "start_time": "2023-05-11T21:56:13.660Z"
   },
   {
    "duration": 1636,
    "start_time": "2023-05-11T21:56:42.382Z"
   },
   {
    "duration": 1464,
    "start_time": "2023-05-11T21:57:39.036Z"
   },
   {
    "duration": 2445,
    "start_time": "2023-05-11T21:57:40.502Z"
   },
   {
    "duration": 8,
    "start_time": "2023-05-11T21:57:42.949Z"
   },
   {
    "duration": 65,
    "start_time": "2023-05-11T21:57:42.959Z"
   },
   {
    "duration": 70,
    "start_time": "2023-05-11T21:57:43.026Z"
   },
   {
    "duration": 52,
    "start_time": "2023-05-11T21:57:43.098Z"
   },
   {
    "duration": 26,
    "start_time": "2023-05-11T21:57:43.151Z"
   },
   {
    "duration": 1791,
    "start_time": "2023-05-11T21:57:43.179Z"
   },
   {
    "duration": 0,
    "start_time": "2023-05-11T21:57:44.972Z"
   },
   {
    "duration": 0,
    "start_time": "2023-05-11T21:57:44.973Z"
   },
   {
    "duration": 1,
    "start_time": "2023-05-11T21:57:44.974Z"
   },
   {
    "duration": 0,
    "start_time": "2023-05-11T21:57:44.976Z"
   },
   {
    "duration": 0,
    "start_time": "2023-05-11T21:57:44.977Z"
   },
   {
    "duration": 0,
    "start_time": "2023-05-11T21:57:44.978Z"
   },
   {
    "duration": 0,
    "start_time": "2023-05-11T21:57:44.979Z"
   },
   {
    "duration": 0,
    "start_time": "2023-05-11T21:57:44.980Z"
   },
   {
    "duration": 0,
    "start_time": "2023-05-11T21:57:44.981Z"
   },
   {
    "duration": 0,
    "start_time": "2023-05-11T21:57:44.982Z"
   },
   {
    "duration": 0,
    "start_time": "2023-05-11T21:57:44.983Z"
   },
   {
    "duration": 3,
    "start_time": "2023-05-11T21:58:47.887Z"
   },
   {
    "duration": 6085,
    "start_time": "2023-05-11T21:59:26.771Z"
   },
   {
    "duration": 18,
    "start_time": "2023-05-11T22:04:16.036Z"
   },
   {
    "duration": 1599,
    "start_time": "2023-05-11T22:04:43.743Z"
   },
   {
    "duration": 2394,
    "start_time": "2023-05-11T22:04:45.344Z"
   },
   {
    "duration": 8,
    "start_time": "2023-05-11T22:04:47.740Z"
   },
   {
    "duration": 61,
    "start_time": "2023-05-11T22:04:47.750Z"
   },
   {
    "duration": 2268,
    "start_time": "2023-05-11T22:04:49.510Z"
   },
   {
    "duration": 120,
    "start_time": "2023-05-11T22:05:27.501Z"
   },
   {
    "duration": 26,
    "start_time": "2023-05-11T22:05:42.660Z"
   },
   {
    "duration": 3,
    "start_time": "2023-05-11T22:05:44.839Z"
   },
   {
    "duration": 10,
    "start_time": "2023-05-11T22:05:57.136Z"
   },
   {
    "duration": 42419,
    "start_time": "2023-05-11T22:06:16.647Z"
   },
   {
    "duration": 787,
    "start_time": "2023-05-11T22:08:56.666Z"
   },
   {
    "duration": 120,
    "start_time": "2023-05-11T22:12:29.604Z"
   },
   {
    "duration": 125,
    "start_time": "2023-05-11T22:13:20.551Z"
   },
   {
    "duration": 12,
    "start_time": "2023-05-11T22:13:53.880Z"
   },
   {
    "duration": 25,
    "start_time": "2023-05-11T22:14:21.307Z"
   },
   {
    "duration": 8,
    "start_time": "2023-05-11T22:17:40.510Z"
   },
   {
    "duration": 109,
    "start_time": "2023-05-11T22:17:45.388Z"
   },
   {
    "duration": 5,
    "start_time": "2023-05-11T22:17:59.919Z"
   },
   {
    "duration": 15,
    "start_time": "2023-05-11T22:18:04.768Z"
   },
   {
    "duration": 12,
    "start_time": "2023-05-11T22:18:36.442Z"
   },
   {
    "duration": 7308,
    "start_time": "2023-05-11T22:19:06.964Z"
   },
   {
    "duration": 132,
    "start_time": "2023-05-11T22:19:14.274Z"
   },
   {
    "duration": 7243,
    "start_time": "2023-05-11T22:19:49.968Z"
   },
   {
    "duration": 129,
    "start_time": "2023-05-11T22:20:08.516Z"
   },
   {
    "duration": 18,
    "start_time": "2023-05-11T22:22:23.483Z"
   },
   {
    "duration": 159,
    "start_time": "2023-05-11T22:22:43.743Z"
   },
   {
    "duration": 1548,
    "start_time": "2023-05-11T22:24:02.654Z"
   },
   {
    "duration": 912,
    "start_time": "2023-05-11T22:24:04.204Z"
   },
   {
    "duration": 9,
    "start_time": "2023-05-11T22:24:05.118Z"
   },
   {
    "duration": 51,
    "start_time": "2023-05-11T22:24:05.130Z"
   },
   {
    "duration": 2322,
    "start_time": "2023-05-11T22:24:05.183Z"
   },
   {
    "duration": 40,
    "start_time": "2023-05-11T22:24:07.506Z"
   },
   {
    "duration": 5,
    "start_time": "2023-05-11T22:24:07.548Z"
   },
   {
    "duration": 42085,
    "start_time": "2023-05-11T22:24:07.555Z"
   },
   {
    "duration": 777,
    "start_time": "2023-05-11T22:24:49.647Z"
   },
   {
    "duration": 127,
    "start_time": "2023-05-11T22:24:50.427Z"
   },
   {
    "duration": 5,
    "start_time": "2023-05-11T22:24:50.556Z"
   },
   {
    "duration": 149,
    "start_time": "2023-05-11T22:24:50.562Z"
   },
   {
    "duration": 0,
    "start_time": "2023-05-11T22:24:50.714Z"
   },
   {
    "duration": 0,
    "start_time": "2023-05-11T22:24:50.715Z"
   },
   {
    "duration": 0,
    "start_time": "2023-05-11T22:24:50.717Z"
   },
   {
    "duration": 0,
    "start_time": "2023-05-11T22:24:50.718Z"
   },
   {
    "duration": 0,
    "start_time": "2023-05-11T22:24:50.720Z"
   },
   {
    "duration": 11,
    "start_time": "2023-05-11T22:27:41.326Z"
   },
   {
    "duration": 115,
    "start_time": "2023-05-11T22:27:51.324Z"
   },
   {
    "duration": 11,
    "start_time": "2023-05-11T22:27:52.115Z"
   },
   {
    "duration": 11,
    "start_time": "2023-05-11T22:28:00.843Z"
   },
   {
    "duration": 109,
    "start_time": "2023-05-11T22:28:19.147Z"
   },
   {
    "duration": 16,
    "start_time": "2023-05-11T22:28:20.096Z"
   },
   {
    "duration": 16,
    "start_time": "2023-05-11T22:29:17.076Z"
   },
   {
    "duration": 17,
    "start_time": "2023-05-11T22:29:37.764Z"
   },
   {
    "duration": 1461,
    "start_time": "2023-05-11T22:29:58.071Z"
   },
   {
    "duration": 906,
    "start_time": "2023-05-11T22:29:59.535Z"
   },
   {
    "duration": 8,
    "start_time": "2023-05-11T22:30:00.442Z"
   },
   {
    "duration": 59,
    "start_time": "2023-05-11T22:30:00.451Z"
   },
   {
    "duration": 2308,
    "start_time": "2023-05-11T22:30:00.512Z"
   },
   {
    "duration": 63,
    "start_time": "2023-05-11T22:30:02.821Z"
   },
   {
    "duration": 5,
    "start_time": "2023-05-11T22:30:02.886Z"
   },
   {
    "duration": 41818,
    "start_time": "2023-05-11T22:30:02.892Z"
   },
   {
    "duration": 756,
    "start_time": "2023-05-11T22:30:44.713Z"
   },
   {
    "duration": 114,
    "start_time": "2023-05-11T22:30:45.473Z"
   },
   {
    "duration": 123,
    "start_time": "2023-05-11T22:30:45.589Z"
   },
   {
    "duration": 0,
    "start_time": "2023-05-11T22:30:45.714Z"
   },
   {
    "duration": 0,
    "start_time": "2023-05-11T22:30:45.715Z"
   },
   {
    "duration": 0,
    "start_time": "2023-05-11T22:30:45.717Z"
   },
   {
    "duration": 1,
    "start_time": "2023-05-11T22:30:45.718Z"
   },
   {
    "duration": 0,
    "start_time": "2023-05-11T22:30:45.720Z"
   },
   {
    "duration": 0,
    "start_time": "2023-05-11T22:30:45.721Z"
   },
   {
    "duration": 108,
    "start_time": "2023-05-11T22:30:59.264Z"
   },
   {
    "duration": 12,
    "start_time": "2023-05-11T22:31:00.272Z"
   },
   {
    "duration": 18,
    "start_time": "2023-05-11T22:31:17.679Z"
   },
   {
    "duration": 1422,
    "start_time": "2023-05-11T22:31:53.399Z"
   },
   {
    "duration": 899,
    "start_time": "2023-05-11T22:31:54.823Z"
   },
   {
    "duration": 8,
    "start_time": "2023-05-11T22:31:55.724Z"
   },
   {
    "duration": 44,
    "start_time": "2023-05-11T22:31:55.735Z"
   },
   {
    "duration": 2311,
    "start_time": "2023-05-11T22:31:55.781Z"
   },
   {
    "duration": 37,
    "start_time": "2023-05-11T22:31:58.094Z"
   },
   {
    "duration": 3,
    "start_time": "2023-05-11T22:31:58.133Z"
   },
   {
    "duration": 41570,
    "start_time": "2023-05-11T22:31:58.138Z"
   },
   {
    "duration": 764,
    "start_time": "2023-05-11T22:32:39.710Z"
   },
   {
    "duration": 110,
    "start_time": "2023-05-11T22:32:40.477Z"
   },
   {
    "duration": 139,
    "start_time": "2023-05-11T22:32:40.589Z"
   },
   {
    "duration": 0,
    "start_time": "2023-05-11T22:32:40.729Z"
   },
   {
    "duration": 0,
    "start_time": "2023-05-11T22:32:40.731Z"
   },
   {
    "duration": 0,
    "start_time": "2023-05-11T22:32:40.732Z"
   },
   {
    "duration": 0,
    "start_time": "2023-05-11T22:32:40.733Z"
   },
   {
    "duration": 0,
    "start_time": "2023-05-11T22:32:40.746Z"
   },
   {
    "duration": 0,
    "start_time": "2023-05-11T22:32:40.747Z"
   },
   {
    "duration": 10,
    "start_time": "2023-05-11T22:35:16.385Z"
   },
   {
    "duration": 112,
    "start_time": "2023-05-11T22:35:25.178Z"
   },
   {
    "duration": 14,
    "start_time": "2023-05-11T22:35:25.594Z"
   },
   {
    "duration": 700,
    "start_time": "2023-05-11T22:36:18.094Z"
   },
   {
    "duration": 31,
    "start_time": "2023-05-11T22:36:21.727Z"
   },
   {
    "duration": 103,
    "start_time": "2023-05-11T22:38:25.958Z"
   },
   {
    "duration": 16,
    "start_time": "2023-05-11T22:38:28.152Z"
   },
   {
    "duration": 6972,
    "start_time": "2023-05-11T22:38:58.769Z"
   },
   {
    "duration": 210135,
    "start_time": "2023-05-11T22:39:11.852Z"
   },
   {
    "duration": 11,
    "start_time": "2023-05-11T22:42:41.989Z"
   },
   {
    "duration": 0,
    "start_time": "2023-05-11T22:42:42.002Z"
   },
   {
    "duration": 0,
    "start_time": "2023-05-11T22:42:42.003Z"
   },
   {
    "duration": 0,
    "start_time": "2023-05-11T22:42:42.004Z"
   },
   {
    "duration": 44,
    "start_time": "2023-05-11T22:43:43.006Z"
   },
   {
    "duration": 5,
    "start_time": "2023-05-11T22:43:43.652Z"
   },
   {
    "duration": 7348,
    "start_time": "2023-05-11T22:43:44.615Z"
   },
   {
    "duration": 204347,
    "start_time": "2023-05-11T22:44:01.921Z"
   },
   {
    "duration": 3196,
    "start_time": "2023-05-11T22:47:26.270Z"
   },
   {
    "duration": 18,
    "start_time": "2023-05-11T22:47:29.467Z"
   },
   {
    "duration": 125076,
    "start_time": "2023-05-11T22:47:29.488Z"
   },
   {
    "duration": 5678,
    "start_time": "2023-05-11T22:49:34.565Z"
   },
   {
    "duration": 13,
    "start_time": "2023-05-11T22:49:40.245Z"
   },
   {
    "duration": 2299,
    "start_time": "2023-05-12T16:12:18.920Z"
   },
   {
    "duration": 3216,
    "start_time": "2023-05-12T16:12:21.221Z"
   },
   {
    "duration": 7,
    "start_time": "2023-05-12T16:12:24.438Z"
   },
   {
    "duration": 34,
    "start_time": "2023-05-12T16:12:24.447Z"
   },
   {
    "duration": 4,
    "start_time": "2023-05-12T16:12:24.483Z"
   },
   {
    "duration": 26,
    "start_time": "2023-05-12T16:12:24.488Z"
   },
   {
    "duration": 3,
    "start_time": "2023-05-12T16:12:24.516Z"
   },
   {
    "duration": 37159,
    "start_time": "2023-05-12T16:12:24.520Z"
   },
   {
    "duration": 19,
    "start_time": "2023-05-12T16:13:01.681Z"
   },
   {
    "duration": 1589,
    "start_time": "2023-05-12T17:14:15.054Z"
   },
   {
    "duration": 3777,
    "start_time": "2023-05-12T17:14:16.645Z"
   },
   {
    "duration": 9,
    "start_time": "2023-05-12T17:14:20.424Z"
   },
   {
    "duration": 32,
    "start_time": "2023-05-12T17:14:20.434Z"
   },
   {
    "duration": 10,
    "start_time": "2023-05-12T17:14:20.467Z"
   },
   {
    "duration": 126,
    "start_time": "2023-05-12T17:14:20.481Z"
   },
   {
    "duration": 4,
    "start_time": "2023-05-12T17:14:20.609Z"
   },
   {
    "duration": 392,
    "start_time": "2023-05-12T17:14:20.615Z"
   },
   {
    "duration": 131,
    "start_time": "2023-05-12T17:14:21.010Z"
   },
   {
    "duration": 0,
    "start_time": "2023-05-12T17:14:21.143Z"
   },
   {
    "duration": 0,
    "start_time": "2023-05-12T17:14:21.144Z"
   },
   {
    "duration": 0,
    "start_time": "2023-05-12T17:14:21.145Z"
   },
   {
    "duration": 0,
    "start_time": "2023-05-12T17:14:21.146Z"
   },
   {
    "duration": 0,
    "start_time": "2023-05-12T17:14:21.147Z"
   },
   {
    "duration": 0,
    "start_time": "2023-05-12T17:14:21.148Z"
   },
   {
    "duration": 0,
    "start_time": "2023-05-12T17:14:21.149Z"
   },
   {
    "duration": 0,
    "start_time": "2023-05-12T17:14:21.150Z"
   },
   {
    "duration": 0,
    "start_time": "2023-05-12T17:14:21.151Z"
   },
   {
    "duration": 0,
    "start_time": "2023-05-12T17:14:21.152Z"
   },
   {
    "duration": 1534,
    "start_time": "2023-05-12T17:17:06.348Z"
   },
   {
    "duration": 1049,
    "start_time": "2023-05-12T17:17:07.884Z"
   },
   {
    "duration": 8,
    "start_time": "2023-05-12T17:17:08.934Z"
   },
   {
    "duration": 57,
    "start_time": "2023-05-12T17:17:08.944Z"
   },
   {
    "duration": 3,
    "start_time": "2023-05-12T17:17:09.002Z"
   },
   {
    "duration": 129,
    "start_time": "2023-05-12T17:17:09.007Z"
   },
   {
    "duration": 5,
    "start_time": "2023-05-12T17:17:09.139Z"
   },
   {
    "duration": 16,
    "start_time": "2023-05-12T17:17:09.146Z"
   },
   {
    "duration": 157,
    "start_time": "2023-05-12T17:17:09.166Z"
   },
   {
    "duration": 0,
    "start_time": "2023-05-12T17:17:09.325Z"
   },
   {
    "duration": 0,
    "start_time": "2023-05-12T17:17:09.327Z"
   },
   {
    "duration": 0,
    "start_time": "2023-05-12T17:17:09.328Z"
   },
   {
    "duration": 0,
    "start_time": "2023-05-12T17:17:09.330Z"
   },
   {
    "duration": 0,
    "start_time": "2023-05-12T17:17:09.332Z"
   },
   {
    "duration": 0,
    "start_time": "2023-05-12T17:17:09.333Z"
   },
   {
    "duration": 0,
    "start_time": "2023-05-12T17:17:09.334Z"
   },
   {
    "duration": 0,
    "start_time": "2023-05-12T17:17:09.335Z"
   },
   {
    "duration": 0,
    "start_time": "2023-05-12T17:17:09.336Z"
   },
   {
    "duration": 0,
    "start_time": "2023-05-12T17:17:09.338Z"
   },
   {
    "duration": 1569,
    "start_time": "2023-05-12T17:17:53.904Z"
   },
   {
    "duration": 976,
    "start_time": "2023-05-12T17:17:55.475Z"
   },
   {
    "duration": 8,
    "start_time": "2023-05-12T17:17:56.453Z"
   },
   {
    "duration": 45,
    "start_time": "2023-05-12T17:17:56.463Z"
   },
   {
    "duration": 4,
    "start_time": "2023-05-12T17:17:56.510Z"
   },
   {
    "duration": 93,
    "start_time": "2023-05-12T17:17:56.516Z"
   },
   {
    "duration": 5,
    "start_time": "2023-05-12T17:17:56.611Z"
   },
   {
    "duration": 11,
    "start_time": "2023-05-12T17:17:56.618Z"
   },
   {
    "duration": 12,
    "start_time": "2023-05-12T17:17:56.631Z"
   },
   {
    "duration": 296,
    "start_time": "2023-05-12T17:17:56.646Z"
   },
   {
    "duration": 0,
    "start_time": "2023-05-12T17:17:56.944Z"
   },
   {
    "duration": 0,
    "start_time": "2023-05-12T17:17:56.945Z"
   },
   {
    "duration": 0,
    "start_time": "2023-05-12T17:17:56.946Z"
   },
   {
    "duration": 0,
    "start_time": "2023-05-12T17:17:56.947Z"
   },
   {
    "duration": 0,
    "start_time": "2023-05-12T17:17:56.948Z"
   },
   {
    "duration": 0,
    "start_time": "2023-05-12T17:17:56.949Z"
   },
   {
    "duration": 0,
    "start_time": "2023-05-12T17:17:56.950Z"
   },
   {
    "duration": 0,
    "start_time": "2023-05-12T17:17:56.951Z"
   },
   {
    "duration": 0,
    "start_time": "2023-05-12T17:17:56.952Z"
   },
   {
    "duration": 0,
    "start_time": "2023-05-12T17:17:56.953Z"
   },
   {
    "duration": 1549,
    "start_time": "2023-05-12T17:18:56.519Z"
   },
   {
    "duration": 1035,
    "start_time": "2023-05-12T17:18:58.070Z"
   },
   {
    "duration": 8,
    "start_time": "2023-05-12T17:18:59.107Z"
   },
   {
    "duration": 37,
    "start_time": "2023-05-12T17:18:59.117Z"
   },
   {
    "duration": 3,
    "start_time": "2023-05-12T17:18:59.156Z"
   },
   {
    "duration": 81,
    "start_time": "2023-05-12T17:18:59.178Z"
   },
   {
    "duration": 5,
    "start_time": "2023-05-12T17:18:59.260Z"
   },
   {
    "duration": 11,
    "start_time": "2023-05-12T17:18:59.267Z"
   },
   {
    "duration": 14,
    "start_time": "2023-05-12T17:18:59.280Z"
   },
   {
    "duration": 1487344,
    "start_time": "2023-05-12T17:18:59.296Z"
   },
   {
    "duration": 47,
    "start_time": "2023-05-12T17:43:46.642Z"
   },
   {
    "duration": 67,
    "start_time": "2023-05-12T17:43:46.691Z"
   },
   {
    "duration": 5,
    "start_time": "2023-05-12T17:43:46.760Z"
   },
   {
    "duration": 8306,
    "start_time": "2023-05-12T17:43:46.766Z"
   },
   {
    "duration": 180034,
    "start_time": "2023-05-12T17:43:55.074Z"
   },
   {
    "duration": 3281,
    "start_time": "2023-05-12T17:46:55.110Z"
   },
   {
    "duration": 18,
    "start_time": "2023-05-12T17:46:58.393Z"
   },
   {
    "duration": 146315,
    "start_time": "2023-05-12T17:46:58.412Z"
   },
   {
    "duration": 5838,
    "start_time": "2023-05-12T17:49:24.729Z"
   },
   {
    "duration": 13,
    "start_time": "2023-05-12T17:49:30.568Z"
   },
   {
    "duration": 14,
    "start_time": "2023-05-12T18:25:26.575Z"
   }
  ],
  "kernelspec": {
   "display_name": "Python 3 (ipykernel)",
   "language": "python",
   "name": "python3"
  },
  "language_info": {
   "codemirror_mode": {
    "name": "ipython",
    "version": 3
   },
   "file_extension": ".py",
   "mimetype": "text/x-python",
   "name": "python",
   "nbconvert_exporter": "python",
   "pygments_lexer": "ipython3",
   "version": "3.9.5"
  },
  "toc": {
   "base_numbering": 1,
   "nav_menu": {},
   "number_sections": true,
   "sideBar": true,
   "skip_h1_title": true,
   "title_cell": "Содержание",
   "title_sidebar": "Contents",
   "toc_cell": true,
   "toc_position": {
    "height": "calc(100% - 180px)",
    "left": "10px",
    "top": "150px",
    "width": "302.391px"
   },
   "toc_section_display": true,
   "toc_window_display": false
  }
 },
 "nbformat": 4,
 "nbformat_minor": 2
}
