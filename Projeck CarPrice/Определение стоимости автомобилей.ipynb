{
 "cells": [
  {
   "cell_type": "markdown",
   "metadata": {},
   "source": [
    "# Определение стоимости автомобилей"
   ]
  },
  {
   "cell_type": "markdown",
   "metadata": {},
   "source": [
    "Сервис по продаже автомобилей с пробегом «Не бит, не крашен» разрабатывает приложение для привлечения новых клиентов. В нём можно быстро узнать рыночную стоимость своего автомобиля. В вашем распоряжении исторические данные: технические характеристики, комплектации и цены автомобилей. Вам нужно построить модель для определения стоимости. \n",
    "\n",
    "Заказчику важны:\n",
    "\n",
    "- качество предсказания;\n",
    "- скорость предсказания;\n",
    "- время обучения."
   ]
  },
  {
   "cell_type": "markdown",
   "metadata": {},
   "source": [
    "## Подготовка данных"
   ]
  },
  {
   "cell_type": "code",
   "execution_count": 1,
   "metadata": {},
   "outputs": [],
   "source": [
    "#Подгружаем библиотеки\n",
    "import pandas as pd\n",
    "import seaborn as sns\n",
    "import matplotlib.pyplot as plt\n",
    "import numpy as np\n",
    "import lightgbm as lgb\n",
    "import lightgbm as lgm\n",
    "import copy\n",
    "import time\n",
    "from scipy.stats import norm\n",
    "from sklearn.model_selection import KFold\n",
    "from sklearn.model_selection import GridSearchCV\n",
    "from sklearn.model_selection import train_test_split\n",
    "from catboost import CatBoostRegressor\n",
    "from sklearn.metrics import mean_squared_error\n",
    "from sklearn.base import BaseEstimator\n",
    "from sklearn.ensemble import RandomForestRegressor\n",
    "\n",
    "import warnings\n",
    "warnings.filterwarnings('ignore')"
   ]
  },
  {
   "cell_type": "code",
   "execution_count": 2,
   "metadata": {},
   "outputs": [
    {
     "data": {
      "text/html": [
       "<div>\n",
       "<style scoped>\n",
       "    .dataframe tbody tr th:only-of-type {\n",
       "        vertical-align: middle;\n",
       "    }\n",
       "\n",
       "    .dataframe tbody tr th {\n",
       "        vertical-align: top;\n",
       "    }\n",
       "\n",
       "    .dataframe thead th {\n",
       "        text-align: right;\n",
       "    }\n",
       "</style>\n",
       "<table border=\"1\" class=\"dataframe\">\n",
       "  <thead>\n",
       "    <tr style=\"text-align: right;\">\n",
       "      <th></th>\n",
       "      <th>DateCrawled</th>\n",
       "      <th>Price</th>\n",
       "      <th>VehicleType</th>\n",
       "      <th>RegistrationYear</th>\n",
       "      <th>Gearbox</th>\n",
       "      <th>Power</th>\n",
       "      <th>Model</th>\n",
       "      <th>Kilometer</th>\n",
       "      <th>RegistrationMonth</th>\n",
       "      <th>FuelType</th>\n",
       "      <th>Brand</th>\n",
       "      <th>Repaired</th>\n",
       "      <th>DateCreated</th>\n",
       "      <th>NumberOfPictures</th>\n",
       "      <th>PostalCode</th>\n",
       "      <th>LastSeen</th>\n",
       "    </tr>\n",
       "  </thead>\n",
       "  <tbody>\n",
       "    <tr>\n",
       "      <th>0</th>\n",
       "      <td>2016-03-24 11:52:17</td>\n",
       "      <td>480</td>\n",
       "      <td>NaN</td>\n",
       "      <td>1993</td>\n",
       "      <td>manual</td>\n",
       "      <td>0</td>\n",
       "      <td>golf</td>\n",
       "      <td>150000</td>\n",
       "      <td>0</td>\n",
       "      <td>petrol</td>\n",
       "      <td>volkswagen</td>\n",
       "      <td>NaN</td>\n",
       "      <td>2016-03-24 00:00:00</td>\n",
       "      <td>0</td>\n",
       "      <td>70435</td>\n",
       "      <td>2016-04-07 03:16:57</td>\n",
       "    </tr>\n",
       "    <tr>\n",
       "      <th>1</th>\n",
       "      <td>2016-03-24 10:58:45</td>\n",
       "      <td>18300</td>\n",
       "      <td>coupe</td>\n",
       "      <td>2011</td>\n",
       "      <td>manual</td>\n",
       "      <td>190</td>\n",
       "      <td>NaN</td>\n",
       "      <td>125000</td>\n",
       "      <td>5</td>\n",
       "      <td>gasoline</td>\n",
       "      <td>audi</td>\n",
       "      <td>yes</td>\n",
       "      <td>2016-03-24 00:00:00</td>\n",
       "      <td>0</td>\n",
       "      <td>66954</td>\n",
       "      <td>2016-04-07 01:46:50</td>\n",
       "    </tr>\n",
       "    <tr>\n",
       "      <th>2</th>\n",
       "      <td>2016-03-14 12:52:21</td>\n",
       "      <td>9800</td>\n",
       "      <td>suv</td>\n",
       "      <td>2004</td>\n",
       "      <td>auto</td>\n",
       "      <td>163</td>\n",
       "      <td>grand</td>\n",
       "      <td>125000</td>\n",
       "      <td>8</td>\n",
       "      <td>gasoline</td>\n",
       "      <td>jeep</td>\n",
       "      <td>NaN</td>\n",
       "      <td>2016-03-14 00:00:00</td>\n",
       "      <td>0</td>\n",
       "      <td>90480</td>\n",
       "      <td>2016-04-05 12:47:46</td>\n",
       "    </tr>\n",
       "    <tr>\n",
       "      <th>3</th>\n",
       "      <td>2016-03-17 16:54:04</td>\n",
       "      <td>1500</td>\n",
       "      <td>small</td>\n",
       "      <td>2001</td>\n",
       "      <td>manual</td>\n",
       "      <td>75</td>\n",
       "      <td>golf</td>\n",
       "      <td>150000</td>\n",
       "      <td>6</td>\n",
       "      <td>petrol</td>\n",
       "      <td>volkswagen</td>\n",
       "      <td>no</td>\n",
       "      <td>2016-03-17 00:00:00</td>\n",
       "      <td>0</td>\n",
       "      <td>91074</td>\n",
       "      <td>2016-03-17 17:40:17</td>\n",
       "    </tr>\n",
       "    <tr>\n",
       "      <th>4</th>\n",
       "      <td>2016-03-31 17:25:20</td>\n",
       "      <td>3600</td>\n",
       "      <td>small</td>\n",
       "      <td>2008</td>\n",
       "      <td>manual</td>\n",
       "      <td>69</td>\n",
       "      <td>fabia</td>\n",
       "      <td>90000</td>\n",
       "      <td>7</td>\n",
       "      <td>gasoline</td>\n",
       "      <td>skoda</td>\n",
       "      <td>no</td>\n",
       "      <td>2016-03-31 00:00:00</td>\n",
       "      <td>0</td>\n",
       "      <td>60437</td>\n",
       "      <td>2016-04-06 10:17:21</td>\n",
       "    </tr>\n",
       "  </tbody>\n",
       "</table>\n",
       "</div>"
      ],
      "text/plain": [
       "           DateCrawled  Price VehicleType  RegistrationYear Gearbox  Power  \\\n",
       "0  2016-03-24 11:52:17    480         NaN              1993  manual      0   \n",
       "1  2016-03-24 10:58:45  18300       coupe              2011  manual    190   \n",
       "2  2016-03-14 12:52:21   9800         suv              2004    auto    163   \n",
       "3  2016-03-17 16:54:04   1500       small              2001  manual     75   \n",
       "4  2016-03-31 17:25:20   3600       small              2008  manual     69   \n",
       "\n",
       "   Model  Kilometer  RegistrationMonth  FuelType       Brand Repaired  \\\n",
       "0   golf     150000                  0    petrol  volkswagen      NaN   \n",
       "1    NaN     125000                  5  gasoline        audi      yes   \n",
       "2  grand     125000                  8  gasoline        jeep      NaN   \n",
       "3   golf     150000                  6    petrol  volkswagen       no   \n",
       "4  fabia      90000                  7  gasoline       skoda       no   \n",
       "\n",
       "           DateCreated  NumberOfPictures  PostalCode             LastSeen  \n",
       "0  2016-03-24 00:00:00                 0       70435  2016-04-07 03:16:57  \n",
       "1  2016-03-24 00:00:00                 0       66954  2016-04-07 01:46:50  \n",
       "2  2016-03-14 00:00:00                 0       90480  2016-04-05 12:47:46  \n",
       "3  2016-03-17 00:00:00                 0       91074  2016-03-17 17:40:17  \n",
       "4  2016-03-31 00:00:00                 0       60437  2016-04-06 10:17:21  "
      ]
     },
     "execution_count": 2,
     "metadata": {},
     "output_type": "execute_result"
    }
   ],
   "source": [
    "#Подгружаем датасет\n",
    "data = pd.read_csv('/datasets/autos.csv')\n",
    "data.head(5)"
   ]
  },
  {
   "cell_type": "code",
   "execution_count": 3,
   "metadata": {},
   "outputs": [
    {
     "name": "stdout",
     "output_type": "stream",
     "text": [
      "<class 'pandas.core.frame.DataFrame'>\n",
      "RangeIndex: 354369 entries, 0 to 354368\n",
      "Data columns (total 16 columns):\n",
      " #   Column             Non-Null Count   Dtype \n",
      "---  ------             --------------   ----- \n",
      " 0   DateCrawled        354369 non-null  object\n",
      " 1   Price              354369 non-null  int64 \n",
      " 2   VehicleType        316879 non-null  object\n",
      " 3   RegistrationYear   354369 non-null  int64 \n",
      " 4   Gearbox            334536 non-null  object\n",
      " 5   Power              354369 non-null  int64 \n",
      " 6   Model              334664 non-null  object\n",
      " 7   Kilometer          354369 non-null  int64 \n",
      " 8   RegistrationMonth  354369 non-null  int64 \n",
      " 9   FuelType           321474 non-null  object\n",
      " 10  Brand              354369 non-null  object\n",
      " 11  Repaired           283215 non-null  object\n",
      " 12  DateCreated        354369 non-null  object\n",
      " 13  NumberOfPictures   354369 non-null  int64 \n",
      " 14  PostalCode         354369 non-null  int64 \n",
      " 15  LastSeen           354369 non-null  object\n",
      "dtypes: int64(7), object(9)\n",
      "memory usage: 43.3+ MB\n"
     ]
    }
   ],
   "source": [
    "data.info()"
   ]
  },
  {
   "cell_type": "code",
   "execution_count": 4,
   "metadata": {
    "scrolled": true
   },
   "outputs": [
    {
     "data": {
      "text/html": [
       "<div>\n",
       "<style scoped>\n",
       "    .dataframe tbody tr th:only-of-type {\n",
       "        vertical-align: middle;\n",
       "    }\n",
       "\n",
       "    .dataframe tbody tr th {\n",
       "        vertical-align: top;\n",
       "    }\n",
       "\n",
       "    .dataframe thead th {\n",
       "        text-align: right;\n",
       "    }\n",
       "</style>\n",
       "<table border=\"1\" class=\"dataframe\">\n",
       "  <thead>\n",
       "    <tr style=\"text-align: right;\">\n",
       "      <th></th>\n",
       "      <th>Price</th>\n",
       "      <th>RegistrationYear</th>\n",
       "      <th>Power</th>\n",
       "      <th>Kilometer</th>\n",
       "      <th>RegistrationMonth</th>\n",
       "      <th>NumberOfPictures</th>\n",
       "      <th>PostalCode</th>\n",
       "    </tr>\n",
       "  </thead>\n",
       "  <tbody>\n",
       "    <tr>\n",
       "      <th>count</th>\n",
       "      <td>354369.000000</td>\n",
       "      <td>354369.000000</td>\n",
       "      <td>354369.000000</td>\n",
       "      <td>354369.000000</td>\n",
       "      <td>354369.000000</td>\n",
       "      <td>354369.0</td>\n",
       "      <td>354369.000000</td>\n",
       "    </tr>\n",
       "    <tr>\n",
       "      <th>mean</th>\n",
       "      <td>4416.656776</td>\n",
       "      <td>2004.234448</td>\n",
       "      <td>110.094337</td>\n",
       "      <td>128211.172535</td>\n",
       "      <td>5.714645</td>\n",
       "      <td>0.0</td>\n",
       "      <td>50508.689087</td>\n",
       "    </tr>\n",
       "    <tr>\n",
       "      <th>std</th>\n",
       "      <td>4514.158514</td>\n",
       "      <td>90.227958</td>\n",
       "      <td>189.850405</td>\n",
       "      <td>37905.341530</td>\n",
       "      <td>3.726421</td>\n",
       "      <td>0.0</td>\n",
       "      <td>25783.096248</td>\n",
       "    </tr>\n",
       "    <tr>\n",
       "      <th>min</th>\n",
       "      <td>0.000000</td>\n",
       "      <td>1000.000000</td>\n",
       "      <td>0.000000</td>\n",
       "      <td>5000.000000</td>\n",
       "      <td>0.000000</td>\n",
       "      <td>0.0</td>\n",
       "      <td>1067.000000</td>\n",
       "    </tr>\n",
       "    <tr>\n",
       "      <th>25%</th>\n",
       "      <td>1050.000000</td>\n",
       "      <td>1999.000000</td>\n",
       "      <td>69.000000</td>\n",
       "      <td>125000.000000</td>\n",
       "      <td>3.000000</td>\n",
       "      <td>0.0</td>\n",
       "      <td>30165.000000</td>\n",
       "    </tr>\n",
       "    <tr>\n",
       "      <th>50%</th>\n",
       "      <td>2700.000000</td>\n",
       "      <td>2003.000000</td>\n",
       "      <td>105.000000</td>\n",
       "      <td>150000.000000</td>\n",
       "      <td>6.000000</td>\n",
       "      <td>0.0</td>\n",
       "      <td>49413.000000</td>\n",
       "    </tr>\n",
       "    <tr>\n",
       "      <th>75%</th>\n",
       "      <td>6400.000000</td>\n",
       "      <td>2008.000000</td>\n",
       "      <td>143.000000</td>\n",
       "      <td>150000.000000</td>\n",
       "      <td>9.000000</td>\n",
       "      <td>0.0</td>\n",
       "      <td>71083.000000</td>\n",
       "    </tr>\n",
       "    <tr>\n",
       "      <th>max</th>\n",
       "      <td>20000.000000</td>\n",
       "      <td>9999.000000</td>\n",
       "      <td>20000.000000</td>\n",
       "      <td>150000.000000</td>\n",
       "      <td>12.000000</td>\n",
       "      <td>0.0</td>\n",
       "      <td>99998.000000</td>\n",
       "    </tr>\n",
       "  </tbody>\n",
       "</table>\n",
       "</div>"
      ],
      "text/plain": [
       "               Price  RegistrationYear          Power      Kilometer  \\\n",
       "count  354369.000000     354369.000000  354369.000000  354369.000000   \n",
       "mean     4416.656776       2004.234448     110.094337  128211.172535   \n",
       "std      4514.158514         90.227958     189.850405   37905.341530   \n",
       "min         0.000000       1000.000000       0.000000    5000.000000   \n",
       "25%      1050.000000       1999.000000      69.000000  125000.000000   \n",
       "50%      2700.000000       2003.000000     105.000000  150000.000000   \n",
       "75%      6400.000000       2008.000000     143.000000  150000.000000   \n",
       "max     20000.000000       9999.000000   20000.000000  150000.000000   \n",
       "\n",
       "       RegistrationMonth  NumberOfPictures     PostalCode  \n",
       "count      354369.000000          354369.0  354369.000000  \n",
       "mean            5.714645               0.0   50508.689087  \n",
       "std             3.726421               0.0   25783.096248  \n",
       "min             0.000000               0.0    1067.000000  \n",
       "25%             3.000000               0.0   30165.000000  \n",
       "50%             6.000000               0.0   49413.000000  \n",
       "75%             9.000000               0.0   71083.000000  \n",
       "max            12.000000               0.0   99998.000000  "
      ]
     },
     "execution_count": 4,
     "metadata": {},
     "output_type": "execute_result"
    }
   ],
   "source": [
    "data.describe()"
   ]
  },
  {
   "cell_type": "code",
   "execution_count": 5,
   "metadata": {},
   "outputs": [],
   "source": [
    "# избавимся от ненужных колонок и выделим категориальные\n",
    "data.columns = ['DateCrawled', 'Price', 'VehicleType_cat', 'RegistrationYear', 'Gearbox_cat',\n",
    "       'Power', 'Model_cat', 'Kilometer', 'RegistrationMonth', 'FuelType_cat', 'Brand_cat',\n",
    "       'Repaired_cat', 'DateCreated', 'NumberOfPictures', 'PostalCode',\n",
    "       'LastSeen']\n",
    "\n",
    "data = data.drop(['DateCrawled','DateCreated','LastSeen','NumberOfPictures', 'PostalCode'], axis=1)\n",
    "\n",
    "category_columns = ['VehicleType_cat', 'Gearbox_cat', 'Model_cat', 'FuelType_cat',\n",
    "           'Brand_cat', 'RegistrationMonth_cat', 'Repaired_cat']"
   ]
  },
  {
   "cell_type": "code",
   "execution_count": 6,
   "metadata": {},
   "outputs": [
    {
     "data": {
      "text/plain": [
       "27543"
      ]
     },
     "execution_count": 6,
     "metadata": {},
     "output_type": "execute_result"
    }
   ],
   "source": [
    "data.duplicated().sum()"
   ]
  },
  {
   "cell_type": "code",
   "execution_count": 7,
   "metadata": {},
   "outputs": [],
   "source": [
    "#Удаляем пропуски\n",
    "data.drop_duplicates(inplace=True)"
   ]
  },
  {
   "cell_type": "code",
   "execution_count": 8,
   "metadata": {},
   "outputs": [
    {
     "data": {
      "text/plain": [
       "Price                    0\n",
       "VehicleType_cat      35249\n",
       "RegistrationYear         0\n",
       "Gearbox_cat          17578\n",
       "Power                    0\n",
       "Model_cat            18532\n",
       "Kilometer                0\n",
       "RegistrationMonth        0\n",
       "FuelType_cat         31122\n",
       "Brand_cat                0\n",
       "Repaired_cat         66427\n",
       "dtype: int64"
      ]
     },
     "execution_count": 8,
     "metadata": {},
     "output_type": "execute_result"
    }
   ],
   "source": [
    "#Изучаем пропуски\n",
    "nan = data.isna().sum()\n",
    "nan"
   ]
  },
  {
   "cell_type": "code",
   "execution_count": 9,
   "metadata": {},
   "outputs": [
    {
     "data": {
      "text/plain": [
       "Repaired_cat         0.203249\n",
       "VehicleType_cat      0.107852\n",
       "FuelType_cat         0.095225\n",
       "Model_cat            0.056703\n",
       "Gearbox_cat          0.053784\n",
       "Price                0.000000\n",
       "RegistrationYear     0.000000\n",
       "Power                0.000000\n",
       "Kilometer            0.000000\n",
       "RegistrationMonth    0.000000\n",
       "Brand_cat            0.000000\n",
       "dtype: float64"
      ]
     },
     "execution_count": 9,
     "metadata": {},
     "output_type": "execute_result"
    }
   ],
   "source": [
    "perc_nan = nan / data.shape[0]\n",
    "perc_nan.sort_values(ascending=False)"
   ]
  },
  {
   "cell_type": "code",
   "execution_count": 10,
   "metadata": {},
   "outputs": [
    {
     "data": {
      "text/plain": [
       "<AxesSubplot:ylabel='Density'>"
      ]
     },
     "execution_count": 10,
     "metadata": {},
     "output_type": "execute_result"
    },
    {
     "data": {
      "image/png": "[encoded data removed]",
      "text/plain": [
       "<Figure size 432x288 with 1 Axes>"
      ]
     },
     "metadata": {
      "needs_background": "light"
     },
     "output_type": "display_data"
    }
   ],
   "source": [
    "sns.distplot(perc_nan, rug=True, rug_kws={\"color\": \"r\"})"
   ]
  },
  {
   "cell_type": "code",
   "execution_count": 11,
   "metadata": {},
   "outputs": [],
   "source": [
    "#data.dropna(subset=['VehicleType_cat', 'Gearbox_cat', 'Model_cat', 'FuelType_cat', 'Repaired_cat'], inplace=True)"
   ]
  },
  {
   "cell_type": "code",
   "execution_count": 12,
   "metadata": {},
   "outputs": [
    {
     "name": "stdout",
     "output_type": "stream",
     "text": [
      "<class 'pandas.core.frame.DataFrame'>\n",
      "Int64Index: 326826 entries, 0 to 354368\n",
      "Data columns (total 11 columns):\n",
      " #   Column             Non-Null Count   Dtype \n",
      "---  ------             --------------   ----- \n",
      " 0   Price              326826 non-null  int64 \n",
      " 1   VehicleType_cat    326826 non-null  object\n",
      " 2   RegistrationYear   326826 non-null  int64 \n",
      " 3   Gearbox_cat        326826 non-null  object\n",
      " 4   Power              326826 non-null  int64 \n",
      " 5   Model_cat          326826 non-null  object\n",
      " 6   Kilometer          326826 non-null  int64 \n",
      " 7   RegistrationMonth  326826 non-null  int64 \n",
      " 8   FuelType_cat       326826 non-null  object\n",
      " 9   Brand_cat          326826 non-null  object\n",
      " 10  Repaired_cat       326826 non-null  object\n",
      "dtypes: int64(5), object(6)\n",
      "memory usage: 29.9+ MB\n"
     ]
    }
   ],
   "source": [
    "data['VehicleType_cat'] = data['VehicleType_cat'].fillna('unk')\n",
    "data['Gearbox_cat'] = data['Gearbox_cat'].fillna('unk')\n",
    "data['Model_cat'] = data['Model_cat'].fillna('unk')\n",
    "data['FuelType_cat'] = data['FuelType_cat'].fillna('unk')\n",
    "data['Repaired_cat'] = data['Repaired_cat'].fillna('unk')\n",
    "data.info()"
   ]
  },
  {
   "cell_type": "code",
   "execution_count": 13,
   "metadata": {},
   "outputs": [
    {
     "data": {
      "image/png": "[encoded data removed]",
      "text/plain": [
       "<Figure size 432x288 with 1 Axes>"
      ]
     },
     "metadata": {
      "needs_background": "light"
     },
     "output_type": "display_data"
    },
    {
     "data": {
      "image/png": "[encoded data removed]",
      "text/plain": [
       "<Figure size 432x288 with 1 Axes>"
      ]
     },
     "metadata": {
      "needs_background": "light"
     },
     "output_type": "display_data"
    },
    {
     "data": {
      "image/png": "[encoded data removed]",
      "text/plain": [
       "<Figure size 432x288 with 1 Axes>"
      ]
     },
     "metadata": {
      "needs_background": "light"
     },
     "output_type": "display_data"
    }
   ],
   "source": [
    "#Изучаем аномалии\n",
    "for a in ['Power','Kilometer','Price']:\n",
    "    sns.boxplot(data[a]) \n",
    "    plt.show()"
   ]
  },
  {
   "cell_type": "markdown",
   "metadata": {},
   "source": [
    "Видим явные аномалии в цене, надо сделать по ним срез. И много нулевых значений с цене и мощности, их можно заменить средним значением. Сделаем сводные таблицы и в них заменим на средние, а затем применим их к основному датасету"
   ]
  },
  {
   "cell_type": "code",
   "execution_count": 14,
   "metadata": {},
   "outputs": [
    {
     "data": {
      "text/html": [
       "<div>\n",
       "<style scoped>\n",
       "    .dataframe tbody tr th:only-of-type {\n",
       "        vertical-align: middle;\n",
       "    }\n",
       "\n",
       "    .dataframe tbody tr th {\n",
       "        vertical-align: top;\n",
       "    }\n",
       "\n",
       "    .dataframe thead th {\n",
       "        text-align: right;\n",
       "    }\n",
       "</style>\n",
       "<table border=\"1\" class=\"dataframe\">\n",
       "  <thead>\n",
       "    <tr style=\"text-align: right;\">\n",
       "      <th></th>\n",
       "      <th>Price</th>\n",
       "      <th>VehicleType_cat</th>\n",
       "      <th>RegistrationYear</th>\n",
       "      <th>Gearbox_cat</th>\n",
       "      <th>Power</th>\n",
       "      <th>Model_cat</th>\n",
       "      <th>Kilometer</th>\n",
       "      <th>RegistrationMonth</th>\n",
       "      <th>FuelType_cat</th>\n",
       "      <th>Brand_cat</th>\n",
       "      <th>Repaired_cat</th>\n",
       "    </tr>\n",
       "  </thead>\n",
       "  <tbody>\n",
       "    <tr>\n",
       "      <th>0</th>\n",
       "      <td>480</td>\n",
       "      <td>unk</td>\n",
       "      <td>1993</td>\n",
       "      <td>manual</td>\n",
       "      <td>95</td>\n",
       "      <td>golf</td>\n",
       "      <td>150000</td>\n",
       "      <td>0</td>\n",
       "      <td>petrol</td>\n",
       "      <td>volkswagen</td>\n",
       "      <td>unk</td>\n",
       "    </tr>\n",
       "    <tr>\n",
       "      <th>2</th>\n",
       "      <td>9800</td>\n",
       "      <td>suv</td>\n",
       "      <td>2004</td>\n",
       "      <td>auto</td>\n",
       "      <td>163</td>\n",
       "      <td>grand</td>\n",
       "      <td>125000</td>\n",
       "      <td>8</td>\n",
       "      <td>gasoline</td>\n",
       "      <td>jeep</td>\n",
       "      <td>unk</td>\n",
       "    </tr>\n",
       "    <tr>\n",
       "      <th>3</th>\n",
       "      <td>1500</td>\n",
       "      <td>small</td>\n",
       "      <td>2001</td>\n",
       "      <td>manual</td>\n",
       "      <td>75</td>\n",
       "      <td>golf</td>\n",
       "      <td>150000</td>\n",
       "      <td>6</td>\n",
       "      <td>petrol</td>\n",
       "      <td>volkswagen</td>\n",
       "      <td>no</td>\n",
       "    </tr>\n",
       "    <tr>\n",
       "      <th>4</th>\n",
       "      <td>3600</td>\n",
       "      <td>small</td>\n",
       "      <td>2008</td>\n",
       "      <td>manual</td>\n",
       "      <td>69</td>\n",
       "      <td>fabia</td>\n",
       "      <td>90000</td>\n",
       "      <td>7</td>\n",
       "      <td>gasoline</td>\n",
       "      <td>skoda</td>\n",
       "      <td>no</td>\n",
       "    </tr>\n",
       "    <tr>\n",
       "      <th>5</th>\n",
       "      <td>650</td>\n",
       "      <td>sedan</td>\n",
       "      <td>1995</td>\n",
       "      <td>manual</td>\n",
       "      <td>102</td>\n",
       "      <td>3er</td>\n",
       "      <td>150000</td>\n",
       "      <td>10</td>\n",
       "      <td>petrol</td>\n",
       "      <td>bmw</td>\n",
       "      <td>yes</td>\n",
       "    </tr>\n",
       "    <tr>\n",
       "      <th>6</th>\n",
       "      <td>2200</td>\n",
       "      <td>convertible</td>\n",
       "      <td>2004</td>\n",
       "      <td>manual</td>\n",
       "      <td>109</td>\n",
       "      <td>2_reihe</td>\n",
       "      <td>150000</td>\n",
       "      <td>8</td>\n",
       "      <td>petrol</td>\n",
       "      <td>peugeot</td>\n",
       "      <td>no</td>\n",
       "    </tr>\n",
       "    <tr>\n",
       "      <th>7</th>\n",
       "      <td>3554</td>\n",
       "      <td>sedan</td>\n",
       "      <td>1980</td>\n",
       "      <td>manual</td>\n",
       "      <td>50</td>\n",
       "      <td>other</td>\n",
       "      <td>40000</td>\n",
       "      <td>7</td>\n",
       "      <td>petrol</td>\n",
       "      <td>volkswagen</td>\n",
       "      <td>no</td>\n",
       "    </tr>\n",
       "    <tr>\n",
       "      <th>9</th>\n",
       "      <td>999</td>\n",
       "      <td>small</td>\n",
       "      <td>1998</td>\n",
       "      <td>manual</td>\n",
       "      <td>101</td>\n",
       "      <td>golf</td>\n",
       "      <td>150000</td>\n",
       "      <td>0</td>\n",
       "      <td>unk</td>\n",
       "      <td>volkswagen</td>\n",
       "      <td>unk</td>\n",
       "    </tr>\n",
       "    <tr>\n",
       "      <th>10</th>\n",
       "      <td>2000</td>\n",
       "      <td>sedan</td>\n",
       "      <td>2004</td>\n",
       "      <td>manual</td>\n",
       "      <td>105</td>\n",
       "      <td>3_reihe</td>\n",
       "      <td>150000</td>\n",
       "      <td>12</td>\n",
       "      <td>petrol</td>\n",
       "      <td>mazda</td>\n",
       "      <td>no</td>\n",
       "    </tr>\n",
       "    <tr>\n",
       "      <th>11</th>\n",
       "      <td>2799</td>\n",
       "      <td>wagon</td>\n",
       "      <td>2005</td>\n",
       "      <td>manual</td>\n",
       "      <td>140</td>\n",
       "      <td>passat</td>\n",
       "      <td>150000</td>\n",
       "      <td>12</td>\n",
       "      <td>gasoline</td>\n",
       "      <td>volkswagen</td>\n",
       "      <td>yes</td>\n",
       "    </tr>\n",
       "  </tbody>\n",
       "</table>\n",
       "</div>"
      ],
      "text/plain": [
       "    Price VehicleType_cat  RegistrationYear Gearbox_cat  Power Model_cat  \\\n",
       "0     480             unk              1993      manual     95      golf   \n",
       "2    9800             suv              2004        auto    163     grand   \n",
       "3    1500           small              2001      manual     75      golf   \n",
       "4    3600           small              2008      manual     69     fabia   \n",
       "5     650           sedan              1995      manual    102       3er   \n",
       "6    2200     convertible              2004      manual    109   2_reihe   \n",
       "7    3554           sedan              1980      manual     50     other   \n",
       "9     999           small              1998      manual    101      golf   \n",
       "10   2000           sedan              2004      manual    105   3_reihe   \n",
       "11   2799           wagon              2005      manual    140    passat   \n",
       "\n",
       "    Kilometer  RegistrationMonth FuelType_cat   Brand_cat Repaired_cat  \n",
       "0      150000                  0       petrol  volkswagen          unk  \n",
       "2      125000                  8     gasoline        jeep          unk  \n",
       "3      150000                  6       petrol  volkswagen           no  \n",
       "4       90000                  7     gasoline       skoda           no  \n",
       "5      150000                 10       petrol         bmw          yes  \n",
       "6      150000                  8       petrol     peugeot           no  \n",
       "7       40000                  7       petrol  volkswagen           no  \n",
       "9      150000                  0          unk  volkswagen          unk  \n",
       "10     150000                 12       petrol       mazda           no  \n",
       "11     150000                 12     gasoline  volkswagen          yes  "
      ]
     },
     "execution_count": 14,
     "metadata": {},
     "output_type": "execute_result"
    }
   ],
   "source": [
    "data = data.query('Price < 14000')\n",
    "data = data.query('Price != 1')\n",
    "power_new = data.pivot_table(columns='Model_cat', values='Power', aggfunc='mean').astype('int').to_dict()\n",
    "price_new = data.pivot_table(columns='Model_cat', values='Price', aggfunc='mean').astype('int').to_dict()\n",
    "\n",
    "def fill_0(row, cat, place, table):\n",
    "    a = row[cat]\n",
    "    b = table[a][place]\n",
    "    if row[place] == 0:  \n",
    "        row[place] = b\n",
    "    return row\n",
    "        \n",
    "data = data.apply(fill_0, axis=1, args=('Model_cat','Power', power_new))\n",
    "data = data.apply(fill_0, axis=1, args=('Model_cat','Price', price_new))\n",
    "\n",
    "data.head(10)"
   ]
  },
  {
   "cell_type": "code",
   "execution_count": 15,
   "metadata": {},
   "outputs": [],
   "source": [
    "# Отрежем цены ниже 100 евро и уберем нулевые значения мощностей\n",
    "data = data.query('Power != 0')\n",
    "data = data.query('Price > 100')\n",
    "data = data.query('RegistrationYear >= 2016')"
   ]
  },
  {
   "cell_type": "markdown",
   "metadata": {},
   "source": [
    "Данные готовы к построению модели"
   ]
  },
  {
   "cell_type": "markdown",
   "metadata": {},
   "source": [
    "## Обучение моделей"
   ]
  },
  {
   "cell_type": "code",
   "execution_count": 16,
   "metadata": {},
   "outputs": [],
   "source": [
    "# Создадим функцию для оценки времени и качества моделей\n",
    "def time_score(model, features_train, target_train, features_test, target_test):\n",
    "    \n",
    "    start = time.time()    \n",
    "    model.fit(features_train, target_train)\n",
    "    train_time = time.time() - start\n",
    "    \n",
    "    start = time.time()  \n",
    "    predict = model.predict(features_test)\n",
    "    predict_time = time.time() - start\n",
    "\n",
    "    return train_time, predict_time, mean_squared_error(target_test, predict)**0.5"
   ]
  },
  {
   "cell_type": "code",
   "execution_count": 17,
   "metadata": {},
   "outputs": [
    {
     "name": "stdout",
     "output_type": "stream",
     "text": [
      "Размер тренировочной выборки: (13393, 10)\n",
      "Размер тестовой выборки: (4465, 10)\n",
      "Размер валидационной выборки: (4465, 10)\n"
     ]
    }
   ],
   "source": [
    "# Разделим датасет\n",
    "features = data.drop(['Price'], axis = 1)  \n",
    "target = data['Price'] \n",
    "\n",
    "features_train, features_valid, target_train, target_valid = train_test_split(features, target, test_size=0.4, random_state=12345)\n",
    "features_valid, features_test, target_valid, target_test = train_test_split(features_valid, target_valid, test_size=0.5, random_state=12345)\n",
    "\n",
    "print('Размер тренировочной выборки:', features_train.shape) \n",
    "print('Размер тестовой выборки:', features_test.shape) \n",
    "print('Размер валидационной выборки:', features_valid.shape) "
   ]
  },
  {
   "cell_type": "code",
   "execution_count": 18,
   "metadata": {},
   "outputs": [],
   "source": [
    "# Предаем категориальное значения столбцам\n",
    "features_train['VehicleType_cat'] = features_train['VehicleType_cat'].astype('category')\n",
    "features_train['Gearbox_cat'] = features_train['Gearbox_cat'].astype('category')\n",
    "features_train['Model_cat'] = features_train['Model_cat'].astype('category')\n",
    "features_train['FuelType_cat'] = features_train['FuelType_cat'].astype('category')\n",
    "features_train['Brand_cat'] = features_train['Brand_cat'].astype('category')\n",
    "features_train['Repaired_cat'] = features_train['Repaired_cat'].astype('category')\n",
    "\n",
    "features_valid['VehicleType_cat'] = features_valid['VehicleType_cat'].astype('category')\n",
    "features_valid['Gearbox_cat'] = features_valid['Gearbox_cat'].astype('category')\n",
    "features_valid['Model_cat'] = features_valid['Model_cat'].astype('category')\n",
    "features_valid['FuelType_cat'] = features_valid['FuelType_cat'].astype('category')\n",
    "features_valid['Brand_cat'] = features_valid['Brand_cat'].astype('category')\n",
    "features_valid['Repaired_cat'] = features_valid['Repaired_cat'].astype('category')\n",
    "\n",
    "features_test['VehicleType_cat'] = features_test['VehicleType_cat'].astype('category')\n",
    "features_test['Gearbox_cat'] = features_test['Gearbox_cat'].astype('category')\n",
    "features_test['Model_cat'] = features_test['Model_cat'].astype('category')\n",
    "features_test['FuelType_cat'] = features_test['FuelType_cat'].astype('category')\n",
    "features_test['Brand_cat'] = features_test['Brand_cat'].astype('category')\n",
    "features_test['Repaired_cat'] = features_test['Repaired_cat'].astype('category')\n",
    "category_features = [c for c, col in enumerate(features_train.columns) if '_cat' in col]"
   ]
  },
  {
   "cell_type": "code",
   "execution_count": 19,
   "metadata": {},
   "outputs": [
    {
     "name": "stdout",
     "output_type": "stream",
     "text": [
      "The rmse of LGBMRegressor prediction on train: 1495.6019912307927\n",
      "The rmse of LGBMRegressor prediction on valid: 1696.2116151164653\n"
     ]
    }
   ],
   "source": [
    "\n",
    "estim = lgb.LGBMRegressor()\n",
    "estim.fit(features_train, target_train, eval_metric='rmse', categorical_feature=category_features)\n",
    "predicted_valid = estim.predict(features_valid)\n",
    "predicted_train = estim.predict(features_train)\n",
    "print('The rmse of LGBMRegressor prediction on train:', mean_squared_error(target_train, predicted_train) ** 0.5)\n",
    "print('The rmse of LGBMRegressor prediction on valid:', mean_squared_error(target_valid, predicted_valid) ** 0.5)"
   ]
  },
  {
   "cell_type": "code",
   "execution_count": 20,
   "metadata": {},
   "outputs": [],
   "source": [
    "#Подбираем параметры \n",
    "\n",
    "\n",
    "\n",
    "#estim_new = lgb.LGBMRegressor(num_leaves= 31,learning_rate=0.01)\n",
    "\n",
    "#param_grid = {\n",
    "#    'n_estimators': [10,50,100,200,250],\n",
    "#    'max_depth': [1,5,10,15,20]\n",
    "#   \n",
    "#}\n",
    "\n",
    "#cv =KFold(shuffle=True, n_splits=7)\n",
    "#gbm = GridSearchCV(estim_new, param_grid, cv=cv, scoring='neg_mean_squared_error')\n",
    "\n",
    "#gbm.fit(features_train, target_train, categorical_feature=category_features)\n",
    "\n",
    "#print('Best parameters is:', gbm.best_params_)\n",
    "#print('Best score is:', gbm.best_score_)"
   ]
  },
  {
   "cell_type": "markdown",
   "metadata": {},
   "source": [
    "Лучшие параметры для модели это max_depth: 10, n_estimators: 250"
   ]
  },
  {
   "cell_type": "code",
   "execution_count": 21,
   "metadata": {},
   "outputs": [
    {
     "data": {
      "text/plain": [
       "1771.5608441821628"
      ]
     },
     "execution_count": 21,
     "metadata": {},
     "output_type": "execute_result"
    }
   ],
   "source": [
    "#Применим параметры на модели\n",
    "\n",
    "model = lgb.LGBMRegressor(num_leaves= 31, learning_rate=0.01, max_depth=10, n_estimators=250)\n",
    "model.fit(features_train, target_train, categorical_feature=category_features)\n",
    "predicted_valid1 = model.predict(features_valid)\n",
    "rmse = (mean_squared_error(target_valid, predicted_valid1))**0.5\n",
    "\n",
    "rmse"
   ]
  },
  {
   "cell_type": "code",
   "execution_count": 22,
   "metadata": {},
   "outputs": [],
   "source": [
    "# Применим функцию для оценки качества и времени модели\n",
    "result = []\n",
    "result.append(time_score(model, features_train, target_train, features_valid, target_valid))"
   ]
  },
  {
   "cell_type": "code",
   "execution_count": 23,
   "metadata": {
    "scrolled": true
   },
   "outputs": [
    {
     "name": "stdout",
     "output_type": "stream",
     "text": [
      "0:\tlearn: 2784.2274004\ttotal: 67ms\tremaining: 13.3s\n",
      "10:\tlearn: 2576.3126854\ttotal: 244ms\tremaining: 4.18s\n",
      "20:\tlearn: 2433.7146675\ttotal: 412ms\tremaining: 3.51s\n",
      "30:\tlearn: 2329.3577235\ttotal: 579ms\tremaining: 3.16s\n",
      "40:\tlearn: 2252.8607214\ttotal: 763ms\tremaining: 2.96s\n",
      "50:\tlearn: 2197.9085142\ttotal: 924ms\tremaining: 2.7s\n",
      "60:\tlearn: 2158.3455393\ttotal: 1.08s\tremaining: 2.46s\n",
      "70:\tlearn: 2125.5655418\ttotal: 1.25s\tremaining: 2.28s\n",
      "80:\tlearn: 2092.9010622\ttotal: 1.44s\tremaining: 2.12s\n",
      "90:\tlearn: 2066.6820366\ttotal: 1.63s\tremaining: 1.95s\n",
      "100:\tlearn: 2047.2061605\ttotal: 1.8s\tremaining: 1.76s\n",
      "110:\tlearn: 2030.1947017\ttotal: 1.97s\tremaining: 1.58s\n",
      "120:\tlearn: 2009.6251015\ttotal: 2.14s\tremaining: 1.4s\n",
      "130:\tlearn: 1991.4510089\ttotal: 2.32s\tremaining: 1.22s\n",
      "140:\tlearn: 1983.0601683\ttotal: 2.49s\tremaining: 1.04s\n",
      "150:\tlearn: 1971.5253133\ttotal: 2.65s\tremaining: 859ms\n",
      "160:\tlearn: 1961.5297894\ttotal: 2.81s\tremaining: 682ms\n",
      "170:\tlearn: 1954.3917999\ttotal: 2.98s\tremaining: 505ms\n",
      "180:\tlearn: 1946.8408433\ttotal: 3.15s\tremaining: 330ms\n",
      "190:\tlearn: 1939.0553816\ttotal: 3.32s\tremaining: 157ms\n",
      "199:\tlearn: 1933.8811938\ttotal: 3.47s\tremaining: 0us\n"
     ]
    },
    {
     "data": {
      "text/plain": [
       "1876.1754552947484"
      ]
     },
     "execution_count": 23,
     "metadata": {},
     "output_type": "execute_result"
    }
   ],
   "source": [
    "# Обучим CatBoost\n",
    "\n",
    "model_cat = CatBoostRegressor(n_estimators = 200, loss_function = 'MAE', eval_metric = 'RMSE', cat_features = category_features)\n",
    "model_cat.fit(features_train, target_train, cat_features=category_features, verbose=10)\n",
    "predicted_valid2 = model_cat.predict(features_valid)\n",
    "rmse = (mean_squared_error(target_valid, predicted_valid2))**0.5\n",
    "rmse"
   ]
  },
  {
   "cell_type": "code",
   "execution_count": 29,
   "metadata": {},
   "outputs": [],
   "source": [
    "from sklearn.preprocessing import OrdinalEncoder\n",
    "encoder = OrdinalEncoder(handle_unknown='use_encoded_value', unknown_value=9999)\n",
    "cat_columns = ['Repaired_cat', 'Brand_cat', 'FuelType_cat', 'Model_cat', 'Gearbox_cat', 'VehicleType_cat']\n",
    "encoder.fit(features_train[cat_columns])\n",
    "\n",
    "features_train_ord = features_train.copy()\n",
    "features_valid_ord = features_valid.copy()\n",
    "features_test_ord = features_test.copy()\n",
    "\n",
    "features_train_ord[cat_columns] = encoder.transform(features_train_ord[cat_columns])\n",
    "features_valid_ord[cat_columns] = encoder.transform(features_valid_ord[cat_columns])\n",
    "features_test_ord[cat_columns] = encoder.transform(features_test_ord[cat_columns])"
   ]
  },
  {
   "cell_type": "code",
   "execution_count": 30,
   "metadata": {},
   "outputs": [],
   "source": [
    "n_estimators = list(range(40, 121, 40))\n",
    "max_depth = list(range(10, 41, 10))\n",
    "\n",
    "hyperparams_rfr = {'n_estimators':n_estimators,\n",
    "                'max_depth':max_depth,\n",
    "                'random_state':[555]}"
   ]
  },
  {
   "cell_type": "code",
   "execution_count": 32,
   "metadata": {},
   "outputs": [
    {
     "name": "stdout",
     "output_type": "stream",
     "text": [
      "CPU times: user 1min, sys: 140 ms, total: 1min\n",
      "Wall time: 1min\n"
     ]
    },
    {
     "data": {
      "text/plain": [
       "GridSearchCV(cv=3, estimator=RandomForestRegressor(), n_jobs=-1,\n",
       "             param_grid={'max_depth': [10, 20, 30, 40],\n",
       "                         'n_estimators': [40, 80, 120], 'random_state': [555]},\n",
       "             scoring='neg_mean_squared_error')"
      ]
     },
     "execution_count": 32,
     "metadata": {},
     "output_type": "execute_result"
    }
   ],
   "source": [
    "%%time\n",
    "\n",
    "model_ord = GridSearchCV(estimator = RandomForestRegressor(), \n",
    "                        param_grid = hyperparams_rfr, \n",
    "                        scoring='neg_mean_squared_error',\n",
    "                        cv=3,\n",
    "                        n_jobs = -1)\n",
    "model_ord.fit(features_train_ord, target_train)"
   ]
  },
  {
   "cell_type": "code",
   "execution_count": 37,
   "metadata": {},
   "outputs": [
    {
     "data": {
      "text/plain": [
       "(60.69884204864502, 0.058591365814208984, 1852.6785339655787)"
      ]
     },
     "execution_count": 37,
     "metadata": {},
     "output_type": "execute_result"
    }
   ],
   "source": [
    "time_score(model_ord, features_train_ord, target_train, features_valid_ord, target_valid)"
   ]
  },
  {
   "cell_type": "code",
   "execution_count": 38,
   "metadata": {},
   "outputs": [],
   "source": [
    "# Применим функцию для оценки качества и времени модели\n",
    "result.append(time_score(model_ord, features_train_ord, target_train, features_valid_ord, target_valid))"
   ]
  },
  {
   "cell_type": "markdown",
   "metadata": {},
   "source": [
    "Модель случайного леса выдает хороший результат RMSE, но очень большое время. "
   ]
  },
  {
   "cell_type": "markdown",
   "metadata": {},
   "source": [
    "## Анализ моделей"
   ]
  },
  {
   "cell_type": "code",
   "execution_count": 39,
   "metadata": {},
   "outputs": [
    {
     "name": "stdout",
     "output_type": "stream",
     "text": [
      "0:\tlearn: 2784.2274004\ttotal: 20.3ms\tremaining: 4.04s\n",
      "1:\tlearn: 2758.5638585\ttotal: 36.3ms\tremaining: 3.59s\n",
      "2:\tlearn: 2735.8261826\ttotal: 58.1ms\tremaining: 3.81s\n",
      "3:\tlearn: 2713.1123286\ttotal: 76.8ms\tremaining: 3.76s\n",
      "4:\tlearn: 2690.3609233\ttotal: 95.3ms\tremaining: 3.72s\n",
      "5:\tlearn: 2667.8703406\ttotal: 115ms\tremaining: 3.71s\n",
      "6:\tlearn: 2648.5679482\ttotal: 133ms\tremaining: 3.67s\n",
      "7:\tlearn: 2630.0787568\ttotal: 149ms\tremaining: 3.57s\n",
      "8:\tlearn: 2612.3267752\ttotal: 167ms\tremaining: 3.55s\n",
      "9:\tlearn: 2594.4461704\ttotal: 185ms\tremaining: 3.52s\n",
      "10:\tlearn: 2576.3126854\ttotal: 200ms\tremaining: 3.44s\n",
      "11:\tlearn: 2563.2427244\ttotal: 217ms\tremaining: 3.39s\n",
      "12:\tlearn: 2546.0946942\ttotal: 237ms\tremaining: 3.41s\n",
      "13:\tlearn: 2527.2089048\ttotal: 255ms\tremaining: 3.39s\n",
      "14:\tlearn: 2509.8448164\ttotal: 276ms\tremaining: 3.4s\n",
      "15:\tlearn: 2495.4247903\ttotal: 291ms\tremaining: 3.34s\n",
      "16:\tlearn: 2482.4666208\ttotal: 306ms\tremaining: 3.3s\n",
      "17:\tlearn: 2472.9868362\ttotal: 325ms\tremaining: 3.28s\n",
      "18:\tlearn: 2459.0046060\ttotal: 341ms\tremaining: 3.24s\n",
      "19:\tlearn: 2446.7328212\ttotal: 358ms\tremaining: 3.22s\n",
      "20:\tlearn: 2433.7146675\ttotal: 377ms\tremaining: 3.21s\n",
      "21:\tlearn: 2421.3973763\ttotal: 394ms\tremaining: 3.18s\n",
      "22:\tlearn: 2410.2155258\ttotal: 411ms\tremaining: 3.16s\n",
      "23:\tlearn: 2400.9430017\ttotal: 429ms\tremaining: 3.14s\n",
      "24:\tlearn: 2391.9776851\ttotal: 444ms\tremaining: 3.11s\n",
      "25:\tlearn: 2381.4159209\ttotal: 460ms\tremaining: 3.08s\n",
      "26:\tlearn: 2369.6968103\ttotal: 478ms\tremaining: 3.06s\n",
      "27:\tlearn: 2359.6842551\ttotal: 494ms\tremaining: 3.04s\n",
      "28:\tlearn: 2350.3175177\ttotal: 509ms\tremaining: 3s\n",
      "29:\tlearn: 2339.2533450\ttotal: 530ms\tremaining: 3s\n",
      "30:\tlearn: 2329.3577235\ttotal: 546ms\tremaining: 2.98s\n",
      "31:\tlearn: 2318.1501606\ttotal: 563ms\tremaining: 2.96s\n",
      "32:\tlearn: 2309.8999697\ttotal: 579ms\tremaining: 2.93s\n",
      "33:\tlearn: 2304.1250897\ttotal: 594ms\tremaining: 2.9s\n",
      "34:\tlearn: 2294.2318194\ttotal: 612ms\tremaining: 2.89s\n",
      "35:\tlearn: 2287.6252983\ttotal: 628ms\tremaining: 2.86s\n",
      "36:\tlearn: 2281.3932619\ttotal: 644ms\tremaining: 2.83s\n",
      "37:\tlearn: 2275.1259492\ttotal: 663ms\tremaining: 2.83s\n",
      "38:\tlearn: 2267.3782589\ttotal: 680ms\tremaining: 2.81s\n",
      "39:\tlearn: 2259.4519401\ttotal: 699ms\tremaining: 2.8s\n",
      "40:\tlearn: 2252.8607214\ttotal: 717ms\tremaining: 2.78s\n",
      "41:\tlearn: 2245.9338447\ttotal: 736ms\tremaining: 2.77s\n",
      "42:\tlearn: 2239.9874977\ttotal: 752ms\tremaining: 2.75s\n",
      "43:\tlearn: 2236.1990915\ttotal: 768ms\tremaining: 2.72s\n",
      "44:\tlearn: 2230.3370334\ttotal: 786ms\tremaining: 2.71s\n",
      "45:\tlearn: 2224.6325018\ttotal: 805ms\tremaining: 2.69s\n",
      "46:\tlearn: 2219.7220973\ttotal: 821ms\tremaining: 2.67s\n",
      "47:\tlearn: 2214.8757313\ttotal: 838ms\tremaining: 2.65s\n",
      "48:\tlearn: 2208.3844594\ttotal: 856ms\tremaining: 2.64s\n",
      "49:\tlearn: 2204.0148652\ttotal: 871ms\tremaining: 2.61s\n",
      "50:\tlearn: 2197.9085142\ttotal: 884ms\tremaining: 2.58s\n",
      "51:\tlearn: 2193.9036939\ttotal: 897ms\tremaining: 2.55s\n",
      "52:\tlearn: 2190.1753854\ttotal: 912ms\tremaining: 2.53s\n",
      "53:\tlearn: 2185.5805227\ttotal: 929ms\tremaining: 2.51s\n",
      "54:\tlearn: 2180.8246898\ttotal: 944ms\tremaining: 2.49s\n",
      "55:\tlearn: 2175.2455894\ttotal: 960ms\tremaining: 2.47s\n",
      "56:\tlearn: 2172.1853729\ttotal: 976ms\tremaining: 2.45s\n",
      "57:\tlearn: 2170.2125887\ttotal: 992ms\tremaining: 2.43s\n",
      "58:\tlearn: 2166.6145239\ttotal: 1.01s\tremaining: 2.41s\n",
      "59:\tlearn: 2162.7916675\ttotal: 1.02s\tremaining: 2.39s\n",
      "60:\tlearn: 2158.3455393\ttotal: 1.04s\tremaining: 2.37s\n",
      "61:\tlearn: 2153.4413253\ttotal: 1.06s\tremaining: 2.36s\n",
      "62:\tlearn: 2151.2581080\ttotal: 1.08s\tremaining: 2.34s\n",
      "63:\tlearn: 2146.6625503\ttotal: 1.1s\tremaining: 2.33s\n",
      "64:\tlearn: 2145.0961717\ttotal: 1.11s\tremaining: 2.31s\n",
      "65:\tlearn: 2142.7188795\ttotal: 1.13s\tremaining: 2.29s\n",
      "66:\tlearn: 2137.1116117\ttotal: 1.15s\tremaining: 2.28s\n",
      "67:\tlearn: 2135.5040097\ttotal: 1.16s\tremaining: 2.26s\n",
      "68:\tlearn: 2131.9386053\ttotal: 1.18s\tremaining: 2.24s\n",
      "69:\tlearn: 2129.0800648\ttotal: 1.2s\tremaining: 2.24s\n",
      "70:\tlearn: 2125.5655418\ttotal: 1.22s\tremaining: 2.22s\n",
      "71:\tlearn: 2122.8209033\ttotal: 1.24s\tremaining: 2.2s\n",
      "72:\tlearn: 2121.3589234\ttotal: 1.25s\tremaining: 2.18s\n",
      "73:\tlearn: 2120.1705271\ttotal: 1.28s\tremaining: 2.18s\n",
      "74:\tlearn: 2113.7469310\ttotal: 1.3s\tremaining: 2.17s\n",
      "75:\tlearn: 2109.7827318\ttotal: 1.32s\tremaining: 2.16s\n",
      "76:\tlearn: 2104.4983596\ttotal: 1.34s\tremaining: 2.15s\n",
      "77:\tlearn: 2102.0644052\ttotal: 1.36s\tremaining: 2.13s\n",
      "78:\tlearn: 2097.5718678\ttotal: 1.39s\tremaining: 2.12s\n",
      "79:\tlearn: 2096.8672526\ttotal: 1.4s\tremaining: 2.1s\n",
      "80:\tlearn: 2092.9010622\ttotal: 1.42s\tremaining: 2.09s\n",
      "81:\tlearn: 2090.1846806\ttotal: 1.44s\tremaining: 2.07s\n",
      "82:\tlearn: 2089.3086301\ttotal: 1.46s\tremaining: 2.06s\n",
      "83:\tlearn: 2086.6788526\ttotal: 1.48s\tremaining: 2.05s\n",
      "84:\tlearn: 2083.5168644\ttotal: 1.51s\tremaining: 2.04s\n",
      "85:\tlearn: 2081.3867351\ttotal: 1.53s\tremaining: 2.03s\n",
      "86:\tlearn: 2079.4542789\ttotal: 1.55s\tremaining: 2.01s\n",
      "87:\tlearn: 2077.5264425\ttotal: 1.57s\tremaining: 1.99s\n",
      "88:\tlearn: 2074.6669785\ttotal: 1.59s\tremaining: 1.98s\n",
      "89:\tlearn: 2071.0871975\ttotal: 1.61s\tremaining: 1.97s\n",
      "90:\tlearn: 2066.6820366\ttotal: 1.63s\tremaining: 1.95s\n",
      "91:\tlearn: 2064.7245086\ttotal: 1.65s\tremaining: 1.93s\n",
      "92:\tlearn: 2061.5462566\ttotal: 1.67s\tremaining: 1.92s\n",
      "93:\tlearn: 2060.7175110\ttotal: 1.69s\tremaining: 1.9s\n",
      "94:\tlearn: 2059.7574576\ttotal: 1.7s\tremaining: 1.88s\n",
      "95:\tlearn: 2058.5888152\ttotal: 1.72s\tremaining: 1.86s\n",
      "96:\tlearn: 2055.5858672\ttotal: 1.74s\tremaining: 1.85s\n",
      "97:\tlearn: 2053.6456751\ttotal: 1.76s\tremaining: 1.83s\n",
      "98:\tlearn: 2052.6939054\ttotal: 1.77s\tremaining: 1.81s\n",
      "99:\tlearn: 2050.6790007\ttotal: 1.79s\tremaining: 1.79s\n",
      "100:\tlearn: 2047.2061605\ttotal: 1.8s\tremaining: 1.77s\n",
      "101:\tlearn: 2046.5100551\ttotal: 1.82s\tremaining: 1.75s\n",
      "102:\tlearn: 2045.1037148\ttotal: 1.83s\tremaining: 1.73s\n",
      "103:\tlearn: 2043.0550336\ttotal: 1.86s\tremaining: 1.72s\n",
      "104:\tlearn: 2040.4659953\ttotal: 1.88s\tremaining: 1.7s\n",
      "105:\tlearn: 2039.6731046\ttotal: 1.9s\tremaining: 1.69s\n",
      "106:\tlearn: 2037.9175853\ttotal: 1.93s\tremaining: 1.68s\n",
      "107:\tlearn: 2035.8901687\ttotal: 1.94s\tremaining: 1.66s\n",
      "108:\tlearn: 2034.7229138\ttotal: 1.96s\tremaining: 1.64s\n",
      "109:\tlearn: 2033.2108575\ttotal: 1.98s\tremaining: 1.62s\n",
      "110:\tlearn: 2030.1947017\ttotal: 2s\tremaining: 1.6s\n",
      "111:\tlearn: 2028.7613104\ttotal: 2.02s\tremaining: 1.58s\n",
      "112:\tlearn: 2027.0943699\ttotal: 2.03s\tremaining: 1.56s\n",
      "113:\tlearn: 2024.0801022\ttotal: 2.05s\tremaining: 1.54s\n",
      "114:\tlearn: 2022.3527052\ttotal: 2.06s\tremaining: 1.52s\n",
      "115:\tlearn: 2021.1767326\ttotal: 2.08s\tremaining: 1.51s\n",
      "116:\tlearn: 2018.3910282\ttotal: 2.11s\tremaining: 1.49s\n",
      "117:\tlearn: 2015.3882829\ttotal: 2.12s\tremaining: 1.48s\n",
      "118:\tlearn: 2014.3786373\ttotal: 2.14s\tremaining: 1.46s\n",
      "119:\tlearn: 2012.0575740\ttotal: 2.16s\tremaining: 1.44s\n",
      "120:\tlearn: 2009.6251015\ttotal: 2.18s\tremaining: 1.42s\n",
      "121:\tlearn: 2009.3497428\ttotal: 2.19s\tremaining: 1.4s\n",
      "122:\tlearn: 2007.1901981\ttotal: 2.21s\tremaining: 1.38s\n",
      "123:\tlearn: 2005.3181771\ttotal: 2.23s\tremaining: 1.37s\n",
      "124:\tlearn: 2002.2604077\ttotal: 2.26s\tremaining: 1.35s\n",
      "125:\tlearn: 1999.7731948\ttotal: 2.28s\tremaining: 1.34s\n",
      "126:\tlearn: 1997.3750676\ttotal: 2.3s\tremaining: 1.32s\n",
      "127:\tlearn: 1995.7181468\ttotal: 2.31s\tremaining: 1.3s\n",
      "128:\tlearn: 1994.8350405\ttotal: 2.33s\tremaining: 1.28s\n",
      "129:\tlearn: 1994.0564586\ttotal: 2.35s\tremaining: 1.26s\n",
      "130:\tlearn: 1991.4510089\ttotal: 2.37s\tremaining: 1.25s\n",
      "131:\tlearn: 1990.8730384\ttotal: 2.38s\tremaining: 1.23s\n",
      "132:\tlearn: 1990.1007546\ttotal: 2.4s\tremaining: 1.21s\n",
      "133:\tlearn: 1989.1504486\ttotal: 2.43s\tremaining: 1.2s\n",
      "134:\tlearn: 1988.0474026\ttotal: 2.44s\tremaining: 1.18s\n",
      "135:\tlearn: 1987.0262759\ttotal: 2.46s\tremaining: 1.16s\n",
      "136:\tlearn: 1985.1941967\ttotal: 2.48s\tremaining: 1.14s\n",
      "137:\tlearn: 1984.4896869\ttotal: 2.49s\tremaining: 1.12s\n",
      "138:\tlearn: 1983.8049410\ttotal: 2.51s\tremaining: 1.1s\n",
      "139:\tlearn: 1983.2941950\ttotal: 2.52s\tremaining: 1.08s\n",
      "140:\tlearn: 1983.0601683\ttotal: 2.55s\tremaining: 1.06s\n",
      "141:\tlearn: 1980.9673031\ttotal: 2.56s\tremaining: 1.05s\n",
      "142:\tlearn: 1980.5040648\ttotal: 2.58s\tremaining: 1.03s\n",
      "143:\tlearn: 1979.0796581\ttotal: 2.6s\tremaining: 1.01s\n",
      "144:\tlearn: 1977.2705066\ttotal: 2.62s\tremaining: 992ms\n",
      "145:\tlearn: 1976.1027518\ttotal: 2.63s\tremaining: 973ms\n",
      "146:\tlearn: 1975.3227975\ttotal: 2.65s\tremaining: 955ms\n",
      "147:\tlearn: 1974.1073033\ttotal: 2.66s\tremaining: 936ms\n",
      "148:\tlearn: 1973.3168147\ttotal: 2.68s\tremaining: 917ms\n",
      "149:\tlearn: 1972.2912106\ttotal: 2.7s\tremaining: 899ms\n",
      "150:\tlearn: 1971.5253133\ttotal: 2.71s\tremaining: 880ms\n",
      "151:\tlearn: 1971.3827958\ttotal: 2.73s\tremaining: 862ms\n",
      "152:\tlearn: 1970.1012186\ttotal: 2.74s\tremaining: 843ms\n",
      "153:\tlearn: 1969.0948288\ttotal: 2.76s\tremaining: 825ms\n",
      "154:\tlearn: 1967.7392580\ttotal: 2.78s\tremaining: 807ms\n",
      "155:\tlearn: 1966.0702742\ttotal: 2.8s\tremaining: 790ms\n",
      "156:\tlearn: 1965.1275034\ttotal: 2.82s\tremaining: 772ms\n",
      "157:\tlearn: 1964.3950626\ttotal: 2.83s\tremaining: 753ms\n",
      "158:\tlearn: 1963.3317289\ttotal: 2.85s\tremaining: 735ms\n",
      "159:\tlearn: 1962.6869908\ttotal: 2.87s\tremaining: 717ms\n",
      "160:\tlearn: 1961.5297894\ttotal: 2.89s\tremaining: 699ms\n",
      "161:\tlearn: 1959.9715844\ttotal: 2.9s\tremaining: 681ms\n",
      "162:\tlearn: 1959.6370218\ttotal: 2.92s\tremaining: 663ms\n",
      "163:\tlearn: 1958.1150872\ttotal: 2.94s\tremaining: 645ms\n",
      "164:\tlearn: 1957.1665081\ttotal: 2.96s\tremaining: 627ms\n",
      "165:\tlearn: 1956.9600186\ttotal: 2.96s\tremaining: 607ms\n",
      "166:\tlearn: 1956.4516609\ttotal: 2.97s\tremaining: 588ms\n",
      "167:\tlearn: 1955.8636751\ttotal: 2.99s\tremaining: 570ms\n",
      "168:\tlearn: 1955.1332347\ttotal: 3.01s\tremaining: 553ms\n",
      "169:\tlearn: 1954.9511286\ttotal: 3.03s\tremaining: 535ms\n",
      "170:\tlearn: 1954.3917999\ttotal: 3.05s\tremaining: 517ms\n",
      "171:\tlearn: 1953.9426187\ttotal: 3.06s\tremaining: 499ms\n",
      "172:\tlearn: 1953.6283168\ttotal: 3.08s\tremaining: 481ms\n",
      "173:\tlearn: 1953.5309035\ttotal: 3.1s\tremaining: 463ms\n",
      "174:\tlearn: 1953.3706595\ttotal: 3.12s\tremaining: 445ms\n",
      "175:\tlearn: 1952.2666152\ttotal: 3.14s\tremaining: 429ms\n",
      "176:\tlearn: 1951.4526489\ttotal: 3.17s\tremaining: 411ms\n",
      "177:\tlearn: 1950.4343860\ttotal: 3.17s\tremaining: 392ms\n",
      "178:\tlearn: 1949.9876307\ttotal: 3.19s\tremaining: 375ms\n",
      "179:\tlearn: 1949.3762171\ttotal: 3.21s\tremaining: 357ms\n",
      "180:\tlearn: 1946.8408433\ttotal: 3.23s\tremaining: 339ms\n",
      "181:\tlearn: 1946.1828791\ttotal: 3.25s\tremaining: 321ms\n",
      "182:\tlearn: 1945.4168525\ttotal: 3.27s\tremaining: 303ms\n",
      "183:\tlearn: 1944.3643495\ttotal: 3.29s\tremaining: 286ms\n",
      "184:\tlearn: 1943.4166870\ttotal: 3.3s\tremaining: 268ms\n",
      "185:\tlearn: 1942.5226532\ttotal: 3.32s\tremaining: 250ms\n",
      "186:\tlearn: 1941.8948514\ttotal: 3.33s\tremaining: 232ms\n",
      "187:\tlearn: 1941.2892502\ttotal: 3.35s\tremaining: 214ms\n",
      "188:\tlearn: 1940.8153762\ttotal: 3.37s\tremaining: 196ms\n",
      "189:\tlearn: 1940.2227233\ttotal: 3.39s\tremaining: 178ms\n",
      "190:\tlearn: 1939.0553816\ttotal: 3.41s\tremaining: 161ms\n",
      "191:\tlearn: 1938.7529880\ttotal: 3.43s\tremaining: 143ms\n",
      "192:\tlearn: 1938.2883374\ttotal: 3.44s\tremaining: 125ms\n",
      "193:\tlearn: 1937.8110508\ttotal: 3.46s\tremaining: 107ms\n",
      "194:\tlearn: 1937.1951730\ttotal: 3.47s\tremaining: 89.1ms\n",
      "195:\tlearn: 1936.7218173\ttotal: 3.49s\tremaining: 71.3ms\n",
      "196:\tlearn: 1936.2224164\ttotal: 3.5s\tremaining: 53.4ms\n",
      "197:\tlearn: 1935.6921775\ttotal: 3.52s\tremaining: 35.6ms\n",
      "198:\tlearn: 1934.8103889\ttotal: 3.54s\tremaining: 17.8ms\n",
      "199:\tlearn: 1933.8811938\ttotal: 3.55s\tremaining: 0us\n"
     ]
    }
   ],
   "source": [
    "# Применим функцию для оценки качества и времени модели\n",
    "result.append(time_score(model_cat, features_train, target_train, features_valid, target_valid))"
   ]
  },
  {
   "cell_type": "code",
   "execution_count": 42,
   "metadata": {},
   "outputs": [
    {
     "data": {
      "text/html": [
       "<div>\n",
       "<style scoped>\n",
       "    .dataframe tbody tr th:only-of-type {\n",
       "        vertical-align: middle;\n",
       "    }\n",
       "\n",
       "    .dataframe tbody tr th {\n",
       "        vertical-align: top;\n",
       "    }\n",
       "\n",
       "    .dataframe thead th {\n",
       "        text-align: right;\n",
       "    }\n",
       "</style>\n",
       "<table border=\"1\" class=\"dataframe\">\n",
       "  <thead>\n",
       "    <tr style=\"text-align: right;\">\n",
       "      <th></th>\n",
       "      <th>Время_обучения</th>\n",
       "      <th>Время_Предсказания</th>\n",
       "      <th>RMSE</th>\n",
       "    </tr>\n",
       "  </thead>\n",
       "  <tbody>\n",
       "    <tr>\n",
       "      <th>LightGBM</th>\n",
       "      <td>3.199728</td>\n",
       "      <td>0.197480</td>\n",
       "      <td>1771.560844</td>\n",
       "    </tr>\n",
       "    <tr>\n",
       "      <th>Ord</th>\n",
       "      <td>61.184577</td>\n",
       "      <td>0.068679</td>\n",
       "      <td>1852.678534</td>\n",
       "    </tr>\n",
       "    <tr>\n",
       "      <th>CatBoost</th>\n",
       "      <td>4.451061</td>\n",
       "      <td>0.010448</td>\n",
       "      <td>1876.175455</td>\n",
       "    </tr>\n",
       "  </tbody>\n",
       "</table>\n",
       "</div>"
      ],
      "text/plain": [
       "          Время_обучения  Время_Предсказания         RMSE\n",
       "LightGBM        3.199728            0.197480  1771.560844\n",
       "Ord            61.184577            0.068679  1852.678534\n",
       "CatBoost        4.451061            0.010448  1876.175455"
      ]
     },
     "execution_count": 42,
     "metadata": {},
     "output_type": "execute_result"
    }
   ],
   "source": [
    "pd.DataFrame(data=result,\n",
    "index=['LightGBM', 'Ord', 'CatBoost'],\n",
    "columns=['Время_обучения', 'Время_Предсказания', 'RMSE'])"
   ]
  },
  {
   "cell_type": "markdown",
   "metadata": {},
   "source": [
    "## Тестирование лучшей модели"
   ]
  },
  {
   "cell_type": "code",
   "execution_count": 43,
   "metadata": {},
   "outputs": [
    {
     "name": "stdout",
     "output_type": "stream",
     "text": [
      "0:\tlearn: 2784.2274004\ttotal: 21.6ms\tremaining: 4.29s\n",
      "1:\tlearn: 2758.5638585\ttotal: 37.3ms\tremaining: 3.7s\n",
      "2:\tlearn: 2735.8261826\ttotal: 58.6ms\tremaining: 3.85s\n",
      "3:\tlearn: 2713.1123286\ttotal: 88ms\tremaining: 4.31s\n",
      "4:\tlearn: 2690.3609233\ttotal: 114ms\tremaining: 4.46s\n",
      "5:\tlearn: 2667.8703406\ttotal: 141ms\tremaining: 4.56s\n",
      "6:\tlearn: 2648.5679482\ttotal: 171ms\tremaining: 4.72s\n",
      "7:\tlearn: 2630.0787568\ttotal: 187ms\tremaining: 4.49s\n",
      "8:\tlearn: 2612.3267752\ttotal: 211ms\tremaining: 4.48s\n",
      "9:\tlearn: 2594.4461704\ttotal: 243ms\tremaining: 4.62s\n",
      "10:\tlearn: 2576.3126854\ttotal: 266ms\tremaining: 4.57s\n",
      "11:\tlearn: 2563.2427244\ttotal: 287ms\tremaining: 4.49s\n",
      "12:\tlearn: 2546.0946942\ttotal: 311ms\tremaining: 4.47s\n",
      "13:\tlearn: 2527.2089048\ttotal: 341ms\tremaining: 4.53s\n",
      "14:\tlearn: 2509.8448164\ttotal: 371ms\tremaining: 4.57s\n",
      "15:\tlearn: 2495.4247903\ttotal: 396ms\tremaining: 4.56s\n",
      "16:\tlearn: 2482.4666208\ttotal: 423ms\tremaining: 4.56s\n",
      "17:\tlearn: 2472.9868362\ttotal: 455ms\tremaining: 4.6s\n",
      "18:\tlearn: 2459.0046060\ttotal: 479ms\tremaining: 4.56s\n",
      "19:\tlearn: 2446.7328212\ttotal: 505ms\tremaining: 4.55s\n",
      "20:\tlearn: 2433.7146675\ttotal: 530ms\tremaining: 4.52s\n",
      "21:\tlearn: 2421.3973763\ttotal: 555ms\tremaining: 4.49s\n",
      "22:\tlearn: 2410.2155258\ttotal: 583ms\tremaining: 4.49s\n",
      "23:\tlearn: 2400.9430017\ttotal: 612ms\tremaining: 4.49s\n",
      "24:\tlearn: 2391.9776851\ttotal: 635ms\tremaining: 4.44s\n",
      "25:\tlearn: 2381.4159209\ttotal: 663ms\tremaining: 4.43s\n",
      "26:\tlearn: 2369.6968103\ttotal: 682ms\tremaining: 4.37s\n",
      "27:\tlearn: 2359.6842551\ttotal: 699ms\tremaining: 4.3s\n",
      "28:\tlearn: 2350.3175177\ttotal: 715ms\tremaining: 4.22s\n",
      "29:\tlearn: 2339.2533450\ttotal: 737ms\tremaining: 4.17s\n",
      "30:\tlearn: 2329.3577235\ttotal: 755ms\tremaining: 4.11s\n",
      "31:\tlearn: 2318.1501606\ttotal: 772ms\tremaining: 4.05s\n",
      "32:\tlearn: 2309.8999697\ttotal: 788ms\tremaining: 3.98s\n",
      "33:\tlearn: 2304.1250897\ttotal: 806ms\tremaining: 3.94s\n",
      "34:\tlearn: 2294.2318194\ttotal: 828ms\tremaining: 3.9s\n",
      "35:\tlearn: 2287.6252983\ttotal: 844ms\tremaining: 3.84s\n",
      "36:\tlearn: 2281.3932619\ttotal: 860ms\tremaining: 3.79s\n",
      "37:\tlearn: 2275.1259492\ttotal: 880ms\tremaining: 3.75s\n",
      "38:\tlearn: 2267.3782589\ttotal: 897ms\tremaining: 3.7s\n",
      "39:\tlearn: 2259.4519401\ttotal: 917ms\tremaining: 3.67s\n",
      "40:\tlearn: 2252.8607214\ttotal: 936ms\tremaining: 3.63s\n",
      "41:\tlearn: 2245.9338447\ttotal: 954ms\tremaining: 3.59s\n",
      "42:\tlearn: 2239.9874977\ttotal: 971ms\tremaining: 3.55s\n",
      "43:\tlearn: 2236.1990915\ttotal: 988ms\tremaining: 3.5s\n",
      "44:\tlearn: 2230.3370334\ttotal: 1s\tremaining: 3.46s\n",
      "45:\tlearn: 2224.6325018\ttotal: 1.02s\tremaining: 3.43s\n",
      "46:\tlearn: 2219.7220973\ttotal: 1.04s\tremaining: 3.38s\n",
      "47:\tlearn: 2214.8757313\ttotal: 1.06s\tremaining: 3.35s\n",
      "48:\tlearn: 2208.3844594\ttotal: 1.07s\tremaining: 3.31s\n",
      "49:\tlearn: 2204.0148652\ttotal: 1.09s\tremaining: 3.27s\n",
      "50:\tlearn: 2197.9085142\ttotal: 1.1s\tremaining: 3.23s\n",
      "51:\tlearn: 2193.9036939\ttotal: 1.12s\tremaining: 3.18s\n",
      "52:\tlearn: 2190.1753854\ttotal: 1.13s\tremaining: 3.15s\n",
      "53:\tlearn: 2185.5805227\ttotal: 1.15s\tremaining: 3.12s\n",
      "54:\tlearn: 2180.8246898\ttotal: 1.17s\tremaining: 3.08s\n",
      "55:\tlearn: 2175.2455894\ttotal: 1.18s\tremaining: 3.05s\n",
      "56:\tlearn: 2172.1853729\ttotal: 1.2s\tremaining: 3.01s\n",
      "57:\tlearn: 2170.2125887\ttotal: 1.22s\tremaining: 2.98s\n",
      "58:\tlearn: 2166.6145239\ttotal: 1.24s\tremaining: 2.95s\n",
      "59:\tlearn: 2162.7916675\ttotal: 1.26s\tremaining: 2.94s\n",
      "60:\tlearn: 2158.3455393\ttotal: 1.28s\tremaining: 2.91s\n",
      "61:\tlearn: 2153.4413253\ttotal: 1.3s\tremaining: 2.89s\n",
      "62:\tlearn: 2151.2581080\ttotal: 1.31s\tremaining: 2.86s\n",
      "63:\tlearn: 2146.6625503\ttotal: 1.34s\tremaining: 2.84s\n",
      "64:\tlearn: 2145.0961717\ttotal: 1.35s\tremaining: 2.81s\n",
      "65:\tlearn: 2142.7188795\ttotal: 1.38s\tremaining: 2.8s\n",
      "66:\tlearn: 2137.1116117\ttotal: 1.41s\tremaining: 2.8s\n",
      "67:\tlearn: 2135.5040097\ttotal: 1.44s\tremaining: 2.79s\n",
      "68:\tlearn: 2131.9386053\ttotal: 1.45s\tremaining: 2.75s\n",
      "69:\tlearn: 2129.0800648\ttotal: 1.48s\tremaining: 2.74s\n",
      "70:\tlearn: 2125.5655418\ttotal: 1.49s\tremaining: 2.71s\n",
      "71:\tlearn: 2122.8209033\ttotal: 1.51s\tremaining: 2.69s\n",
      "72:\tlearn: 2121.3589234\ttotal: 1.53s\tremaining: 2.66s\n",
      "73:\tlearn: 2120.1705271\ttotal: 1.55s\tremaining: 2.64s\n",
      "74:\tlearn: 2113.7469310\ttotal: 1.57s\tremaining: 2.62s\n",
      "75:\tlearn: 2109.7827318\ttotal: 1.59s\tremaining: 2.6s\n",
      "76:\tlearn: 2104.4983596\ttotal: 1.61s\tremaining: 2.58s\n",
      "77:\tlearn: 2102.0644052\ttotal: 1.64s\tremaining: 2.56s\n",
      "78:\tlearn: 2097.5718678\ttotal: 1.66s\tremaining: 2.54s\n",
      "79:\tlearn: 2096.8672526\ttotal: 1.68s\tremaining: 2.51s\n",
      "80:\tlearn: 2092.9010622\ttotal: 1.69s\tremaining: 2.49s\n",
      "81:\tlearn: 2090.1846806\ttotal: 1.71s\tremaining: 2.46s\n",
      "82:\tlearn: 2089.3086301\ttotal: 1.73s\tremaining: 2.44s\n",
      "83:\tlearn: 2086.6788526\ttotal: 1.75s\tremaining: 2.42s\n",
      "84:\tlearn: 2083.5168644\ttotal: 1.77s\tremaining: 2.4s\n",
      "85:\tlearn: 2081.3867351\ttotal: 1.79s\tremaining: 2.37s\n",
      "86:\tlearn: 2079.4542789\ttotal: 1.8s\tremaining: 2.34s\n",
      "87:\tlearn: 2077.5264425\ttotal: 1.83s\tremaining: 2.33s\n",
      "88:\tlearn: 2074.6669785\ttotal: 1.85s\tremaining: 2.31s\n",
      "89:\tlearn: 2071.0871975\ttotal: 1.87s\tremaining: 2.29s\n",
      "90:\tlearn: 2066.6820366\ttotal: 1.89s\tremaining: 2.27s\n",
      "91:\tlearn: 2064.7245086\ttotal: 1.91s\tremaining: 2.24s\n",
      "92:\tlearn: 2061.5462566\ttotal: 1.93s\tremaining: 2.22s\n",
      "93:\tlearn: 2060.7175110\ttotal: 1.95s\tremaining: 2.2s\n",
      "94:\tlearn: 2059.7574576\ttotal: 1.97s\tremaining: 2.17s\n",
      "95:\tlearn: 2058.5888152\ttotal: 1.98s\tremaining: 2.14s\n",
      "96:\tlearn: 2055.5858672\ttotal: 2s\tremaining: 2.12s\n",
      "97:\tlearn: 2053.6456751\ttotal: 2.02s\tremaining: 2.1s\n",
      "98:\tlearn: 2052.6939054\ttotal: 2.03s\tremaining: 2.07s\n",
      "99:\tlearn: 2050.6790007\ttotal: 2.04s\tremaining: 2.04s\n",
      "100:\tlearn: 2047.2061605\ttotal: 2.06s\tremaining: 2.02s\n",
      "101:\tlearn: 2046.5100551\ttotal: 2.08s\tremaining: 2s\n",
      "102:\tlearn: 2045.1037148\ttotal: 2.09s\tremaining: 1.97s\n",
      "103:\tlearn: 2043.0550336\ttotal: 2.11s\tremaining: 1.94s\n",
      "104:\tlearn: 2040.4659953\ttotal: 2.13s\tremaining: 1.92s\n",
      "105:\tlearn: 2039.6731046\ttotal: 2.15s\tremaining: 1.9s\n",
      "106:\tlearn: 2037.9175853\ttotal: 2.17s\tremaining: 1.88s\n",
      "107:\tlearn: 2035.8901687\ttotal: 2.18s\tremaining: 1.86s\n",
      "108:\tlearn: 2034.7229138\ttotal: 2.2s\tremaining: 1.84s\n",
      "109:\tlearn: 2033.2108575\ttotal: 2.22s\tremaining: 1.81s\n",
      "110:\tlearn: 2030.1947017\ttotal: 2.24s\tremaining: 1.79s\n",
      "111:\tlearn: 2028.7613104\ttotal: 2.25s\tremaining: 1.77s\n",
      "112:\tlearn: 2027.0943699\ttotal: 2.27s\tremaining: 1.75s\n",
      "113:\tlearn: 2024.0801022\ttotal: 2.28s\tremaining: 1.72s\n",
      "114:\tlearn: 2022.3527052\ttotal: 2.3s\tremaining: 1.7s\n",
      "115:\tlearn: 2021.1767326\ttotal: 2.32s\tremaining: 1.68s\n",
      "116:\tlearn: 2018.3910282\ttotal: 2.34s\tremaining: 1.66s\n",
      "117:\tlearn: 2015.3882829\ttotal: 2.36s\tremaining: 1.64s\n",
      "118:\tlearn: 2014.3786373\ttotal: 2.37s\tremaining: 1.61s\n",
      "119:\tlearn: 2012.0575740\ttotal: 2.39s\tremaining: 1.59s\n",
      "120:\tlearn: 2009.6251015\ttotal: 2.41s\tremaining: 1.58s\n",
      "121:\tlearn: 2009.3497428\ttotal: 2.43s\tremaining: 1.55s\n",
      "122:\tlearn: 2007.1901981\ttotal: 2.45s\tremaining: 1.53s\n",
      "123:\tlearn: 2005.3181771\ttotal: 2.47s\tremaining: 1.51s\n",
      "124:\tlearn: 2002.2604077\ttotal: 2.5s\tremaining: 1.5s\n",
      "125:\tlearn: 1999.7731948\ttotal: 2.52s\tremaining: 1.48s\n",
      "126:\tlearn: 1997.3750676\ttotal: 2.53s\tremaining: 1.46s\n",
      "127:\tlearn: 1995.7181468\ttotal: 2.56s\tremaining: 1.44s\n",
      "128:\tlearn: 1994.8350405\ttotal: 2.58s\tremaining: 1.42s\n",
      "129:\tlearn: 1994.0564586\ttotal: 2.6s\tremaining: 1.4s\n",
      "130:\tlearn: 1991.4510089\ttotal: 2.62s\tremaining: 1.38s\n",
      "131:\tlearn: 1990.8730384\ttotal: 2.63s\tremaining: 1.36s\n",
      "132:\tlearn: 1990.1007546\ttotal: 2.65s\tremaining: 1.34s\n",
      "133:\tlearn: 1989.1504486\ttotal: 2.68s\tremaining: 1.32s\n",
      "134:\tlearn: 1988.0474026\ttotal: 2.69s\tremaining: 1.3s\n",
      "135:\tlearn: 1987.0262759\ttotal: 2.71s\tremaining: 1.27s\n",
      "136:\tlearn: 1985.1941967\ttotal: 2.73s\tremaining: 1.25s\n",
      "137:\tlearn: 1984.4896869\ttotal: 2.74s\tremaining: 1.23s\n",
      "138:\tlearn: 1983.8049410\ttotal: 2.76s\tremaining: 1.21s\n",
      "139:\tlearn: 1983.2941950\ttotal: 2.77s\tremaining: 1.19s\n",
      "140:\tlearn: 1983.0601683\ttotal: 2.79s\tremaining: 1.17s\n",
      "141:\tlearn: 1980.9673031\ttotal: 2.81s\tremaining: 1.15s\n",
      "142:\tlearn: 1980.5040648\ttotal: 2.83s\tremaining: 1.13s\n",
      "143:\tlearn: 1979.0796581\ttotal: 2.85s\tremaining: 1.11s\n",
      "144:\tlearn: 1977.2705066\ttotal: 2.87s\tremaining: 1.09s\n",
      "145:\tlearn: 1976.1027518\ttotal: 2.88s\tremaining: 1.06s\n",
      "146:\tlearn: 1975.3227975\ttotal: 2.9s\tremaining: 1.04s\n",
      "147:\tlearn: 1974.1073033\ttotal: 2.91s\tremaining: 1.02s\n",
      "148:\tlearn: 1973.3168147\ttotal: 2.93s\tremaining: 1s\n",
      "149:\tlearn: 1972.2912106\ttotal: 2.94s\tremaining: 982ms\n",
      "150:\tlearn: 1971.5253133\ttotal: 2.96s\tremaining: 961ms\n",
      "151:\tlearn: 1971.3827958\ttotal: 2.98s\tremaining: 940ms\n",
      "152:\tlearn: 1970.1012186\ttotal: 2.99s\tremaining: 919ms\n",
      "153:\tlearn: 1969.0948288\ttotal: 3.01s\tremaining: 899ms\n",
      "154:\tlearn: 1967.7392580\ttotal: 3.03s\tremaining: 879ms\n",
      "155:\tlearn: 1966.0702742\ttotal: 3.05s\tremaining: 859ms\n",
      "156:\tlearn: 1965.1275034\ttotal: 3.06s\tremaining: 839ms\n",
      "157:\tlearn: 1964.3950626\ttotal: 3.09s\tremaining: 821ms\n",
      "158:\tlearn: 1963.3317289\ttotal: 3.12s\tremaining: 804ms\n",
      "159:\tlearn: 1962.6869908\ttotal: 3.15s\tremaining: 786ms\n",
      "160:\tlearn: 1961.5297894\ttotal: 3.16s\tremaining: 767ms\n",
      "161:\tlearn: 1959.9715844\ttotal: 3.18s\tremaining: 747ms\n",
      "162:\tlearn: 1959.6370218\ttotal: 3.2s\tremaining: 726ms\n",
      "163:\tlearn: 1958.1150872\ttotal: 3.22s\tremaining: 706ms\n",
      "164:\tlearn: 1957.1665081\ttotal: 3.23s\tremaining: 686ms\n",
      "165:\tlearn: 1956.9600186\ttotal: 3.24s\tremaining: 664ms\n",
      "166:\tlearn: 1956.4516609\ttotal: 3.25s\tremaining: 643ms\n",
      "167:\tlearn: 1955.8636751\ttotal: 3.27s\tremaining: 623ms\n",
      "168:\tlearn: 1955.1332347\ttotal: 3.29s\tremaining: 604ms\n",
      "169:\tlearn: 1954.9511286\ttotal: 3.31s\tremaining: 585ms\n",
      "170:\tlearn: 1954.3917999\ttotal: 3.33s\tremaining: 565ms\n",
      "171:\tlearn: 1953.9426187\ttotal: 3.35s\tremaining: 545ms\n",
      "172:\tlearn: 1953.6283168\ttotal: 3.36s\tremaining: 525ms\n",
      "173:\tlearn: 1953.5309035\ttotal: 3.38s\tremaining: 504ms\n",
      "174:\tlearn: 1953.3706595\ttotal: 3.39s\tremaining: 485ms\n",
      "175:\tlearn: 1952.2666152\ttotal: 3.42s\tremaining: 466ms\n",
      "176:\tlearn: 1951.4526489\ttotal: 3.44s\tremaining: 447ms\n",
      "177:\tlearn: 1950.4343860\ttotal: 3.45s\tremaining: 426ms\n",
      "178:\tlearn: 1949.9876307\ttotal: 3.47s\tremaining: 407ms\n",
      "179:\tlearn: 1949.3762171\ttotal: 3.49s\tremaining: 388ms\n",
      "180:\tlearn: 1946.8408433\ttotal: 3.5s\tremaining: 368ms\n",
      "181:\tlearn: 1946.1828791\ttotal: 3.52s\tremaining: 349ms\n",
      "182:\tlearn: 1945.4168525\ttotal: 3.54s\tremaining: 329ms\n",
      "183:\tlearn: 1944.3643495\ttotal: 3.56s\tremaining: 309ms\n",
      "184:\tlearn: 1943.4166870\ttotal: 3.57s\tremaining: 290ms\n",
      "185:\tlearn: 1942.5226532\ttotal: 3.59s\tremaining: 270ms\n",
      "186:\tlearn: 1941.8948514\ttotal: 3.61s\tremaining: 251ms\n",
      "187:\tlearn: 1941.2892502\ttotal: 3.63s\tremaining: 232ms\n",
      "188:\tlearn: 1940.8153762\ttotal: 3.65s\tremaining: 212ms\n",
      "189:\tlearn: 1940.2227233\ttotal: 3.66s\tremaining: 193ms\n",
      "190:\tlearn: 1939.0553816\ttotal: 3.68s\tremaining: 174ms\n",
      "191:\tlearn: 1938.7529880\ttotal: 3.7s\tremaining: 154ms\n",
      "192:\tlearn: 1938.2883374\ttotal: 3.72s\tremaining: 135ms\n",
      "193:\tlearn: 1937.8110508\ttotal: 3.73s\tremaining: 115ms\n",
      "194:\tlearn: 1937.1951730\ttotal: 3.75s\tremaining: 96.1ms\n",
      "195:\tlearn: 1936.7218173\ttotal: 3.77s\tremaining: 76.8ms\n",
      "196:\tlearn: 1936.2224164\ttotal: 3.78s\tremaining: 57.6ms\n",
      "197:\tlearn: 1935.6921775\ttotal: 3.79s\tremaining: 38.3ms\n",
      "198:\tlearn: 1934.8103889\ttotal: 3.81s\tremaining: 19.2ms\n",
      "199:\tlearn: 1933.8811938\ttotal: 3.83s\tremaining: 0us\n"
     ]
    }
   ],
   "source": [
    "final_test = time_score(model_cat, features_train, target_train, features_test, target_test)"
   ]
  },
  {
   "cell_type": "code",
   "execution_count": 44,
   "metadata": {},
   "outputs": [
    {
     "data": {
      "text/plain": [
       "(4.816826820373535, 0.009735107421875, 1940.9263836122939)"
      ]
     },
     "execution_count": 44,
     "metadata": {},
     "output_type": "execute_result"
    }
   ],
   "source": [
    "final_test"
   ]
  },
  {
   "cell_type": "markdown",
   "metadata": {},
   "source": [
    "Вывод: После ознакомления с датасетом были выявленны дубликаты, которые я удалил. Также были удаленны пропуски. После чего я выявил аномалии в цене и сделал по ним срез. Нулевые значения в цене и мощности я заменил средним значением. После чего я приступил к обучению модели. Сначало я создал функцию для оценки качества и времени обучения моделей. Далее я разделил выборку на обучающую и валидационную и передал категориальные значения некоторым столбцам. Далее я приступил к анализу данных. Я начал подбирать лучшие параметры ими стали max_depth: 10, n_estimators: 250. После чего я применил эти параметры на модели и применил функцию для оценки качества. После сравнения двух моделей CatBoost и LightGBM, было выявленно что LightGBM лучшая модель т.к. скорость обучения у нее лучше."
   ]
  },
  {
   "cell_type": "markdown",
   "metadata": {},
   "source": [
    "Вывод 2:\n",
    "\n",
    "Критерии, которые важны заказчику:\n",
    "качество предсказания;\n",
    "время обучения модели;\n",
    "время предсказания модели. \n",
    "Согласно этим критериям я могу посоветовать модель CatBoost, у нее самое быстрое обучение модели и лучшие показатели RMSE"
   ]
  }
 ],
 "metadata": {
  "ExecuteTimeLog": [
   {
    "duration": 1476,
    "start_time": "2023-04-18T12:56:06.196Z"
   },
   {
    "duration": 76,
    "start_time": "2023-04-18T12:56:07.674Z"
   },
   {
    "duration": 976,
    "start_time": "2023-04-18T12:56:15.596Z"
   },
   {
    "duration": 119,
    "start_time": "2023-04-18T12:56:28.662Z"
   },
   {
    "duration": 92,
    "start_time": "2023-04-18T12:56:48.985Z"
   },
   {
    "duration": 131,
    "start_time": "2023-04-18T12:57:19.056Z"
   },
   {
    "duration": 23,
    "start_time": "2023-04-18T12:57:26.545Z"
   },
   {
    "duration": 76,
    "start_time": "2023-04-18T12:57:37.800Z"
   },
   {
    "duration": 188,
    "start_time": "2023-04-18T12:59:37.728Z"
   },
   {
    "duration": 462,
    "start_time": "2023-04-18T13:00:26.846Z"
   },
   {
    "duration": 0,
    "start_time": "2023-04-18T13:00:27.310Z"
   },
   {
    "duration": 634,
    "start_time": "2023-04-18T13:00:30.179Z"
   },
   {
    "duration": 71,
    "start_time": "2023-04-18T13:00:38.582Z"
   },
   {
    "duration": 168,
    "start_time": "2023-04-18T13:00:39.511Z"
   },
   {
    "duration": 1383,
    "start_time": "2023-04-18T13:01:02.740Z"
   },
   {
    "duration": 718,
    "start_time": "2023-04-18T13:01:04.124Z"
   },
   {
    "duration": 109,
    "start_time": "2023-04-18T13:01:04.844Z"
   },
   {
    "duration": 132,
    "start_time": "2023-04-18T13:01:04.955Z"
   },
   {
    "duration": 22,
    "start_time": "2023-04-18T13:01:05.088Z"
   },
   {
    "duration": 106,
    "start_time": "2023-04-18T13:01:05.112Z"
   },
   {
    "duration": 182,
    "start_time": "2023-04-18T13:01:05.220Z"
   },
   {
    "duration": 114,
    "start_time": "2023-04-18T13:01:29.595Z"
   },
   {
    "duration": 204,
    "start_time": "2023-04-18T13:01:34.095Z"
   },
   {
    "duration": 154,
    "start_time": "2023-04-18T13:01:35.968Z"
   },
   {
    "duration": 76,
    "start_time": "2023-04-18T13:01:50.992Z"
   },
   {
    "duration": 8,
    "start_time": "2023-04-18T13:02:09.679Z"
   },
   {
    "duration": 1227,
    "start_time": "2023-04-18T13:02:18.035Z"
   },
   {
    "duration": 1159,
    "start_time": "2023-04-18T13:05:28.772Z"
   },
   {
    "duration": 1418,
    "start_time": "2023-04-18T13:05:48.884Z"
   },
   {
    "duration": 1287,
    "start_time": "2023-04-18T13:07:01.391Z"
   },
   {
    "duration": 1288,
    "start_time": "2023-04-18T13:07:07.225Z"
   },
   {
    "duration": 734,
    "start_time": "2023-04-18T13:07:08.514Z"
   },
   {
    "duration": 110,
    "start_time": "2023-04-18T13:07:09.249Z"
   },
   {
    "duration": 132,
    "start_time": "2023-04-18T13:07:09.361Z"
   },
   {
    "duration": 22,
    "start_time": "2023-04-18T13:07:09.495Z"
   },
   {
    "duration": 88,
    "start_time": "2023-04-18T13:07:09.519Z"
   },
   {
    "duration": 193,
    "start_time": "2023-04-18T13:07:09.608Z"
   },
   {
    "duration": 223,
    "start_time": "2023-04-18T13:07:09.803Z"
   },
   {
    "duration": 84,
    "start_time": "2023-04-18T13:07:10.028Z"
   },
   {
    "duration": 1695,
    "start_time": "2023-04-18T13:07:10.113Z"
   },
   {
    "duration": 74,
    "start_time": "2023-04-18T13:09:18.651Z"
   },
   {
    "duration": 287,
    "start_time": "2023-04-18T13:09:25.092Z"
   },
   {
    "duration": 159,
    "start_time": "2023-04-18T13:09:41.122Z"
   },
   {
    "duration": 9,
    "start_time": "2023-04-18T13:10:08.691Z"
   },
   {
    "duration": 67,
    "start_time": "2023-04-18T13:10:14.129Z"
   },
   {
    "duration": 5,
    "start_time": "2023-04-18T13:10:37.157Z"
   },
   {
    "duration": 215,
    "start_time": "2023-04-18T13:10:44.093Z"
   },
   {
    "duration": 8,
    "start_time": "2023-04-18T13:12:16.250Z"
   },
   {
    "duration": 84,
    "start_time": "2023-04-18T13:12:19.917Z"
   },
   {
    "duration": 9,
    "start_time": "2023-04-18T13:13:49.520Z"
   },
   {
    "duration": 409,
    "start_time": "2023-04-18T13:13:58.016Z"
   },
   {
    "duration": 24469,
    "start_time": "2023-04-18T13:16:05.322Z"
   },
   {
    "duration": 47,
    "start_time": "2023-04-18T13:16:49.572Z"
   },
   {
    "duration": 334,
    "start_time": "2023-04-18T13:16:54.116Z"
   },
   {
    "duration": 110,
    "start_time": "2023-04-18T13:18:32.816Z"
   },
   {
    "duration": 137,
    "start_time": "2023-04-18T13:18:36.149Z"
   },
   {
    "duration": 99,
    "start_time": "2023-04-18T13:18:38.049Z"
   },
   {
    "duration": 1653,
    "start_time": "2023-04-18T13:18:42.321Z"
   },
   {
    "duration": 746,
    "start_time": "2023-04-18T13:18:43.977Z"
   },
   {
    "duration": 116,
    "start_time": "2023-04-18T13:18:44.724Z"
   },
   {
    "duration": 96,
    "start_time": "2023-04-18T13:18:44.842Z"
   },
   {
    "duration": 32,
    "start_time": "2023-04-18T13:18:44.940Z"
   },
   {
    "duration": 71,
    "start_time": "2023-04-18T13:18:44.973Z"
   },
   {
    "duration": 198,
    "start_time": "2023-04-18T13:18:45.045Z"
   },
   {
    "duration": 211,
    "start_time": "2023-04-18T13:18:45.244Z"
   },
   {
    "duration": 63,
    "start_time": "2023-04-18T13:18:45.457Z"
   },
   {
    "duration": 6,
    "start_time": "2023-04-18T13:18:45.522Z"
   },
   {
    "duration": 271,
    "start_time": "2023-04-18T13:18:45.529Z"
   },
   {
    "duration": 87,
    "start_time": "2023-04-18T13:18:45.802Z"
   },
   {
    "duration": 368,
    "start_time": "2023-04-18T13:18:45.891Z"
   },
   {
    "duration": 22931,
    "start_time": "2023-04-18T13:18:46.261Z"
   },
   {
    "duration": 44,
    "start_time": "2023-04-18T13:19:09.194Z"
   },
   {
    "duration": 22951,
    "start_time": "2023-04-18T13:21:11.348Z"
   },
   {
    "duration": 1520,
    "start_time": "2023-04-22T10:14:21.227Z"
   },
   {
    "duration": 3091,
    "start_time": "2023-04-22T10:14:22.749Z"
   },
   {
    "duration": 110,
    "start_time": "2023-04-22T10:14:25.842Z"
   },
   {
    "duration": 116,
    "start_time": "2023-04-22T10:14:25.954Z"
   },
   {
    "duration": 23,
    "start_time": "2023-04-22T10:14:26.071Z"
   },
   {
    "duration": 179,
    "start_time": "2023-04-22T10:14:26.096Z"
   },
   {
    "duration": 207,
    "start_time": "2023-04-22T10:14:26.276Z"
   },
   {
    "duration": 59,
    "start_time": "2023-04-22T10:14:26.485Z"
   },
   {
    "duration": 24,
    "start_time": "2023-04-22T10:14:26.545Z"
   },
   {
    "duration": 251,
    "start_time": "2023-04-22T10:14:26.571Z"
   },
   {
    "duration": 111,
    "start_time": "2023-04-22T10:14:26.824Z"
   },
   {
    "duration": 435,
    "start_time": "2023-04-22T10:14:26.937Z"
   },
   {
    "duration": 23207,
    "start_time": "2023-04-22T10:14:27.373Z"
   },
   {
    "duration": 49,
    "start_time": "2023-04-22T10:14:50.582Z"
   },
   {
    "duration": 48,
    "start_time": "2023-04-22T10:38:47.598Z"
   },
   {
    "duration": 4,
    "start_time": "2023-04-22T10:38:49.099Z"
   },
   {
    "duration": 50,
    "start_time": "2023-04-22T10:38:49.705Z"
   },
   {
    "duration": 53,
    "start_time": "2023-04-22T10:38:58.643Z"
   },
   {
    "duration": 96,
    "start_time": "2023-04-22T10:40:19.234Z"
   },
   {
    "duration": 156,
    "start_time": "2023-04-22T10:40:27.934Z"
   },
   {
    "duration": 10,
    "start_time": "2023-04-22T10:40:44.456Z"
   },
   {
    "duration": 221354,
    "start_time": "2023-04-22T10:40:44.917Z"
   },
   {
    "duration": 1321,
    "start_time": "2023-04-22T10:45:40.072Z"
   },
   {
    "duration": 837,
    "start_time": "2023-04-22T10:45:41.395Z"
   },
   {
    "duration": 123,
    "start_time": "2023-04-22T10:45:42.234Z"
   },
   {
    "duration": 107,
    "start_time": "2023-04-22T10:45:42.359Z"
   },
   {
    "duration": 25,
    "start_time": "2023-04-22T10:45:42.467Z"
   },
   {
    "duration": 195,
    "start_time": "2023-04-22T10:45:42.494Z"
   },
   {
    "duration": 209,
    "start_time": "2023-04-22T10:45:42.690Z"
   },
   {
    "duration": 63,
    "start_time": "2023-04-22T10:45:42.900Z"
   },
   {
    "duration": 7,
    "start_time": "2023-04-22T10:45:42.965Z"
   },
   {
    "duration": 230,
    "start_time": "2023-04-22T10:45:42.974Z"
   },
   {
    "duration": 85,
    "start_time": "2023-04-22T10:45:43.206Z"
   },
   {
    "duration": 356,
    "start_time": "2023-04-22T10:45:43.293Z"
   },
   {
    "duration": 22884,
    "start_time": "2023-04-22T10:45:43.655Z"
   },
   {
    "duration": 53,
    "start_time": "2023-04-22T10:46:06.540Z"
   },
   {
    "duration": 4,
    "start_time": "2023-04-22T10:46:06.595Z"
   },
   {
    "duration": 68,
    "start_time": "2023-04-22T10:46:06.601Z"
   },
   {
    "duration": 123,
    "start_time": "2023-04-22T10:46:06.671Z"
   },
   {
    "duration": 6090,
    "start_time": "2023-04-22T10:46:06.796Z"
   },
   {
    "duration": 157,
    "start_time": "2023-04-22T10:46:12.888Z"
   },
   {
    "duration": 12439,
    "start_time": "2023-04-22T10:46:13.047Z"
   },
   {
    "duration": 12122,
    "start_time": "2023-04-22T10:46:25.556Z"
   },
   {
    "duration": 28085,
    "start_time": "2023-04-22T10:46:37.680Z"
   },
   {
    "duration": 28477,
    "start_time": "2023-04-22T10:47:05.767Z"
   },
   {
    "duration": 9,
    "start_time": "2023-04-22T10:47:34.246Z"
   },
   {
    "duration": 59,
    "start_time": "2023-04-22T10:48:44.386Z"
   },
   {
    "duration": 1301728,
    "start_time": "2023-04-22T10:49:30.237Z"
   },
   {
    "duration": 16297,
    "start_time": "2023-04-22T11:18:17.561Z"
   },
   {
    "duration": 13419,
    "start_time": "2023-04-22T11:18:33.860Z"
   },
   {
    "duration": 28634,
    "start_time": "2023-04-22T11:18:47.280Z"
   },
   {
    "duration": 27973,
    "start_time": "2023-04-22T11:19:15.916Z"
   },
   {
    "duration": 12,
    "start_time": "2023-04-22T11:19:43.891Z"
   },
   {
    "duration": 94,
    "start_time": "2023-05-01T09:21:09.638Z"
   },
   {
    "duration": 96,
    "start_time": "2023-05-01T09:21:13.824Z"
   },
   {
    "duration": 53,
    "start_time": "2023-05-02T12:27:01.840Z"
   },
   {
    "duration": 1718,
    "start_time": "2023-05-02T12:32:48.084Z"
   },
   {
    "duration": 1235,
    "start_time": "2023-05-02T12:32:49.805Z"
   },
   {
    "duration": 158,
    "start_time": "2023-05-02T12:32:51.041Z"
   },
   {
    "duration": 121,
    "start_time": "2023-05-02T12:32:51.201Z"
   },
   {
    "duration": 35,
    "start_time": "2023-05-02T12:32:51.325Z"
   },
   {
    "duration": 206,
    "start_time": "2023-05-02T12:32:51.363Z"
   },
   {
    "duration": 234,
    "start_time": "2023-05-02T12:32:51.572Z"
   },
   {
    "duration": 81,
    "start_time": "2023-05-02T12:32:51.808Z"
   },
   {
    "duration": 8,
    "start_time": "2023-05-02T12:32:51.892Z"
   },
   {
    "duration": 321,
    "start_time": "2023-05-02T12:32:51.901Z"
   },
   {
    "duration": 3,
    "start_time": "2023-05-02T12:32:52.224Z"
   },
   {
    "duration": 1317,
    "start_time": "2023-05-02T12:32:52.228Z"
   },
   {
    "duration": 0,
    "start_time": "2023-05-02T12:32:53.547Z"
   },
   {
    "duration": 0,
    "start_time": "2023-05-02T12:32:53.548Z"
   },
   {
    "duration": 0,
    "start_time": "2023-05-02T12:32:53.550Z"
   },
   {
    "duration": 0,
    "start_time": "2023-05-02T12:32:53.552Z"
   },
   {
    "duration": 0,
    "start_time": "2023-05-02T12:32:53.553Z"
   },
   {
    "duration": 0,
    "start_time": "2023-05-02T12:32:53.554Z"
   },
   {
    "duration": 0,
    "start_time": "2023-05-02T12:32:53.555Z"
   },
   {
    "duration": 0,
    "start_time": "2023-05-02T12:32:53.557Z"
   },
   {
    "duration": 0,
    "start_time": "2023-05-02T12:32:53.558Z"
   },
   {
    "duration": 0,
    "start_time": "2023-05-02T12:32:53.559Z"
   },
   {
    "duration": 0,
    "start_time": "2023-05-02T12:32:53.560Z"
   },
   {
    "duration": 0,
    "start_time": "2023-05-02T12:32:53.562Z"
   },
   {
    "duration": 0,
    "start_time": "2023-05-02T12:32:53.563Z"
   },
   {
    "duration": 17,
    "start_time": "2023-05-02T12:33:43.533Z"
   },
   {
    "duration": 643,
    "start_time": "2023-05-02T12:33:45.685Z"
   },
   {
    "duration": 1527,
    "start_time": "2023-05-02T12:34:45.375Z"
   },
   {
    "duration": 884,
    "start_time": "2023-05-02T12:34:46.904Z"
   },
   {
    "duration": 151,
    "start_time": "2023-05-02T12:34:47.790Z"
   },
   {
    "duration": 138,
    "start_time": "2023-05-02T12:34:47.943Z"
   },
   {
    "duration": 25,
    "start_time": "2023-05-02T12:34:48.083Z"
   },
   {
    "duration": 217,
    "start_time": "2023-05-02T12:34:48.110Z"
   },
   {
    "duration": 239,
    "start_time": "2023-05-02T12:34:48.329Z"
   },
   {
    "duration": 89,
    "start_time": "2023-05-02T12:34:48.570Z"
   },
   {
    "duration": 7,
    "start_time": "2023-05-02T12:34:48.661Z"
   },
   {
    "duration": 242,
    "start_time": "2023-05-02T12:34:48.670Z"
   },
   {
    "duration": 3,
    "start_time": "2023-05-02T12:34:48.914Z"
   },
   {
    "duration": 30,
    "start_time": "2023-05-02T12:34:48.919Z"
   },
   {
    "duration": 691,
    "start_time": "2023-05-02T12:34:48.951Z"
   },
   {
    "duration": 0,
    "start_time": "2023-05-02T12:34:49.644Z"
   },
   {
    "duration": 0,
    "start_time": "2023-05-02T12:34:49.646Z"
   },
   {
    "duration": 0,
    "start_time": "2023-05-02T12:34:49.648Z"
   },
   {
    "duration": 0,
    "start_time": "2023-05-02T12:34:49.649Z"
   },
   {
    "duration": 0,
    "start_time": "2023-05-02T12:34:49.650Z"
   },
   {
    "duration": 0,
    "start_time": "2023-05-02T12:34:49.651Z"
   },
   {
    "duration": 0,
    "start_time": "2023-05-02T12:34:49.654Z"
   },
   {
    "duration": 0,
    "start_time": "2023-05-02T12:34:49.656Z"
   },
   {
    "duration": 0,
    "start_time": "2023-05-02T12:34:49.657Z"
   },
   {
    "duration": 0,
    "start_time": "2023-05-02T12:34:49.658Z"
   },
   {
    "duration": 0,
    "start_time": "2023-05-02T12:34:49.660Z"
   },
   {
    "duration": 0,
    "start_time": "2023-05-02T12:34:49.661Z"
   },
   {
    "duration": 1550,
    "start_time": "2023-05-02T12:35:12.960Z"
   },
   {
    "duration": 878,
    "start_time": "2023-05-02T12:35:14.512Z"
   },
   {
    "duration": 139,
    "start_time": "2023-05-02T12:35:15.392Z"
   },
   {
    "duration": 112,
    "start_time": "2023-05-02T12:35:15.533Z"
   },
   {
    "duration": 41,
    "start_time": "2023-05-02T12:35:15.648Z"
   },
   {
    "duration": 234,
    "start_time": "2023-05-02T12:35:15.691Z"
   },
   {
    "duration": 261,
    "start_time": "2023-05-02T12:35:15.927Z"
   },
   {
    "duration": 89,
    "start_time": "2023-05-02T12:35:16.190Z"
   },
   {
    "duration": 8,
    "start_time": "2023-05-02T12:35:16.282Z"
   },
   {
    "duration": 298,
    "start_time": "2023-05-02T12:35:16.292Z"
   },
   {
    "duration": 3,
    "start_time": "2023-05-02T12:35:16.591Z"
   },
   {
    "duration": 4,
    "start_time": "2023-05-02T12:35:16.596Z"
   },
   {
    "duration": 457,
    "start_time": "2023-05-02T12:35:16.602Z"
   },
   {
    "duration": 326,
    "start_time": "2023-05-02T12:35:17.061Z"
   },
   {
    "duration": 0,
    "start_time": "2023-05-02T12:35:17.388Z"
   },
   {
    "duration": 0,
    "start_time": "2023-05-02T12:35:17.390Z"
   },
   {
    "duration": 0,
    "start_time": "2023-05-02T12:35:17.390Z"
   },
   {
    "duration": 0,
    "start_time": "2023-05-02T12:35:17.391Z"
   },
   {
    "duration": 0,
    "start_time": "2023-05-02T12:35:17.392Z"
   },
   {
    "duration": 0,
    "start_time": "2023-05-02T12:35:17.393Z"
   },
   {
    "duration": 0,
    "start_time": "2023-05-02T12:35:17.394Z"
   },
   {
    "duration": 0,
    "start_time": "2023-05-02T12:35:17.395Z"
   },
   {
    "duration": 0,
    "start_time": "2023-05-02T12:35:17.396Z"
   },
   {
    "duration": 0,
    "start_time": "2023-05-02T12:35:17.397Z"
   },
   {
    "duration": 0,
    "start_time": "2023-05-02T12:35:17.398Z"
   },
   {
    "duration": 6,
    "start_time": "2023-05-02T12:36:01.692Z"
   },
   {
    "duration": 17,
    "start_time": "2023-05-02T12:36:05.840Z"
   },
   {
    "duration": 575,
    "start_time": "2023-05-02T12:36:06.691Z"
   },
   {
    "duration": 550,
    "start_time": "2023-05-02T12:36:20.313Z"
   },
   {
    "duration": 526,
    "start_time": "2023-05-02T12:36:20.982Z"
   },
   {
    "duration": 533,
    "start_time": "2023-05-02T12:36:23.167Z"
   },
   {
    "duration": 5,
    "start_time": "2023-05-02T12:36:34.827Z"
   },
   {
    "duration": 5,
    "start_time": "2023-05-02T12:36:42.529Z"
   },
   {
    "duration": 1765,
    "start_time": "2023-05-02T12:37:17.061Z"
   },
   {
    "duration": 1038,
    "start_time": "2023-05-02T12:37:18.829Z"
   },
   {
    "duration": 194,
    "start_time": "2023-05-02T12:37:19.868Z"
   },
   {
    "duration": 138,
    "start_time": "2023-05-02T12:37:20.065Z"
   },
   {
    "duration": 30,
    "start_time": "2023-05-02T12:37:20.204Z"
   },
   {
    "duration": 249,
    "start_time": "2023-05-02T12:37:20.236Z"
   },
   {
    "duration": 273,
    "start_time": "2023-05-02T12:37:20.487Z"
   },
   {
    "duration": 104,
    "start_time": "2023-05-02T12:37:20.762Z"
   },
   {
    "duration": 23,
    "start_time": "2023-05-02T12:37:20.868Z"
   },
   {
    "duration": 311,
    "start_time": "2023-05-02T12:37:20.895Z"
   },
   {
    "duration": 3,
    "start_time": "2023-05-02T12:37:21.208Z"
   },
   {
    "duration": 137,
    "start_time": "2023-05-02T12:37:21.213Z"
   },
   {
    "duration": 20,
    "start_time": "2023-05-02T12:37:21.352Z"
   },
   {
    "duration": 491,
    "start_time": "2023-05-02T12:37:21.373Z"
   },
   {
    "duration": 35737,
    "start_time": "2023-05-02T12:37:21.866Z"
   },
   {
    "duration": 83,
    "start_time": "2023-05-02T12:37:57.605Z"
   },
   {
    "duration": 4,
    "start_time": "2023-05-02T12:37:57.689Z"
   },
   {
    "duration": 15,
    "start_time": "2023-05-02T12:37:57.695Z"
   },
   {
    "duration": 23,
    "start_time": "2023-05-02T12:37:57.712Z"
   },
   {
    "duration": 1462,
    "start_time": "2023-05-02T12:38:02.842Z"
   },
   {
    "duration": 901,
    "start_time": "2023-05-02T12:38:04.307Z"
   },
   {
    "duration": 160,
    "start_time": "2023-05-02T12:38:05.210Z"
   },
   {
    "duration": 113,
    "start_time": "2023-05-02T12:38:05.372Z"
   },
   {
    "duration": 28,
    "start_time": "2023-05-02T12:38:05.488Z"
   },
   {
    "duration": 229,
    "start_time": "2023-05-02T12:38:05.518Z"
   },
   {
    "duration": 254,
    "start_time": "2023-05-02T12:38:05.749Z"
   },
   {
    "duration": 83,
    "start_time": "2023-05-02T12:38:06.005Z"
   },
   {
    "duration": 21,
    "start_time": "2023-05-02T12:38:06.090Z"
   },
   {
    "duration": 296,
    "start_time": "2023-05-02T12:38:06.113Z"
   },
   {
    "duration": 2,
    "start_time": "2023-05-02T12:38:06.411Z"
   },
   {
    "duration": 109,
    "start_time": "2023-05-02T12:38:06.415Z"
   },
   {
    "duration": 456,
    "start_time": "2023-05-02T12:38:06.526Z"
   },
   {
    "duration": 36664,
    "start_time": "2023-05-02T12:38:06.985Z"
   },
   {
    "duration": 132,
    "start_time": "2023-05-02T12:38:43.654Z"
   },
   {
    "duration": 6,
    "start_time": "2023-05-02T12:38:43.790Z"
   },
   {
    "duration": 26,
    "start_time": "2023-05-02T12:38:43.798Z"
   },
   {
    "duration": 50,
    "start_time": "2023-05-02T12:38:43.826Z"
   },
   {
    "duration": 336801,
    "start_time": "2023-05-02T12:38:43.878Z"
   },
   {
    "duration": 6,
    "start_time": "2023-05-02T12:44:20.680Z"
   },
   {
    "duration": 0,
    "start_time": "2023-05-02T12:44:20.760Z"
   },
   {
    "duration": 0,
    "start_time": "2023-05-02T12:44:20.761Z"
   },
   {
    "duration": 0,
    "start_time": "2023-05-02T12:44:20.762Z"
   },
   {
    "duration": 0,
    "start_time": "2023-05-02T12:44:20.763Z"
   },
   {
    "duration": 0,
    "start_time": "2023-05-02T12:44:20.764Z"
   },
   {
    "duration": 6,
    "start_time": "2023-05-02T13:25:01.105Z"
   },
   {
    "duration": 112,
    "start_time": "2023-05-02T13:25:05.574Z"
   },
   {
    "duration": 1374,
    "start_time": "2023-05-02T13:25:53.717Z"
   },
   {
    "duration": 870,
    "start_time": "2023-05-02T13:25:55.093Z"
   },
   {
    "duration": 141,
    "start_time": "2023-05-02T13:25:55.965Z"
   },
   {
    "duration": 109,
    "start_time": "2023-05-02T13:25:56.108Z"
   },
   {
    "duration": 28,
    "start_time": "2023-05-02T13:25:56.220Z"
   },
   {
    "duration": 212,
    "start_time": "2023-05-02T13:25:56.260Z"
   },
   {
    "duration": 208,
    "start_time": "2023-05-02T13:25:56.474Z"
   },
   {
    "duration": 83,
    "start_time": "2023-05-02T13:25:56.684Z"
   },
   {
    "duration": 8,
    "start_time": "2023-05-02T13:25:56.769Z"
   },
   {
    "duration": 230,
    "start_time": "2023-05-02T13:25:56.779Z"
   },
   {
    "duration": 3,
    "start_time": "2023-05-02T13:25:57.011Z"
   },
   {
    "duration": 106,
    "start_time": "2023-05-02T13:25:57.016Z"
   },
   {
    "duration": 462,
    "start_time": "2023-05-02T13:25:57.124Z"
   },
   {
    "duration": 1480,
    "start_time": "2023-05-02T13:26:19.112Z"
   },
   {
    "duration": 892,
    "start_time": "2023-05-02T13:26:20.594Z"
   },
   {
    "duration": 144,
    "start_time": "2023-05-02T13:26:21.488Z"
   },
   {
    "duration": 108,
    "start_time": "2023-05-02T13:26:21.634Z"
   },
   {
    "duration": 37,
    "start_time": "2023-05-02T13:26:21.744Z"
   },
   {
    "duration": 214,
    "start_time": "2023-05-02T13:26:21.783Z"
   },
   {
    "duration": 233,
    "start_time": "2023-05-02T13:26:21.999Z"
   },
   {
    "duration": 83,
    "start_time": "2023-05-02T13:26:22.234Z"
   },
   {
    "duration": 7,
    "start_time": "2023-05-02T13:26:22.319Z"
   },
   {
    "duration": 282,
    "start_time": "2023-05-02T13:26:22.328Z"
   },
   {
    "duration": 3,
    "start_time": "2023-05-02T13:26:22.611Z"
   },
   {
    "duration": 102,
    "start_time": "2023-05-02T13:26:22.615Z"
   },
   {
    "duration": 446,
    "start_time": "2023-05-02T13:26:22.719Z"
   },
   {
    "duration": 35490,
    "start_time": "2023-05-02T13:26:23.167Z"
   },
   {
    "duration": 77,
    "start_time": "2023-05-02T13:26:58.659Z"
   },
   {
    "duration": 4,
    "start_time": "2023-05-02T13:26:58.738Z"
   },
   {
    "duration": 18,
    "start_time": "2023-05-02T13:26:58.759Z"
   },
   {
    "duration": 25,
    "start_time": "2023-05-02T13:26:58.779Z"
   },
   {
    "duration": 336266,
    "start_time": "2023-05-02T13:26:58.806Z"
   },
   {
    "duration": 7,
    "start_time": "2023-05-02T13:32:35.074Z"
   },
   {
    "duration": 0,
    "start_time": "2023-05-02T13:32:35.082Z"
   },
   {
    "duration": 0,
    "start_time": "2023-05-02T13:32:35.084Z"
   },
   {
    "duration": 0,
    "start_time": "2023-05-02T13:32:35.085Z"
   },
   {
    "duration": 0,
    "start_time": "2023-05-02T13:32:35.086Z"
   },
   {
    "duration": 0,
    "start_time": "2023-05-02T13:32:35.087Z"
   },
   {
    "duration": 8,
    "start_time": "2023-05-02T13:38:00.849Z"
   },
   {
    "duration": 8,
    "start_time": "2023-05-02T13:38:13.168Z"
   },
   {
    "duration": 6,
    "start_time": "2023-05-02T13:38:18.548Z"
   },
   {
    "duration": 4,
    "start_time": "2023-05-02T16:36:06.603Z"
   },
   {
    "duration": 768,
    "start_time": "2023-05-02T16:36:12.330Z"
   },
   {
    "duration": 133,
    "start_time": "2023-05-02T16:36:14.102Z"
   },
   {
    "duration": 94,
    "start_time": "2023-05-02T16:36:14.532Z"
   },
   {
    "duration": 17,
    "start_time": "2023-05-02T16:36:16.217Z"
   },
   {
    "duration": 169,
    "start_time": "2023-05-02T16:36:19.457Z"
   },
   {
    "duration": 188,
    "start_time": "2023-05-02T16:36:21.401Z"
   },
   {
    "duration": 78,
    "start_time": "2023-05-02T16:36:22.316Z"
   },
   {
    "duration": 6,
    "start_time": "2023-05-02T16:36:23.085Z"
   },
   {
    "duration": 263,
    "start_time": "2023-05-02T16:36:24.551Z"
   },
   {
    "duration": 2,
    "start_time": "2023-05-02T16:36:25.145Z"
   },
   {
    "duration": 90,
    "start_time": "2023-05-02T16:36:26.823Z"
   },
   {
    "duration": 500,
    "start_time": "2023-05-02T16:36:27.548Z"
   },
   {
    "duration": 35383,
    "start_time": "2023-05-02T16:36:34.505Z"
   },
   {
    "duration": 81,
    "start_time": "2023-05-02T16:37:09.890Z"
   },
   {
    "duration": 4,
    "start_time": "2023-05-02T16:37:09.973Z"
   },
   {
    "duration": 20,
    "start_time": "2023-05-02T16:37:09.979Z"
   },
   {
    "duration": 30,
    "start_time": "2023-05-02T16:37:10.001Z"
   },
   {
    "duration": 1742,
    "start_time": "2023-05-02T16:37:10.033Z"
   },
   {
    "duration": 4986,
    "start_time": "2023-05-02T16:37:11.778Z"
   },
   {
    "duration": 6504,
    "start_time": "2023-05-02T16:37:16.767Z"
   },
   {
    "duration": 4105,
    "start_time": "2023-05-02T16:37:23.273Z"
   },
   {
    "duration": 11,
    "start_time": "2023-05-02T16:37:27.380Z"
   },
   {
    "duration": 0,
    "start_time": "2023-05-02T16:37:27.392Z"
   },
   {
    "duration": 0,
    "start_time": "2023-05-02T16:37:27.394Z"
   },
   {
    "duration": 0,
    "start_time": "2023-05-02T16:37:27.395Z"
   },
   {
    "duration": 0,
    "start_time": "2023-05-02T16:37:27.396Z"
   },
   {
    "duration": 9,
    "start_time": "2023-05-02T16:37:28.463Z"
   },
   {
    "duration": 4054,
    "start_time": "2023-05-02T16:37:58.696Z"
   },
   {
    "duration": 11,
    "start_time": "2023-05-02T16:38:07.006Z"
   },
   {
    "duration": 10,
    "start_time": "2023-05-02T16:38:27.130Z"
   },
   {
    "duration": 12,
    "start_time": "2023-05-02T16:41:44.700Z"
   },
   {
    "duration": 10,
    "start_time": "2023-05-02T16:44:08.642Z"
   },
   {
    "duration": 25,
    "start_time": "2023-05-02T16:45:06.199Z"
   },
   {
    "duration": 9,
    "start_time": "2023-05-03T13:06:40.001Z"
   },
   {
    "duration": 15,
    "start_time": "2023-05-03T13:07:54.647Z"
   },
   {
    "duration": 20,
    "start_time": "2023-05-03T13:08:06.399Z"
   },
   {
    "duration": 10,
    "start_time": "2023-05-03T13:08:42.388Z"
   },
   {
    "duration": 5,
    "start_time": "2023-05-03T13:08:52.332Z"
   },
   {
    "duration": 12,
    "start_time": "2023-05-03T13:10:04.599Z"
   },
   {
    "duration": 2,
    "start_time": "2023-05-03T13:10:38.697Z"
   },
   {
    "duration": 1991,
    "start_time": "2023-05-03T13:10:44.842Z"
   },
   {
    "duration": 816,
    "start_time": "2023-05-03T13:10:46.835Z"
   },
   {
    "duration": 119,
    "start_time": "2023-05-03T13:10:47.653Z"
   },
   {
    "duration": 161,
    "start_time": "2023-05-03T13:10:47.774Z"
   },
   {
    "duration": 27,
    "start_time": "2023-05-03T13:10:47.937Z"
   },
   {
    "duration": 213,
    "start_time": "2023-05-03T13:10:47.966Z"
   },
   {
    "duration": 227,
    "start_time": "2023-05-03T13:10:48.181Z"
   },
   {
    "duration": 69,
    "start_time": "2023-05-03T13:10:48.409Z"
   },
   {
    "duration": 23,
    "start_time": "2023-05-03T13:10:48.479Z"
   },
   {
    "duration": 267,
    "start_time": "2023-05-03T13:10:48.505Z"
   },
   {
    "duration": 2,
    "start_time": "2023-05-03T13:10:48.773Z"
   },
   {
    "duration": 124,
    "start_time": "2023-05-03T13:10:48.776Z"
   },
   {
    "duration": 438,
    "start_time": "2023-05-03T13:10:48.902Z"
   },
   {
    "duration": 34838,
    "start_time": "2023-05-03T13:10:49.341Z"
   },
   {
    "duration": 73,
    "start_time": "2023-05-03T13:11:24.181Z"
   },
   {
    "duration": 3,
    "start_time": "2023-05-03T13:11:24.256Z"
   },
   {
    "duration": 17,
    "start_time": "2023-05-03T13:11:24.261Z"
   },
   {
    "duration": 28,
    "start_time": "2023-05-03T13:11:24.279Z"
   },
   {
    "duration": 1746,
    "start_time": "2023-05-03T13:11:28.438Z"
   },
   {
    "duration": 828,
    "start_time": "2023-05-03T13:11:30.186Z"
   },
   {
    "duration": 124,
    "start_time": "2023-05-03T13:11:31.015Z"
   },
   {
    "duration": 162,
    "start_time": "2023-05-03T13:11:31.140Z"
   },
   {
    "duration": 28,
    "start_time": "2023-05-03T13:11:31.304Z"
   },
   {
    "duration": 231,
    "start_time": "2023-05-03T13:11:31.334Z"
   },
   {
    "duration": 229,
    "start_time": "2023-05-03T13:11:31.566Z"
   },
   {
    "duration": 76,
    "start_time": "2023-05-03T13:11:31.797Z"
   },
   {
    "duration": 29,
    "start_time": "2023-05-03T13:11:31.874Z"
   },
   {
    "duration": 269,
    "start_time": "2023-05-03T13:11:31.905Z"
   },
   {
    "duration": 3,
    "start_time": "2023-05-03T13:11:32.176Z"
   },
   {
    "duration": 148,
    "start_time": "2023-05-03T13:11:32.181Z"
   },
   {
    "duration": 439,
    "start_time": "2023-05-03T13:11:32.331Z"
   },
   {
    "duration": 34991,
    "start_time": "2023-05-03T13:11:32.772Z"
   },
   {
    "duration": 71,
    "start_time": "2023-05-03T13:12:07.765Z"
   },
   {
    "duration": 14,
    "start_time": "2023-05-03T13:12:07.837Z"
   },
   {
    "duration": 26,
    "start_time": "2023-05-03T13:12:07.852Z"
   },
   {
    "duration": 27,
    "start_time": "2023-05-03T13:12:07.880Z"
   },
   {
    "duration": 1846,
    "start_time": "2023-05-03T13:12:07.909Z"
   },
   {
    "duration": 3,
    "start_time": "2023-05-03T13:12:09.758Z"
   },
   {
    "duration": 3591,
    "start_time": "2023-05-03T13:12:09.763Z"
   },
   {
    "duration": 3299,
    "start_time": "2023-05-03T13:12:13.356Z"
   },
   {
    "duration": 4789,
    "start_time": "2023-05-03T13:12:16.748Z"
   },
   {
    "duration": 133,
    "start_time": "2023-05-03T13:12:21.538Z"
   },
   {
    "duration": 0,
    "start_time": "2023-05-03T13:12:21.673Z"
   },
   {
    "duration": 0,
    "start_time": "2023-05-03T13:12:21.675Z"
   },
   {
    "duration": 0,
    "start_time": "2023-05-03T13:12:21.676Z"
   },
   {
    "duration": 0,
    "start_time": "2023-05-03T13:12:21.678Z"
   },
   {
    "duration": 0,
    "start_time": "2023-05-03T13:12:21.679Z"
   },
   {
    "duration": 18,
    "start_time": "2023-05-03T13:13:36.673Z"
   },
   {
    "duration": 1728,
    "start_time": "2023-05-03T13:14:47.654Z"
   },
   {
    "duration": 782,
    "start_time": "2023-05-03T13:14:49.384Z"
   },
   {
    "duration": 111,
    "start_time": "2023-05-03T13:14:50.168Z"
   },
   {
    "duration": 101,
    "start_time": "2023-05-03T13:14:50.281Z"
   },
   {
    "duration": 25,
    "start_time": "2023-05-03T13:14:50.383Z"
   },
   {
    "duration": 201,
    "start_time": "2023-05-03T13:14:50.410Z"
   },
   {
    "duration": 216,
    "start_time": "2023-05-03T13:14:50.613Z"
   },
   {
    "duration": 74,
    "start_time": "2023-05-03T13:14:50.831Z"
   },
   {
    "duration": 15,
    "start_time": "2023-05-03T13:14:50.907Z"
   },
   {
    "duration": 250,
    "start_time": "2023-05-03T13:14:50.926Z"
   },
   {
    "duration": 3,
    "start_time": "2023-05-03T13:14:51.178Z"
   },
   {
    "duration": 57,
    "start_time": "2023-05-03T13:14:51.182Z"
   },
   {
    "duration": 434,
    "start_time": "2023-05-03T13:14:51.240Z"
   },
   {
    "duration": 393,
    "start_time": "2023-05-03T13:14:51.676Z"
   },
   {
    "duration": 0,
    "start_time": "2023-05-03T13:14:52.071Z"
   },
   {
    "duration": 0,
    "start_time": "2023-05-03T13:14:52.073Z"
   },
   {
    "duration": 0,
    "start_time": "2023-05-03T13:14:52.074Z"
   },
   {
    "duration": 0,
    "start_time": "2023-05-03T13:14:52.075Z"
   },
   {
    "duration": 0,
    "start_time": "2023-05-03T13:14:52.076Z"
   },
   {
    "duration": 0,
    "start_time": "2023-05-03T13:14:52.078Z"
   },
   {
    "duration": 0,
    "start_time": "2023-05-03T13:14:52.079Z"
   },
   {
    "duration": 0,
    "start_time": "2023-05-03T13:14:52.080Z"
   },
   {
    "duration": 0,
    "start_time": "2023-05-03T13:14:52.081Z"
   },
   {
    "duration": 0,
    "start_time": "2023-05-03T13:14:52.082Z"
   },
   {
    "duration": 0,
    "start_time": "2023-05-03T13:14:52.084Z"
   },
   {
    "duration": 0,
    "start_time": "2023-05-03T13:14:52.085Z"
   },
   {
    "duration": 0,
    "start_time": "2023-05-03T13:14:52.087Z"
   },
   {
    "duration": 0,
    "start_time": "2023-05-03T13:14:52.088Z"
   },
   {
    "duration": 0,
    "start_time": "2023-05-03T13:14:52.090Z"
   },
   {
    "duration": 74,
    "start_time": "2023-05-03T13:15:48.536Z"
   },
   {
    "duration": 384,
    "start_time": "2023-05-03T13:15:52.704Z"
   },
   {
    "duration": 34903,
    "start_time": "2023-05-03T13:15:55.001Z"
   },
   {
    "duration": 76,
    "start_time": "2023-05-03T13:16:29.905Z"
   },
   {
    "duration": 4,
    "start_time": "2023-05-03T13:16:29.983Z"
   },
   {
    "duration": 15,
    "start_time": "2023-05-03T13:16:29.989Z"
   },
   {
    "duration": 49,
    "start_time": "2023-05-03T13:16:30.006Z"
   },
   {
    "duration": 2092,
    "start_time": "2023-05-03T13:16:30.057Z"
   },
   {
    "duration": 3,
    "start_time": "2023-05-03T13:16:32.151Z"
   },
   {
    "duration": 3404,
    "start_time": "2023-05-03T13:16:32.155Z"
   },
   {
    "duration": 3508,
    "start_time": "2023-05-03T13:16:35.650Z"
   },
   {
    "duration": 5592,
    "start_time": "2023-05-03T13:16:39.250Z"
   },
   {
    "duration": 27,
    "start_time": "2023-05-03T13:16:44.844Z"
   },
   {
    "duration": 15,
    "start_time": "2023-05-03T13:19:12.942Z"
   },
   {
    "duration": 21,
    "start_time": "2023-05-03T13:19:24.398Z"
   },
   {
    "duration": 29,
    "start_time": "2023-05-03T13:20:33.017Z"
   },
   {
    "duration": 1659,
    "start_time": "2023-05-03T13:23:42.683Z"
   },
   {
    "duration": 911,
    "start_time": "2023-05-03T13:23:44.345Z"
   },
   {
    "duration": 140,
    "start_time": "2023-05-03T13:23:45.258Z"
   },
   {
    "duration": 130,
    "start_time": "2023-05-03T13:23:45.401Z"
   },
   {
    "duration": 32,
    "start_time": "2023-05-03T13:23:45.533Z"
   },
   {
    "duration": 196,
    "start_time": "2023-05-03T13:23:45.567Z"
   },
   {
    "duration": 222,
    "start_time": "2023-05-03T13:23:45.764Z"
   },
   {
    "duration": 71,
    "start_time": "2023-05-03T13:23:45.988Z"
   },
   {
    "duration": 7,
    "start_time": "2023-05-03T13:23:46.060Z"
   },
   {
    "duration": 234,
    "start_time": "2023-05-03T13:23:46.069Z"
   },
   {
    "duration": 3,
    "start_time": "2023-05-03T13:23:46.304Z"
   },
   {
    "duration": 202,
    "start_time": "2023-05-03T13:23:46.309Z"
   },
   {
    "duration": 457,
    "start_time": "2023-05-03T13:23:46.513Z"
   },
   {
    "duration": 35329,
    "start_time": "2023-05-03T13:23:46.973Z"
   },
   {
    "duration": 86,
    "start_time": "2023-05-03T13:24:22.303Z"
   },
   {
    "duration": 3,
    "start_time": "2023-05-03T13:24:22.391Z"
   },
   {
    "duration": 19,
    "start_time": "2023-05-03T13:24:22.395Z"
   },
   {
    "duration": 70,
    "start_time": "2023-05-03T13:24:22.415Z"
   },
   {
    "duration": 2070,
    "start_time": "2023-05-03T13:24:22.487Z"
   },
   {
    "duration": 3,
    "start_time": "2023-05-03T13:24:24.649Z"
   },
   {
    "duration": 5903,
    "start_time": "2023-05-03T13:24:24.654Z"
   },
   {
    "duration": 2894,
    "start_time": "2023-05-03T13:24:30.559Z"
   },
   {
    "duration": 3119,
    "start_time": "2023-05-03T13:24:33.455Z"
   },
   {
    "duration": 130,
    "start_time": "2023-05-03T13:24:36.576Z"
   },
   {
    "duration": 0,
    "start_time": "2023-05-03T13:24:36.707Z"
   },
   {
    "duration": 0,
    "start_time": "2023-05-03T13:24:36.709Z"
   },
   {
    "duration": 0,
    "start_time": "2023-05-03T13:24:36.710Z"
   },
   {
    "duration": 0,
    "start_time": "2023-05-03T13:24:36.710Z"
   },
   {
    "duration": 0,
    "start_time": "2023-05-03T13:24:36.711Z"
   },
   {
    "duration": 1447,
    "start_time": "2023-05-03T13:35:08.070Z"
   },
   {
    "duration": 817,
    "start_time": "2023-05-03T13:35:09.519Z"
   },
   {
    "duration": 120,
    "start_time": "2023-05-03T13:35:10.337Z"
   },
   {
    "duration": 107,
    "start_time": "2023-05-03T13:35:10.459Z"
   },
   {
    "duration": 25,
    "start_time": "2023-05-03T13:35:10.568Z"
   },
   {
    "duration": 190,
    "start_time": "2023-05-03T13:35:10.595Z"
   },
   {
    "duration": 211,
    "start_time": "2023-05-03T13:35:10.787Z"
   },
   {
    "duration": 75,
    "start_time": "2023-05-03T13:35:11.000Z"
   },
   {
    "duration": 7,
    "start_time": "2023-05-03T13:35:11.076Z"
   },
   {
    "duration": 291,
    "start_time": "2023-05-03T13:35:11.084Z"
   },
   {
    "duration": 3,
    "start_time": "2023-05-03T13:35:11.377Z"
   },
   {
    "duration": 157,
    "start_time": "2023-05-03T13:35:11.382Z"
   },
   {
    "duration": 443,
    "start_time": "2023-05-03T13:35:11.540Z"
   },
   {
    "duration": 35127,
    "start_time": "2023-05-03T13:35:11.986Z"
   },
   {
    "duration": 83,
    "start_time": "2023-05-03T13:35:47.115Z"
   },
   {
    "duration": 4,
    "start_time": "2023-05-03T13:35:47.200Z"
   },
   {
    "duration": 18,
    "start_time": "2023-05-03T13:35:47.206Z"
   },
   {
    "duration": 49,
    "start_time": "2023-05-03T13:35:47.225Z"
   },
   {
    "duration": 533183,
    "start_time": "2023-05-03T13:35:47.276Z"
   },
   {
    "duration": 3,
    "start_time": "2023-05-03T13:44:40.550Z"
   },
   {
    "duration": 3696,
    "start_time": "2023-05-03T13:44:40.554Z"
   },
   {
    "duration": 3301,
    "start_time": "2023-05-03T13:44:44.252Z"
   },
   {
    "duration": 4303,
    "start_time": "2023-05-03T13:44:47.555Z"
   },
   {
    "duration": 0,
    "start_time": "2023-05-03T13:44:51.987Z"
   },
   {
    "duration": 0,
    "start_time": "2023-05-03T13:44:51.988Z"
   },
   {
    "duration": 0,
    "start_time": "2023-05-03T13:44:51.989Z"
   },
   {
    "duration": 0,
    "start_time": "2023-05-03T13:44:51.990Z"
   },
   {
    "duration": 0,
    "start_time": "2023-05-03T13:44:51.990Z"
   },
   {
    "duration": 0,
    "start_time": "2023-05-03T13:44:51.991Z"
   },
   {
    "duration": 0,
    "start_time": "2023-05-03T13:44:51.992Z"
   },
   {
    "duration": 11,
    "start_time": "2023-05-03T13:45:02.952Z"
   },
   {
    "duration": 12,
    "start_time": "2023-05-03T13:45:28.277Z"
   },
   {
    "duration": 1428,
    "start_time": "2023-05-03T13:46:01.190Z"
   },
   {
    "duration": 797,
    "start_time": "2023-05-03T13:46:02.620Z"
   },
   {
    "duration": 123,
    "start_time": "2023-05-03T13:46:03.418Z"
   },
   {
    "duration": 106,
    "start_time": "2023-05-03T13:46:03.544Z"
   },
   {
    "duration": 26,
    "start_time": "2023-05-03T13:46:03.651Z"
   },
   {
    "duration": 196,
    "start_time": "2023-05-03T13:46:03.678Z"
   },
   {
    "duration": 219,
    "start_time": "2023-05-03T13:46:03.875Z"
   },
   {
    "duration": 68,
    "start_time": "2023-05-03T13:46:04.096Z"
   },
   {
    "duration": 6,
    "start_time": "2023-05-03T13:46:04.166Z"
   },
   {
    "duration": 221,
    "start_time": "2023-05-03T13:46:04.175Z"
   },
   {
    "duration": 3,
    "start_time": "2023-05-03T13:46:04.397Z"
   },
   {
    "duration": 161,
    "start_time": "2023-05-03T13:46:04.401Z"
   },
   {
    "duration": 486,
    "start_time": "2023-05-03T13:46:04.563Z"
   },
   {
    "duration": 34507,
    "start_time": "2023-05-03T13:46:05.052Z"
   },
   {
    "duration": 68,
    "start_time": "2023-05-03T13:46:39.560Z"
   },
   {
    "duration": 3,
    "start_time": "2023-05-03T13:46:39.630Z"
   },
   {
    "duration": 12,
    "start_time": "2023-05-03T13:46:39.648Z"
   },
   {
    "duration": 29,
    "start_time": "2023-05-03T13:46:39.662Z"
   },
   {
    "duration": 1660,
    "start_time": "2023-05-03T13:46:39.693Z"
   },
   {
    "duration": 3,
    "start_time": "2023-05-03T13:46:41.354Z"
   },
   {
    "duration": 3700,
    "start_time": "2023-05-03T13:46:41.358Z"
   },
   {
    "duration": 3402,
    "start_time": "2023-05-03T13:46:45.150Z"
   },
   {
    "duration": 4321,
    "start_time": "2023-05-03T13:46:48.554Z"
   },
   {
    "duration": 132,
    "start_time": "2023-05-03T13:46:52.876Z"
   },
   {
    "duration": 0,
    "start_time": "2023-05-03T13:46:53.010Z"
   },
   {
    "duration": 0,
    "start_time": "2023-05-03T13:46:53.011Z"
   },
   {
    "duration": 0,
    "start_time": "2023-05-03T13:46:53.012Z"
   },
   {
    "duration": 0,
    "start_time": "2023-05-03T13:46:53.012Z"
   },
   {
    "duration": 0,
    "start_time": "2023-05-03T13:46:53.013Z"
   },
   {
    "duration": 11,
    "start_time": "2023-05-03T13:47:03.277Z"
   },
   {
    "duration": 3,
    "start_time": "2023-05-03T13:47:22.848Z"
   },
   {
    "duration": 100,
    "start_time": "2023-05-03T13:47:28.437Z"
   },
   {
    "duration": 11,
    "start_time": "2023-05-03T13:49:50.738Z"
   },
   {
    "duration": 66,
    "start_time": "2023-05-03T13:51:35.332Z"
   },
   {
    "duration": 3,
    "start_time": "2023-05-03T13:51:45.219Z"
   },
   {
    "duration": 106,
    "start_time": "2023-05-03T13:51:47.845Z"
   },
   {
    "duration": 60842,
    "start_time": "2023-05-03T13:52:56.595Z"
   },
   {
    "duration": 10,
    "start_time": "2023-05-03T13:54:43.386Z"
   },
   {
    "duration": 298,
    "start_time": "2023-05-03T13:55:46.740Z"
   },
   {
    "duration": 229,
    "start_time": "2023-05-03T13:56:15.837Z"
   },
   {
    "duration": 61236,
    "start_time": "2023-05-03T13:56:43.284Z"
   },
   {
    "duration": 60762,
    "start_time": "2023-05-03T13:58:06.398Z"
   },
   {
    "duration": 61256,
    "start_time": "2023-05-03T13:59:33.523Z"
   },
   {
    "duration": 4465,
    "start_time": "2023-05-03T14:00:34.782Z"
   },
   {
    "duration": 16,
    "start_time": "2023-05-03T14:00:39.250Z"
   },
   {
    "duration": 10,
    "start_time": "2023-05-03T14:01:02.959Z"
   },
   {
    "duration": 9,
    "start_time": "2023-05-03T14:01:34.387Z"
   },
   {
    "duration": 4829,
    "start_time": "2023-05-03T14:02:34.062Z"
   },
   {
    "duration": 4,
    "start_time": "2023-05-03T14:02:38.893Z"
   }
  ],
  "kernelspec": {
   "display_name": "Python 3 (ipykernel)",
   "language": "python",
   "name": "python3"
  },
  "language_info": {
   "codemirror_mode": {
    "name": "ipython",
    "version": 3
   },
   "file_extension": ".py",
   "mimetype": "text/x-python",
   "name": "python",
   "nbconvert_exporter": "python",
   "pygments_lexer": "ipython3",
   "version": "3.9.5"
  },
  "toc": {
   "base_numbering": 1,
   "nav_menu": {},
   "number_sections": true,
   "sideBar": true,
   "skip_h1_title": true,
   "title_cell": "Table of Contents",
   "title_sidebar": "Contents",
   "toc_cell": false,
   "toc_position": {},
   "toc_section_display": true,
   "toc_window_display": false
  }
 },
 "nbformat": 4,
 "nbformat_minor": 2
}
